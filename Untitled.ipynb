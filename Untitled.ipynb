{
 "cells": [
  {
   "cell_type": "markdown",
   "metadata": {},
   "source": [
    "# Data with generators"
   ]
  },
  {
   "cell_type": "code",
   "execution_count": 1,
   "metadata": {},
   "outputs": [],
   "source": [
    "import pandas as pd\n",
    "import numpy as np"
   ]
  },
  {
   "cell_type": "markdown",
   "metadata": {},
   "source": [
    "## Forward movement"
   ]
  },
  {
   "cell_type": "code",
   "execution_count": 2,
   "metadata": {},
   "outputs": [],
   "source": [
    "def fmove_generator(batch_size = 64, frames = 5):\n",
    "    \"\"\"\n",
    "    Forward movement generator. Yields x, x_vel, y, y_vel with given number of frames.\n",
    "    This generator creates data with standard normal distribution.\n",
    "    \"\"\"\n",
    "    a = np.zeros((batch_size, frames, 4))\n",
    "    a[:,0,0] = np.random.randn(batch_size) #x\n",
    "    a[:,:,1] = np.random.randn(batch_size).reshape(-1,1)*0.1 #x_vel\n",
    "    a[:,0,2] = np.random.randn(batch_size) #y\n",
    "    a[:,:,3] = np.random.randn(batch_size).reshape(-1,1)*0.1 #y_vel\n",
    "    \n",
    "    for f in range(1,frames):\n",
    "        a[:,f,[0,2]] = np.add(a[:,f-1,[0,2]], a[:,f,[1,3]] )\n",
    "    \n",
    "    yield a"
   ]
  },
  {
   "cell_type": "code",
   "execution_count": 3,
   "metadata": {},
   "outputs": [],
   "source": [
    "# for i in fmove_generator():\n",
    "#     print(i[0])\n",
    "#     break"
   ]
  },
  {
   "cell_type": "markdown",
   "metadata": {},
   "source": [
    "## Bounce"
   ]
  },
  {
   "cell_type": "code",
   "execution_count": 4,
   "metadata": {},
   "outputs": [],
   "source": [
    "def bounce_generator(batch_size = 64):\n",
    "    \"\"\"\n",
    "    Bounce generator. Bounce will happen either at x or y for whole batch.\n",
    "    Yields mirrored x, x_vel, y, y_vel\n",
    "    \"\"\"\n",
    "    a = np.zeros((batch_size, 2, 4))\n",
    "    \n",
    "    #randomly select whether bounce will be at x or y\n",
    "    k = np.random.choice([0,2])\n",
    "    l = 2-k\n",
    "    \n",
    "    #no bounce\n",
    "    i = np.arange(batch_size)\n",
    "    a[:,0,l] = np.random.uniform(size=batch_size)#.reshape(-1,1)\n",
    "    a[:,0,l+1] = np.random.uniform(size=batch_size)*0.1#.reshape(-1,1)*0.1 #x_vel\n",
    "    a[:,1,[l,l+1]] = a[:,0,[l,l+1]] #hard to broadcast on prev line\n",
    "    \n",
    "    #bounce\n",
    "    border = np.random.choice([0,1], size=batch_size)\n",
    "    vel = np.sign(border-0.5) * np.random.uniform(0, 0.1, size=batch_size)\n",
    "\n",
    "    coord = border + np.random.uniform(size=batch_size) * vel\n",
    "\n",
    "    a[:,0,k] = coord #.reshape(-1,1)\n",
    "    a[:,1,k] = 2*border - coord\n",
    "    a[:,0,k+1] = vel\n",
    "    a[:,1,k+1] = -vel\n",
    "    \n",
    "    yield a   "
   ]
  },
  {
   "cell_type": "code",
   "execution_count": 5,
   "metadata": {},
   "outputs": [],
   "source": [
    "# for i in bounce_generator():\n",
    "#     print(i.shape)\n",
    "#     print(i)\n",
    "#     break"
   ]
  },
  {
   "cell_type": "markdown",
   "metadata": {},
   "source": [
    "## Attention"
   ]
  },
  {
   "cell_type": "code",
   "execution_count": 6,
   "metadata": {},
   "outputs": [],
   "source": [
    "def attention_generator(batch_size = 64):\n",
    "    \"\"\"\n",
    "    Attention data generator. Yields x, x_vel, is_bounce (bool).\n",
    "    \"\"\"\n",
    "    a = np.zeros((batch_size, 3))\n",
    "    a[:,0] = np.random.choice([0,1], size=batch_size)  \\\n",
    "        + np.random.choice([-1,1], size=batch_size) \\\n",
    "        * np.random.uniform(0, 0.1, size=batch_size)\n",
    "    a[:,1] = np.random.uniform(size=batch_size)\n",
    "    a[:,2] = ((a[:,0] > 1) + (a[:,0] < 0)) > 0 #clumsy 'or' statement\n",
    "    yield a"
   ]
  },
  {
   "cell_type": "code",
   "execution_count": 7,
   "metadata": {},
   "outputs": [],
   "source": [
    "# for i in attention_generator():\n",
    "#     print(i.shape)\n",
    "#     print(i[0])\n",
    "#     break"
   ]
  },
  {
   "cell_type": "markdown",
   "metadata": {},
   "source": [
    "## Movement with bounce"
   ]
  },
  {
   "cell_type": "code",
   "execution_count": 98,
   "metadata": {},
   "outputs": [],
   "source": [
    "def bmove_generator(batch_size = 64, frames = 5, bounceAt = None):\n",
    "    \"\"\"\n",
    "    Movement with bounces generator. Yields x, x_vel, y, y_vel with given number of frames.\n",
    "    isBounceAtEnd=False will change the fact that bounces can't happen earlier than \n",
    "    between 4th and 5th frame.\n",
    "    \"\"\"\n",
    "    a = np.zeros((batch_size, frames, 4))\n",
    "    #y\n",
    "    y_vel = np.random.uniform(-0.05, 0.05, size=batch_size)\n",
    "    a[:,:,2] = np.arange(frames)* y_vel.reshape(-1,1) + np.random.uniform(0.25,0.75) #no bounces here\n",
    "    \n",
    "    k = int(np.random.rand()*(frames-2)) if bounceAt == None else bounceAt\n",
    "    a[:,:,3] = y_vel.reshape(-1,1)\n",
    "    #x\n",
    "    \n",
    "    border = np.random.choice([0,1])\n",
    "    x_vel = -np.random.uniform(0, 0.1, size=batch_size)\n",
    "    \n",
    "    if border == 1: x_vel = -x_vel\n",
    "    delta = np.random.uniform(0, np.abs(x_vel) )\n",
    "    delta2 = np.abs(x_vel - delta)\n",
    "    if border == 1: \n",
    "        delta = 1-delta\n",
    "        delta2 = 1-delta\n",
    "    a[:,:k+1,1] = x_vel.reshape(-1,1)\n",
    "    a[:,k+1:,1] = -x_vel.reshape(-1,1)\n",
    "\n",
    "    \n",
    "#     a[:,k,0] = delta\n",
    "    for i in range(k+1):\n",
    "        a[:,k-i,0] = delta - i * x_vel\n",
    "    for i in range(frames-k-1):\n",
    "        a[:,k+i+1,0] = delta2 + i * x_vel\n",
    "    \n",
    "    yield a\n",
    "    "
   ]
  },
  {
   "cell_type": "code",
   "execution_count": 99,
   "metadata": {},
   "outputs": [
    {
     "name": "stdout",
     "output_type": "stream",
     "text": [
      "(64, 5, 4)\n",
      "[[ 0.09685674 -0.03030562  0.47629334 -0.0464875 ]\n",
      " [ 0.06655112 -0.03030562  0.42980584 -0.0464875 ]\n",
      " [ 0.0362455  -0.03030562  0.38331834 -0.0464875 ]\n",
      " [ 0.00593987 -0.03030562  0.33683084 -0.0464875 ]\n",
      " [ 0.0362455   0.03030562  0.29034334 -0.0464875 ]]\n"
     ]
    }
   ],
   "source": [
    "for i in bmove_generator(bounceAt=3):\n",
    "    print(i.shape)\n",
    "    print(i[0])\n",
    "    break"
   ]
  },
  {
   "cell_type": "code",
   "execution_count": 96,
   "metadata": {},
   "outputs": [
    {
     "data": {
      "text/plain": [
       "-0.016762980000000004"
      ]
     },
     "execution_count": 96,
     "metadata": {},
     "output_type": "execute_result"
    }
   ],
   "source": [
    "0.0409936  -0.05775658"
   ]
  },
  {
   "cell_type": "code",
   "execution_count": 97,
   "metadata": {},
   "outputs": [
    {
     "data": {
      "text/plain": [
       "0.04099302"
      ]
     },
     "execution_count": 97,
     "metadata": {},
     "output_type": "execute_result"
    }
   ],
   "source": [
    "-0.016762980000000004 + 0.057756"
   ]
  },
  {
   "cell_type": "code",
   "execution_count": 55,
   "metadata": {},
   "outputs": [
    {
     "data": {
      "text/plain": [
       "array([[-0.        , -0.03537973, -0.07075946, -0.10613919, -0.14151892],\n",
       "       [-0.        , -0.01560867, -0.03121735, -0.04682602, -0.06243469],\n",
       "       [-0.        , -0.00655467, -0.01310933, -0.019664  , -0.02621867]])"
      ]
     },
     "execution_count": 55,
     "metadata": {},
     "output_type": "execute_result"
    }
   ],
   "source": [
    "np.arange(frames) * y_vel.reshape(-1,1)"
   ]
  },
  {
   "cell_type": "code",
   "execution_count": null,
   "metadata": {},
   "outputs": [],
   "source": []
  }
 ],
 "metadata": {
  "kernelspec": {
   "display_name": "Python 3",
   "language": "python",
   "name": "python3"
  },
  "language_info": {
   "codemirror_mode": {
    "name": "ipython",
    "version": 3
   },
   "file_extension": ".py",
   "mimetype": "text/x-python",
   "name": "python",
   "nbconvert_exporter": "python",
   "pygments_lexer": "ipython3",
   "version": "3.6.8"
  }
 },
 "nbformat": 4,
 "nbformat_minor": 2
}
