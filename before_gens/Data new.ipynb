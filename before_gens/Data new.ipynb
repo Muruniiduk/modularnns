{
 "cells": [
  {
   "cell_type": "markdown",
   "metadata": {},
   "source": [
    "This notebook will consider the bounce task as mirroring the location with respect to the border. Input will be a coordinate out of bounds."
   ]
  },
  {
   "cell_type": "code",
   "execution_count": 1,
   "metadata": {},
   "outputs": [],
   "source": [
    "import pandas as pd\n",
    "import numpy as np"
   ]
  },
  {
   "cell_type": "markdown",
   "metadata": {},
   "source": [
    "# 1D\n",
    "\n",
    "### Straight forward"
   ]
  },
  {
   "cell_type": "code",
   "execution_count": 2,
   "metadata": {},
   "outputs": [],
   "source": [
    "df = pd.DataFrame(columns=[\"x\",\"x_vel\",\"y\",\"y_vel\"]) #,\"x0\",\"x1\",\"y0\",\"y1\"])\n",
    "def add(row, df):\n",
    "    \"\"\"Docstring\"\"\"\n",
    "    d = dict()\n",
    "    cols = list(df.columns)\n",
    "    for i in np.arange(len(cols)):\n",
    "        d[cols[i]] = row[i]\n",
    "    return df.append(d, ignore_index=True)\n",
    "\n",
    "def add_rnd(df):\n",
    "    x_vel = np.sign(np.random.rand() - 0.5) * np.random.rand() * 0.1\n",
    "    y_vel = np.sign(np.random.rand() - 0.5) * np.random.rand() * 0.1\n",
    "    x = np.random.rand()\n",
    "    y = np.random.rand()\n",
    "    return add([x,x_vel,y,y_vel],df) #,0,1,0,1], df)\n",
    "\n",
    "def add_next(df):\n",
    "    x,x_vel,y,y_vel = list(df.iloc[-1])\n",
    "    return add([x+x_vel,x_vel,y+y_vel,y_vel], df)"
   ]
  },
  {
   "cell_type": "code",
   "execution_count": 3,
   "metadata": {},
   "outputs": [],
   "source": [
    "df = pd.DataFrame(columns=[\"x\",\"x_vel\",\"y\",\"y_vel\"]) #,\"x0\",\"x1\",\"y0\",\"y1\"])\n",
    "for i in range(100000):\n",
    "    if i % 10 == 0: df = add_rnd(df)\n",
    "    else: df = add_next(df)"
   ]
  },
  {
   "cell_type": "code",
   "execution_count": 4,
   "metadata": {},
   "outputs": [],
   "source": [
    "df.to_csv('sim_data2.csv', index=False)"
   ]
  },
  {
   "cell_type": "markdown",
   "metadata": {},
   "source": [
    "### Bounces (mirroring)\n",
    "X-axis only"
   ]
  },
  {
   "cell_type": "code",
   "execution_count": 3,
   "metadata": {},
   "outputs": [],
   "source": [
    "df = pd.DataFrame(columns=[\"x\",\"x_vel\",\"y\",\"y_vel\"])\n",
    "for i in range(2000):\n",
    "    border = np.random.choice([0,1]) #both walls\n",
    "    x_vel = np.sign(border-0.5) * np.random.rand() * 0.1\n",
    "    y_vel = np.random.rand() * 0.1\n",
    "    x = np.random.uniform(low=border, high=border + x_vel)\n",
    "    y = np.random.rand()\n",
    "    df = add([x,x_vel,y,y_vel],df)\n",
    "    df = add([2*border-x,-x_vel,y,y_vel],df)\n",
    "\n",
    "df.to_csv('bounces_mirror.csv', index=False)"
   ]
  },
  {
   "cell_type": "code",
   "execution_count": 6,
   "metadata": {},
   "outputs": [
    {
     "data": {
      "text/plain": [
       "(40000, 4)"
      ]
     },
     "execution_count": 6,
     "metadata": {},
     "output_type": "execute_result"
    }
   ],
   "source": [
    "df.shape"
   ]
  },
  {
   "cell_type": "code",
   "execution_count": 5,
   "metadata": {},
   "outputs": [
    {
     "data": {
      "text/html": [
       "<div>\n",
       "<style scoped>\n",
       "    .dataframe tbody tr th:only-of-type {\n",
       "        vertical-align: middle;\n",
       "    }\n",
       "\n",
       "    .dataframe tbody tr th {\n",
       "        vertical-align: top;\n",
       "    }\n",
       "\n",
       "    .dataframe thead th {\n",
       "        text-align: right;\n",
       "    }\n",
       "</style>\n",
       "<table border=\"1\" class=\"dataframe\">\n",
       "  <thead>\n",
       "    <tr style=\"text-align: right;\">\n",
       "      <th></th>\n",
       "      <th>x</th>\n",
       "      <th>x_vel</th>\n",
       "      <th>y</th>\n",
       "      <th>y_vel</th>\n",
       "    </tr>\n",
       "  </thead>\n",
       "  <tbody>\n",
       "    <tr>\n",
       "      <th>0</th>\n",
       "      <td>1.065175</td>\n",
       "      <td>0.091181</td>\n",
       "      <td>0.143569</td>\n",
       "      <td>0.035583</td>\n",
       "    </tr>\n",
       "    <tr>\n",
       "      <th>1</th>\n",
       "      <td>0.934825</td>\n",
       "      <td>-0.091181</td>\n",
       "      <td>0.143569</td>\n",
       "      <td>0.035583</td>\n",
       "    </tr>\n",
       "    <tr>\n",
       "      <th>2</th>\n",
       "      <td>-0.009694</td>\n",
       "      <td>-0.016846</td>\n",
       "      <td>0.560207</td>\n",
       "      <td>0.045548</td>\n",
       "    </tr>\n",
       "    <tr>\n",
       "      <th>3</th>\n",
       "      <td>0.009694</td>\n",
       "      <td>0.016846</td>\n",
       "      <td>0.560207</td>\n",
       "      <td>0.045548</td>\n",
       "    </tr>\n",
       "    <tr>\n",
       "      <th>4</th>\n",
       "      <td>1.009336</td>\n",
       "      <td>0.095540</td>\n",
       "      <td>0.969735</td>\n",
       "      <td>0.082275</td>\n",
       "    </tr>\n",
       "  </tbody>\n",
       "</table>\n",
       "</div>"
      ],
      "text/plain": [
       "          x     x_vel         y     y_vel\n",
       "0  1.065175  0.091181  0.143569  0.035583\n",
       "1  0.934825 -0.091181  0.143569  0.035583\n",
       "2 -0.009694 -0.016846  0.560207  0.045548\n",
       "3  0.009694  0.016846  0.560207  0.045548\n",
       "4  1.009336  0.095540  0.969735  0.082275"
      ]
     },
     "execution_count": 5,
     "metadata": {},
     "output_type": "execute_result"
    }
   ],
   "source": [
    "df.head()"
   ]
  },
  {
   "cell_type": "markdown",
   "metadata": {},
   "source": [
    "### Attention\n",
    "\n",
    "Is there going to be a bounce? Bool"
   ]
  },
  {
   "cell_type": "code",
   "execution_count": 7,
   "metadata": {},
   "outputs": [],
   "source": [
    "df = pd.DataFrame(columns=[\"x\",\"x_vel\",\"is_bounce\"])\n",
    "for i in range(20000):\n",
    "    border = np.random.choice([0,1]) #both walls\n",
    "    x_vel = np.sign(border-0.5) * np.random.rand() * 0.1\n",
    "    y_vel = np.random.rand() * 0.1\n",
    "    x = np.random.uniform(low=border, high= border + np.random.choice([-1,1]) *x_vel)\n",
    "    y = np.random.rand()\n",
    "    boolean = (x > 1) or (x < 0)\n",
    "    df = add([x,x_vel,boolean],df)\n",
    "\n",
    "df.to_csv('bounces_att.csv', index=False)"
   ]
  },
  {
   "cell_type": "code",
   "execution_count": 24,
   "metadata": {},
   "outputs": [
    {
     "data": {
      "text/html": [
       "<div>\n",
       "<style scoped>\n",
       "    .dataframe tbody tr th:only-of-type {\n",
       "        vertical-align: middle;\n",
       "    }\n",
       "\n",
       "    .dataframe tbody tr th {\n",
       "        vertical-align: top;\n",
       "    }\n",
       "\n",
       "    .dataframe thead th {\n",
       "        text-align: right;\n",
       "    }\n",
       "</style>\n",
       "<table border=\"1\" class=\"dataframe\">\n",
       "  <thead>\n",
       "    <tr style=\"text-align: right;\">\n",
       "      <th></th>\n",
       "      <th>x</th>\n",
       "      <th>x_vel</th>\n",
       "      <th>is_bounce</th>\n",
       "    </tr>\n",
       "  </thead>\n",
       "  <tbody>\n",
       "    <tr>\n",
       "      <th>0</th>\n",
       "      <td>0.003005</td>\n",
       "      <td>-0.047897</td>\n",
       "      <td>False</td>\n",
       "    </tr>\n",
       "    <tr>\n",
       "      <th>1</th>\n",
       "      <td>-0.034068</td>\n",
       "      <td>-0.057702</td>\n",
       "      <td>True</td>\n",
       "    </tr>\n",
       "    <tr>\n",
       "      <th>2</th>\n",
       "      <td>-0.004273</td>\n",
       "      <td>-0.043802</td>\n",
       "      <td>True</td>\n",
       "    </tr>\n",
       "    <tr>\n",
       "      <th>3</th>\n",
       "      <td>0.015567</td>\n",
       "      <td>-0.026639</td>\n",
       "      <td>False</td>\n",
       "    </tr>\n",
       "    <tr>\n",
       "      <th>4</th>\n",
       "      <td>0.024705</td>\n",
       "      <td>-0.026929</td>\n",
       "      <td>False</td>\n",
       "    </tr>\n",
       "  </tbody>\n",
       "</table>\n",
       "</div>"
      ],
      "text/plain": [
       "          x     x_vel is_bounce\n",
       "0  0.003005 -0.047897     False\n",
       "1 -0.034068 -0.057702      True\n",
       "2 -0.004273 -0.043802      True\n",
       "3  0.015567 -0.026639     False\n",
       "4  0.024705 -0.026929     False"
      ]
     },
     "execution_count": 24,
     "metadata": {},
     "output_type": "execute_result"
    }
   ],
   "source": [
    "df.head()"
   ]
  },
  {
   "cell_type": "code",
   "execution_count": 22,
   "metadata": {},
   "outputs": [
    {
     "data": {
      "text/plain": [
       "0.51"
      ]
     },
     "execution_count": 22,
     "metadata": {},
     "output_type": "execute_result"
    }
   ],
   "source": [
    "np.mean(df.is_bounce)"
   ]
  },
  {
   "cell_type": "markdown",
   "metadata": {},
   "source": [
    "# 2D"
   ]
  },
  {
   "cell_type": "code",
   "execution_count": 6,
   "metadata": {},
   "outputs": [],
   "source": [
    "def add_check_borders(c, c_vel):\n",
    "    c2, c_vel2 = c + c_vel, c_vel\n",
    "    if c2 > 1:\n",
    "        c2 = 1 - np.abs(1-c2)\n",
    "        c_vel2 = -c_vel\n",
    "    elif c2 < 0:\n",
    "        c2 = np.abs(c2)\n",
    "        c_vel2 = -c_vel\n",
    "    return c2, c_vel2\n",
    "\n",
    "def add_borders_next(df):\n",
    "    x,x_vel,y,y_vel = list(df.iloc[-1])\n",
    "    x2, xv2 = add_check_borders(x, x_vel)\n",
    "    y2, yv2 = add_check_borders(y, y_vel)\n",
    "    return add([x2,xv2,y2,yv2], df)"
   ]
  },
  {
   "cell_type": "code",
   "execution_count": 6,
   "metadata": {
    "collapsed": true
   },
   "outputs": [
    {
     "ename": "KeyboardInterrupt",
     "evalue": "",
     "output_type": "error",
     "traceback": [
      "\u001b[0;31m---------------------------------------------------------------------------\u001b[0m",
      "\u001b[0;31mKeyboardInterrupt\u001b[0m                         Traceback (most recent call last)",
      "\u001b[0;32m<ipython-input-6-15184af98548>\u001b[0m in \u001b[0;36m<module>\u001b[0;34m\u001b[0m\n\u001b[1;32m     14\u001b[0m \u001b[0;31m#         df = add([x,x_vel,y,y_vel],df)\u001b[0m\u001b[0;34m\u001b[0m\u001b[0;34m\u001b[0m\u001b[0;34m\u001b[0m\u001b[0m\n\u001b[1;32m     15\u001b[0m         \u001b[0;32mfor\u001b[0m \u001b[0mi\u001b[0m \u001b[0;32min\u001b[0m \u001b[0mrange\u001b[0m\u001b[0;34m(\u001b[0m\u001b[0;36m3\u001b[0m\u001b[0;34m,\u001b[0m \u001b[0;34m-\u001b[0m\u001b[0;36m1\u001b[0m\u001b[0;34m,\u001b[0m \u001b[0;34m-\u001b[0m\u001b[0;36m1\u001b[0m\u001b[0;34m)\u001b[0m\u001b[0;34m:\u001b[0m\u001b[0;34m\u001b[0m\u001b[0;34m\u001b[0m\u001b[0m\n\u001b[0;32m---> 16\u001b[0;31m             \u001b[0mdf\u001b[0m \u001b[0;34m=\u001b[0m \u001b[0madd\u001b[0m\u001b[0;34m(\u001b[0m\u001b[0;34m[\u001b[0m\u001b[0mx\u001b[0m\u001b[0;34m-\u001b[0m\u001b[0mi\u001b[0m\u001b[0;34m*\u001b[0m\u001b[0mx_vel\u001b[0m\u001b[0;34m,\u001b[0m\u001b[0mx_vel\u001b[0m\u001b[0;34m,\u001b[0m\u001b[0my\u001b[0m\u001b[0;34m-\u001b[0m\u001b[0mi\u001b[0m\u001b[0;34m*\u001b[0m\u001b[0my_vel\u001b[0m\u001b[0;34m,\u001b[0m\u001b[0my_vel\u001b[0m\u001b[0;34m]\u001b[0m\u001b[0;34m,\u001b[0m\u001b[0mdf\u001b[0m\u001b[0;34m)\u001b[0m\u001b[0;34m\u001b[0m\u001b[0;34m\u001b[0m\u001b[0m\n\u001b[0m\u001b[1;32m     17\u001b[0m     \u001b[0;32melse\u001b[0m\u001b[0;34m:\u001b[0m\u001b[0;34m\u001b[0m\u001b[0;34m\u001b[0m\u001b[0m\n\u001b[1;32m     18\u001b[0m         \u001b[0mdf\u001b[0m \u001b[0;34m=\u001b[0m \u001b[0madd_borders_next\u001b[0m\u001b[0;34m(\u001b[0m\u001b[0mdf\u001b[0m\u001b[0;34m)\u001b[0m\u001b[0;34m\u001b[0m\u001b[0;34m\u001b[0m\u001b[0m\n",
      "\u001b[0;32m<ipython-input-2-346055e9c932>\u001b[0m in \u001b[0;36madd\u001b[0;34m(row, df)\u001b[0m\n\u001b[1;32m      6\u001b[0m     \u001b[0;32mfor\u001b[0m \u001b[0mi\u001b[0m \u001b[0;32min\u001b[0m \u001b[0mnp\u001b[0m\u001b[0;34m.\u001b[0m\u001b[0marange\u001b[0m\u001b[0;34m(\u001b[0m\u001b[0mlen\u001b[0m\u001b[0;34m(\u001b[0m\u001b[0mcols\u001b[0m\u001b[0;34m)\u001b[0m\u001b[0;34m)\u001b[0m\u001b[0;34m:\u001b[0m\u001b[0;34m\u001b[0m\u001b[0;34m\u001b[0m\u001b[0m\n\u001b[1;32m      7\u001b[0m         \u001b[0md\u001b[0m\u001b[0;34m[\u001b[0m\u001b[0mcols\u001b[0m\u001b[0;34m[\u001b[0m\u001b[0mi\u001b[0m\u001b[0;34m]\u001b[0m\u001b[0;34m]\u001b[0m \u001b[0;34m=\u001b[0m \u001b[0mrow\u001b[0m\u001b[0;34m[\u001b[0m\u001b[0mi\u001b[0m\u001b[0;34m]\u001b[0m\u001b[0;34m\u001b[0m\u001b[0;34m\u001b[0m\u001b[0m\n\u001b[0;32m----> 8\u001b[0;31m     \u001b[0;32mreturn\u001b[0m \u001b[0mdf\u001b[0m\u001b[0;34m.\u001b[0m\u001b[0mappend\u001b[0m\u001b[0;34m(\u001b[0m\u001b[0md\u001b[0m\u001b[0;34m,\u001b[0m \u001b[0mignore_index\u001b[0m\u001b[0;34m=\u001b[0m\u001b[0;32mTrue\u001b[0m\u001b[0;34m)\u001b[0m\u001b[0;34m\u001b[0m\u001b[0;34m\u001b[0m\u001b[0m\n\u001b[0m\u001b[1;32m      9\u001b[0m \u001b[0;34m\u001b[0m\u001b[0m\n\u001b[1;32m     10\u001b[0m \u001b[0;32mdef\u001b[0m \u001b[0madd_rnd\u001b[0m\u001b[0;34m(\u001b[0m\u001b[0mdf\u001b[0m\u001b[0;34m)\u001b[0m\u001b[0;34m:\u001b[0m\u001b[0;34m\u001b[0m\u001b[0;34m\u001b[0m\u001b[0m\n",
      "\u001b[0;32m~/.conda/envs/ai/lib/python3.6/site-packages/pandas/core/frame.py\u001b[0m in \u001b[0;36mappend\u001b[0;34m(self, other, ignore_index, verify_integrity, sort)\u001b[0m\n\u001b[1;32m   6675\u001b[0m                               \u001b[0mindex\u001b[0m\u001b[0;34m=\u001b[0m\u001b[0mindex\u001b[0m\u001b[0;34m,\u001b[0m\u001b[0;34m\u001b[0m\u001b[0;34m\u001b[0m\u001b[0m\n\u001b[1;32m   6676\u001b[0m                               columns=combined_columns)\n\u001b[0;32m-> 6677\u001b[0;31m             \u001b[0mother\u001b[0m \u001b[0;34m=\u001b[0m \u001b[0mother\u001b[0m\u001b[0;34m.\u001b[0m\u001b[0m_convert\u001b[0m\u001b[0;34m(\u001b[0m\u001b[0mdatetime\u001b[0m\u001b[0;34m=\u001b[0m\u001b[0;32mTrue\u001b[0m\u001b[0;34m,\u001b[0m \u001b[0mtimedelta\u001b[0m\u001b[0;34m=\u001b[0m\u001b[0;32mTrue\u001b[0m\u001b[0;34m)\u001b[0m\u001b[0;34m\u001b[0m\u001b[0;34m\u001b[0m\u001b[0m\n\u001b[0m\u001b[1;32m   6678\u001b[0m             \u001b[0;32mif\u001b[0m \u001b[0;32mnot\u001b[0m \u001b[0mself\u001b[0m\u001b[0;34m.\u001b[0m\u001b[0mcolumns\u001b[0m\u001b[0;34m.\u001b[0m\u001b[0mequals\u001b[0m\u001b[0;34m(\u001b[0m\u001b[0mcombined_columns\u001b[0m\u001b[0;34m)\u001b[0m\u001b[0;34m:\u001b[0m\u001b[0;34m\u001b[0m\u001b[0;34m\u001b[0m\u001b[0m\n\u001b[1;32m   6679\u001b[0m                 \u001b[0mself\u001b[0m \u001b[0;34m=\u001b[0m \u001b[0mself\u001b[0m\u001b[0;34m.\u001b[0m\u001b[0mreindex\u001b[0m\u001b[0;34m(\u001b[0m\u001b[0mcolumns\u001b[0m\u001b[0;34m=\u001b[0m\u001b[0mcombined_columns\u001b[0m\u001b[0;34m)\u001b[0m\u001b[0;34m\u001b[0m\u001b[0;34m\u001b[0m\u001b[0m\n",
      "\u001b[0;32m~/.conda/envs/ai/lib/python3.6/site-packages/pandas/core/generic.py\u001b[0m in \u001b[0;36m_convert\u001b[0;34m(self, datetime, numeric, timedelta, coerce, copy)\u001b[0m\n\u001b[1;32m   5848\u001b[0m             self._data.convert(datetime=datetime, numeric=numeric,\n\u001b[1;32m   5849\u001b[0m                                \u001b[0mtimedelta\u001b[0m\u001b[0;34m=\u001b[0m\u001b[0mtimedelta\u001b[0m\u001b[0;34m,\u001b[0m \u001b[0mcoerce\u001b[0m\u001b[0;34m=\u001b[0m\u001b[0mcoerce\u001b[0m\u001b[0;34m,\u001b[0m\u001b[0;34m\u001b[0m\u001b[0;34m\u001b[0m\u001b[0m\n\u001b[0;32m-> 5850\u001b[0;31m                                copy=copy)).__finalize__(self)\n\u001b[0m\u001b[1;32m   5851\u001b[0m \u001b[0;34m\u001b[0m\u001b[0m\n\u001b[1;32m   5852\u001b[0m     def convert_objects(self, convert_dates=True, convert_numeric=False,\n",
      "\u001b[0;32m~/.conda/envs/ai/lib/python3.6/site-packages/pandas/core/internals/managers.py\u001b[0m in \u001b[0;36mconvert\u001b[0;34m(self, **kwargs)\u001b[0m\n\u001b[1;32m    532\u001b[0m \u001b[0;34m\u001b[0m\u001b[0m\n\u001b[1;32m    533\u001b[0m     \u001b[0;32mdef\u001b[0m \u001b[0mconvert\u001b[0m\u001b[0;34m(\u001b[0m\u001b[0mself\u001b[0m\u001b[0;34m,\u001b[0m \u001b[0;34m**\u001b[0m\u001b[0mkwargs\u001b[0m\u001b[0;34m)\u001b[0m\u001b[0;34m:\u001b[0m\u001b[0;34m\u001b[0m\u001b[0;34m\u001b[0m\u001b[0m\n\u001b[0;32m--> 534\u001b[0;31m         \u001b[0;32mreturn\u001b[0m \u001b[0mself\u001b[0m\u001b[0;34m.\u001b[0m\u001b[0mapply\u001b[0m\u001b[0;34m(\u001b[0m\u001b[0;34m'convert'\u001b[0m\u001b[0;34m,\u001b[0m \u001b[0;34m**\u001b[0m\u001b[0mkwargs\u001b[0m\u001b[0;34m)\u001b[0m\u001b[0;34m\u001b[0m\u001b[0;34m\u001b[0m\u001b[0m\n\u001b[0m\u001b[1;32m    535\u001b[0m \u001b[0;34m\u001b[0m\u001b[0m\n\u001b[1;32m    536\u001b[0m     \u001b[0;32mdef\u001b[0m \u001b[0mreplace\u001b[0m\u001b[0;34m(\u001b[0m\u001b[0mself\u001b[0m\u001b[0;34m,\u001b[0m \u001b[0;34m**\u001b[0m\u001b[0mkwargs\u001b[0m\u001b[0;34m)\u001b[0m\u001b[0;34m:\u001b[0m\u001b[0;34m\u001b[0m\u001b[0;34m\u001b[0m\u001b[0m\n",
      "\u001b[0;32m~/.conda/envs/ai/lib/python3.6/site-packages/pandas/core/internals/managers.py\u001b[0m in \u001b[0;36mapply\u001b[0;34m(self, f, axes, filter, do_integrity_check, consolidate, **kwargs)\u001b[0m\n\u001b[1;32m    393\u001b[0m                                             copy=align_copy)\n\u001b[1;32m    394\u001b[0m \u001b[0;34m\u001b[0m\u001b[0m\n\u001b[0;32m--> 395\u001b[0;31m             \u001b[0mapplied\u001b[0m \u001b[0;34m=\u001b[0m \u001b[0mgetattr\u001b[0m\u001b[0;34m(\u001b[0m\u001b[0mb\u001b[0m\u001b[0;34m,\u001b[0m \u001b[0mf\u001b[0m\u001b[0;34m)\u001b[0m\u001b[0;34m(\u001b[0m\u001b[0;34m**\u001b[0m\u001b[0mkwargs\u001b[0m\u001b[0;34m)\u001b[0m\u001b[0;34m\u001b[0m\u001b[0;34m\u001b[0m\u001b[0m\n\u001b[0m\u001b[1;32m    396\u001b[0m             \u001b[0mresult_blocks\u001b[0m \u001b[0;34m=\u001b[0m \u001b[0m_extend_blocks\u001b[0m\u001b[0;34m(\u001b[0m\u001b[0mapplied\u001b[0m\u001b[0;34m,\u001b[0m \u001b[0mresult_blocks\u001b[0m\u001b[0;34m)\u001b[0m\u001b[0;34m\u001b[0m\u001b[0;34m\u001b[0m\u001b[0m\n\u001b[1;32m    397\u001b[0m \u001b[0;34m\u001b[0m\u001b[0m\n",
      "\u001b[0;32m~/.conda/envs/ai/lib/python3.6/site-packages/pandas/core/internals/blocks.py\u001b[0m in \u001b[0;36mconvert\u001b[0;34m(self, copy, **kwargs)\u001b[0m\n\u001b[1;32m    664\u001b[0m         \"\"\"\n\u001b[1;32m    665\u001b[0m \u001b[0;34m\u001b[0m\u001b[0m\n\u001b[0;32m--> 666\u001b[0;31m         \u001b[0;32mreturn\u001b[0m \u001b[0mself\u001b[0m\u001b[0;34m.\u001b[0m\u001b[0mcopy\u001b[0m\u001b[0;34m(\u001b[0m\u001b[0;34m)\u001b[0m \u001b[0;32mif\u001b[0m \u001b[0mcopy\u001b[0m \u001b[0;32melse\u001b[0m \u001b[0mself\u001b[0m\u001b[0;34m\u001b[0m\u001b[0;34m\u001b[0m\u001b[0m\n\u001b[0m\u001b[1;32m    667\u001b[0m \u001b[0;34m\u001b[0m\u001b[0m\n\u001b[1;32m    668\u001b[0m     \u001b[0;32mdef\u001b[0m \u001b[0m_can_hold_element\u001b[0m\u001b[0;34m(\u001b[0m\u001b[0mself\u001b[0m\u001b[0;34m,\u001b[0m \u001b[0melement\u001b[0m\u001b[0;34m)\u001b[0m\u001b[0;34m:\u001b[0m\u001b[0;34m\u001b[0m\u001b[0;34m\u001b[0m\u001b[0m\n",
      "\u001b[0;32m~/.conda/envs/ai/lib/python3.6/site-packages/pandas/core/internals/blocks.py\u001b[0m in \u001b[0;36mcopy\u001b[0;34m(self, deep)\u001b[0m\n\u001b[1;32m    752\u001b[0m         \u001b[0;32mif\u001b[0m \u001b[0mdeep\u001b[0m\u001b[0;34m:\u001b[0m\u001b[0;34m\u001b[0m\u001b[0;34m\u001b[0m\u001b[0m\n\u001b[1;32m    753\u001b[0m             \u001b[0mvalues\u001b[0m \u001b[0;34m=\u001b[0m \u001b[0mvalues\u001b[0m\u001b[0;34m.\u001b[0m\u001b[0mcopy\u001b[0m\u001b[0;34m(\u001b[0m\u001b[0;34m)\u001b[0m\u001b[0;34m\u001b[0m\u001b[0;34m\u001b[0m\u001b[0m\n\u001b[0;32m--> 754\u001b[0;31m         \u001b[0;32mreturn\u001b[0m \u001b[0mself\u001b[0m\u001b[0;34m.\u001b[0m\u001b[0mmake_block_same_class\u001b[0m\u001b[0;34m(\u001b[0m\u001b[0mvalues\u001b[0m\u001b[0;34m)\u001b[0m\u001b[0;34m\u001b[0m\u001b[0;34m\u001b[0m\u001b[0m\n\u001b[0m\u001b[1;32m    755\u001b[0m \u001b[0;34m\u001b[0m\u001b[0m\n\u001b[1;32m    756\u001b[0m     def replace(self, to_replace, value, inplace=False, filter=None,\n",
      "\u001b[0;32m~/.conda/envs/ai/lib/python3.6/site-packages/pandas/core/internals/blocks.py\u001b[0m in \u001b[0;36mmake_block_same_class\u001b[0;34m(self, values, placement, ndim, dtype)\u001b[0m\n\u001b[1;32m    233\u001b[0m             \u001b[0mplacement\u001b[0m \u001b[0;34m=\u001b[0m \u001b[0mself\u001b[0m\u001b[0;34m.\u001b[0m\u001b[0mmgr_locs\u001b[0m\u001b[0;34m\u001b[0m\u001b[0;34m\u001b[0m\u001b[0m\n\u001b[1;32m    234\u001b[0m         return make_block(values, placement=placement, ndim=ndim,\n\u001b[0;32m--> 235\u001b[0;31m                           klass=self.__class__, dtype=dtype)\n\u001b[0m\u001b[1;32m    236\u001b[0m \u001b[0;34m\u001b[0m\u001b[0m\n\u001b[1;32m    237\u001b[0m     \u001b[0;32mdef\u001b[0m \u001b[0m__unicode__\u001b[0m\u001b[0;34m(\u001b[0m\u001b[0mself\u001b[0m\u001b[0;34m)\u001b[0m\u001b[0;34m:\u001b[0m\u001b[0;34m\u001b[0m\u001b[0;34m\u001b[0m\u001b[0m\n",
      "\u001b[0;32m~/.conda/envs/ai/lib/python3.6/site-packages/pandas/core/internals/blocks.py\u001b[0m in \u001b[0;36mmake_block\u001b[0;34m(values, placement, klass, ndim, dtype, fastpath)\u001b[0m\n\u001b[1;32m   3078\u001b[0m \u001b[0;34m\u001b[0m\u001b[0m\n\u001b[1;32m   3079\u001b[0m \u001b[0;34m\u001b[0m\u001b[0m\n\u001b[0;32m-> 3080\u001b[0;31m def make_block(values, placement, klass=None, ndim=None, dtype=None,\n\u001b[0m\u001b[1;32m   3081\u001b[0m                fastpath=None):\n\u001b[1;32m   3082\u001b[0m     \u001b[0;32mif\u001b[0m \u001b[0mfastpath\u001b[0m \u001b[0;32mis\u001b[0m \u001b[0;32mnot\u001b[0m \u001b[0;32mNone\u001b[0m\u001b[0;34m:\u001b[0m\u001b[0;34m\u001b[0m\u001b[0;34m\u001b[0m\u001b[0m\n",
      "\u001b[0;31mKeyboardInterrupt\u001b[0m: "
     ]
    }
   ],
   "source": [
    "df = pd.DataFrame(columns=[\"x\",\"x_vel\",\"y\",\"y_vel\"])\n",
    "for i in range(2000):\n",
    "    if i % 2 == 0:\n",
    "        x_vel = np.random.rand() * 0.1 #* np.sign(np.random.rand()-0.5) * 0.1\n",
    "        y_vel = np.random.rand() * np.sign(np.random.rand()-0.5) * 0.1\n",
    "        if np.random.rand() >0.5:\n",
    "            x = np.random.uniform(low=0, high=np.abs(x_vel))\n",
    "            y = np.random.rand()\n",
    "            if np.sign(x_vel) > 0: x = 1 - x\n",
    "        else:\n",
    "            y = np.random.uniform(low=0, high=np.abs(y_vel))\n",
    "            x = np.random.rand()\n",
    "            if np.sign(y_vel) > 0: y = 1 - y\n",
    "#         df = add([x,x_vel,y,y_vel],df)\n",
    "        for i in range(3, -1, -1):\n",
    "            df = add([x-i*x_vel,x_vel,y-i*y_vel,y_vel],df)\n",
    "    else: \n",
    "        df = add_borders_next(df)\n",
    "df.to_csv('bounces_2d.csv', index=False)"
   ]
  },
  {
   "cell_type": "code",
   "execution_count": 9,
   "metadata": {},
   "outputs": [
    {
     "data": {
      "text/html": [
       "<div>\n",
       "<style scoped>\n",
       "    .dataframe tbody tr th:only-of-type {\n",
       "        vertical-align: middle;\n",
       "    }\n",
       "\n",
       "    .dataframe tbody tr th {\n",
       "        vertical-align: top;\n",
       "    }\n",
       "\n",
       "    .dataframe thead th {\n",
       "        text-align: right;\n",
       "    }\n",
       "</style>\n",
       "<table border=\"1\" class=\"dataframe\">\n",
       "  <thead>\n",
       "    <tr style=\"text-align: right;\">\n",
       "      <th></th>\n",
       "      <th>x</th>\n",
       "      <th>x_vel</th>\n",
       "      <th>y</th>\n",
       "      <th>y_vel</th>\n",
       "    </tr>\n",
       "  </thead>\n",
       "  <tbody>\n",
       "    <tr>\n",
       "      <th>0</th>\n",
       "      <td>0.120094</td>\n",
       "      <td>0.069925</td>\n",
       "      <td>0.945862</td>\n",
       "      <td>0.017939</td>\n",
       "    </tr>\n",
       "    <tr>\n",
       "      <th>1</th>\n",
       "      <td>0.190019</td>\n",
       "      <td>0.069925</td>\n",
       "      <td>0.963801</td>\n",
       "      <td>0.017939</td>\n",
       "    </tr>\n",
       "    <tr>\n",
       "      <th>2</th>\n",
       "      <td>0.259944</td>\n",
       "      <td>0.069925</td>\n",
       "      <td>0.981741</td>\n",
       "      <td>0.017939</td>\n",
       "    </tr>\n",
       "    <tr>\n",
       "      <th>3</th>\n",
       "      <td>0.329869</td>\n",
       "      <td>0.069925</td>\n",
       "      <td>0.999680</td>\n",
       "      <td>0.017939</td>\n",
       "    </tr>\n",
       "    <tr>\n",
       "      <th>4</th>\n",
       "      <td>0.399794</td>\n",
       "      <td>0.069925</td>\n",
       "      <td>0.982380</td>\n",
       "      <td>-0.017939</td>\n",
       "    </tr>\n",
       "    <tr>\n",
       "      <th>5</th>\n",
       "      <td>0.430128</td>\n",
       "      <td>0.085694</td>\n",
       "      <td>0.991200</td>\n",
       "      <td>0.002431</td>\n",
       "    </tr>\n",
       "    <tr>\n",
       "      <th>6</th>\n",
       "      <td>0.515822</td>\n",
       "      <td>0.085694</td>\n",
       "      <td>0.993632</td>\n",
       "      <td>0.002431</td>\n",
       "    </tr>\n",
       "    <tr>\n",
       "      <th>7</th>\n",
       "      <td>0.601516</td>\n",
       "      <td>0.085694</td>\n",
       "      <td>0.996063</td>\n",
       "      <td>0.002431</td>\n",
       "    </tr>\n",
       "    <tr>\n",
       "      <th>8</th>\n",
       "      <td>0.687210</td>\n",
       "      <td>0.085694</td>\n",
       "      <td>0.998494</td>\n",
       "      <td>0.002431</td>\n",
       "    </tr>\n",
       "    <tr>\n",
       "      <th>9</th>\n",
       "      <td>0.772905</td>\n",
       "      <td>0.085694</td>\n",
       "      <td>0.999074</td>\n",
       "      <td>-0.002431</td>\n",
       "    </tr>\n",
       "    <tr>\n",
       "      <th>10</th>\n",
       "      <td>0.828442</td>\n",
       "      <td>0.047070</td>\n",
       "      <td>0.923224</td>\n",
       "      <td>-0.099696</td>\n",
       "    </tr>\n",
       "  </tbody>\n",
       "</table>\n",
       "</div>"
      ],
      "text/plain": [
       "           x     x_vel         y     y_vel\n",
       "0   0.120094  0.069925  0.945862  0.017939\n",
       "1   0.190019  0.069925  0.963801  0.017939\n",
       "2   0.259944  0.069925  0.981741  0.017939\n",
       "3   0.329869  0.069925  0.999680  0.017939\n",
       "4   0.399794  0.069925  0.982380 -0.017939\n",
       "5   0.430128  0.085694  0.991200  0.002431\n",
       "6   0.515822  0.085694  0.993632  0.002431\n",
       "7   0.601516  0.085694  0.996063  0.002431\n",
       "8   0.687210  0.085694  0.998494  0.002431\n",
       "9   0.772905  0.085694  0.999074 -0.002431\n",
       "10  0.828442  0.047070  0.923224 -0.099696"
      ]
     },
     "execution_count": 9,
     "metadata": {},
     "output_type": "execute_result"
    }
   ],
   "source": [
    "df[:11]"
   ]
  },
  {
   "cell_type": "markdown",
   "metadata": {},
   "source": [
    "## Two ball bounce"
   ]
  },
  {
   "cell_type": "markdown",
   "metadata": {},
   "source": [
    "Assume radii=0.05 for all. Same mass."
   ]
  },
  {
   "cell_type": "code",
   "execution_count": 5,
   "metadata": {},
   "outputs": [
    {
     "ename": "NameError",
     "evalue": "name 'd' is not defined",
     "output_type": "error",
     "traceback": [
      "\u001b[0;31m---------------------------------------------------------------------------\u001b[0m",
      "\u001b[0;31mNameError\u001b[0m                                 Traceback (most recent call last)",
      "\u001b[0;32m<ipython-input-5-989318d352b5>\u001b[0m in \u001b[0;36m<module>\u001b[0;34m\u001b[0m\n\u001b[0;32m----> 1\u001b[0;31m \u001b[0mdf\u001b[0m \u001b[0;34m=\u001b[0m \u001b[0mpd\u001b[0m\u001b[0;34m.\u001b[0m\u001b[0mDataFrame\u001b[0m\u001b[0;34m(\u001b[0m\u001b[0md\u001b[0m\u001b[0;34m,\u001b[0m \u001b[0mcolumns\u001b[0m\u001b[0;34m=\u001b[0m\u001b[0;34m[\u001b[0m\u001b[0;34m\"x1\"\u001b[0m\u001b[0;34m,\u001b[0m\u001b[0;34m\"x1_vel\"\u001b[0m\u001b[0;34m,\u001b[0m\u001b[0;34m\"y1\"\u001b[0m\u001b[0;34m,\u001b[0m\u001b[0;34m\"y1_vel\"\u001b[0m\u001b[0;34m,\u001b[0m\u001b[0;34m\"x2\"\u001b[0m\u001b[0;34m,\u001b[0m\u001b[0;34m\"x2_vel\"\u001b[0m\u001b[0;34m,\u001b[0m\u001b[0;34m\"y2\"\u001b[0m\u001b[0;34m,\u001b[0m\u001b[0;34m\"y2_vel\"\u001b[0m\u001b[0;34m]\u001b[0m\u001b[0;34m)\u001b[0m\u001b[0;34m\u001b[0m\u001b[0;34m\u001b[0m\u001b[0m\n\u001b[0m",
      "\u001b[0;31mNameError\u001b[0m: name 'd' is not defined"
     ]
    }
   ],
   "source": [
    "df = pd.DataFrame(d, columns=[\"x1\",\"x1_vel\",\"y1\",\"y1_vel\",\"x2\",\"x2_vel\",\"y2\",\"y2_vel\"])"
   ]
  },
  {
   "cell_type": "code",
   "execution_count": 6,
   "metadata": {},
   "outputs": [],
   "source": [
    "df.to_csv('data/2ball_bounce.csv')"
   ]
  },
  {
   "cell_type": "code",
   "execution_count": 3,
   "metadata": {},
   "outputs": [],
   "source": [
    "import matplotlib.pyplot as plt"
   ]
  },
  {
   "cell_type": "code",
   "execution_count": 4,
   "metadata": {},
   "outputs": [],
   "source": [
    "def get_new_vels(x_dist, y_dist, x_vel, y_vel, x2_vel, y2_vel):\n",
    "    tan = y_dist/x_dist\n",
    "    alpha = np.arctan(tan)\n",
    "    beta = y_vel/x_vel\n",
    "    gamma = alpha - beta\n",
    "    lenu = np.sqrt(x_vel**2 + y_vel**2)\n",
    "    lenv = np.sqrt(x2_vel**2 + y2_vel**2)\n",
    "\n",
    "    X = np.sqrt((np.cos(gamma)**2 * lenu)/(1+np.tan(alpha)**2))\n",
    "    A = np.sqrt((np.cos(gamma)**2 * lenv)/(1+np.tan(alpha)**2))\n",
    "\n",
    "    x_vel = X - A\n",
    "    y_vel = -1/np.tan(alpha) * X - np.tan(alpha) * A\n",
    "\n",
    "    x2_vel = -A+X\n",
    "    y2_vel = 1/np.tan(alpha) * A + np.tan(alpha) * X\n",
    "    return x_vel, y_vel, x2_vel, y2_vel"
   ]
  },
  {
   "cell_type": "code",
   "execution_count": 6,
   "metadata": {},
   "outputs": [],
   "source": [
    "d = []\n",
    "for _ in range(2000):\n",
    "    x, y = np.random.uniform(size=2)\n",
    "    x_dist = np.random.uniform(0, 0.1) #2radius is max dist\n",
    "    y_dist = np.sqrt(0.1**2 - x_dist**2)\n",
    "    x2, y2 = x+x_dist, y+y_dist \n",
    "\n",
    "    x_vel,y_vel = np.random.uniform(0,0.1,size=2)\n",
    "    x2_vel,y2_vel = np.random.uniform(0,-0.1,size=2)\n",
    "    d += [[x, x_vel, y, y_vel, x2, x2_vel, y2, y2_vel]]\n",
    "    \n",
    "    x_vel, y_vel, x2_vel, y2_vel = get_new_vels(x_dist, y_dist, x_vel, y_vel, x2_vel, y2_vel)\n",
    "    d += [[x, x_vel, y, y_vel, x2, x2_vel, y2, y2_vel]]\n",
    "    "
   ]
  },
  {
   "cell_type": "code",
   "execution_count": 7,
   "metadata": {},
   "outputs": [],
   "source": [
    "def R(gamma):\n",
    "    \"\"\"\n",
    "    Returns rotation matrix to rotate a vector by gamma radians\n",
    "    in counter-clockwise direction.\n",
    "    \"\"\"\n",
    "    return np.array([\n",
    "        [np.cos(gamma), -np.sin(gamma)],\n",
    "        [np.sin(gamma), np.cos(gamma)]\n",
    "    ])"
   ]
  },
  {
   "cell_type": "code",
   "execution_count": 20,
   "metadata": {},
   "outputs": [],
   "source": [
    "#moment of collision\n",
    "x, y = np.random.uniform(0.15,0.85,size=2)\n",
    "x_dist = np.random.uniform(-0.1, 0.1) #2radius is max dist\n",
    "y_dist = np.random.choice([-1,1]) * np.sqrt(0.1**2 - x_dist**2)\n",
    "x2, y2 = x+x_dist, y+y_dist \n",
    "\n",
    "theta = np.random.uniform(-np.pi/2, np.pi/2)\n",
    "n = np.array([x_dist,y_dist])\n",
    "v = np.matmul(R(theta), n)\n",
    "v2 = [0,0]"
   ]
  },
  {
   "cell_type": "code",
   "execution_count": 21,
   "metadata": {
    "scrolled": false
   },
   "outputs": [
    {
     "data": {
      "text/plain": [
       "<matplotlib.quiver.Quiver at 0x7f110ed6e2b0>"
      ]
     },
     "execution_count": 21,
     "metadata": {},
     "output_type": "execute_result"
    },
    {
     "data": {
      "image/png": "[encoded data removed]",
      "text/plain": [
       "<Figure size 504x504 with 1 Axes>"
      ]
     },
     "metadata": {
      "needs_background": "light"
     },
     "output_type": "display_data"
    }
   ],
   "source": [
    "plt.figure(figsize=(7,7))\n",
    "plt.axes(xlim=[0,1],ylim=[0,1])\n",
    "plt.scatter([x,x2],[y,y2], s=1400)\n",
    "\n",
    "plt.quiver(x, y, v[0], v[1], width=0.006, scale=1)\n",
    "plt.quiver(x2, y2, v2[0],v2[1], width=0.006, scale=1)\n",
    "# plt.quiver(x,y,n[0],n[1],color='r')\n"
   ]
  },
  {
   "cell_type": "code",
   "execution_count": 22,
   "metadata": {},
   "outputs": [],
   "source": [
    "tan = y_dist/x_dist\n",
    "alpha = np.arctan(n[1]/n[0])\n",
    "beta = np.arctan(v[1]/v[0])\n",
    "gamma = alpha - beta\n",
    "u = np.cos(gamma) * np.matmul(R(gamma),v)\n",
    "p = np.sin(gamma) * np.matmul(R(gamma-np.pi/2),v)\n"
   ]
  },
  {
   "cell_type": "code",
   "execution_count": 25,
   "metadata": {},
   "outputs": [
    {
     "data": {
      "text/plain": [
       "<matplotlib.quiver.Quiver at 0x7f110ec6bd30>"
      ]
     },
     "execution_count": 25,
     "metadata": {},
     "output_type": "execute_result"
    },
    {
     "data": {
      "image/png": "[encoded data removed]",
      "text/plain": [
       "<Figure size 504x504 with 1 Axes>"
      ]
     },
     "metadata": {
      "needs_background": "light"
     },
     "output_type": "display_data"
    }
   ],
   "source": [
    "plt.figure(figsize=(7,7))\n",
    "plt.axes(xlim=[0,1],ylim=[0,1])\n",
    "plt.scatter([x,x2],[y,y2], s=1400, c='grey')\n",
    "plt.quiver(x, y, p[0], p[1], width=0.006, scale=1)\n",
    "plt.quiver(x2, y2, u[0], u[1], width=0.006, scale=1)"
   ]
  },
  {
   "cell_type": "code",
   "execution_count": null,
   "metadata": {},
   "outputs": [],
   "source": []
  },
  {
   "cell_type": "code",
   "execution_count": null,
   "metadata": {},
   "outputs": [],
   "source": []
  }
 ],
 "metadata": {
  "kernelspec": {
   "display_name": "Python 3",
   "language": "python",
   "name": "python3"
  },
  "language_info": {
   "codemirror_mode": {
    "name": "ipython",
    "version": 3
   },
   "file_extension": ".py",
   "mimetype": "text/x-python",
   "name": "python",
   "nbconvert_exporter": "python",
   "pygments_lexer": "ipython3",
   "version": "3.6.8"
  }
 },
 "nbformat": 4,
 "nbformat_minor": 2
}
