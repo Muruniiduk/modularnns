{
 "cells": [
  {
   "cell_type": "code",
   "execution_count": 1,
   "metadata": {},
   "outputs": [
    {
     "name": "stderr",
     "output_type": "stream",
     "text": [
      "Using TensorFlow backend.\n"
     ]
    }
   ],
   "source": [
    "import pandas as pd\n",
    "import numpy as np\n",
    "from keras.layers import Input, Dense, LSTM, RepeatVector, TimeDistributed, RNN, Lambda, Concatenate\n",
    "from keras.layers.merge import Multiply\n",
    "from keras.models import Model\n",
    "from keras.losses import mean_squared_error, binary_crossentropy\n",
    "from keras.models import Model\n",
    "import keras.backend as K\n",
    "from sklearn.metrics import mean_squared_error as mse\n",
    "\n",
    "def save_model(model, model_str):\n",
    "    model_json = model.to_json()\n",
    "    with open('trained/'+model_str+\".json\", \"w\") as json_file:\n",
    "        json_file.write(model_json)\n",
    "    # serialize weights to HDF5\n",
    "    model.save_weights('trained/'+model_str+\".h5\")\n",
    "    print(\"Saved model to disk\")"
   ]
  },
  {
   "cell_type": "code",
   "execution_count": 2,
   "metadata": {},
   "outputs": [],
   "source": [
    "df = pd.read_csv('data/bounces_x_1.csv')\n",
    "df2 = pd.read_csv('data/sim_data_borders.csv')\n",
    "mixdf = pd.concat([df, df2[:5000]])\n",
    "mix = mixdf.to_numpy()\n",
    "mix = mix.reshape(2000,5,4)\n",
    "# np.random.shuffle(mix)\n",
    "mix_train_x = mix[:1800,:4,[0,2]]\n",
    "mix_train_y = mix[:1800,4,:]\n",
    "mix_test_x = mix[1800:,:4,[0,2]]\n",
    "mix_test_y = mix[1800:,4,:]"
   ]
  },
  {
   "cell_type": "code",
   "execution_count": 3,
   "metadata": {
    "scrolled": true
   },
   "outputs": [
    {
     "name": "stdout",
     "output_type": "stream",
     "text": [
      "_________________________________________________________________\n",
      "Layer (type)                 Output Shape              Param #   \n",
      "=================================================================\n",
      "input_1 (InputLayer)         (None, 4, 2)              0         \n",
      "_________________________________________________________________\n",
      "lstm_1 (LSTM)                (None, 4)                 112       \n",
      "_________________________________________________________________\n",
      "dense_1 (Dense)              (None, 4)                 20        \n",
      "_________________________________________________________________\n",
      "dense_2 (Dense)              (None, 8)                 40        \n",
      "_________________________________________________________________\n",
      "dense_3 (Dense)              (None, 20)                180       \n",
      "_________________________________________________________________\n",
      "dense_4 (Dense)              (None, 4)                 84        \n",
      "_________________________________________________________________\n",
      "dense_5 (Dense)              (None, 4)                 20        \n",
      "=================================================================\n",
      "Total params: 456\n",
      "Trainable params: 456\n",
      "Non-trainable params: 0\n",
      "_________________________________________________________________\n"
     ]
    }
   ],
   "source": [
    "# n2n model\n",
    "inputs = Input(shape=(4,2))\n",
    "x = LSTM(4, return_sequences=False, activation='relu')(inputs)\n",
    "x = Dense(4, activation='relu')(x)\n",
    "x = Dense(8, activation='relu')(x)\n",
    "x = Dense(20)(x)\n",
    "x = Dense(4)(x)\n",
    "x = Dense(4)(x)\n",
    "model_n2n = Model(inputs=inputs, outputs=x)\n",
    "model_n2n.compile(loss=mean_squared_error,\n",
    "              optimizer='adam',\n",
    "              metrics=['accuracy'])\n",
    "model_n2n.summary()"
   ]
  },
  {
   "cell_type": "code",
   "execution_count": 4,
   "metadata": {},
   "outputs": [
    {
     "name": "stdout",
     "output_type": "stream",
     "text": [
      "Epoch 1/100\n",
      "1800/1800 [==============================] - 1s 629us/step - loss: 0.1127 - acc: 0.3283\n",
      "Epoch 2/100\n",
      "1800/1800 [==============================] - 0s 176us/step - loss: 0.0412 - acc: 0.6133\n",
      "Epoch 3/100\n",
      "1800/1800 [==============================] - 0s 156us/step - loss: 0.0266 - acc: 0.7706\n",
      "Epoch 4/100\n",
      "1800/1800 [==============================] - 0s 156us/step - loss: 0.0231 - acc: 0.7706\n",
      "Epoch 5/100\n",
      "1800/1800 [==============================] - 0s 154us/step - loss: 0.0175 - acc: 0.7800\n",
      "Epoch 6/100\n",
      "1800/1800 [==============================] - 0s 157us/step - loss: 0.0102 - acc: 0.8800\n",
      "Epoch 7/100\n",
      "1800/1800 [==============================] - 0s 155us/step - loss: 0.0066 - acc: 0.9017\n",
      "Epoch 8/100\n",
      "1800/1800 [==============================] - 0s 156us/step - loss: 0.0050 - acc: 0.9211\n",
      "Epoch 9/100\n",
      "1800/1800 [==============================] - 0s 155us/step - loss: 0.0046 - acc: 0.9306\n",
      "Epoch 10/100\n",
      "1800/1800 [==============================] - 0s 157us/step - loss: 0.0044 - acc: 0.9356\n",
      "Epoch 11/100\n",
      "1800/1800 [==============================] - 0s 155us/step - loss: 0.0042 - acc: 0.9339\n",
      "Epoch 12/100\n",
      "1800/1800 [==============================] - 0s 159us/step - loss: 0.0041 - acc: 0.9378\n",
      "Epoch 13/100\n",
      "1800/1800 [==============================] - 0s 157us/step - loss: 0.0039 - acc: 0.9450\n",
      "Epoch 14/100\n",
      "1800/1800 [==============================] - 0s 158us/step - loss: 0.0038 - acc: 0.9478\n",
      "Epoch 15/100\n",
      "1800/1800 [==============================] - 0s 155us/step - loss: 0.0037 - acc: 0.9489\n",
      "Epoch 16/100\n",
      "1800/1800 [==============================] - 0s 157us/step - loss: 0.0036 - acc: 0.9517\n",
      "Epoch 17/100\n",
      "1800/1800 [==============================] - 0s 162us/step - loss: 0.0035 - acc: 0.9533\n",
      "Epoch 18/100\n",
      "1800/1800 [==============================] - 0s 158us/step - loss: 0.0034 - acc: 0.9511\n",
      "Epoch 19/100\n",
      "1800/1800 [==============================] - 0s 157us/step - loss: 0.0033 - acc: 0.9561\n",
      "Epoch 20/100\n",
      "1800/1800 [==============================] - 0s 161us/step - loss: 0.0032 - acc: 0.9556\n",
      "Epoch 21/100\n",
      "1800/1800 [==============================] - 0s 158us/step - loss: 0.0031 - acc: 0.9578\n",
      "Epoch 22/100\n",
      "1800/1800 [==============================] - 0s 157us/step - loss: 0.0030 - acc: 0.9594\n",
      "Epoch 23/100\n",
      "1800/1800 [==============================] - 0s 157us/step - loss: 0.0029 - acc: 0.9589\n",
      "Epoch 24/100\n",
      "1800/1800 [==============================] - 0s 158us/step - loss: 0.0028 - acc: 0.9617\n",
      "Epoch 25/100\n",
      "1800/1800 [==============================] - 0s 161us/step - loss: 0.0028 - acc: 0.9656\n",
      "Epoch 26/100\n",
      "1800/1800 [==============================] - 0s 156us/step - loss: 0.0027 - acc: 0.9667\n",
      "Epoch 27/100\n",
      "1800/1800 [==============================] - 0s 157us/step - loss: 0.0026 - acc: 0.9678\n",
      "Epoch 28/100\n",
      "1800/1800 [==============================] - 0s 158us/step - loss: 0.0026 - acc: 0.9700\n",
      "Epoch 29/100\n",
      "1800/1800 [==============================] - 0s 158us/step - loss: 0.0025 - acc: 0.9689\n",
      "Epoch 30/100\n",
      "1800/1800 [==============================] - 0s 156us/step - loss: 0.0024 - acc: 0.9689\n",
      "Epoch 31/100\n",
      "1800/1800 [==============================] - 0s 158us/step - loss: 0.0024 - acc: 0.9683\n",
      "Epoch 32/100\n",
      "1800/1800 [==============================] - 0s 156us/step - loss: 0.0023 - acc: 0.9700\n",
      "Epoch 33/100\n",
      "1800/1800 [==============================] - 0s 158us/step - loss: 0.0023 - acc: 0.9722\n",
      "Epoch 34/100\n",
      "1800/1800 [==============================] - 0s 158us/step - loss: 0.0022 - acc: 0.9689\n",
      "Epoch 35/100\n",
      "1800/1800 [==============================] - 0s 158us/step - loss: 0.0022 - acc: 0.9711\n",
      "Epoch 36/100\n",
      "1800/1800 [==============================] - 0s 158us/step - loss: 0.0022 - acc: 0.9689\n",
      "Epoch 37/100\n",
      "1800/1800 [==============================] - 0s 157us/step - loss: 0.0021 - acc: 0.9694\n",
      "Epoch 38/100\n",
      "1800/1800 [==============================] - 0s 159us/step - loss: 0.0021 - acc: 0.9733\n",
      "Epoch 39/100\n",
      "1800/1800 [==============================] - 0s 159us/step - loss: 0.0020 - acc: 0.9711\n",
      "Epoch 40/100\n",
      "1800/1800 [==============================] - 0s 159us/step - loss: 0.0020 - acc: 0.9706\n",
      "Epoch 41/100\n",
      "1800/1800 [==============================] - 0s 161us/step - loss: 0.0020 - acc: 0.9722\n",
      "Epoch 42/100\n",
      "1800/1800 [==============================] - 0s 160us/step - loss: 0.0020 - acc: 0.9717\n",
      "Epoch 43/100\n",
      "1800/1800 [==============================] - 0s 159us/step - loss: 0.0020 - acc: 0.9694\n",
      "Epoch 44/100\n",
      "1800/1800 [==============================] - 0s 161us/step - loss: 0.0019 - acc: 0.9694\n",
      "Epoch 45/100\n",
      "1800/1800 [==============================] - 0s 169us/step - loss: 0.0019 - acc: 0.9722\n",
      "Epoch 46/100\n",
      "1800/1800 [==============================] - 0s 163us/step - loss: 0.0019 - acc: 0.9722\n",
      "Epoch 47/100\n",
      "1800/1800 [==============================] - 0s 166us/step - loss: 0.0019 - acc: 0.9728\n",
      "Epoch 48/100\n",
      "1800/1800 [==============================] - 0s 162us/step - loss: 0.0019 - acc: 0.9733\n",
      "Epoch 49/100\n",
      "1800/1800 [==============================] - 0s 156us/step - loss: 0.0018 - acc: 0.9722\n",
      "Epoch 50/100\n",
      "1800/1800 [==============================] - 0s 156us/step - loss: 0.0018 - acc: 0.9722\n",
      "Epoch 51/100\n",
      "1800/1800 [==============================] - 0s 157us/step - loss: 0.0019 - acc: 0.9717\n",
      "Epoch 52/100\n",
      "1800/1800 [==============================] - 0s 159us/step - loss: 0.0019 - acc: 0.9722\n",
      "Epoch 53/100\n",
      "1800/1800 [==============================] - 0s 156us/step - loss: 0.0018 - acc: 0.9728\n",
      "Epoch 54/100\n",
      "1800/1800 [==============================] - 0s 155us/step - loss: 0.0018 - acc: 0.9706\n",
      "Epoch 55/100\n",
      "1800/1800 [==============================] - 0s 159us/step - loss: 0.0018 - acc: 0.9744\n",
      "Epoch 56/100\n",
      "1800/1800 [==============================] - 0s 153us/step - loss: 0.0018 - acc: 0.9706\n",
      "Epoch 57/100\n",
      "1800/1800 [==============================] - 0s 157us/step - loss: 0.0018 - acc: 0.9694\n",
      "Epoch 58/100\n",
      "1800/1800 [==============================] - 0s 155us/step - loss: 0.0018 - acc: 0.9717\n",
      "Epoch 59/100\n",
      "1800/1800 [==============================] - 0s 157us/step - loss: 0.0018 - acc: 0.9717\n",
      "Epoch 60/100\n",
      "1800/1800 [==============================] - 0s 155us/step - loss: 0.0018 - acc: 0.9711\n",
      "Epoch 61/100\n",
      "1800/1800 [==============================] - 0s 156us/step - loss: 0.0018 - acc: 0.9728\n",
      "Epoch 62/100\n",
      "1800/1800 [==============================] - 0s 161us/step - loss: 0.0018 - acc: 0.9733\n",
      "Epoch 63/100\n",
      "1800/1800 [==============================] - 0s 155us/step - loss: 0.0018 - acc: 0.9711\n",
      "Epoch 64/100\n",
      "1800/1800 [==============================] - 0s 155us/step - loss: 0.0018 - acc: 0.9700\n",
      "Epoch 65/100\n",
      "1800/1800 [==============================] - 0s 154us/step - loss: 0.0018 - acc: 0.9728\n",
      "Epoch 66/100\n",
      "1800/1800 [==============================] - 0s 155us/step - loss: 0.0018 - acc: 0.9717\n",
      "Epoch 67/100\n",
      "1800/1800 [==============================] - 0s 159us/step - loss: 0.0018 - acc: 0.9683\n",
      "Epoch 68/100\n",
      "1800/1800 [==============================] - 0s 157us/step - loss: 0.0018 - acc: 0.9733\n",
      "Epoch 69/100\n",
      "1800/1800 [==============================] - 0s 157us/step - loss: 0.0018 - acc: 0.9717\n",
      "Epoch 70/100\n",
      "1800/1800 [==============================] - 0s 156us/step - loss: 0.0018 - acc: 0.9733\n",
      "Epoch 71/100\n",
      "1800/1800 [==============================] - 0s 156us/step - loss: 0.0018 - acc: 0.9700\n",
      "Epoch 72/100\n",
      "1800/1800 [==============================] - 0s 156us/step - loss: 0.0017 - acc: 0.9728\n",
      "Epoch 73/100\n",
      "1800/1800 [==============================] - 0s 156us/step - loss: 0.0018 - acc: 0.9683\n",
      "Epoch 74/100\n",
      "1800/1800 [==============================] - 0s 156us/step - loss: 0.0017 - acc: 0.9733\n",
      "Epoch 75/100\n",
      "1800/1800 [==============================] - 0s 155us/step - loss: 0.0018 - acc: 0.9728\n",
      "Epoch 76/100\n",
      "1800/1800 [==============================] - 0s 155us/step - loss: 0.0017 - acc: 0.9728\n",
      "Epoch 77/100\n",
      "1800/1800 [==============================] - 0s 160us/step - loss: 0.0018 - acc: 0.9711\n",
      "Epoch 78/100\n",
      "1800/1800 [==============================] - 0s 155us/step - loss: 0.0017 - acc: 0.9711\n",
      "Epoch 79/100\n",
      "1800/1800 [==============================] - 0s 155us/step - loss: 0.0017 - acc: 0.9706\n",
      "Epoch 80/100\n",
      "1800/1800 [==============================] - 0s 156us/step - loss: 0.0017 - acc: 0.9700\n",
      "Epoch 81/100\n",
      "1800/1800 [==============================] - 0s 154us/step - loss: 0.0017 - acc: 0.9717\n",
      "Epoch 82/100\n",
      "1800/1800 [==============================] - 0s 151us/step - loss: 0.0017 - acc: 0.9711\n",
      "Epoch 83/100\n",
      "1800/1800 [==============================] - 0s 151us/step - loss: 0.0017 - acc: 0.9711\n",
      "Epoch 84/100\n",
      "1800/1800 [==============================] - 0s 153us/step - loss: 0.0017 - acc: 0.9739\n",
      "Epoch 85/100\n",
      "1800/1800 [==============================] - 0s 150us/step - loss: 0.0017 - acc: 0.9733\n",
      "Epoch 86/100\n",
      "1800/1800 [==============================] - 0s 151us/step - loss: 0.0017 - acc: 0.9722\n",
      "Epoch 87/100\n",
      "1800/1800 [==============================] - 0s 153us/step - loss: 0.0017 - acc: 0.9706\n",
      "Epoch 88/100\n",
      "1800/1800 [==============================] - 0s 151us/step - loss: 0.0017 - acc: 0.9728\n",
      "Epoch 89/100\n",
      "1800/1800 [==============================] - 0s 152us/step - loss: 0.0017 - acc: 0.9711\n",
      "Epoch 90/100\n",
      "1800/1800 [==============================] - 0s 152us/step - loss: 0.0017 - acc: 0.9722\n",
      "Epoch 91/100\n",
      "1800/1800 [==============================] - 0s 153us/step - loss: 0.0017 - acc: 0.9756\n",
      "Epoch 92/100\n",
      "1800/1800 [==============================] - 0s 150us/step - loss: 0.0017 - acc: 0.9739\n",
      "Epoch 93/100\n",
      "1800/1800 [==============================] - 0s 151us/step - loss: 0.0017 - acc: 0.9739\n",
      "Epoch 94/100\n",
      "1800/1800 [==============================] - 0s 150us/step - loss: 0.0016 - acc: 0.9717\n",
      "Epoch 95/100\n",
      "1800/1800 [==============================] - 0s 153us/step - loss: 0.0016 - acc: 0.9744\n",
      "Epoch 96/100\n",
      "1800/1800 [==============================] - 0s 151us/step - loss: 0.0016 - acc: 0.9711\n",
      "Epoch 97/100\n",
      "1800/1800 [==============================] - 0s 151us/step - loss: 0.0016 - acc: 0.9750\n",
      "Epoch 98/100\n",
      "1800/1800 [==============================] - 0s 153us/step - loss: 0.0016 - acc: 0.9739\n",
      "Epoch 99/100\n",
      "1800/1800 [==============================] - 0s 153us/step - loss: 0.0016 - acc: 0.9728\n",
      "Epoch 100/100\n",
      "1800/1800 [==============================] - 0s 149us/step - loss: 0.0016 - acc: 0.9728\n"
     ]
    },
    {
     "data": {
      "text/plain": [
       "<keras.callbacks.History at 0x7f2144254630>"
      ]
     },
     "execution_count": 4,
     "metadata": {},
     "output_type": "execute_result"
    }
   ],
   "source": [
    "model_n2n.fit(mix_train_x, mix_train_y, epochs=100)"
   ]
  },
  {
   "cell_type": "code",
   "execution_count": 5,
   "metadata": {},
   "outputs": [
    {
     "data": {
      "text/plain": [
       "0.046348428302811835"
      ]
     },
     "execution_count": 5,
     "metadata": {},
     "output_type": "execute_result"
    }
   ],
   "source": [
    "mse(mix_test_y, model_n2n.predict(mix_test_x))**0.5"
   ]
  },
  {
   "cell_type": "code",
   "execution_count": 6,
   "metadata": {},
   "outputs": [],
   "source": [
    "a = mix[2,:4,[0,2]].T.reshape(1,4,2)"
   ]
  },
  {
   "cell_type": "code",
   "execution_count": 19,
   "metadata": {},
   "outputs": [
    {
     "data": {
      "image/png": "[encoded data removed]",
      "text/plain": [
       "<Figure size 432x432 with 1 Axes>"
      ]
     },
     "metadata": {
      "needs_background": "light"
     },
     "output_type": "display_data"
    }
   ],
   "source": [
    "import matplotlib.pyplot as plt\n",
    "\n",
    "def make_preds(a, model):\n",
    "    #Predicting\n",
    "    b = a.tolist()\n",
    "    tmp = np.copy(a)\n",
    "    for i in range(100):\n",
    "        preds = model.predict(tmp)[:,[0,2]]\n",
    "        b[0] += preds.tolist()\n",
    "        tmp = np.append(tmp, preds.reshape(1,1,2), axis=1)\n",
    "        tmp = tmp[:,1:]\n",
    "    b = np.array(b)\n",
    "    return b\n",
    "\n",
    "b = make_preds(a, model_n2n)\n",
    "#Plotting\n",
    "fig, ax = plt.subplots(figsize=(5, 3))\n",
    "ax.set(xlim=(0, 1), ylim=(0, 1))\n",
    "# line = ax.plot([0,1],[0,0])\n",
    "\n",
    "\n",
    "ax.scatter(b[0,:,1],  b[0,:,0], s=10)\n",
    "fig.set_figheight(6)\n",
    "fig.set_figwidth(6)\n",
    "plt.show()"
   ]
  },
  {
   "cell_type": "code",
   "execution_count": null,
   "metadata": {},
   "outputs": [],
   "source": [
    "[]"
   ]
  }
 ],
 "metadata": {
  "kernelspec": {
   "display_name": "Python 3",
   "language": "python",
   "name": "python3"
  },
  "language_info": {
   "codemirror_mode": {
    "name": "ipython",
    "version": 3
   },
   "file_extension": ".py",
   "mimetype": "text/x-python",
   "name": "python",
   "nbconvert_exporter": "python",
   "pygments_lexer": "ipython3",
   "version": "3.6.8"
  }
 },
 "nbformat": 4,
 "nbformat_minor": 2
}
