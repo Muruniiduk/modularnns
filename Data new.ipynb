{
 "cells": [
  {
   "cell_type": "markdown",
   "metadata": {},
   "source": [
    "This notebook will consider the bounce task as mirroring the location with respect to the border. Input will be a coordinate out of bounds."
   ]
  },
  {
   "cell_type": "code",
   "execution_count": 1,
   "metadata": {},
   "outputs": [],
   "source": [
    "import pandas as pd\n",
    "import numpy as np"
   ]
  },
  {
   "cell_type": "markdown",
   "metadata": {},
   "source": [
    "### Straight forward"
   ]
  },
  {
   "cell_type": "code",
   "execution_count": 2,
   "metadata": {},
   "outputs": [],
   "source": [
    "df = pd.DataFrame(columns=[\"x\",\"x_vel\",\"y\",\"y_vel\"]) #,\"x0\",\"x1\",\"y0\",\"y1\"])\n",
    "def add(row, df):\n",
    "    \"\"\"Docstring\"\"\"\n",
    "    d = dict()\n",
    "    cols = list(df.columns)\n",
    "    for i in np.arange(len(cols)):\n",
    "        d[cols[i]] = row[i]\n",
    "    return df.append(d, ignore_index=True)\n",
    "\n",
    "def add_rnd(df):\n",
    "    x_vel = np.sign(np.random.rand() - 0.5) * np.random.rand() * 0.1\n",
    "    y_vel = np.sign(np.random.rand() - 0.5) * np.random.rand() * 0.1\n",
    "    x = np.random.rand()\n",
    "    y = np.random.rand()\n",
    "    return add([x,x_vel,y,y_vel],df) #,0,1,0,1], df)\n",
    "\n",
    "def add_next(df):\n",
    "    x,x_vel,y,y_vel = list(df.iloc[-1])\n",
    "    return add([x+x_vel,x_vel,y+y_vel,y_vel], df)"
   ]
  },
  {
   "cell_type": "code",
   "execution_count": 3,
   "metadata": {},
   "outputs": [],
   "source": [
    "df = pd.DataFrame(columns=[\"x\",\"x_vel\",\"y\",\"y_vel\"]) #,\"x0\",\"x1\",\"y0\",\"y1\"])\n",
    "for i in range(100000):\n",
    "    if i % 10 == 0: df = add_rnd(df)\n",
    "    else: df = add_next(df)"
   ]
  },
  {
   "cell_type": "code",
   "execution_count": 4,
   "metadata": {},
   "outputs": [],
   "source": [
    "df.to_csv('sim_data2.csv', index=False)"
   ]
  },
  {
   "cell_type": "markdown",
   "metadata": {},
   "source": [
    "### Bounces (mirroring)\n",
    "X-axis only. Border only at x = 1"
   ]
  },
  {
   "cell_type": "code",
   "execution_count": 13,
   "metadata": {},
   "outputs": [],
   "source": [
    "df = pd.DataFrame(columns=[\"x\",\"x_vel\",\"y\",\"y_vel\"])\n",
    "for i in range(2000):\n",
    "    x_vel = np.random.rand() * 0.1\n",
    "    y_vel = np.random.rand() * 0.1\n",
    "    x = 1 + np.random.uniform(low=0, high=np.abs(x_vel))\n",
    "    y = np.random.rand()\n",
    "    df = add([x,x_vel,y,y_vel],df)\n",
    "    df = add([2-x,-x_vel,y,y_vel],df)\n",
    "\n",
    "df.to_csv('bounces_mirror.csv', index=False)"
   ]
  },
  {
   "cell_type": "code",
   "execution_count": 14,
   "metadata": {},
   "outputs": [
    {
     "data": {
      "text/html": [
       "<div>\n",
       "<style scoped>\n",
       "    .dataframe tbody tr th:only-of-type {\n",
       "        vertical-align: middle;\n",
       "    }\n",
       "\n",
       "    .dataframe tbody tr th {\n",
       "        vertical-align: top;\n",
       "    }\n",
       "\n",
       "    .dataframe thead th {\n",
       "        text-align: right;\n",
       "    }\n",
       "</style>\n",
       "<table border=\"1\" class=\"dataframe\">\n",
       "  <thead>\n",
       "    <tr style=\"text-align: right;\">\n",
       "      <th></th>\n",
       "      <th>x</th>\n",
       "      <th>x_vel</th>\n",
       "      <th>y</th>\n",
       "      <th>y_vel</th>\n",
       "    </tr>\n",
       "  </thead>\n",
       "  <tbody>\n",
       "    <tr>\n",
       "      <th>0</th>\n",
       "      <td>1.026408</td>\n",
       "      <td>0.070358</td>\n",
       "      <td>0.246548</td>\n",
       "      <td>0.090114</td>\n",
       "    </tr>\n",
       "    <tr>\n",
       "      <th>1</th>\n",
       "      <td>0.973592</td>\n",
       "      <td>-0.070358</td>\n",
       "      <td>0.246548</td>\n",
       "      <td>0.090114</td>\n",
       "    </tr>\n",
       "    <tr>\n",
       "      <th>2</th>\n",
       "      <td>1.050825</td>\n",
       "      <td>0.057095</td>\n",
       "      <td>0.647579</td>\n",
       "      <td>0.059419</td>\n",
       "    </tr>\n",
       "    <tr>\n",
       "      <th>3</th>\n",
       "      <td>0.949175</td>\n",
       "      <td>-0.057095</td>\n",
       "      <td>0.647579</td>\n",
       "      <td>0.059419</td>\n",
       "    </tr>\n",
       "    <tr>\n",
       "      <th>4</th>\n",
       "      <td>1.077612</td>\n",
       "      <td>0.098985</td>\n",
       "      <td>0.079573</td>\n",
       "      <td>0.044087</td>\n",
       "    </tr>\n",
       "  </tbody>\n",
       "</table>\n",
       "</div>"
      ],
      "text/plain": [
       "          x     x_vel         y     y_vel\n",
       "0  1.026408  0.070358  0.246548  0.090114\n",
       "1  0.973592 -0.070358  0.246548  0.090114\n",
       "2  1.050825  0.057095  0.647579  0.059419\n",
       "3  0.949175 -0.057095  0.647579  0.059419\n",
       "4  1.077612  0.098985  0.079573  0.044087"
      ]
     },
     "execution_count": 14,
     "metadata": {},
     "output_type": "execute_result"
    }
   ],
   "source": [
    "df.head()"
   ]
  },
  {
   "cell_type": "markdown",
   "metadata": {},
   "source": [
    "### Attention\n",
    "\n",
    "Is there going to be a bounce? Bool"
   ]
  },
  {
   "cell_type": "code",
   "execution_count": 12,
   "metadata": {},
   "outputs": [],
   "source": [
    "df = pd.DataFrame(columns=[\"x\",\"y\",\"is_bounce\"])\n",
    "for i in range(2000):\n",
    "    x_vel = np.random.rand() * np.sign(np.random.rand()-0.5) * 0.1\n",
    "    x = 1 + np.random.uniform(low=-np.abs(x_vel), high=np.abs(x_vel))\n",
    "    y = np.random.rand()\n",
    "    boolean = (x > 1)\n",
    "    df = add([x,y,boolean],df)\n",
    "\n",
    "df.to_csv('bounces_att.csv', index=False)"
   ]
  },
  {
   "cell_type": "code",
   "execution_count": null,
   "metadata": {},
   "outputs": [],
   "source": []
  }
 ],
 "metadata": {
  "kernelspec": {
   "display_name": "Python 3",
   "language": "python",
   "name": "python3"
  },
  "language_info": {
   "codemirror_mode": {
    "name": "ipython",
    "version": 3
   },
   "file_extension": ".py",
   "mimetype": "text/x-python",
   "name": "python",
   "nbconvert_exporter": "python",
   "pygments_lexer": "ipython3",
   "version": "3.6.8"
  }
 },
 "nbformat": 4,
 "nbformat_minor": 2
}
