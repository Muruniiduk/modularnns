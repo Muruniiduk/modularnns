{
 "cells": [
  {
   "cell_type": "code",
   "execution_count": 1,
   "metadata": {},
   "outputs": [
    {
     "name": "stderr",
     "output_type": "stream",
     "text": [
      "Using TensorFlow backend.\n"
     ]
    }
   ],
   "source": [
    "import pandas as pd\n",
    "import numpy as np\n",
    "from keras.layers import Input, Dense, LSTM, RepeatVector, TimeDistributed, RNN, Lambda, Concatenate, Reshape\n",
    "from keras.layers.merge import Multiply\n",
    "from keras.models import Model\n",
    "from keras.losses import mean_squared_error, binary_crossentropy\n",
    "from keras.models import Model\n",
    "from keras.models import load_model\n",
    "from keras.models import model_from_json\n",
    "import keras.backend as K\n",
    "import matplotlib.pyplot as plt\n",
    "from sklearn.metrics import mean_squared_error as mse"
   ]
  },
  {
   "cell_type": "code",
   "execution_count": 2,
   "metadata": {},
   "outputs": [],
   "source": [
    "def open_and_load(string):\n",
    "    with open('trained/'+string+'.json', 'r') as f:\n",
    "        model = model_from_json(f.read())\n",
    "    model.load_weights('trained/'+string+'.h5')   \n",
    "    return model"
   ]
  },
  {
   "cell_type": "code",
   "execution_count": 3,
   "metadata": {},
   "outputs": [],
   "source": [
    "model_ws = open_and_load('model_ws') #straight movement\n",
    "model_b = open_and_load('model_b') #bounces\n",
    "model_att = open_and_load('model_att')\n",
    "model_lambda = open_and_load('model_lambda')"
   ]
  },
  {
   "cell_type": "code",
   "execution_count": 4,
   "metadata": {},
   "outputs": [
    {
     "name": "stdout",
     "output_type": "stream",
     "text": [
      "__________________________________________________________________________________________________\n",
      "Layer (type)                    Output Shape         Param #     Connected to                     \n",
      "==================================================================================================\n",
      "input_rec (InputLayer)          (None, 4, 1)         0                                            \n",
      "__________________________________________________________________________________________________\n",
      "model_1 (Model)                 (None, 2)            106         input_rec[0][0]                  \n",
      "__________________________________________________________________________________________________\n",
      "lambda_1 (Lambda)               (None, 1)            0           model_1[1][0]                    \n",
      "__________________________________________________________________________________________________\n",
      "model_5 (Model)                 (None, 2)            238         lambda_1[0][0]                   \n",
      "__________________________________________________________________________________________________\n",
      "model_3 (Model)                 (None, 2)            28          model_1[1][0]                    \n",
      "__________________________________________________________________________________________________\n",
      "lambda_2 (Lambda)               (None, 2)            0           model_5[1][0]                    \n",
      "                                                                 model_3[1][0]                    \n",
      "                                                                 model_1[1][0]                    \n",
      "==================================================================================================\n",
      "Total params: 372\n",
      "Trainable params: 372\n",
      "Non-trainable params: 0\n",
      "__________________________________________________________________________________________________\n"
     ]
    }
   ],
   "source": [
    "isBounce = K.tf.convert_to_tensor([0,1],dtype=np.float32) #if attention outputs this, then bounce module is needed\n",
    "\n",
    "inputs_rec = Input(shape=(4,1), name='input_rec')\n",
    "rec = model_ws(inputs_rec)\n",
    "rec_x = Lambda(lambda s: K.reshape(s[:,0], (-1,1)))(rec)\n",
    "bnc = model_b(rec)\n",
    "att = model_lambda(rec_x)\n",
    "att2 = Lambda(lambda s: K.switch(K.equal(s[0], isBounce), s[1], s[2]))([att, bnc, rec]) #~hard attention\n",
    "\n",
    "x = att2\n",
    "\n",
    "model_m = Model(inputs=inputs_rec, outputs=x)\n",
    "model_m.compile(loss=mean_squared_error,\n",
    "              optimizer='adam',\n",
    "              metrics=['accuracy'])\n",
    "model_m.summary()"
   ]
  },
  {
   "cell_type": "code",
   "execution_count": 5,
   "metadata": {
    "scrolled": true
   },
   "outputs": [
    {
     "name": "stdout",
     "output_type": "stream",
     "text": [
      "Root mean squared error: 0.0163\n"
     ]
    }
   ],
   "source": [
    "df = pd.read_csv('data/bounces_2d.csv')\n",
    "a = df.to_numpy()\n",
    "a = a.reshape((1000,5,4))\n",
    "X = a[:,:4,0].reshape(1000,4,1) #np.delete(a, [1,3], axis=2)[:,:10,:]\n",
    "Y = a[:,4,:2] #.reshape(10000,5,2)\n",
    "train_X = X[:800]\n",
    "train_Y = Y[:800]\n",
    "test_X = X[800:]\n",
    "test_Y = Y[800:]\n",
    "\n",
    "df2 = pd.read_csv('data/sim_data_borders.csv')\n",
    "# x, x_vel, y, y_vel\n",
    "a2 = df2.to_numpy()\n",
    "a2 = a2.reshape((4000,5,4)) #samples x timesteps x features\n",
    "X2 = a2[:,:4,0].reshape(4000,4,1) #np.delete(a, [1,3], axis=2)[:,:10,:]\n",
    "Y2 = a2[:,4,:2] #.reshape(10000,5,2)\n",
    "train_X2 = X2[:8000]\n",
    "train_Y2 = Y2[:8000]\n",
    "\n",
    "mixdf = pd.concat([df, df2[:5000]])\n",
    "mix = mixdf.to_numpy()\n",
    "mix = mix.reshape(2000,5,4)\n",
    "np.random.shuffle(mix)\n",
    "mix_train_x = mix[:1800,:4,0].reshape(1800,4,1)\n",
    "mix_train_y = mix[:1800,4,:2]\n",
    "mix_test_x = mix[1800:,:4,0].reshape(200,4,1)\n",
    "mix_test_y = mix[1800:,4,:2]\n",
    "print(\"Root mean squared error: %.4f\" % mse(model_m.predict(train_X2), train_Y2)**0.5)"
   ]
  },
  {
   "cell_type": "code",
   "execution_count": 8,
   "metadata": {},
   "outputs": [
    {
     "data": {
      "text/plain": [
       "array([[ 0.40100327,  0.06981026],\n",
       "       [ 0.7727631 ,  0.08543855],\n",
       "       [ 0.9824763 , -0.04799932],\n",
       "       [ 0.66460073,  0.07897948],\n",
       "       [ 0.9990897 , -0.00986722],\n",
       "       [ 0.69635075,  0.04131683],\n",
       "       [ 0.49376938,  0.07037897],\n",
       "       [ 0.99647456, -0.03402132],\n",
       "       [ 0.9805412 , -0.07780412],\n",
       "       [ 0.31318933,  0.0346712 ]], dtype=float32)"
      ]
     },
     "execution_count": 8,
     "metadata": {},
     "output_type": "execute_result"
    }
   ],
   "source": [
    "model_m.predict(train_X[:10])"
   ]
  },
  {
   "cell_type": "code",
   "execution_count": 7,
   "metadata": {
    "collapsed": true
   },
   "outputs": [
    {
     "data": {
      "text/plain": [
       "array([[[0.12009377],\n",
       "        [0.19001882],\n",
       "        [0.25994387],\n",
       "        [0.32986892]],\n",
       "\n",
       "       [[0.43012772],\n",
       "        [0.51582197],\n",
       "        [0.60151622],\n",
       "        [0.68721048]],\n",
       "\n",
       "       [[0.82844169],\n",
       "        [0.87551171],\n",
       "        [0.92258172],\n",
       "        [0.96965174]],\n",
       "\n",
       "       [[0.34745762],\n",
       "        [0.42674826],\n",
       "        [0.50603891],\n",
       "        [0.58532955]],\n",
       "\n",
       "       [[0.96469246],\n",
       "        [0.97366296],\n",
       "        [0.98263347],\n",
       "        [0.99160398]],\n",
       "\n",
       "       [[0.53348851],\n",
       "        [0.57410824],\n",
       "        [0.61472797],\n",
       "        [0.6553477 ]],\n",
       "\n",
       "       [[0.21052448],\n",
       "        [0.28119206],\n",
       "        [0.35185965],\n",
       "        [0.42252723]],\n",
       "\n",
       "       [[0.87044603],\n",
       "        [0.9035191 ],\n",
       "        [0.93659217],\n",
       "        [0.96966524]],\n",
       "\n",
       "       [[0.70945743],\n",
       "        [0.78681165],\n",
       "        [0.86416588],\n",
       "        [0.9415201 ]],\n",
       "\n",
       "       [[0.1746778 ],\n",
       "        [0.2091779 ],\n",
       "        [0.24367801],\n",
       "        [0.27817812]]])"
      ]
     },
     "execution_count": 7,
     "metadata": {},
     "output_type": "execute_result"
    }
   ],
   "source": [
    "train_X[:10]"
   ]
  },
  {
   "cell_type": "markdown",
   "metadata": {},
   "source": [
    "# 2D"
   ]
  },
  {
   "cell_type": "code",
   "execution_count": 9,
   "metadata": {},
   "outputs": [
    {
     "name": "stdout",
     "output_type": "stream",
     "text": [
      "__________________________________________________________________________________________________\n",
      "Layer (type)                    Output Shape         Param #     Connected to                     \n",
      "==================================================================================================\n",
      "input_1 (InputLayer)            (None, 4, 2)         0                                            \n",
      "__________________________________________________________________________________________________\n",
      "lambda_3 (Lambda)               (None, 4, 1)         0           input_1[0][0]                    \n",
      "__________________________________________________________________________________________________\n",
      "lambda_4 (Lambda)               (None, 4, 1)         0           input_1[0][0]                    \n",
      "__________________________________________________________________________________________________\n",
      "reshape_1 (Reshape)             (None, 4, 1)         0           lambda_3[0][0]                   \n",
      "__________________________________________________________________________________________________\n",
      "reshape_2 (Reshape)             (None, 4, 1)         0           lambda_4[0][0]                   \n",
      "__________________________________________________________________________________________________\n",
      "model_1 (Model)                 (None, 2)            372         reshape_1[0][0]                  \n",
      "                                                                 reshape_2[0][0]                  \n",
      "__________________________________________________________________________________________________\n",
      "concatenate_1 (Concatenate)     (None, 4)            0           model_1[1][0]                    \n",
      "                                                                 model_1[2][0]                    \n",
      "==================================================================================================\n",
      "Total params: 372\n",
      "Trainable params: 372\n",
      "Non-trainable params: 0\n",
      "__________________________________________________________________________________________________\n"
     ]
    }
   ],
   "source": [
    "inputs = Input(shape=(4,2))\n",
    "\n",
    "split_x = Lambda(lambda s: s[:,:,0], output_shape=(4,1))(inputs)\n",
    "split_x = Reshape((4,1))(split_x) #split_x.shape gives (None, 4) otherwise\n",
    "model_x = model_m(split_x)\n",
    "\n",
    "split_y = Lambda(lambda s: s[:,:,1], output_shape=(4,1))(inputs)\n",
    "split_y = Reshape((4,1))(split_y)\n",
    "model_y = model_m(split_y)\n",
    "\n",
    "x = Concatenate()([model_x, model_y])\n",
    "\n",
    "model_2d = Model(inputs=inputs, outputs=x)\n",
    "model_2d.compile(loss=mean_squared_error,\n",
    "              optimizer='adam',\n",
    "              metrics=['accuracy'])\n",
    "model_2d.summary()"
   ]
  },
  {
   "cell_type": "code",
   "execution_count": 10,
   "metadata": {},
   "outputs": [
    {
     "data": {
      "text/html": [
       "<div>\n",
       "<style scoped>\n",
       "    .dataframe tbody tr th:only-of-type {\n",
       "        vertical-align: middle;\n",
       "    }\n",
       "\n",
       "    .dataframe tbody tr th {\n",
       "        vertical-align: top;\n",
       "    }\n",
       "\n",
       "    .dataframe thead th {\n",
       "        text-align: right;\n",
       "    }\n",
       "</style>\n",
       "<table border=\"1\" class=\"dataframe\">\n",
       "  <thead>\n",
       "    <tr style=\"text-align: right;\">\n",
       "      <th></th>\n",
       "      <th>x</th>\n",
       "      <th>x_vel</th>\n",
       "      <th>y</th>\n",
       "      <th>y_vel</th>\n",
       "    </tr>\n",
       "  </thead>\n",
       "  <tbody>\n",
       "    <tr>\n",
       "      <th>10</th>\n",
       "      <td>0.828442</td>\n",
       "      <td>0.047070</td>\n",
       "      <td>0.923224</td>\n",
       "      <td>-0.099696</td>\n",
       "    </tr>\n",
       "    <tr>\n",
       "      <th>11</th>\n",
       "      <td>0.875512</td>\n",
       "      <td>0.047070</td>\n",
       "      <td>0.823528</td>\n",
       "      <td>-0.099696</td>\n",
       "    </tr>\n",
       "    <tr>\n",
       "      <th>12</th>\n",
       "      <td>0.922582</td>\n",
       "      <td>0.047070</td>\n",
       "      <td>0.723832</td>\n",
       "      <td>-0.099696</td>\n",
       "    </tr>\n",
       "    <tr>\n",
       "      <th>13</th>\n",
       "      <td>0.969652</td>\n",
       "      <td>0.047070</td>\n",
       "      <td>0.624137</td>\n",
       "      <td>-0.099696</td>\n",
       "    </tr>\n",
       "    <tr>\n",
       "      <th>14</th>\n",
       "      <td>0.983278</td>\n",
       "      <td>-0.047070</td>\n",
       "      <td>0.524441</td>\n",
       "      <td>-0.099696</td>\n",
       "    </tr>\n",
       "    <tr>\n",
       "      <th>15</th>\n",
       "      <td>0.347458</td>\n",
       "      <td>0.079291</td>\n",
       "      <td>0.323473</td>\n",
       "      <td>-0.095410</td>\n",
       "    </tr>\n",
       "    <tr>\n",
       "      <th>16</th>\n",
       "      <td>0.426748</td>\n",
       "      <td>0.079291</td>\n",
       "      <td>0.228063</td>\n",
       "      <td>-0.095410</td>\n",
       "    </tr>\n",
       "    <tr>\n",
       "      <th>17</th>\n",
       "      <td>0.506039</td>\n",
       "      <td>0.079291</td>\n",
       "      <td>0.132653</td>\n",
       "      <td>-0.095410</td>\n",
       "    </tr>\n",
       "    <tr>\n",
       "      <th>18</th>\n",
       "      <td>0.585330</td>\n",
       "      <td>0.079291</td>\n",
       "      <td>0.037243</td>\n",
       "      <td>-0.095410</td>\n",
       "    </tr>\n",
       "    <tr>\n",
       "      <th>19</th>\n",
       "      <td>0.664620</td>\n",
       "      <td>0.079291</td>\n",
       "      <td>0.058167</td>\n",
       "      <td>0.095410</td>\n",
       "    </tr>\n",
       "    <tr>\n",
       "      <th>20</th>\n",
       "      <td>0.964692</td>\n",
       "      <td>0.008971</td>\n",
       "      <td>1.192036</td>\n",
       "      <td>-0.082987</td>\n",
       "    </tr>\n",
       "  </tbody>\n",
       "</table>\n",
       "</div>"
      ],
      "text/plain": [
       "           x     x_vel         y     y_vel\n",
       "10  0.828442  0.047070  0.923224 -0.099696\n",
       "11  0.875512  0.047070  0.823528 -0.099696\n",
       "12  0.922582  0.047070  0.723832 -0.099696\n",
       "13  0.969652  0.047070  0.624137 -0.099696\n",
       "14  0.983278 -0.047070  0.524441 -0.099696\n",
       "15  0.347458  0.079291  0.323473 -0.095410\n",
       "16  0.426748  0.079291  0.228063 -0.095410\n",
       "17  0.506039  0.079291  0.132653 -0.095410\n",
       "18  0.585330  0.079291  0.037243 -0.095410\n",
       "19  0.664620  0.079291  0.058167  0.095410\n",
       "20  0.964692  0.008971  1.192036 -0.082987"
      ]
     },
     "execution_count": 10,
     "metadata": {},
     "output_type": "execute_result"
    }
   ],
   "source": [
    "df[10:21]"
   ]
  },
  {
   "cell_type": "code",
   "execution_count": 11,
   "metadata": {},
   "outputs": [],
   "source": [
    "a = df.to_numpy()\n",
    "a = a.reshape((1000,5,4))\n",
    "X = a[:,:4,[0,2]].reshape(1000,4,2) #np.delete(a, [1,3], axis=2)[:,:10,:]\n",
    "Y = a[:,4,:] #.reshape(10000,5,2)\n",
    "train_X = X[:800]\n",
    "train_Y = Y[:800]\n",
    "test_X = X[800:]\n",
    "test_Y = Y[800:]"
   ]
  },
  {
   "cell_type": "code",
   "execution_count": 14,
   "metadata": {},
   "outputs": [],
   "source": [
    "#train_Y[:10]\n",
    "#model_2d.predict(train_X[:10])"
   ]
  },
  {
   "cell_type": "code",
   "execution_count": 16,
   "metadata": {},
   "outputs": [
    {
     "data": {
      "text/plain": [
       "0.011403475536224273"
      ]
     },
     "execution_count": 16,
     "metadata": {},
     "output_type": "execute_result"
    }
   ],
   "source": [
    "mixdf = pd.concat([df, df2[:5000]])\n",
    "mix = mixdf.to_numpy()\n",
    "mix = mix.reshape(2000,5,4)\n",
    "np.random.shuffle(mix)\n",
    "mix_train_x = mix[:1800,:4,0].reshape(1800,4,1)\n",
    "mix_train_y = mix[:1800,4,:2]\n",
    "mix_test_x = mix[1800:,:4,0].reshape(200,4,1)\n",
    "mix_test_y = mix[1800:,4,:2]\n",
    "mse(mix_test_y, model_m.predict(mix_test_x))**0.5 # My model"
   ]
  },
  {
   "cell_type": "code",
   "execution_count": null,
   "metadata": {},
   "outputs": [],
   "source": []
  }
 ],
 "metadata": {
  "kernelspec": {
   "display_name": "Python 3",
   "language": "python",
   "name": "python3"
  },
  "language_info": {
   "codemirror_mode": {
    "name": "ipython",
    "version": 3
   },
   "file_extension": ".py",
   "mimetype": "text/x-python",
   "name": "python",
   "nbconvert_exporter": "python",
   "pygments_lexer": "ipython3",
   "version": "3.6.8"
  }
 },
 "nbformat": 4,
 "nbformat_minor": 2
}
