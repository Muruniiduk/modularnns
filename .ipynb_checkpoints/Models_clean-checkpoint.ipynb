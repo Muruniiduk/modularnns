{
 "cells": [
  {
   "cell_type": "code",
   "execution_count": 399,
   "metadata": {},
   "outputs": [],
   "source": [
    "import pandas as pd\n",
    "import numpy as np\n",
    "from keras.layers import Input, Dense, LSTM, RepeatVector, TimeDistributed, RNN, Lambda, Concatenate\n",
    "from keras.layers.merge import Multiply\n",
    "from keras.models import Model\n",
    "from keras.losses import mean_squared_error, binary_crossentropy\n",
    "from keras.models import Model\n",
    "import keras.backend as K\n",
    "# from keras.losses import mean_squared_error\n",
    "def rmse(actual, preds):\n",
    "    return np.sqrt(np.mean((actual - preds)**2))"
   ]
  },
  {
   "cell_type": "markdown",
   "metadata": {},
   "source": [
    "# Right now make as many assumptions as possible\n",
    "\n",
    "It's better to ask it\n",
    "- derive speeds\n",
    "- separate x and y. mby use same module for both?\n",
    "- learn bounces separately\n",
    "     - is LSTM much better if there is only 1 frame after the bounce vs 0?"
   ]
  },
  {
   "cell_type": "code",
   "execution_count": 304,
   "metadata": {},
   "outputs": [
    {
     "name": "stdout",
     "output_type": "stream",
     "text": [
      "_________________________________________________________________\n",
      "Layer (type)                 Output Shape              Param #   \n",
      "=================================================================\n",
      "input_18 (InputLayer)        (None, 4, 1)              0         \n",
      "_________________________________________________________________\n",
      "lstm_10 (LSTM)               (None, 4)                 96        \n",
      "_________________________________________________________________\n",
      "dense_16 (Dense)             (None, 2)                 10        \n",
      "=================================================================\n",
      "Total params: 106\n",
      "Trainable params: 106\n",
      "Non-trainable params: 0\n",
      "_________________________________________________________________\n"
     ]
    }
   ],
   "source": [
    "## Straight movement, derive speed\n",
    "\n",
    "from keras.layers import Input, Dense, LSTM, RepeatVector, TimeDistributed, RNN, Lambda\n",
    "\n",
    "# This returns a tensor\n",
    "inputs = Input(shape=(4,1,))\n",
    "# inputs = Input(shape=(10,1))\n",
    "\n",
    "# a layer instance is callable on a tensor, and returns a tensor\n",
    "x = LSTM(4, return_sequences=False)(inputs)\n",
    "x = Dense(2)(x)\n",
    "\n",
    "predictions = x#Dense(2, input_shape=(4,1))(x)\n",
    "\n",
    "# This creates a model that includes\n",
    "# the Input layer and three Dense layers\n",
    "model_ws = Model(inputs=inputs, outputs=predictions)\n",
    "model_ws.compile(loss=mean_squared_error,\n",
    "              optimizer='adam',\n",
    "              metrics=['accuracy'])\n",
    "model_ws.summary()"
   ]
  },
  {
   "cell_type": "code",
   "execution_count": 305,
   "metadata": {},
   "outputs": [
    {
     "data": {
      "text/plain": [
       "<keras.callbacks.History at 0x7f23931ca240>"
      ]
     },
     "execution_count": 305,
     "metadata": {},
     "output_type": "execute_result"
    }
   ],
   "source": [
    "df = pd.read_csv('sim_data2.csv')\n",
    "# x, x_vel, y, y_vel\n",
    "a = df.to_numpy()\n",
    "a = a.reshape((20000,5,4)) #samples x timesteps x features\n",
    "X = a[:,:4,0].reshape(20000,4,1) #np.delete(a, [1,3], axis=2)[:,:10,:]\n",
    "Y = a[:,4,:2] #.reshape(10000,5,2)\n",
    "\n",
    "train_X = X[:8000]\n",
    "train_Y = Y[:8000]\n",
    "\n",
    "# test_X = X[8000:]\n",
    "# test_Y = Y[8000:]\n",
    "model_ws.fit(train_X, train_Y, epochs=450, verbose=False) #200 seems reasonable"
   ]
  },
  {
   "cell_type": "code",
   "execution_count": 314,
   "metadata": {},
   "outputs": [
    {
     "data": {
      "text/plain": [
       "[<matplotlib.lines.Line2D at 0x7f2392694e10>]"
      ]
     },
     "execution_count": 314,
     "metadata": {},
     "output_type": "execute_result"
    },
    {
     "data": {
      "image/png": "[encoded data removed]",
      "text/plain": [
       "<Figure size 432x288 with 1 Axes>"
      ]
     },
     "metadata": {
      "needs_background": "light"
     },
     "output_type": "display_data"
    }
   ],
   "source": [
    "plt.plot(model_ws.history.history['loss'][40:])"
   ]
  },
  {
   "cell_type": "code",
   "execution_count": 308,
   "metadata": {},
   "outputs": [
    {
     "data": {
      "text/plain": [
       "0.00019567507866080576"
      ]
     },
     "execution_count": 308,
     "metadata": {},
     "output_type": "execute_result"
    }
   ],
   "source": [
    "test_X = X[8000:]\n",
    "test_Y = Y[8000:]\n",
    "rmse(test_Y, model_ws.predict(test_X))"
   ]
  },
  {
   "cell_type": "code",
   "execution_count": 309,
   "metadata": {},
   "outputs": [
    {
     "data": {
      "text/plain": [
       "0.00019862170377618198"
      ]
     },
     "execution_count": 309,
     "metadata": {},
     "output_type": "execute_result"
    }
   ],
   "source": [
    "rmse(train_Y, model_ws.predict(train_X))"
   ]
  },
  {
   "cell_type": "code",
   "execution_count": 310,
   "metadata": {},
   "outputs": [
    {
     "data": {
      "text/plain": [
       "array([[0.5640359 , 0.02087056]], dtype=float32)"
      ]
     },
     "execution_count": 310,
     "metadata": {},
     "output_type": "execute_result"
    }
   ],
   "source": [
    "model_ws.predict(train_X[[100]])"
   ]
  },
  {
   "cell_type": "code",
   "execution_count": 311,
   "metadata": {},
   "outputs": [
    {
     "data": {
      "text/plain": [
       "array([[0.48099345, 0.02076668],\n",
       "       [0.50176013, 0.02076668],\n",
       "       [0.52252681, 0.02076668],\n",
       "       [0.54329348, 0.02076668],\n",
       "       [0.56406016, 0.02076668]])"
      ]
     },
     "execution_count": 311,
     "metadata": {},
     "output_type": "execute_result"
    }
   ],
   "source": [
    "a[100,:5,:2]"
   ]
  },
  {
   "cell_type": "code",
   "execution_count": 9,
   "metadata": {},
   "outputs": [],
   "source": [
    "# model_json = model_ws.to_json()\n",
    "# with open(\"sim_e500_8000x5.json\", \"w\") as json_file:\n",
    "#     json_file.write(model_json)\n",
    "# # serialize weights to HDF5\n",
    "# model_ws.save_weights(\"model_sim_e500_8000x5.h5\")\n",
    "# print(\"Saved model to disk\")"
   ]
  },
  {
   "cell_type": "markdown",
   "metadata": {},
   "source": [
    "# Bounces"
   ]
  },
  {
   "cell_type": "code",
   "execution_count": 348,
   "metadata": {},
   "outputs": [
    {
     "name": "stdout",
     "output_type": "stream",
     "text": [
      "_________________________________________________________________\n",
      "Layer (type)                 Output Shape              Param #   \n",
      "=================================================================\n",
      "input_23 (InputLayer)        (None, 2)                 0         \n",
      "_________________________________________________________________\n",
      "dense_26 (Dense)             (None, 2)                 6         \n",
      "_________________________________________________________________\n",
      "dense_27 (Dense)             (None, 2)                 6         \n",
      "_________________________________________________________________\n",
      "dense_28 (Dense)             (None, 2)                 6         \n",
      "=================================================================\n",
      "Total params: 18\n",
      "Trainable params: 18\n",
      "Non-trainable params: 0\n",
      "_________________________________________________________________\n"
     ]
    }
   ],
   "source": [
    "inputs = Input(shape=(2,))\n",
    "\n",
    "x = Dense(2)(inputs)\n",
    "x = Dense(2)(x)\n",
    "x = Dense(2)(x)\n",
    "predictions = x#Dense(4, input_shape=(4,1))(x)\n",
    "\n",
    "# This creates a model that includes\n",
    "# the Input layer and three Dense layers\n",
    "model_b = Model(inputs=inputs, outputs=predictions)\n",
    "model_b.compile(loss=mean_squared_error,\n",
    "              optimizer='adam',\n",
    "              metrics=['accuracy'])\n",
    "model_b.summary()"
   ]
  },
  {
   "cell_type": "code",
   "execution_count": 349,
   "metadata": {},
   "outputs": [
    {
     "data": {
      "text/plain": [
       "<keras.callbacks.History at 0x7f23916e91d0>"
      ]
     },
     "execution_count": 349,
     "metadata": {},
     "output_type": "execute_result"
    }
   ],
   "source": [
    "df = pd.read_csv('bounces_mirror.csv')\n",
    "a = df.to_numpy()\n",
    "a = a.reshape((2000,2,4)) #samples x timesteps x features\n",
    "a = a[:,:,:2]\n",
    "train_X = a[:1000,0,:]\n",
    "test_X = a[1000:,0,:]\n",
    "train_Y = a[:1000,1,:]\n",
    "test_Y = a[1000:,1,:]\n",
    "model_b.fit(train_X, train_Y, epochs=600, verbose=False)"
   ]
  },
  {
   "cell_type": "code",
   "execution_count": 350,
   "metadata": {},
   "outputs": [
    {
     "name": "stdout",
     "output_type": "stream",
     "text": [
      "0.02435623918257809\n",
      "0.023659193160530022\n"
     ]
    }
   ],
   "source": [
    "print(rmse(test_Y, model_b.predict(test_X)))\n",
    "print(rmse(train_Y, model_b.predict(train_X)))"
   ]
  },
  {
   "cell_type": "code",
   "execution_count": 356,
   "metadata": {},
   "outputs": [
    {
     "data": {
      "image/png": "[encoded data removed]",
      "text/plain": [
       "<Figure size 432x288 with 1 Axes>"
      ]
     },
     "metadata": {
      "needs_background": "light"
     },
     "output_type": "display_data"
    }
   ],
   "source": [
    "import matplotlib.pyplot as plt\n",
    "plt.plot(model_b.history.history['loss'][350:])\n",
    "plt.show()"
   ]
  },
  {
   "cell_type": "code",
   "execution_count": 352,
   "metadata": {},
   "outputs": [
    {
     "data": {
      "text/plain": [
       "array([[ 1.01761471,  0.01800941],\n",
       "       [-0.00155635, -0.0062235 ]])"
      ]
     },
     "execution_count": 352,
     "metadata": {},
     "output_type": "execute_result"
    }
   ],
   "source": [
    "train_X[[0,1]]"
   ]
  },
  {
   "cell_type": "code",
   "execution_count": 353,
   "metadata": {},
   "outputs": [
    {
     "data": {
      "text/plain": [
       "array([[ 1.0003295 , -0.01775666],\n",
       "       [ 0.01298052,  0.00633591]], dtype=float32)"
      ]
     },
     "execution_count": 353,
     "metadata": {},
     "output_type": "execute_result"
    }
   ],
   "source": [
    "model_b.predict(train_X[[0,1]])"
   ]
  },
  {
   "cell_type": "code",
   "execution_count": 21,
   "metadata": {},
   "outputs": [
    {
     "name": "stdout",
     "output_type": "stream",
     "text": [
      "Saved model to disk\n"
     ]
    }
   ],
   "source": [
    "model_json = model_b.to_json()\n",
    "with open(\"sim_e1500_b.json\", \"w\") as json_file:\n",
    "    json_file.write(model_json)\n",
    "# serialize weights to HDF5\n",
    "model_b.save_weights(\"model_e1500_b.h5\")\n",
    "print(\"Saved model to disk\")"
   ]
  },
  {
   "cell_type": "markdown",
   "metadata": {},
   "source": [
    "### Attention"
   ]
  },
  {
   "cell_type": "code",
   "execution_count": 417,
   "metadata": {},
   "outputs": [
    {
     "name": "stdout",
     "output_type": "stream",
     "text": [
      "_________________________________________________________________\n",
      "Layer (type)                 Output Shape              Param #   \n",
      "=================================================================\n",
      "input_40 (InputLayer)        (None, 2)                 0         \n",
      "_________________________________________________________________\n",
      "dense_60 (Dense)             (None, 4)                 12        \n",
      "_________________________________________________________________\n",
      "dense_61 (Dense)             (None, 2)                 10        \n",
      "=================================================================\n",
      "Total params: 22\n",
      "Trainable params: 22\n",
      "Non-trainable params: 0\n",
      "_________________________________________________________________\n"
     ]
    }
   ],
   "source": [
    "inputs = Input(shape=(2,))\n",
    "x = Dense(4)(inputs)\n",
    "x = Dense(2)(x)\n",
    "predictions = x\n",
    "\n",
    "model_att = Model(inputs=inputs, outputs=predictions)\n",
    "model_att.compile(loss=binary_crossentropy,\n",
    "              optimizer='adam',\n",
    "              metrics=['accuracy'])\n",
    "model_att.summary()"
   ]
  },
  {
   "cell_type": "code",
   "execution_count": 418,
   "metadata": {},
   "outputs": [
    {
     "data": {
      "text/html": [
       "<div>\n",
       "<style scoped>\n",
       "    .dataframe tbody tr th:only-of-type {\n",
       "        vertical-align: middle;\n",
       "    }\n",
       "\n",
       "    .dataframe tbody tr th {\n",
       "        vertical-align: top;\n",
       "    }\n",
       "\n",
       "    .dataframe thead th {\n",
       "        text-align: right;\n",
       "    }\n",
       "</style>\n",
       "<table border=\"1\" class=\"dataframe\">\n",
       "  <thead>\n",
       "    <tr style=\"text-align: right;\">\n",
       "      <th></th>\n",
       "      <th>x</th>\n",
       "      <th>x_vel</th>\n",
       "      <th>is_bounce</th>\n",
       "    </tr>\n",
       "  </thead>\n",
       "  <tbody>\n",
       "    <tr>\n",
       "      <th>0</th>\n",
       "      <td>0.003005</td>\n",
       "      <td>-0.047897</td>\n",
       "      <td>False</td>\n",
       "    </tr>\n",
       "    <tr>\n",
       "      <th>1</th>\n",
       "      <td>-0.034068</td>\n",
       "      <td>-0.057702</td>\n",
       "      <td>True</td>\n",
       "    </tr>\n",
       "    <tr>\n",
       "      <th>2</th>\n",
       "      <td>-0.004273</td>\n",
       "      <td>-0.043802</td>\n",
       "      <td>True</td>\n",
       "    </tr>\n",
       "    <tr>\n",
       "      <th>3</th>\n",
       "      <td>0.015567</td>\n",
       "      <td>-0.026639</td>\n",
       "      <td>False</td>\n",
       "    </tr>\n",
       "    <tr>\n",
       "      <th>4</th>\n",
       "      <td>0.024705</td>\n",
       "      <td>-0.026929</td>\n",
       "      <td>False</td>\n",
       "    </tr>\n",
       "  </tbody>\n",
       "</table>\n",
       "</div>"
      ],
      "text/plain": [
       "          x     x_vel  is_bounce\n",
       "0  0.003005 -0.047897      False\n",
       "1 -0.034068 -0.057702       True\n",
       "2 -0.004273 -0.043802       True\n",
       "3  0.015567 -0.026639      False\n",
       "4  0.024705 -0.026929      False"
      ]
     },
     "execution_count": 418,
     "metadata": {},
     "output_type": "execute_result"
    }
   ],
   "source": [
    "df.head()"
   ]
  },
  {
   "cell_type": "code",
   "execution_count": 424,
   "metadata": {},
   "outputs": [
    {
     "data": {
      "text/plain": [
       "array([-0.03406771951469854, -0.05770229052914728, True], dtype=object)"
      ]
     },
     "execution_count": 424,
     "metadata": {},
     "output_type": "execute_result"
    }
   ],
   "source": [
    "a[1]"
   ]
  },
  {
   "cell_type": "code",
   "execution_count": 431,
   "metadata": {},
   "outputs": [
    {
     "data": {
      "text/plain": [
       "array([0, 1, 1, ..., 0, 1, 0])"
      ]
     },
     "execution_count": 431,
     "metadata": {},
     "output_type": "execute_result"
    }
   ],
   "source": [
    "train_Y.astype(int)"
   ]
  },
  {
   "cell_type": "code",
   "execution_count": 439,
   "metadata": {},
   "outputs": [
    {
     "data": {
      "text/plain": [
       "array([[1, 0],\n",
       "       [0, 1],\n",
       "       [0, 1],\n",
       "       ...,\n",
       "       [1, 0],\n",
       "       [0, 1],\n",
       "       [1, 0]], dtype=object)"
      ]
     },
     "execution_count": 439,
     "metadata": {},
     "output_type": "execute_result"
    }
   ],
   "source": [
    "t = np.zeros_like(train_X)\n",
    "i = np.arange(train_X.shape[0])\n",
    "t[i, train_Y.astype(int)] = 1\n",
    "t"
   ]
  },
  {
   "cell_type": "code",
   "execution_count": 440,
   "metadata": {
    "scrolled": true
   },
   "outputs": [
    {
     "name": "stdout",
     "output_type": "stream",
     "text": [
      "Epoch 1/100\n",
      "1500/1500 [==============================] - 1s 959us/step - loss: 5.8413 - acc: 0.5000\n",
      "Epoch 2/100\n",
      "1500/1500 [==============================] - 0s 49us/step - loss: 5.0289 - acc: 0.5000\n",
      "Epoch 3/100\n",
      "1500/1500 [==============================] - 0s 51us/step - loss: 4.6335 - acc: 0.5000\n",
      "Epoch 4/100\n",
      "1500/1500 [==============================] - 0s 50us/step - loss: 4.5703 - acc: 0.5000\n",
      "Epoch 5/100\n",
      "1500/1500 [==============================] - 0s 49us/step - loss: 4.5466 - acc: 0.5000\n",
      "Epoch 6/100\n",
      "1500/1500 [==============================] - 0s 50us/step - loss: 4.5273 - acc: 0.5000\n",
      "Epoch 7/100\n",
      "1500/1500 [==============================] - 0s 52us/step - loss: 4.5111 - acc: 0.5000\n",
      "Epoch 8/100\n",
      "1500/1500 [==============================] - 0s 48us/step - loss: 4.4974 - acc: 0.5000\n",
      "Epoch 9/100\n",
      "1500/1500 [==============================] - 0s 50us/step - loss: 4.4856 - acc: 0.5000\n",
      "Epoch 10/100\n",
      "1500/1500 [==============================] - 0s 49us/step - loss: 4.4753 - acc: 0.5000\n",
      "Epoch 11/100\n",
      "1500/1500 [==============================] - 0s 49us/step - loss: 4.4662 - acc: 0.5000\n",
      "Epoch 12/100\n",
      "1500/1500 [==============================] - 0s 49us/step - loss: 4.4581 - acc: 0.5000\n",
      "Epoch 13/100\n",
      "1500/1500 [==============================] - 0s 49us/step - loss: 4.4508 - acc: 0.5037\n",
      "Epoch 14/100\n",
      "1500/1500 [==============================] - 0s 48us/step - loss: 4.4442 - acc: 0.5177\n",
      "Epoch 15/100\n",
      "1500/1500 [==============================] - 0s 49us/step - loss: 4.4382 - acc: 0.5283\n",
      "Epoch 16/100\n",
      "1500/1500 [==============================] - 0s 51us/step - loss: 4.4327 - acc: 0.5347\n",
      "Epoch 17/100\n",
      "1500/1500 [==============================] - 0s 56us/step - loss: 4.4276 - acc: 0.5307\n",
      "Epoch 18/100\n",
      "1500/1500 [==============================] - 0s 54us/step - loss: 4.4228 - acc: 0.5287\n",
      "Epoch 19/100\n",
      "1500/1500 [==============================] - 0s 53us/step - loss: 4.4182 - acc: 0.5257\n",
      "Epoch 20/100\n",
      "1500/1500 [==============================] - 0s 52us/step - loss: 4.4140 - acc: 0.5267\n",
      "Epoch 21/100\n",
      "1500/1500 [==============================] - 0s 49us/step - loss: 4.4100 - acc: 0.5243\n",
      "Epoch 22/100\n",
      "1500/1500 [==============================] - 0s 48us/step - loss: 4.4061 - acc: 0.5237\n",
      "Epoch 23/100\n",
      "1500/1500 [==============================] - 0s 53us/step - loss: 4.4025 - acc: 0.5207\n",
      "Epoch 24/100\n",
      "1500/1500 [==============================] - 0s 52us/step - loss: 4.3990 - acc: 0.5197\n",
      "Epoch 25/100\n",
      "1500/1500 [==============================] - 0s 48us/step - loss: 4.3956 - acc: 0.5213\n",
      "Epoch 26/100\n",
      "1500/1500 [==============================] - 0s 50us/step - loss: 4.3924 - acc: 0.5190\n",
      "Epoch 27/100\n",
      "1500/1500 [==============================] - 0s 48us/step - loss: 4.3894 - acc: 0.5170\n",
      "Epoch 28/100\n",
      "1500/1500 [==============================] - 0s 49us/step - loss: 4.3864 - acc: 0.5173\n",
      "Epoch 29/100\n",
      "1500/1500 [==============================] - 0s 49us/step - loss: 4.3836 - acc: 0.5157\n",
      "Epoch 30/100\n",
      "1500/1500 [==============================] - 0s 50us/step - loss: 4.3809 - acc: 0.5163\n",
      "Epoch 31/100\n",
      "1500/1500 [==============================] - 0s 50us/step - loss: 4.3783 - acc: 0.5170\n",
      "Epoch 32/100\n",
      "1500/1500 [==============================] - 0s 53us/step - loss: 4.3758 - acc: 0.5137\n",
      "Epoch 33/100\n",
      "1500/1500 [==============================] - 0s 50us/step - loss: 4.3734 - acc: 0.5137\n",
      "Epoch 34/100\n",
      "1500/1500 [==============================] - 0s 51us/step - loss: 4.3711 - acc: 0.5147\n",
      "Epoch 35/100\n",
      "1500/1500 [==============================] - 0s 51us/step - loss: 4.3690 - acc: 0.5150\n",
      "Epoch 36/100\n",
      "1500/1500 [==============================] - 0s 51us/step - loss: 4.3667 - acc: 0.5127\n",
      "Epoch 37/100\n",
      "1500/1500 [==============================] - 0s 50us/step - loss: 4.3647 - acc: 0.5113\n",
      "Epoch 38/100\n",
      "1500/1500 [==============================] - 0s 49us/step - loss: 4.3628 - acc: 0.5140\n",
      "Epoch 39/100\n",
      "1500/1500 [==============================] - 0s 51us/step - loss: 4.3609 - acc: 0.5127\n",
      "Epoch 40/100\n",
      "1500/1500 [==============================] - 0s 53us/step - loss: 4.3591 - acc: 0.5110\n",
      "Epoch 41/100\n",
      "1500/1500 [==============================] - 0s 54us/step - loss: 4.3574 - acc: 0.5113\n",
      "Epoch 42/100\n",
      "1500/1500 [==============================] - 0s 54us/step - loss: 4.3558 - acc: 0.5093\n",
      "Epoch 43/100\n",
      "1500/1500 [==============================] - 0s 50us/step - loss: 4.3542 - acc: 0.5110\n",
      "Epoch 44/100\n",
      "1500/1500 [==============================] - 0s 49us/step - loss: 4.3528 - acc: 0.5110\n",
      "Epoch 45/100\n",
      "1500/1500 [==============================] - 0s 49us/step - loss: 4.3514 - acc: 0.5083\n",
      "Epoch 46/100\n",
      "1500/1500 [==============================] - 0s 49us/step - loss: 4.3500 - acc: 0.5093\n",
      "Epoch 47/100\n",
      "1500/1500 [==============================] - 0s 54us/step - loss: 4.3488 - acc: 0.5093\n",
      "Epoch 48/100\n",
      "1500/1500 [==============================] - 0s 49us/step - loss: 4.3475 - acc: 0.5067\n",
      "Epoch 49/100\n",
      "1500/1500 [==============================] - 0s 49us/step - loss: 4.3464 - acc: 0.5080\n",
      "Epoch 50/100\n",
      "1500/1500 [==============================] - 0s 47us/step - loss: 4.3454 - acc: 0.5077\n",
      "Epoch 51/100\n",
      "1500/1500 [==============================] - 0s 48us/step - loss: 4.3444 - acc: 0.5047\n",
      "Epoch 52/100\n",
      "1500/1500 [==============================] - 0s 47us/step - loss: 4.3434 - acc: 0.5077\n",
      "Epoch 53/100\n",
      "1500/1500 [==============================] - 0s 52us/step - loss: 4.3427 - acc: 0.5040\n",
      "Epoch 54/100\n",
      "1500/1500 [==============================] - 0s 54us/step - loss: 4.3418 - acc: 0.5050\n",
      "Epoch 55/100\n",
      "1500/1500 [==============================] - 0s 50us/step - loss: 4.3410 - acc: 0.5043\n",
      "Epoch 56/100\n",
      "1500/1500 [==============================] - 0s 49us/step - loss: 4.3403 - acc: 0.5053\n",
      "Epoch 57/100\n",
      "1500/1500 [==============================] - 0s 51us/step - loss: 4.3397 - acc: 0.5030\n",
      "Epoch 58/100\n",
      "1500/1500 [==============================] - 0s 54us/step - loss: 4.3390 - acc: 0.5053\n",
      "Epoch 59/100\n",
      "1500/1500 [==============================] - 0s 59us/step - loss: 4.3385 - acc: 0.5010\n",
      "Epoch 60/100\n",
      "1500/1500 [==============================] - 0s 55us/step - loss: 4.3380 - acc: 0.5020\n",
      "Epoch 61/100\n",
      "1500/1500 [==============================] - 0s 52us/step - loss: 4.3375 - acc: 0.5027\n",
      "Epoch 62/100\n",
      "1500/1500 [==============================] - 0s 53us/step - loss: 4.3372 - acc: 0.4973\n",
      "Epoch 63/100\n",
      "1500/1500 [==============================] - 0s 53us/step - loss: 4.3368 - acc: 0.4993\n",
      "Epoch 64/100\n",
      "1500/1500 [==============================] - 0s 51us/step - loss: 4.3363 - acc: 0.4993\n",
      "Epoch 65/100\n",
      "1500/1500 [==============================] - 0s 50us/step - loss: 4.3361 - acc: 0.4997\n",
      "Epoch 66/100\n",
      "1500/1500 [==============================] - 0s 52us/step - loss: 4.3358 - acc: 0.5013\n",
      "Epoch 67/100\n",
      "1500/1500 [==============================] - 0s 59us/step - loss: 4.3355 - acc: 0.5017\n",
      "Epoch 68/100\n",
      "1500/1500 [==============================] - 0s 54us/step - loss: 4.3354 - acc: 0.4983\n",
      "Epoch 69/100\n",
      "1500/1500 [==============================] - 0s 54us/step - loss: 4.3353 - acc: 0.4990\n",
      "Epoch 70/100\n",
      "1500/1500 [==============================] - 0s 59us/step - loss: 4.3351 - acc: 0.4963\n",
      "Epoch 71/100\n",
      "1500/1500 [==============================] - 0s 58us/step - loss: 4.3349 - acc: 0.4970\n",
      "Epoch 72/100\n",
      "1500/1500 [==============================] - 0s 52us/step - loss: 4.3347 - acc: 0.4983\n",
      "Epoch 73/100\n",
      "1500/1500 [==============================] - 0s 48us/step - loss: 4.3346 - acc: 0.4983\n",
      "Epoch 74/100\n",
      "1500/1500 [==============================] - 0s 48us/step - loss: 4.3345 - acc: 0.4950\n",
      "Epoch 75/100\n",
      "1500/1500 [==============================] - 0s 50us/step - loss: 4.3344 - acc: 0.5033\n",
      "Epoch 76/100\n",
      "1500/1500 [==============================] - 0s 48us/step - loss: 4.3343 - acc: 0.5003\n",
      "Epoch 77/100\n",
      "1500/1500 [==============================] - 0s 50us/step - loss: 4.3342 - acc: 0.4967\n",
      "Epoch 78/100\n",
      "1500/1500 [==============================] - 0s 53us/step - loss: 4.3342 - acc: 0.4990\n",
      "Epoch 79/100\n",
      "1500/1500 [==============================] - 0s 58us/step - loss: 4.3341 - acc: 0.4943\n",
      "Epoch 80/100\n",
      "1500/1500 [==============================] - 0s 57us/step - loss: 4.3341 - acc: 0.4973\n",
      "Epoch 81/100\n",
      "1500/1500 [==============================] - 0s 52us/step - loss: 4.3340 - acc: 0.4980\n",
      "Epoch 82/100\n",
      "1500/1500 [==============================] - 0s 48us/step - loss: 4.3340 - acc: 0.5013\n",
      "Epoch 83/100\n"
     ]
    },
    {
     "name": "stdout",
     "output_type": "stream",
     "text": [
      "1500/1500 [==============================] - 0s 51us/step - loss: 4.3340 - acc: 0.4970\n",
      "Epoch 84/100\n",
      "1500/1500 [==============================] - 0s 50us/step - loss: 4.3339 - acc: 0.4950\n",
      "Epoch 85/100\n",
      "1500/1500 [==============================] - 0s 50us/step - loss: 4.3340 - acc: 0.4990\n",
      "Epoch 86/100\n",
      "1500/1500 [==============================] - 0s 48us/step - loss: 4.3339 - acc: 0.5007\n",
      "Epoch 87/100\n",
      "1500/1500 [==============================] - 0s 49us/step - loss: 4.3339 - acc: 0.5003\n",
      "Epoch 88/100\n",
      "1500/1500 [==============================] - 0s 50us/step - loss: 4.3339 - acc: 0.5013\n",
      "Epoch 89/100\n",
      "1500/1500 [==============================] - 0s 50us/step - loss: 4.3339 - acc: 0.5000\n",
      "Epoch 90/100\n",
      "1500/1500 [==============================] - 0s 49us/step - loss: 4.3339 - acc: 0.5037\n",
      "Epoch 91/100\n",
      "1500/1500 [==============================] - 0s 52us/step - loss: 4.3338 - acc: 0.5030\n",
      "Epoch 92/100\n",
      "1500/1500 [==============================] - 0s 48us/step - loss: 4.3338 - acc: 0.5013\n",
      "Epoch 93/100\n",
      "1500/1500 [==============================] - 0s 51us/step - loss: 4.3338 - acc: 0.5050\n",
      "Epoch 94/100\n",
      "1500/1500 [==============================] - 0s 48us/step - loss: 4.3339 - acc: 0.5040\n",
      "Epoch 95/100\n",
      "1500/1500 [==============================] - 0s 48us/step - loss: 4.3342 - acc: 0.5057\n",
      "Epoch 96/100\n",
      "1500/1500 [==============================] - 0s 48us/step - loss: 4.3340 - acc: 0.5030\n",
      "Epoch 97/100\n",
      "1500/1500 [==============================] - 0s 49us/step - loss: 4.3339 - acc: 0.5043\n",
      "Epoch 98/100\n",
      "1500/1500 [==============================] - 0s 50us/step - loss: 4.3340 - acc: 0.5057\n",
      "Epoch 99/100\n",
      "1500/1500 [==============================] - 0s 49us/step - loss: 4.3338 - acc: 0.5077\n",
      "Epoch 100/100\n",
      "1500/1500 [==============================] - 0s 49us/step - loss: 4.3339 - acc: 0.5053\n"
     ]
    },
    {
     "data": {
      "text/plain": [
       "<keras.callbacks.History at 0x7f23ab0aa860>"
      ]
     },
     "execution_count": 440,
     "metadata": {},
     "output_type": "execute_result"
    }
   ],
   "source": [
    "df = pd.read_csv('bounces_att.csv')\n",
    "a = df.to_numpy()\n",
    "train_X = a[:1500,:2]\n",
    "test_X = a[1500:,:2]\n",
    "train_Y = t\n",
    "# train_Y = a[:1500,2]\n",
    "test_Y = a[1500:,2]\n",
    "# train_Y = (a[:1500,2] == False)\n",
    "# test_Y = (a[1500:,2] == False)\n",
    "model_att.fit(train_X, train_Y, epochs=100, verbose=True)"
   ]
  },
  {
   "cell_type": "code",
   "execution_count": 441,
   "metadata": {},
   "outputs": [
    {
     "name": "stdout",
     "output_type": "stream",
     "text": [
      "_________________________________________________________________\n",
      "Layer (type)                 Output Shape              Param #   \n",
      "=================================================================\n",
      "input_41 (InputLayer)        (None, 2)                 0         \n",
      "_________________________________________________________________\n",
      "model_57 (Model)             (None, 2)                 22        \n",
      "_________________________________________________________________\n",
      "lambda_24 (Lambda)           (None, 2)                 0         \n",
      "=================================================================\n",
      "Total params: 22\n",
      "Trainable params: 22\n",
      "Non-trainable params: 0\n",
      "_________________________________________________________________\n"
     ]
    }
   ],
   "source": [
    "inputs = Input(shape=(2,))\n",
    "\n",
    "x = model_att(inputs)\n",
    "x = Lambda(lambda s: K.round(s))(x)\n",
    "predictions = x\n",
    "model_lambda = Model(inputs=inputs, outputs=predictions)\n",
    "model_lambda.compile(loss=mean_squared_error,\n",
    "              optimizer='adam',\n",
    "              metrics=['acc'])\n",
    "model_lambda.summary()"
   ]
  },
  {
   "cell_type": "code",
   "execution_count": 442,
   "metadata": {},
   "outputs": [
    {
     "ename": "ValueError",
     "evalue": "cannot reshape array of size 3000 into shape (1500,)",
     "output_type": "error",
     "traceback": [
      "\u001b[0;31m---------------------------------------------------------------------------\u001b[0m",
      "\u001b[0;31mValueError\u001b[0m                                Traceback (most recent call last)",
      "\u001b[0;32m<ipython-input-442-dc959dc0e94e>\u001b[0m in \u001b[0;36m<module>\u001b[0;34m\u001b[0m\n\u001b[0;32m----> 1\u001b[0;31m \u001b[0mprint\u001b[0m\u001b[0;34m(\u001b[0m\u001b[0mnp\u001b[0m\u001b[0;34m.\u001b[0m\u001b[0mmean\u001b[0m\u001b[0;34m(\u001b[0m\u001b[0mmodel_lambda\u001b[0m\u001b[0;34m.\u001b[0m\u001b[0mpredict\u001b[0m\u001b[0;34m(\u001b[0m\u001b[0mtrain_X\u001b[0m\u001b[0;34m)\u001b[0m\u001b[0;34m.\u001b[0m\u001b[0mreshape\u001b[0m\u001b[0;34m(\u001b[0m\u001b[0mtrain_X\u001b[0m\u001b[0;34m.\u001b[0m\u001b[0mshape\u001b[0m\u001b[0;34m[\u001b[0m\u001b[0;36m0\u001b[0m\u001b[0;34m]\u001b[0m\u001b[0;34m)\u001b[0m \u001b[0;34m==\u001b[0m \u001b[0mtrain_Y\u001b[0m\u001b[0;34m)\u001b[0m\u001b[0;34m)\u001b[0m\u001b[0;34m\u001b[0m\u001b[0;34m\u001b[0m\u001b[0m\n\u001b[0m\u001b[1;32m      2\u001b[0m \u001b[0;31m# print(np.mean(model_lambda.predict(test_X).reshape(test_X.shape[0]) != test_Y))\u001b[0m\u001b[0;34m\u001b[0m\u001b[0;34m\u001b[0m\u001b[0;34m\u001b[0m\u001b[0m\n",
      "\u001b[0;31mValueError\u001b[0m: cannot reshape array of size 3000 into shape (1500,)"
     ]
    }
   ],
   "source": [
    "print(np.mean(model_lambda.predict(train_X).reshape(train_X.shape[0]) == train_Y))\n",
    "# print(np.mean(model_lambda.predict(test_X).reshape(test_X.shape[0]) != test_Y))"
   ]
  },
  {
   "cell_type": "code",
   "execution_count": 20,
   "metadata": {},
   "outputs": [
    {
     "name": "stdout",
     "output_type": "stream",
     "text": [
      "Saved model to disk\n"
     ]
    }
   ],
   "source": [
    "model_json = model_lambda.to_json()\n",
    "with open(\"sim_e1500_att.json\", \"w\") as json_file:\n",
    "    json_file.write(model_json)\n",
    "# serialize weights to HDF5\n",
    "model_lambda.save_weights(\"model_e1500_att.h5\")\n",
    "print(\"Saved model to disk\")"
   ]
  },
  {
   "cell_type": "code",
   "execution_count": 21,
   "metadata": {},
   "outputs": [
    {
     "data": {
      "text/plain": [
       "[<matplotlib.lines.Line2D at 0x7f72d07decc0>]"
      ]
     },
     "execution_count": 21,
     "metadata": {},
     "output_type": "execute_result"
    },
    {
     "data": {
      "image/png": "[encoded data removed]",
      "text/plain": [
       "<Figure size 432x288 with 1 Axes>"
      ]
     },
     "metadata": {
      "needs_background": "light"
     },
     "output_type": "display_data"
    }
   ],
   "source": [
    "plt.plot(model_att.history.history['acc'])"
   ]
  },
  {
   "cell_type": "markdown",
   "metadata": {},
   "source": [
    "## Bounce series"
   ]
  },
  {
   "cell_type": "code",
   "execution_count": 139,
   "metadata": {},
   "outputs": [],
   "source": [
    "df = pd.read_csv('bounces_x_1.csv')\n",
    "a = df.to_numpy()\n",
    "a = a.reshape((1000,5,4))\n",
    "\n",
    "X = a[:,:4,0].reshape(1000,4,1) #np.delete(a, [1,3], axis=2)[:,:10,:]\n",
    "Y = a[:,4,:2] #.reshape(10000,5,2)\n",
    "\n",
    "train_X = X[:800]\n",
    "train_Y = Y[:800]\n",
    "\n",
    "test_X = X[800:]\n",
    "test_Y = Y[800:]"
   ]
  },
  {
   "cell_type": "code",
   "execution_count": null,
   "metadata": {},
   "outputs": [],
   "source": [
    "K.concatenate(x)"
   ]
  },
  {
   "cell_type": "code",
   "execution_count": 280,
   "metadata": {
    "scrolled": false
   },
   "outputs": [
    {
     "name": "stdout",
     "output_type": "stream",
     "text": [
      "__________________________________________________________________________________________________\n",
      "Layer (type)                    Output Shape         Param #     Connected to                     \n",
      "==================================================================================================\n",
      "input_rec (InputLayer)          (None, 4, 1)         0                                            \n",
      "__________________________________________________________________________________________________\n",
      "model_19 (Model)                (None, 2)            106         input_rec[0][0]                  \n",
      "__________________________________________________________________________________________________\n",
      "model_5 (Model)                 (None, 1)            3           model_19[5][0]                   \n",
      "__________________________________________________________________________________________________\n",
      "model_4 (Model)                 (None, 2)            6           model_19[5][0]                   \n",
      "__________________________________________________________________________________________________\n",
      "lambda_19 (Lambda)              (None, 2)            0           model_5[16][0]                   \n",
      "                                                                 model_4[19][0]                   \n",
      "                                                                 model_19[5][0]                   \n",
      "==================================================================================================\n",
      "Total params: 115\n",
      "Trainable params: 115\n",
      "Non-trainable params: 0\n",
      "__________________________________________________________________________________________________\n"
     ]
    }
   ],
   "source": [
    "inputs_rec = Input(shape=(4,1), name='input_rec')\n",
    "rec = model_ws(inputs_rec)\n",
    "bnc = model_b(rec)\n",
    "att = model_att(rec)\n",
    "att2 = Lambda(lambda s: K.switch(K.greater_equal(s[0], 0.5), s[1], s[2]))([att, bnc, rec]) #~hard attention\n",
    "\n",
    "x = att2\n",
    "\n",
    "model_m = Model(inputs=inputs_rec, outputs=x)\n",
    "model_m.compile(loss=mean_squared_error,\n",
    "              optimizer='adam',\n",
    "              metrics=['accuracy'])\n",
    "model_m.summary()"
   ]
  },
  {
   "cell_type": "code",
   "execution_count": 281,
   "metadata": {},
   "outputs": [
    {
     "data": {
      "text/plain": [
       "array([[[0.90050525, 0.03311408],\n",
       "        [0.93361933, 0.03311408],\n",
       "        [0.96673341, 0.03311408],\n",
       "        [0.99984749, 0.03311408]],\n",
       "\n",
       "       [[0.96741627, 0.01082775],\n",
       "        [0.97824402, 0.01082775],\n",
       "        [0.98907176, 0.01082775],\n",
       "        [0.99989951, 0.01082775]]])"
      ]
     },
     "execution_count": 281,
     "metadata": {},
     "output_type": "execute_result"
    }
   ],
   "source": [
    "a[:2,:4,:2]"
   ]
  },
  {
   "cell_type": "code",
   "execution_count": 282,
   "metadata": {},
   "outputs": [
    {
     "data": {
      "text/plain": [
       "array([[ 0.9671812 , -0.03348778],\n",
       "       [ 0.98777086, -0.01078438]], dtype=float32)"
      ]
     },
     "execution_count": 282,
     "metadata": {},
     "output_type": "execute_result"
    }
   ],
   "source": [
    "model_m.predict(X[:2])"
   ]
  },
  {
   "cell_type": "code",
   "execution_count": 283,
   "metadata": {},
   "outputs": [],
   "source": [
    "df2 = pd.read_csv('sim_data_borders.csv')\n",
    "# x, x_vel, y, y_vel\n",
    "a2 = df2.to_numpy()\n",
    "a2 = a2.reshape((4000,5,4)) #samples x timesteps x features\n",
    "X2 = a2[:,:4,0].reshape(4000,4,1) #np.delete(a, [1,3], axis=2)[:,:10,:]\n",
    "Y2 = a2[:,4,:2] #.reshape(10000,5,2)\n",
    "\n",
    "train_X2 = X2[:8000]\n",
    "train_Y2 = Y2[:8000]"
   ]
  },
  {
   "cell_type": "code",
   "execution_count": 284,
   "metadata": {},
   "outputs": [
    {
     "data": {
      "text/plain": [
       "array([[[ 0.71763805, -0.02578439],\n",
       "        [ 0.69185366, -0.02578439],\n",
       "        [ 0.66606926, -0.02578439],\n",
       "        [ 0.64028487, -0.02578439]],\n",
       "\n",
       "       [[ 0.58871608, -0.02578439],\n",
       "        [ 0.56293168, -0.02578439],\n",
       "        [ 0.53714729, -0.02578439],\n",
       "        [ 0.5113629 , -0.02578439]],\n",
       "\n",
       "       [[ 0.45979411, -0.02578439],\n",
       "        [ 0.43400971, -0.02578439],\n",
       "        [ 0.40822532, -0.02578439],\n",
       "        [ 0.38244092, -0.02578439]],\n",
       "\n",
       "       [[ 0.33087214, -0.02578439],\n",
       "        [ 0.30508774, -0.02578439],\n",
       "        [ 0.27930335, -0.02578439],\n",
       "        [ 0.25351895, -0.02578439]],\n",
       "\n",
       "       [[ 0.16579863,  0.06713727],\n",
       "        [ 0.2329359 ,  0.06713727],\n",
       "        [ 0.30007317,  0.06713727],\n",
       "        [ 0.36721044,  0.06713727]]])"
      ]
     },
     "execution_count": 284,
     "metadata": {},
     "output_type": "execute_result"
    }
   ],
   "source": [
    "a2[:5,:4,:2]"
   ]
  }
 ],
 "metadata": {
  "kernelspec": {
   "display_name": "Python 3",
   "language": "python",
   "name": "python3"
  },
  "language_info": {
   "codemirror_mode": {
    "name": "ipython",
    "version": 3
   },
   "file_extension": ".py",
   "mimetype": "text/x-python",
   "name": "python",
   "nbconvert_exporter": "python",
   "pygments_lexer": "ipython3",
   "version": "3.6.8"
  }
 },
 "nbformat": 4,
 "nbformat_minor": 2
}
