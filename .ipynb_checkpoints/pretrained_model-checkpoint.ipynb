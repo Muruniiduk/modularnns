{
 "cells": [
  {
   "cell_type": "code",
   "execution_count": 1,
   "metadata": {},
   "outputs": [
    {
     "name": "stderr",
     "output_type": "stream",
     "text": [
      "Using TensorFlow backend.\n"
     ]
    }
   ],
   "source": [
    "import pandas as pd\n",
    "import numpy as np\n",
    "from keras.layers import Input, Dense, LSTM, RepeatVector, TimeDistributed, RNN, Lambda, Concatenate, Reshape, Add\n",
    "from keras.layers.merge import Multiply\n",
    "from keras.models import Model\n",
    "from keras.losses import mean_squared_error, binary_crossentropy\n",
    "from keras.models import Model\n",
    "from keras.models import load_model\n",
    "from keras.models import model_from_json\n",
    "import keras.backend as K\n",
    "import matplotlib.pyplot as plt\n",
    "from sklearn.metrics import mean_squared_error as mse\n",
    "def open_and_load(string):\n",
    "    with open('trained/'+string+'.json', 'r') as f:\n",
    "        model = model_from_json(f.read())\n",
    "    model.load_weights('trained/'+string+'.h5')   \n",
    "    return model"
   ]
  },
  {
   "cell_type": "code",
   "execution_count": 49,
   "metadata": {},
   "outputs": [
    {
     "name": "stdout",
     "output_type": "stream",
     "text": [
      "_________________________________________________________________\n",
      "Layer (type)                 Output Shape              Param #   \n",
      "=================================================================\n",
      "input_1 (InputLayer)         (None, 1)                 0         \n",
      "_________________________________________________________________\n",
      "dense_1 (Dense)              (None, 1)                 2         \n",
      "_________________________________________________________________\n",
      "dense_2 (Dense)              (None, 1)                 2         \n",
      "=================================================================\n",
      "Total params: 4\n",
      "Trainable params: 4\n",
      "Non-trainable params: 0\n",
      "_________________________________________________________________\n"
     ]
    }
   ],
   "source": [
    "change2.summary()"
   ]
  },
  {
   "cell_type": "code",
   "execution_count": 8,
   "metadata": {},
   "outputs": [],
   "source": [
    "def save_model(model, model_str):\n",
    "    model_json = model.to_json()\n",
    "    with open('trained/'+model_str+\".json\", \"w\") as json_file:\n",
    "        json_file.write(model_json)\n",
    "    # serialize weights to HDF5\n",
    "    model.save_weights('trained/'+model_str+\".h5\")\n",
    "    print(\"Saved model to disk\")"
   ]
  },
  {
   "cell_type": "code",
   "execution_count": 9,
   "metadata": {},
   "outputs": [],
   "source": [
    "change2 = open_and_load('change') #is pos or neg, 1 arg\n",
    "border = open_and_load('border') #which border, b1,b2,x\n",
    "border_att = open_and_load('border_att') #isFirstBorder, b1,b2,bx\n",
    "att = open_and_load('att3') #move or bounce, x,v,b\n",
    "move = open_and_load('move') # x+v, x,v,b\n",
    "bounce = open_and_load('bounce') #2b-v-x, x,v,b"
   ]
  },
  {
   "cell_type": "code",
   "execution_count": 4,
   "metadata": {},
   "outputs": [],
   "source": [
    "def gen(batch_size=128):\n",
    "    while True:\n",
    "        a = np.zeros((batch_size,4)) #x, v, b1, b2\n",
    "        a[:,1] = np.random.uniform(0,0.1,size=batch_size)\n",
    "        a[:,2] = np.random.uniform(0,-10,size=batch_size)\n",
    "        a[:,3] = np.random.uniform(0, 10,size=batch_size)\n",
    "        i = np.random.choice([0,1], size=batch_size) #isb1\n",
    "        b = a[:,2]*i + a[:,3]*(1-i)\n",
    "        a[:,1] *= np.sign(1-i-0.5) \n",
    "        a[:,0] = np.random.uniform(b, b-2*a[:,1])\n",
    "        \n",
    "        isBounce = ( np.abs(a[:,0] + a[:,1]) - np.abs(b)) > 0\n",
    "        \n",
    "        v = a[:,1] * np.sign(1-isBounce-0.5) #new speed\n",
    "        x = (a[:,0] + a[:,1]) * (1-isBounce) + (2*b-a[:,1]-a[:,0])*isBounce\n",
    "        b_newIsb1 = ((x-a[:,2])/(a[:,3]-a[:,2])) < 0.5\n",
    "        b_new = a[:,2]*b_newIsb1 + a[:,3]*(1-b_newIsb1)\n",
    "        y = np.zeros((batch_size,2))\n",
    "        y[:,0] = x\n",
    "        y[:,1] = v\n",
    "#         y[:,2] = b_new\n",
    "        \n",
    "#         y = np.zeros((batch_size,3))\n",
    "#         y[:,0] = x\n",
    "#         y[:,1] = v\n",
    "#         y[:,2] = b_new\n",
    "        \n",
    "        yield a, y     "
   ]
  },
  {
   "cell_type": "code",
   "execution_count": 11,
   "metadata": {},
   "outputs": [],
   "source": [
    "a,b = next(gen(batch_size=1))"
   ]
  },
  {
   "cell_type": "code",
   "execution_count": 12,
   "metadata": {},
   "outputs": [],
   "source": [
    "a = np.random.randn(4)\n",
    "b = np.random.randn(4)"
   ]
  },
  {
   "cell_type": "code",
   "execution_count": 13,
   "metadata": {},
   "outputs": [
    {
     "data": {
      "text/plain": [
       "array([-0.45111251, -1.32931188, -0.05351418,  0.15092889, -0.35232   ,\n",
       "       -0.72421169,  0.72931392, -0.83640952])"
      ]
     },
     "execution_count": 13,
     "metadata": {},
     "output_type": "execute_result"
    }
   ],
   "source": [
    "K.np.concatenate([a.tolist(),b.tolist()])"
   ]
  },
  {
   "cell_type": "code",
   "execution_count": 43,
   "metadata": {
    "scrolled": false
   },
   "outputs": [],
   "source": [
    "i = Input(shape=(4,))\n",
    "\n",
    "x = Lambda(lambda s: s[:,0],name='x')(i)\n",
    "v = Lambda(lambda s: s[:,1],name='v')(i)\n",
    "b1 = Lambda(lambda s: s[:,2],name='b1')(i)\n",
    "b2 = Lambda(lambda s: s[:,3],name='b2')(i)\n",
    "dropv = Lambda(lambda s: K.stack([s[0],s[1],s[2]], axis=1), output_shape=(3,),name='drop_v')([b1,b2,x])\n",
    "# dropv = Concatenate(axis=1)([b1,b2])\n",
    "# dropv = Reshape((3,))(dropv)\n",
    "border.name='border'\n",
    "getb = border(dropv)\n",
    "getb = Reshape((1,))(getb)\n",
    "\n",
    "xv = Lambda(lambda s: K.stack([s[0],s[1]], axis=1), output_shape=(2,),name='xv')([x,v])\n",
    "# xv = Reshape((2,))(xv)\n",
    "xvb = Concatenate(name='xvb')([xv,getb])\n",
    "att.name='attention'\n",
    "at = att(xvb)\n",
    "# at3 = Lambda(lambda s: K.stack([s[:,0],s[:,0],s[:,0]],axis=1))(at)\n",
    "bounce.name='bounce'\n",
    "h3 = bounce(xvb)\n",
    "v2 = Lambda(lambda s: -s, output_shape=(1,),name='new_v')(v)\n",
    "h3 = Concatenate(name='bounce_concat')([h3,Reshape((1,))(v2)])\n",
    "mul1 = Multiply(name='mul_att_bounce')([h3, at])\n",
    "\n",
    "notat = Lambda(lambda s: 1-s, output_shape=(1,),name='1-att')(at)\n",
    "# notat3 = Lambda(lambda s: K.stack([1-s[:,0],1-s[:,0],1-s[:,0]],axis=1))(at)\n",
    "move.name='move'\n",
    "g3 = move(xvb)\n",
    "g3 = Concatenate(name='move_concat')([g3,Reshape((1,))(v)])\n",
    "mul2 = Multiply(name='mul_att_move')([g3, notat])\n",
    "\n",
    "out = Add(name='output')([mul1,mul2])\n",
    "\n",
    "module = Model(inputs=i, outputs=out)\n",
    "module.compile(loss=mean_squared_error,\n",
    "              optimizer='adam',\n",
    "              metrics=['accuracy'])"
   ]
  },
  {
   "cell_type": "code",
   "execution_count": 28,
   "metadata": {},
   "outputs": [],
   "source": [
    "module.get_layer('model_32').name='attention'"
   ]
  },
  {
   "cell_type": "code",
   "execution_count": 44,
   "metadata": {},
   "outputs": [
    {
     "name": "stdout",
     "output_type": "stream",
     "text": [
      "__________________________________________________________________________________________________\n",
      "Layer (type)                    Output Shape         Param #     Connected to                     \n",
      "==================================================================================================\n",
      "input_11 (InputLayer)           (None, 4)            0                                            \n",
      "__________________________________________________________________________________________________\n",
      "x (Lambda)                      (None,)              0           input_11[0][0]                   \n",
      "__________________________________________________________________________________________________\n",
      "b1 (Lambda)                     (None,)              0           input_11[0][0]                   \n",
      "__________________________________________________________________________________________________\n",
      "b2 (Lambda)                     (None,)              0           input_11[0][0]                   \n",
      "__________________________________________________________________________________________________\n",
      "drop_v (Lambda)                 (None, 3)            0           b1[0][0]                         \n",
      "                                                                 b2[0][0]                         \n",
      "                                                                 x[0][0]                          \n",
      "__________________________________________________________________________________________________\n",
      "v (Lambda)                      (None,)              0           input_11[0][0]                   \n",
      "__________________________________________________________________________________________________\n",
      "border (Model)                  (None, 1)            8           drop_v[0][0]                     \n",
      "__________________________________________________________________________________________________\n",
      "xv (Lambda)                     (None, 2)            0           x[0][0]                          \n",
      "                                                                 v[0][0]                          \n",
      "__________________________________________________________________________________________________\n",
      "reshape_19 (Reshape)            (None, 1)            0           border[5][0]                     \n",
      "__________________________________________________________________________________________________\n",
      "xvb (Concatenate)               (None, 3)            0           xv[0][0]                         \n",
      "                                                                 reshape_19[0][0]                 \n",
      "__________________________________________________________________________________________________\n",
      "new_v (Lambda)                  (None, 1)            0           v[0][0]                          \n",
      "__________________________________________________________________________________________________\n",
      "bounce (Model)                  (None, 1)            3           xvb[0][0]                        \n",
      "__________________________________________________________________________________________________\n",
      "reshape_20 (Reshape)            (None, 1)            0           new_v[0][0]                      \n",
      "__________________________________________________________________________________________________\n",
      "attention (Model)               (None, 1)            25          xvb[0][0]                        \n",
      "__________________________________________________________________________________________________\n",
      "move (Model)                    (None, 1)            3           xvb[0][0]                        \n",
      "__________________________________________________________________________________________________\n",
      "reshape_21 (Reshape)            (None, 1)            0           v[0][0]                          \n",
      "__________________________________________________________________________________________________\n",
      "bounce_concat (Concatenate)     (None, 2)            0           bounce[4][0]                     \n",
      "                                                                 reshape_20[0][0]                 \n",
      "__________________________________________________________________________________________________\n",
      "move_concat (Concatenate)       (None, 2)            0           move[4][0]                       \n",
      "                                                                 reshape_21[0][0]                 \n",
      "__________________________________________________________________________________________________\n",
      "1-att (Lambda)                  (None, 1)            0           attention[4][0]                  \n",
      "__________________________________________________________________________________________________\n",
      "mul_att_bounce (Multiply)       (None, 2)            0           bounce_concat[0][0]              \n",
      "                                                                 attention[4][0]                  \n",
      "__________________________________________________________________________________________________\n",
      "mul_att_move (Multiply)         (None, 2)            0           move_concat[0][0]                \n",
      "                                                                 1-att[0][0]                      \n",
      "__________________________________________________________________________________________________\n",
      "output (Add)                    (None, 2)            0           mul_att_bounce[0][0]             \n",
      "                                                                 mul_att_move[0][0]               \n",
      "==================================================================================================\n",
      "Total params: 39\n",
      "Trainable params: 39\n",
      "Non-trainable params: 0\n",
      "__________________________________________________________________________________________________\n"
     ]
    }
   ],
   "source": [
    "module.summary()"
   ]
  },
  {
   "cell_type": "code",
   "execution_count": 9,
   "metadata": {},
   "outputs": [],
   "source": [
    "a, y = next(gen(batch_size=1))\n",
    "P = module.predict(a)"
   ]
  },
  {
   "cell_type": "code",
   "execution_count": 10,
   "metadata": {},
   "outputs": [
    {
     "data": {
      "text/plain": [
       "8.175270523099913e-13"
      ]
     },
     "execution_count": 10,
     "metadata": {},
     "output_type": "execute_result"
    }
   ],
   "source": [
    "mse(y, P)"
   ]
  },
  {
   "cell_type": "code",
   "execution_count": 39,
   "metadata": {},
   "outputs": [],
   "source": [
    "module.name='module'"
   ]
  },
  {
   "cell_type": "code",
   "execution_count": 40,
   "metadata": {},
   "outputs": [],
   "source": [
    "inputs2d = Input(shape=(8,))\n",
    "\n",
    "split_x = Lambda(lambda s: s[:,:4], output_shape=(4,),name='x')(inputs2d)\n",
    "split_x = Reshape((4,))(split_x) #split_x.shape gives (None, 4) otherwise\n",
    "model_x = module(split_x)\n",
    "\n",
    "split_y = Lambda(lambda s: s[:,4:], output_shape=(4,1),name='y')(inputs2d)\n",
    "split_y = Reshape((4,))(split_y)\n",
    "model_y = module(split_y)\n",
    "\n",
    "x = Concatenate()([model_x, model_y])\n",
    "\n",
    "model_2d = Model(inputs=inputs2d, outputs=x)\n",
    "model_2d.compile(loss=mean_squared_error,\n",
    "              optimizer='adam')"
   ]
  },
  {
   "cell_type": "code",
   "execution_count": 34,
   "metadata": {},
   "outputs": [],
   "source": [
    "model_2d.get_layer(name='model_3').name='module'"
   ]
  },
  {
   "cell_type": "code",
   "execution_count": 45,
   "metadata": {},
   "outputs": [],
   "source": [
    "from keras.utils import plot_model\n",
    "plot_model(module, to_file='module.png')"
   ]
  },
  {
   "cell_type": "code",
   "execution_count": 41,
   "metadata": {},
   "outputs": [
    {
     "name": "stdout",
     "output_type": "stream",
     "text": [
      "__________________________________________________________________________________________________\n",
      "Layer (type)                    Output Shape         Param #     Connected to                     \n",
      "==================================================================================================\n",
      "input_10 (InputLayer)           (None, 8)            0                                            \n",
      "__________________________________________________________________________________________________\n",
      "x (Lambda)                      (None, 4)            0           input_10[0][0]                   \n",
      "__________________________________________________________________________________________________\n",
      "y (Lambda)                      (None, 4, 1)         0           input_10[0][0]                   \n",
      "__________________________________________________________________________________________________\n",
      "reshape_17 (Reshape)            (None, 4)            0           x[0][0]                          \n",
      "__________________________________________________________________________________________________\n",
      "reshape_18 (Reshape)            (None, 4)            0           y[0][0]                          \n",
      "__________________________________________________________________________________________________\n",
      "module (Model)                  (None, 2)            39          reshape_17[0][0]                 \n",
      "                                                                 reshape_18[0][0]                 \n",
      "__________________________________________________________________________________________________\n",
      "concatenate_10 (Concatenate)    (None, 4)            0           module[7][0]                     \n",
      "                                                                 module[8][0]                     \n",
      "==================================================================================================\n",
      "Total params: 39\n",
      "Trainable params: 39\n",
      "Non-trainable params: 0\n",
      "__________________________________________________________________________________________________\n"
     ]
    }
   ],
   "source": [
    "model_2d.summary()"
   ]
  },
  {
   "cell_type": "code",
   "execution_count": 13,
   "metadata": {},
   "outputs": [
    {
     "name": "stdout",
     "output_type": "stream",
     "text": [
      "Epoch 1/10\n",
      "12800/12800 [==============================] - 38s 3ms/step - loss: 1.9319e-04 - acc: 0.9993\n",
      "Epoch 2/10\n",
      "12800/12800 [==============================] - 38s 3ms/step - loss: 2.0211e-04 - acc: 0.9989\n",
      "Epoch 3/10\n",
      "12800/12800 [==============================] - 38s 3ms/step - loss: 1.8735e-04 - acc: 0.9993\n",
      "Epoch 4/10\n",
      "12800/12800 [==============================] - 38s 3ms/step - loss: 1.7901e-04 - acc: 0.9992\n",
      "Epoch 5/10\n",
      "12800/12800 [==============================] - 38s 3ms/step - loss: 1.8615e-04 - acc: 0.9992\n",
      "Epoch 6/10\n",
      "12800/12800 [==============================] - 38s 3ms/step - loss: 1.7166e-04 - acc: 0.9993\n",
      "Epoch 7/10\n",
      "12800/12800 [==============================] - 38s 3ms/step - loss: 1.7731e-04 - acc: 0.9989\n",
      "Epoch 8/10\n",
      "12800/12800 [==============================] - 38s 3ms/step - loss: 1.6494e-04 - acc: 0.9992\n",
      "Epoch 9/10\n",
      "12800/12800 [==============================] - 38s 3ms/step - loss: 1.7764e-04 - acc: 0.9992\n",
      "Epoch 10/10\n",
      "12800/12800 [==============================] - 38s 3ms/step - loss: 1.6731e-04 - acc: 0.9992: 1s - loss:\n"
     ]
    },
    {
     "data": {
      "text/plain": [
       "<keras.callbacks.History at 0x7fdce389a438>"
      ]
     },
     "execution_count": 13,
     "metadata": {},
     "output_type": "execute_result"
    }
   ],
   "source": [
    "module.fit_generator(gen(), steps_per_epoch=12800, epochs=10)"
   ]
  },
  {
   "cell_type": "code",
   "execution_count": 2,
   "metadata": {},
   "outputs": [],
   "source": [
    "# module = open_and_load('module')\n",
    "model_2d = open_and_load('model_2d')"
   ]
  },
  {
   "cell_type": "code",
   "execution_count": 5,
   "metadata": {},
   "outputs": [],
   "source": [
    "X, Y = next(gen(batch_size=1000))\n",
    "X2, Y2 = next(gen(batch_size=1000))\n",
    "A = np.concatenate([X,X2], axis=-1)\n",
    "P = model_2d.predict(A)\n",
    "B = np.concatenate([Y,Y2], axis=-1)"
   ]
  },
  {
   "cell_type": "code",
   "execution_count": 6,
   "metadata": {},
   "outputs": [
    {
     "data": {
      "text/plain": [
       "0.012564924414722508"
      ]
     },
     "execution_count": 6,
     "metadata": {},
     "output_type": "execute_result"
    }
   ],
   "source": [
    "mse(P,B)**0.5"
   ]
  },
  {
   "cell_type": "code",
   "execution_count": 7,
   "metadata": {},
   "outputs": [
    {
     "name": "stdout",
     "output_type": "stream",
     "text": [
      "__________________________________________________________________________________________________\n",
      "Layer (type)                    Output Shape         Param #     Connected to                     \n",
      "==================================================================================================\n",
      "input_25 (InputLayer)           (None, 8)            0                                            \n",
      "__________________________________________________________________________________________________\n",
      "lambda_152 (Lambda)             (None, 4)            0           input_25[0][0]                   \n",
      "__________________________________________________________________________________________________\n",
      "lambda_153 (Lambda)             (None, 4, 1)         0           input_25[0][0]                   \n",
      "__________________________________________________________________________________________________\n",
      "reshape_40 (Reshape)            (None, 4)            0           lambda_152[0][0]                 \n",
      "__________________________________________________________________________________________________\n",
      "reshape_41 (Reshape)            (None, 4)            0           lambda_153[0][0]                 \n",
      "__________________________________________________________________________________________________\n",
      "model_15 (Model)                (None, 2)            39          reshape_40[0][0]                 \n",
      "                                                                 reshape_41[0][0]                 \n",
      "__________________________________________________________________________________________________\n",
      "concatenate_36 (Concatenate)    (None, 4)            0           model_15[1][0]                   \n",
      "                                                                 model_15[2][0]                   \n",
      "==================================================================================================\n",
      "Total params: 39\n",
      "Trainable params: 39\n",
      "Non-trainable params: 0\n",
      "__________________________________________________________________________________________________\n"
     ]
    }
   ],
   "source": [
    "model_2d.summary()"
   ]
  },
  {
   "cell_type": "code",
   "execution_count": 8,
   "metadata": {},
   "outputs": [
    {
     "ename": "NameError",
     "evalue": "name 'module' is not defined",
     "output_type": "error",
     "traceback": [
      "\u001b[0;31m---------------------------------------------------------------------------\u001b[0m",
      "\u001b[0;31mNameError\u001b[0m                                 Traceback (most recent call last)",
      "\u001b[0;32m<ipython-input-8-67c726e19c78>\u001b[0m in \u001b[0;36m<module>\u001b[0;34m\u001b[0m\n\u001b[0;32m----> 1\u001b[0;31m \u001b[0mmodule\u001b[0m\u001b[0;34m.\u001b[0m\u001b[0msummary\u001b[0m\u001b[0;34m(\u001b[0m\u001b[0;34m)\u001b[0m\u001b[0;34m\u001b[0m\u001b[0;34m\u001b[0m\u001b[0m\n\u001b[0m",
      "\u001b[0;31mNameError\u001b[0m: name 'module' is not defined"
     ]
    }
   ],
   "source": [
    "module.summary()"
   ]
  },
  {
   "cell_type": "markdown",
   "metadata": {},
   "source": [
    "###### Plotting"
   ]
  },
  {
   "cell_type": "code",
   "execution_count": 17,
   "metadata": {},
   "outputs": [],
   "source": [
    "X, Y = next(gen(batch_size=1))\n",
    "X2, Y2 = next(gen(batch_size=1))\n",
    "# P = module.predict(a)\n",
    "\n",
    "b1, b2 = X[0,2:]\n",
    "c1, c2 = X2[0,2:]\n",
    "\n",
    "X\n",
    "\n",
    "A = np.concatenate([X,X2], axis=-1)\n",
    "\n",
    "preds = []\n",
    "# preds += [P]\n",
    "# x, xv, y, yv = P\n",
    "newA = A\n",
    "for _ in range(25):\n",
    "    P = model_2d.predict(newA)\n",
    "    preds += [P[0]]\n",
    "    x, xv, y, yv = P[0]\n",
    "    newA = np.array([[x,xv, b1, b2, y, yv, c1, c2]])"
   ]
  },
  {
   "cell_type": "code",
   "execution_count": 18,
   "metadata": {},
   "outputs": [],
   "source": [
    "preds = np.array(preds)"
   ]
  },
  {
   "cell_type": "code",
   "execution_count": 19,
   "metadata": {},
   "outputs": [],
   "source": [
    "import pandas as pd"
   ]
  },
  {
   "cell_type": "code",
   "execution_count": 20,
   "metadata": {},
   "outputs": [
    {
     "data": {
      "text/plain": [
       "(-7.127292926784622,\n",
       " 8.818742954867599,\n",
       " -3.4936525313243894,\n",
       " 2.5513791681016906)"
      ]
     },
     "execution_count": 20,
     "metadata": {},
     "output_type": "execute_result"
    }
   ],
   "source": [
    "b1,b2,c1,c2"
   ]
  },
  {
   "cell_type": "code",
   "execution_count": 21,
   "metadata": {},
   "outputs": [
    {
     "data": {
      "text/html": [
       "<div>\n",
       "<style scoped>\n",
       "    .dataframe tbody tr th:only-of-type {\n",
       "        vertical-align: middle;\n",
       "    }\n",
       "\n",
       "    .dataframe tbody tr th {\n",
       "        vertical-align: top;\n",
       "    }\n",
       "\n",
       "    .dataframe thead th {\n",
       "        text-align: right;\n",
       "    }\n",
       "</style>\n",
       "<table border=\"1\" class=\"dataframe\">\n",
       "  <thead>\n",
       "    <tr style=\"text-align: right;\">\n",
       "      <th></th>\n",
       "      <th>0</th>\n",
       "      <th>1</th>\n",
       "      <th>2</th>\n",
       "      <th>3</th>\n",
       "    </tr>\n",
       "  </thead>\n",
       "  <tbody>\n",
       "    <tr>\n",
       "      <th>0</th>\n",
       "      <td>-7.126631</td>\n",
       "      <td>-0.060007</td>\n",
       "      <td>-3.436925</td>\n",
       "      <td>-0.059717</td>\n",
       "    </tr>\n",
       "    <tr>\n",
       "      <th>1</th>\n",
       "      <td>-7.067962</td>\n",
       "      <td>0.060007</td>\n",
       "      <td>-3.492882</td>\n",
       "      <td>0.015227</td>\n",
       "    </tr>\n",
       "    <tr>\n",
       "      <th>2</th>\n",
       "      <td>-7.007980</td>\n",
       "      <td>0.060007</td>\n",
       "      <td>-3.477634</td>\n",
       "      <td>0.015227</td>\n",
       "    </tr>\n",
       "    <tr>\n",
       "      <th>3</th>\n",
       "      <td>-6.948055</td>\n",
       "      <td>0.060007</td>\n",
       "      <td>-3.462401</td>\n",
       "      <td>0.015227</td>\n",
       "    </tr>\n",
       "    <tr>\n",
       "      <th>4</th>\n",
       "      <td>-6.888187</td>\n",
       "      <td>0.060007</td>\n",
       "      <td>-3.447183</td>\n",
       "      <td>0.015227</td>\n",
       "    </tr>\n",
       "    <tr>\n",
       "      <th>5</th>\n",
       "      <td>-6.828377</td>\n",
       "      <td>0.060007</td>\n",
       "      <td>-3.431979</td>\n",
       "      <td>0.015227</td>\n",
       "    </tr>\n",
       "    <tr>\n",
       "      <th>6</th>\n",
       "      <td>-6.768624</td>\n",
       "      <td>0.060007</td>\n",
       "      <td>-3.416790</td>\n",
       "      <td>0.015227</td>\n",
       "    </tr>\n",
       "    <tr>\n",
       "      <th>7</th>\n",
       "      <td>-6.708929</td>\n",
       "      <td>0.060007</td>\n",
       "      <td>-3.401615</td>\n",
       "      <td>0.015227</td>\n",
       "    </tr>\n",
       "    <tr>\n",
       "      <th>8</th>\n",
       "      <td>-6.649290</td>\n",
       "      <td>0.060007</td>\n",
       "      <td>-3.386455</td>\n",
       "      <td>0.015227</td>\n",
       "    </tr>\n",
       "    <tr>\n",
       "      <th>9</th>\n",
       "      <td>-6.589709</td>\n",
       "      <td>0.060007</td>\n",
       "      <td>-3.371310</td>\n",
       "      <td>0.015227</td>\n",
       "    </tr>\n",
       "    <tr>\n",
       "      <th>10</th>\n",
       "      <td>-6.530185</td>\n",
       "      <td>0.060007</td>\n",
       "      <td>-3.356179</td>\n",
       "      <td>0.015227</td>\n",
       "    </tr>\n",
       "    <tr>\n",
       "      <th>11</th>\n",
       "      <td>-6.470717</td>\n",
       "      <td>0.060007</td>\n",
       "      <td>-3.341062</td>\n",
       "      <td>0.015227</td>\n",
       "    </tr>\n",
       "    <tr>\n",
       "      <th>12</th>\n",
       "      <td>-6.411307</td>\n",
       "      <td>0.060007</td>\n",
       "      <td>-3.325960</td>\n",
       "      <td>0.015227</td>\n",
       "    </tr>\n",
       "    <tr>\n",
       "      <th>13</th>\n",
       "      <td>-6.351954</td>\n",
       "      <td>0.060007</td>\n",
       "      <td>-3.310872</td>\n",
       "      <td>0.015227</td>\n",
       "    </tr>\n",
       "    <tr>\n",
       "      <th>14</th>\n",
       "      <td>-6.292657</td>\n",
       "      <td>0.060007</td>\n",
       "      <td>-3.295799</td>\n",
       "      <td>0.015227</td>\n",
       "    </tr>\n",
       "    <tr>\n",
       "      <th>15</th>\n",
       "      <td>-6.233418</td>\n",
       "      <td>0.060007</td>\n",
       "      <td>-3.280740</td>\n",
       "      <td>0.015227</td>\n",
       "    </tr>\n",
       "    <tr>\n",
       "      <th>16</th>\n",
       "      <td>-6.174234</td>\n",
       "      <td>0.060007</td>\n",
       "      <td>-3.265696</td>\n",
       "      <td>0.015227</td>\n",
       "    </tr>\n",
       "    <tr>\n",
       "      <th>17</th>\n",
       "      <td>-6.115108</td>\n",
       "      <td>0.060007</td>\n",
       "      <td>-3.250666</td>\n",
       "      <td>0.015227</td>\n",
       "    </tr>\n",
       "    <tr>\n",
       "      <th>18</th>\n",
       "      <td>-6.056038</td>\n",
       "      <td>0.060007</td>\n",
       "      <td>-3.235650</td>\n",
       "      <td>0.015227</td>\n",
       "    </tr>\n",
       "    <tr>\n",
       "      <th>19</th>\n",
       "      <td>-5.997025</td>\n",
       "      <td>0.060007</td>\n",
       "      <td>-3.220649</td>\n",
       "      <td>0.015227</td>\n",
       "    </tr>\n",
       "    <tr>\n",
       "      <th>20</th>\n",
       "      <td>-5.938068</td>\n",
       "      <td>0.060007</td>\n",
       "      <td>-3.205662</td>\n",
       "      <td>0.015227</td>\n",
       "    </tr>\n",
       "    <tr>\n",
       "      <th>21</th>\n",
       "      <td>-5.879168</td>\n",
       "      <td>0.060007</td>\n",
       "      <td>-3.190690</td>\n",
       "      <td>0.015227</td>\n",
       "    </tr>\n",
       "    <tr>\n",
       "      <th>22</th>\n",
       "      <td>-5.820324</td>\n",
       "      <td>0.060007</td>\n",
       "      <td>-3.175731</td>\n",
       "      <td>0.015227</td>\n",
       "    </tr>\n",
       "    <tr>\n",
       "      <th>23</th>\n",
       "      <td>-5.761537</td>\n",
       "      <td>0.060007</td>\n",
       "      <td>-3.160788</td>\n",
       "      <td>0.015227</td>\n",
       "    </tr>\n",
       "    <tr>\n",
       "      <th>24</th>\n",
       "      <td>-5.702806</td>\n",
       "      <td>0.060007</td>\n",
       "      <td>-3.145858</td>\n",
       "      <td>0.015227</td>\n",
       "    </tr>\n",
       "  </tbody>\n",
       "</table>\n",
       "</div>"
      ],
      "text/plain": [
       "           0         1         2         3\n",
       "0  -7.126631 -0.060007 -3.436925 -0.059717\n",
       "1  -7.067962  0.060007 -3.492882  0.015227\n",
       "2  -7.007980  0.060007 -3.477634  0.015227\n",
       "3  -6.948055  0.060007 -3.462401  0.015227\n",
       "4  -6.888187  0.060007 -3.447183  0.015227\n",
       "5  -6.828377  0.060007 -3.431979  0.015227\n",
       "6  -6.768624  0.060007 -3.416790  0.015227\n",
       "7  -6.708929  0.060007 -3.401615  0.015227\n",
       "8  -6.649290  0.060007 -3.386455  0.015227\n",
       "9  -6.589709  0.060007 -3.371310  0.015227\n",
       "10 -6.530185  0.060007 -3.356179  0.015227\n",
       "11 -6.470717  0.060007 -3.341062  0.015227\n",
       "12 -6.411307  0.060007 -3.325960  0.015227\n",
       "13 -6.351954  0.060007 -3.310872  0.015227\n",
       "14 -6.292657  0.060007 -3.295799  0.015227\n",
       "15 -6.233418  0.060007 -3.280740  0.015227\n",
       "16 -6.174234  0.060007 -3.265696  0.015227\n",
       "17 -6.115108  0.060007 -3.250666  0.015227\n",
       "18 -6.056038  0.060007 -3.235650  0.015227\n",
       "19 -5.997025  0.060007 -3.220649  0.015227\n",
       "20 -5.938068  0.060007 -3.205662  0.015227\n",
       "21 -5.879168  0.060007 -3.190690  0.015227\n",
       "22 -5.820324  0.060007 -3.175731  0.015227\n",
       "23 -5.761537  0.060007 -3.160788  0.015227\n",
       "24 -5.702806  0.060007 -3.145858  0.015227"
      ]
     },
     "execution_count": 21,
     "metadata": {},
     "output_type": "execute_result"
    }
   ],
   "source": [
    "pd.DataFrame(preds)"
   ]
  },
  {
   "cell_type": "code",
   "execution_count": 28,
   "metadata": {},
   "outputs": [],
   "source": [
    "m1,n1 = preds[0,[0,2]]"
   ]
  },
  {
   "cell_type": "code",
   "execution_count": 30,
   "metadata": {},
   "outputs": [
    {
     "data": {
      "text/plain": [
       "[<matplotlib.lines.Line2D at 0x7fea8c2b1710>]"
      ]
     },
     "execution_count": 30,
     "metadata": {},
     "output_type": "execute_result"
    },
    {
     "data": {
      "image/png": "[encoded data removed]",
      "text/plain": [
       "<Figure size 360x360 with 1 Axes>"
      ]
     },
     "metadata": {
      "needs_background": "light"
     },
     "output_type": "display_data"
    }
   ],
   "source": [
    "fig, ax = plt.subplots(figsize=(5, 5))\n",
    "ax.set(xlim=(m1-1, m1+1), ylim=(n1-1,n1+1))\n",
    "\n",
    "x,xv,y,yv = preds[0]\n",
    "plt.quiver(x, y, xv, yv)\n",
    "plt.scatter(preds[:,0], preds[:,2])\n",
    "plt.plot([b1,b1],[c1,c2])\n",
    "plt.plot([b1,b2],[c1,c1])"
   ]
  },
  {
   "cell_type": "code",
   "execution_count": 23,
   "metadata": {},
   "outputs": [],
   "source": [
    "# save_model(module, 'module')\n",
    "# save_model(model_2d, 'model_2d')"
   ]
  },
  {
   "cell_type": "code",
   "execution_count": 28,
   "metadata": {},
   "outputs": [
    {
     "data": {
      "text/plain": [
       "array([[-1.4636651e+00, -6.8700299e-02, -6.2146912e+00, -9.4173307e-04],\n",
       "       [-1.4999590e+00,  6.8700299e-02, -6.2155461e+00, -7.8382174e-04],\n",
       "       [-1.4312897e+00,  6.8700299e-02, -6.2159448e+00, -5.0023623e-04],\n",
       "       [-1.3626862e+00,  6.8700299e-02, -6.2159843e+00, -3.0310723e-04],\n",
       "       [-1.2941483e+00,  6.8700299e-02, -6.2159276e+00, -1.9690198e-04],\n",
       "       [-1.2256762e+00,  6.8700299e-02, -6.2158542e+00, -1.3681198e-04],\n",
       "       [-1.1572696e+00,  6.8700299e-02, -6.2157841e+00, -1.0013520e-04],\n",
       "       [-1.0889285e+00,  6.8700299e-02, -6.2157207e+00, -7.6269105e-05],\n",
       "       [-1.0206529e+00,  6.8700299e-02, -6.2156639e+00, -5.9937280e-05],\n",
       "       [-9.5244271e-01,  6.8700299e-02, -6.2156129e+00, -4.8318805e-05],\n",
       "       [-8.8429785e-01,  6.8700299e-02, -6.2155666e+00, -3.9794475e-05],\n",
       "       [-2.2163544e+00, -6.8700299e-02, -6.2155247e+00, -3.3380049e-05],\n",
       "       [-7.4770141e-01,  6.8700299e-02, -6.2154860e+00, -2.8452132e-05],\n",
       "       [-2.3528724e+00, -6.8700299e-02, -6.2154508e+00, -2.4594039e-05],\n",
       "       [-6.1126184e-01,  6.8700299e-02, -6.2154179e+00, -2.1526808e-05],\n",
       "       [-2.4892337e+00, -6.8700299e-02, -6.2153864e+00, -1.9056906e-05],\n",
       "       [-4.7497869e-01,  6.8700299e-02, -6.2153568e+00, -1.7051432e-05],\n",
       "       [-2.6254389e+00, -6.8700299e-02, -6.2153282e+00, -1.5407615e-05],\n",
       "       [-3.3885145e-01,  6.8700299e-02, -6.2153010e+00, -1.4050258e-05],\n",
       "       [-2.7614880e+00, -6.8700299e-02, -6.2152739e+00, -1.2925840e-05],\n",
       "       [-2.0288038e-01,  6.8700299e-02, -6.2152472e+00, -1.1992609e-05],\n",
       "       [-2.8973811e+00, -6.8700299e-02, -6.2152205e+00, -1.1218938e-05],\n",
       "       [-6.7065239e-02,  6.8700299e-02, -6.2151933e+00, -1.0581412e-05],\n",
       "       [-3.0331185e+00, -6.8700299e-02, -6.2151656e+00, -1.0061954e-05],\n",
       "       [ 6.8594217e-02,  6.8700299e-02, -6.2151370e+00, -9.6462963e-06]],\n",
       "      dtype=float32)"
      ]
     },
     "execution_count": 28,
     "metadata": {},
     "output_type": "execute_result"
    }
   ],
   "source": [
    "preds"
   ]
  },
  {
   "cell_type": "code",
   "execution_count": null,
   "metadata": {},
   "outputs": [],
   "source": []
  },
  {
   "cell_type": "markdown",
   "metadata": {},
   "source": [
    "## Loss landscape"
   ]
  },
  {
   "cell_type": "code",
   "execution_count": 29,
   "metadata": {},
   "outputs": [],
   "source": [
    "from copy import deepcopy"
   ]
  },
  {
   "cell_type": "code",
   "execution_count": 31,
   "metadata": {},
   "outputs": [],
   "source": [
    "# ogweights = model_2d.get_weights()"
   ]
  },
  {
   "cell_type": "code",
   "execution_count": 32,
   "metadata": {},
   "outputs": [
    {
     "data": {
      "text/plain": [
       "array([[-1.53642525,  0.67113638],\n",
       "       [-1.00822029, -2.41739265],\n",
       "       [ 0.22400109,  0.35482583]])"
      ]
     },
     "execution_count": 32,
     "metadata": {},
     "output_type": "execute_result"
    }
   ],
   "source": [
    "np.random.randn(3, 2)"
   ]
  },
  {
   "cell_type": "code",
   "execution_count": 33,
   "metadata": {},
   "outputs": [],
   "source": [
    "X, Y = next(gen(batch_size=1000))\n",
    "X2, Y2 = next(gen(batch_size=1000))\n",
    "A = np.concatenate([X,X2], axis=-1)\n",
    "P = model_2d.predict(A)\n",
    "B = np.concatenate([Y,Y2], axis=-1)"
   ]
  },
  {
   "cell_type": "code",
   "execution_count": 34,
   "metadata": {},
   "outputs": [
    {
     "data": {
      "text/plain": [
       "(1000, 4)"
      ]
     },
     "execution_count": 34,
     "metadata": {},
     "output_type": "execute_result"
    }
   ],
   "source": [
    "B.shape"
   ]
  },
  {
   "cell_type": "code",
   "execution_count": 35,
   "metadata": {},
   "outputs": [
    {
     "data": {
      "text/plain": [
       "array([[ 1.43661767, -1.0871393 ],\n",
       "       [ 1.52705367,  0.91948453],\n",
       "       [-0.72657769,  0.32978971]])"
      ]
     },
     "execution_count": 35,
     "metadata": {},
     "output_type": "execute_result"
    }
   ],
   "source": [
    "np.random.normal(size=(3,2))"
   ]
  },
  {
   "cell_type": "code",
   "execution_count": 36,
   "metadata": {},
   "outputs": [],
   "source": [
    "# og_weights = deepcopy(model_2d.get_weights())"
   ]
  },
  {
   "cell_type": "code",
   "execution_count": 37,
   "metadata": {},
   "outputs": [],
   "source": [
    "# delta = deepcopy(model_2d.get_weights())\n",
    "\n",
    "# theta = []\n",
    "# for weights in delta:\n",
    "#     theta += [np.random.normal(scale=0.9, size=weights.shape) * weights]\n",
    "    \n",
    "# def get_weight_combo(alpha):\n",
    "#     l = []\n",
    "#     if alpha > 1:\n",
    "        \n",
    "        \n",
    "        \n",
    "#     for i in range(len(delta)):\n",
    "#         l += [ delta[i]*alpha + theta[i]*(1-alpha) ]\n",
    "#     return l"
   ]
  },
  {
   "cell_type": "code",
   "execution_count": 39,
   "metadata": {},
   "outputs": [],
   "source": [
    "model_2d.set_weights(ogweights)"
   ]
  },
  {
   "cell_type": "code",
   "execution_count": 40,
   "metadata": {},
   "outputs": [],
   "source": [
    "delta = deepcopy(model_2d.get_weights())\n",
    "\n",
    "theta = []\n",
    "for weights in delta:\n",
    "    theta += [np.random.normal(scale=0.5, size=weights.shape) * weights]\n",
    "    \n",
    "def get_weight_combo(alpha):\n",
    "    l = []\n",
    "    for i in range(len(delta)):\n",
    "        l += [ delta[i]*alpha + theta[i]*(1-alpha) ]\n",
    "    return l"
   ]
  },
  {
   "cell_type": "code",
   "execution_count": 41,
   "metadata": {},
   "outputs": [],
   "source": [
    "rmse_list = []\n",
    "alphas = np.linspace(0, 2, num=101)\n",
    "for alpha in alphas:\n",
    "    weights = get_weight_combo(alpha)\n",
    "    model_2d.set_weights(weights)\n",
    "    P = model_2d.predict(A)\n",
    "    rmse_list += [mse(B, P)**0.5]"
   ]
  },
  {
   "cell_type": "code",
   "execution_count": 45,
   "metadata": {},
   "outputs": [
    {
     "data": {
      "text/plain": [
       "[<matplotlib.lines.Line2D at 0x7f8c88037630>]"
      ]
     },
     "execution_count": 45,
     "metadata": {},
     "output_type": "execute_result"
    },
    {
     "data": {
      "image/png": "[encoded data removed]",
      "text/plain": [
       "<Figure size 360x360 with 1 Axes>"
      ]
     },
     "metadata": {
      "needs_background": "light"
     },
     "output_type": "display_data"
    }
   ],
   "source": [
    "fig, ax = plt.subplots(figsize=(5, 5))\n",
    "# ax.set(xlim=(0, 2))\n",
    "# line = ax.plot([0,1],[0,0])\n",
    "\n",
    "plt.plot(alphas, rmse_list)"
   ]
  },
  {
   "cell_type": "code",
   "execution_count": 46,
   "metadata": {},
   "outputs": [
    {
     "data": {
      "image/png": "[encoded data removed]",
      "text/plain": [
       "<Figure size 360x360 with 1 Axes>"
      ]
     },
     "execution_count": 46,
     "metadata": {},
     "output_type": "execute_result"
    }
   ],
   "source": [
    "fig"
   ]
  },
  {
   "cell_type": "code",
   "execution_count": 47,
   "metadata": {},
   "outputs": [],
   "source": [
    "fig.savefig('lossmod.png')"
   ]
  },
  {
   "cell_type": "code",
   "execution_count": null,
   "metadata": {},
   "outputs": [],
   "source": []
  }
 ],
 "metadata": {
  "kernelspec": {
   "display_name": "Python 3",
   "language": "python",
   "name": "python3"
  },
  "language_info": {
   "codemirror_mode": {
    "name": "ipython",
    "version": 3
   },
   "file_extension": ".py",
   "mimetype": "text/x-python",
   "name": "python",
   "nbconvert_exporter": "python",
   "pygments_lexer": "ipython3",
   "version": "3.6.8"
  }
 },
 "nbformat": 4,
 "nbformat_minor": 2
}
