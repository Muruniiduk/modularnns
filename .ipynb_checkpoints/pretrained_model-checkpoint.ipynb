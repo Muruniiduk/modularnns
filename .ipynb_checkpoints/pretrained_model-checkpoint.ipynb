{
 "cells": [
  {
   "cell_type": "code",
   "execution_count": 1,
   "metadata": {},
   "outputs": [
    {
     "name": "stderr",
     "output_type": "stream",
     "text": [
      "Using TensorFlow backend.\n"
     ]
    }
   ],
   "source": [
    "import pandas as pd\n",
    "import numpy as np\n",
    "from keras.layers import Input, Dense, LSTM, RepeatVector, TimeDistributed, RNN, Lambda, Concatenate, Reshape, Add\n",
    "from keras.layers.merge import Multiply\n",
    "from keras.models import Model\n",
    "from keras.losses import mean_squared_error, binary_crossentropy\n",
    "from keras.models import Model\n",
    "from keras.models import load_model\n",
    "from keras.models import model_from_json\n",
    "import keras.backend as K\n",
    "import matplotlib.pyplot as plt\n",
    "from sklearn.metrics import mean_squared_error as mse\n",
    "def open_and_load(string):\n",
    "    with open('trained/'+string+'.json', 'r') as f:\n",
    "        model = model_from_json(f.read())\n",
    "    model.load_weights('trained/'+string+'.h5')   \n",
    "    return model"
   ]
  },
  {
   "cell_type": "code",
   "execution_count": 2,
   "metadata": {},
   "outputs": [],
   "source": [
    "def save_model(model, model_str):\n",
    "    model_json = model.to_json()\n",
    "    with open('trained/'+model_str+\".json\", \"w\") as json_file:\n",
    "        json_file.write(model_json)\n",
    "    # serialize weights to HDF5\n",
    "    model.save_weights('trained/'+model_str+\".h5\")\n",
    "    print(\"Saved model to disk\")"
   ]
  },
  {
   "cell_type": "code",
   "execution_count": 3,
   "metadata": {},
   "outputs": [],
   "source": [
    "change2 = open_and_load('change') #is pos or neg, 1 arg\n",
    "border = open_and_load('border') #which border, b1,b2,x\n",
    "border_att = open_and_load('border_att') #isFirstBorder, b1,b2,bx\n",
    "att = open_and_load('att3') #move or bounce, x,v,b\n",
    "move = open_and_load('move') # x+v, x,v,b\n",
    "bounce = open_and_load('bounce') #2b-v-x, x,v,b"
   ]
  },
  {
   "cell_type": "code",
   "execution_count": 4,
   "metadata": {},
   "outputs": [],
   "source": [
    "def gen(batch_size=128):\n",
    "    while True:\n",
    "        a = np.zeros((batch_size,4)) #x, v, b1, b2\n",
    "        a[:,1] = np.random.uniform(0,0.1,size=batch_size)\n",
    "        a[:,2] = np.random.uniform(0,-10,size=batch_size)\n",
    "        a[:,3] = np.random.uniform(0, 10,size=batch_size)\n",
    "        i = np.random.choice([0,1], size=batch_size) #isb1\n",
    "        b = a[:,2]*i + a[:,3]*(1-i)\n",
    "        a[:,1] *= np.sign(1-i-0.5) \n",
    "        a[:,0] = np.random.uniform(b, b-2*a[:,1])\n",
    "        \n",
    "        isBounce = ( np.abs(a[:,0] + a[:,1]) - np.abs(b)) > 0\n",
    "        \n",
    "        v = a[:,1] * np.sign(1-isBounce-0.5) #new speed\n",
    "        x = (a[:,0] + a[:,1]) * (1-isBounce) + (2*b-a[:,1]-a[:,0])*isBounce\n",
    "        b_newIsb1 = ((x-a[:,2])/(a[:,3]-a[:,2])) < 0.5\n",
    "        b_new = a[:,2]*b_newIsb1 + a[:,3]*(1-b_newIsb1)\n",
    "        y = np.zeros((batch_size,2))\n",
    "        y[:,0] = x\n",
    "        y[:,1] = v\n",
    "#         y[:,2] = b_new\n",
    "        \n",
    "#         y = np.zeros((batch_size,3))\n",
    "#         y[:,0] = x\n",
    "#         y[:,1] = v\n",
    "#         y[:,2] = b_new\n",
    "        \n",
    "        yield a, y     "
   ]
  },
  {
   "cell_type": "code",
   "execution_count": 5,
   "metadata": {},
   "outputs": [],
   "source": [
    "a,b = next(gen(batch_size=1))"
   ]
  },
  {
   "cell_type": "code",
   "execution_count": 6,
   "metadata": {},
   "outputs": [],
   "source": [
    "a = np.random.randn(4)\n",
    "b = np.random.randn(4)"
   ]
  },
  {
   "cell_type": "code",
   "execution_count": 7,
   "metadata": {},
   "outputs": [
    {
     "data": {
      "text/plain": [
       "array([-0.05560981,  0.40797517,  1.62608091,  0.88461605,  0.56097749,\n",
       "       -0.19916986,  1.19950261,  0.25124354])"
      ]
     },
     "execution_count": 7,
     "metadata": {},
     "output_type": "execute_result"
    }
   ],
   "source": [
    "K.np.concatenate([a.tolist(),b.tolist()])"
   ]
  },
  {
   "cell_type": "code",
   "execution_count": 8,
   "metadata": {
    "scrolled": false
   },
   "outputs": [
    {
     "name": "stdout",
     "output_type": "stream",
     "text": [
      "__________________________________________________________________________________________________\n",
      "Layer (type)                    Output Shape         Param #     Connected to                     \n",
      "==================================================================================================\n",
      "input_1 (InputLayer)            (None, 4)            0                                            \n",
      "__________________________________________________________________________________________________\n",
      "lambda_1 (Lambda)               (None,)              0           input_1[0][0]                    \n",
      "__________________________________________________________________________________________________\n",
      "lambda_3 (Lambda)               (None,)              0           input_1[0][0]                    \n",
      "__________________________________________________________________________________________________\n",
      "lambda_4 (Lambda)               (None,)              0           input_1[0][0]                    \n",
      "__________________________________________________________________________________________________\n",
      "lambda_5 (Lambda)               (None, 3)            0           lambda_3[0][0]                   \n",
      "                                                                 lambda_4[0][0]                   \n",
      "                                                                 lambda_1[0][0]                   \n",
      "__________________________________________________________________________________________________\n",
      "lambda_2 (Lambda)               (None,)              0           input_1[0][0]                    \n",
      "__________________________________________________________________________________________________\n",
      "model_16 (Model)                (None, 1)            8           lambda_5[0][0]                   \n",
      "__________________________________________________________________________________________________\n",
      "lambda_6 (Lambda)               (None, 2)            0           lambda_1[0][0]                   \n",
      "                                                                 lambda_2[0][0]                   \n",
      "__________________________________________________________________________________________________\n",
      "reshape_1 (Reshape)             (None, 1)            0           model_16[1][0]                   \n",
      "__________________________________________________________________________________________________\n",
      "concatenate_1 (Concatenate)     (None, 3)            0           lambda_6[0][0]                   \n",
      "                                                                 reshape_1[0][0]                  \n",
      "__________________________________________________________________________________________________\n",
      "lambda_7 (Lambda)               (None, 1)            0           lambda_2[0][0]                   \n",
      "__________________________________________________________________________________________________\n",
      "model_1 (Model)                 (None, 1)            3           concatenate_1[0][0]              \n",
      "__________________________________________________________________________________________________\n",
      "reshape_2 (Reshape)             (None, 1)            0           lambda_7[0][0]                   \n",
      "__________________________________________________________________________________________________\n",
      "model_32 (Model)                (None, 1)            25          concatenate_1[0][0]              \n",
      "__________________________________________________________________________________________________\n",
      "model_2 (Model)                 (None, 1)            3           concatenate_1[0][0]              \n",
      "__________________________________________________________________________________________________\n",
      "reshape_3 (Reshape)             (None, 1)            0           lambda_2[0][0]                   \n",
      "__________________________________________________________________________________________________\n",
      "concatenate_2 (Concatenate)     (None, 2)            0           model_1[1][0]                    \n",
      "                                                                 reshape_2[0][0]                  \n",
      "__________________________________________________________________________________________________\n",
      "concatenate_3 (Concatenate)     (None, 2)            0           model_2[1][0]                    \n",
      "                                                                 reshape_3[0][0]                  \n",
      "__________________________________________________________________________________________________\n",
      "lambda_8 (Lambda)               (None, 1)            0           model_32[1][0]                   \n",
      "__________________________________________________________________________________________________\n",
      "multiply_1 (Multiply)           (None, 2)            0           concatenate_2[0][0]              \n",
      "                                                                 model_32[1][0]                   \n",
      "__________________________________________________________________________________________________\n",
      "multiply_2 (Multiply)           (None, 2)            0           concatenate_3[0][0]              \n",
      "                                                                 lambda_8[0][0]                   \n",
      "__________________________________________________________________________________________________\n",
      "add_1 (Add)                     (None, 2)            0           multiply_1[0][0]                 \n",
      "                                                                 multiply_2[0][0]                 \n",
      "==================================================================================================\n",
      "Total params: 39\n",
      "Trainable params: 39\n",
      "Non-trainable params: 0\n",
      "__________________________________________________________________________________________________\n"
     ]
    }
   ],
   "source": [
    "i = Input(shape=(4,))\n",
    "\n",
    "x = Lambda(lambda s: s[:,0])(i)\n",
    "v = Lambda(lambda s: s[:,1])(i)\n",
    "b1 = Lambda(lambda s: s[:,2])(i)\n",
    "b2 = Lambda(lambda s: s[:,3])(i)\n",
    "dropv = Lambda(lambda s: K.stack([s[0],s[1],s[2]], axis=1), output_shape=(3,))([b1,b2,x])\n",
    "# dropv = Concatenate(axis=1)([b1,b2])\n",
    "# dropv = Reshape((3,))(dropv)\n",
    "getb = border(dropv)\n",
    "getb = Reshape((1,))(getb)\n",
    "\n",
    "xv = Lambda(lambda s: K.stack([s[0],s[1]], axis=1), output_shape=(2,))([x,v])\n",
    "# xv = Reshape((2,))(xv)\n",
    "xvb = Concatenate()([xv,getb])\n",
    "at = att(xvb)\n",
    "# at3 = Lambda(lambda s: K.stack([s[:,0],s[:,0],s[:,0]],axis=1))(at)\n",
    "h3 = bounce(xvb)\n",
    "v2 = Lambda(lambda s: -s, output_shape=(1,))(v)\n",
    "h3 = Concatenate()([h3,Reshape((1,))(v2)])\n",
    "mul1 = Multiply()([h3, at])\n",
    "\n",
    "notat = Lambda(lambda s: 1-s, output_shape=(1,))(at)\n",
    "# notat3 = Lambda(lambda s: K.stack([1-s[:,0],1-s[:,0],1-s[:,0]],axis=1))(at)\n",
    "g3 = move(xvb)\n",
    "g3 = Concatenate()([g3,Reshape((1,))(v)])\n",
    "mul2 = Multiply()([g3, notat])\n",
    "\n",
    "out = Add()([mul1,mul2])\n",
    "\n",
    "module = Model(inputs=i, outputs=out)\n",
    "module.compile(loss=mean_squared_error,\n",
    "              optimizer='adam',\n",
    "              metrics=['accuracy'])\n",
    "module.summary()"
   ]
  },
  {
   "cell_type": "code",
   "execution_count": 9,
   "metadata": {},
   "outputs": [],
   "source": [
    "a, y = next(gen(batch_size=1))\n",
    "P = module.predict(a)"
   ]
  },
  {
   "cell_type": "code",
   "execution_count": 10,
   "metadata": {},
   "outputs": [
    {
     "data": {
      "text/plain": [
       "8.175270523099913e-13"
      ]
     },
     "execution_count": 10,
     "metadata": {},
     "output_type": "execute_result"
    }
   ],
   "source": [
    "mse(y, P)"
   ]
  },
  {
   "cell_type": "code",
   "execution_count": 11,
   "metadata": {},
   "outputs": [
    {
     "name": "stdout",
     "output_type": "stream",
     "text": [
      "__________________________________________________________________________________________________\n",
      "Layer (type)                    Output Shape         Param #     Connected to                     \n",
      "==================================================================================================\n",
      "input_2 (InputLayer)            (None, 8)            0                                            \n",
      "__________________________________________________________________________________________________\n",
      "lambda_9 (Lambda)               (None, 4)            0           input_2[0][0]                    \n",
      "__________________________________________________________________________________________________\n",
      "lambda_10 (Lambda)              (None, 4, 1)         0           input_2[0][0]                    \n",
      "__________________________________________________________________________________________________\n",
      "reshape_4 (Reshape)             (None, 4)            0           lambda_9[0][0]                   \n",
      "__________________________________________________________________________________________________\n",
      "reshape_5 (Reshape)             (None, 4)            0           lambda_10[0][0]                  \n",
      "__________________________________________________________________________________________________\n",
      "model_1 (Model)                 (None, 2)            39          reshape_4[0][0]                  \n",
      "                                                                 reshape_5[0][0]                  \n",
      "__________________________________________________________________________________________________\n",
      "concatenate_4 (Concatenate)     (None, 4)            0           model_1[1][0]                    \n",
      "                                                                 model_1[2][0]                    \n",
      "==================================================================================================\n",
      "Total params: 39\n",
      "Trainable params: 39\n",
      "Non-trainable params: 0\n",
      "__________________________________________________________________________________________________\n"
     ]
    }
   ],
   "source": [
    "inputs2d = Input(shape=(8,))\n",
    "\n",
    "split_x = Lambda(lambda s: s[:,:4], output_shape=(4,))(inputs2d)\n",
    "split_x = Reshape((4,))(split_x) #split_x.shape gives (None, 4) otherwise\n",
    "model_x = module(split_x)\n",
    "\n",
    "split_y = Lambda(lambda s: s[:,4:], output_shape=(4,1))(inputs2d)\n",
    "split_y = Reshape((4,))(split_y)\n",
    "model_y = module(split_y)\n",
    "\n",
    "x = Concatenate()([model_x, model_y])\n",
    "\n",
    "model_2d = Model(inputs=inputs2d, outputs=x)\n",
    "model_2d.compile(loss=mean_squared_error,\n",
    "              optimizer='adam')\n",
    "model_2d.summary()"
   ]
  },
  {
   "cell_type": "code",
   "execution_count": null,
   "metadata": {},
   "outputs": [],
   "source": []
  },
  {
   "cell_type": "code",
   "execution_count": 13,
   "metadata": {},
   "outputs": [
    {
     "name": "stdout",
     "output_type": "stream",
     "text": [
      "Epoch 1/10\n",
      "12800/12800 [==============================] - 38s 3ms/step - loss: 1.9319e-04 - acc: 0.9993\n",
      "Epoch 2/10\n",
      "12800/12800 [==============================] - 38s 3ms/step - loss: 2.0211e-04 - acc: 0.9989\n",
      "Epoch 3/10\n",
      "12800/12800 [==============================] - 38s 3ms/step - loss: 1.8735e-04 - acc: 0.9993\n",
      "Epoch 4/10\n",
      "12800/12800 [==============================] - 38s 3ms/step - loss: 1.7901e-04 - acc: 0.9992\n",
      "Epoch 5/10\n",
      "12800/12800 [==============================] - 38s 3ms/step - loss: 1.8615e-04 - acc: 0.9992\n",
      "Epoch 6/10\n",
      "12800/12800 [==============================] - 38s 3ms/step - loss: 1.7166e-04 - acc: 0.9993\n",
      "Epoch 7/10\n",
      "12800/12800 [==============================] - 38s 3ms/step - loss: 1.7731e-04 - acc: 0.9989\n",
      "Epoch 8/10\n",
      "12800/12800 [==============================] - 38s 3ms/step - loss: 1.6494e-04 - acc: 0.9992\n",
      "Epoch 9/10\n",
      "12800/12800 [==============================] - 38s 3ms/step - loss: 1.7764e-04 - acc: 0.9992\n",
      "Epoch 10/10\n",
      "12800/12800 [==============================] - 38s 3ms/step - loss: 1.6731e-04 - acc: 0.9992: 1s - loss:\n"
     ]
    },
    {
     "data": {
      "text/plain": [
       "<keras.callbacks.History at 0x7fdce389a438>"
      ]
     },
     "execution_count": 13,
     "metadata": {},
     "output_type": "execute_result"
    }
   ],
   "source": [
    "module.fit_generator(gen(), steps_per_epoch=12800, epochs=10)"
   ]
  },
  {
   "cell_type": "markdown",
   "metadata": {},
   "source": [
    "###### Plotting"
   ]
  },
  {
   "cell_type": "code",
   "execution_count": 17,
   "metadata": {},
   "outputs": [],
   "source": [
    "X, Y = next(gen(batch_size=1))\n",
    "X2, Y2 = next(gen(batch_size=1))\n",
    "P = module.predict(a)\n",
    "\n",
    "b1, b2 = X[0,2:]\n",
    "c1, c2 = X2[0,2:]\n",
    "\n",
    "X\n",
    "\n",
    "A = np.concatenate([X,X2], axis=-1)\n",
    "\n",
    "preds = []\n",
    "# preds += [P]\n",
    "# x, xv, y, yv = P\n",
    "newA = A\n",
    "for _ in range(25):\n",
    "    P = model_2d.predict(newA)\n",
    "    preds += [P[0]]\n",
    "    x, xv, y, yv = P[0]\n",
    "    newA = np.array([[x,xv, b1, b2, y, yv, c1, c2]])"
   ]
  },
  {
   "cell_type": "code",
   "execution_count": 23,
   "metadata": {},
   "outputs": [],
   "source": [
    "preds = np.array(preds)"
   ]
  },
  {
   "cell_type": "code",
   "execution_count": 26,
   "metadata": {},
   "outputs": [],
   "source": [
    "import pandas as pd"
   ]
  },
  {
   "cell_type": "code",
   "execution_count": 28,
   "metadata": {},
   "outputs": [
    {
     "data": {
      "text/plain": [
       "(-5.154388300744257,\n",
       " 1.4825469545518954,\n",
       " -8.235656335741933,\n",
       " 0.3244847572534748)"
      ]
     },
     "execution_count": 28,
     "metadata": {},
     "output_type": "execute_result"
    }
   ],
   "source": [
    "b1,b2,c1,c2"
   ]
  },
  {
   "cell_type": "code",
   "execution_count": 27,
   "metadata": {},
   "outputs": [
    {
     "data": {
      "text/html": [
       "<div>\n",
       "<style scoped>\n",
       "    .dataframe tbody tr th:only-of-type {\n",
       "        vertical-align: middle;\n",
       "    }\n",
       "\n",
       "    .dataframe tbody tr th {\n",
       "        vertical-align: top;\n",
       "    }\n",
       "\n",
       "    .dataframe thead th {\n",
       "        text-align: right;\n",
       "    }\n",
       "</style>\n",
       "<table border=\"1\" class=\"dataframe\">\n",
       "  <thead>\n",
       "    <tr style=\"text-align: right;\">\n",
       "      <th></th>\n",
       "      <th>0</th>\n",
       "      <th>1</th>\n",
       "      <th>2</th>\n",
       "      <th>3</th>\n",
       "    </tr>\n",
       "  </thead>\n",
       "  <tbody>\n",
       "    <tr>\n",
       "      <th>0</th>\n",
       "      <td>-5.131349</td>\n",
       "      <td>-0.023512</td>\n",
       "      <td>-8.210212</td>\n",
       "      <td>-0.061174</td>\n",
       "    </tr>\n",
       "    <tr>\n",
       "      <th>1</th>\n",
       "      <td>-5.154073</td>\n",
       "      <td>-0.023512</td>\n",
       "      <td>-8.200579</td>\n",
       "      <td>0.061174</td>\n",
       "    </tr>\n",
       "    <tr>\n",
       "      <th>2</th>\n",
       "      <td>-5.131986</td>\n",
       "      <td>0.023512</td>\n",
       "      <td>-8.142243</td>\n",
       "      <td>0.061174</td>\n",
       "    </tr>\n",
       "    <tr>\n",
       "      <th>3</th>\n",
       "      <td>-5.109643</td>\n",
       "      <td>0.023512</td>\n",
       "      <td>-8.085902</td>\n",
       "      <td>0.061174</td>\n",
       "    </tr>\n",
       "    <tr>\n",
       "      <th>4</th>\n",
       "      <td>-5.088065</td>\n",
       "      <td>0.023512</td>\n",
       "      <td>-8.031487</td>\n",
       "      <td>0.061174</td>\n",
       "    </tr>\n",
       "    <tr>\n",
       "      <th>5</th>\n",
       "      <td>-5.067224</td>\n",
       "      <td>0.023512</td>\n",
       "      <td>-7.978930</td>\n",
       "      <td>0.061174</td>\n",
       "    </tr>\n",
       "    <tr>\n",
       "      <th>6</th>\n",
       "      <td>-5.047094</td>\n",
       "      <td>0.023512</td>\n",
       "      <td>-7.928171</td>\n",
       "      <td>0.061174</td>\n",
       "    </tr>\n",
       "    <tr>\n",
       "      <th>7</th>\n",
       "      <td>-5.027653</td>\n",
       "      <td>0.023512</td>\n",
       "      <td>-7.879146</td>\n",
       "      <td>0.061174</td>\n",
       "    </tr>\n",
       "    <tr>\n",
       "      <th>8</th>\n",
       "      <td>-5.008877</td>\n",
       "      <td>0.023512</td>\n",
       "      <td>-7.831796</td>\n",
       "      <td>0.061174</td>\n",
       "    </tr>\n",
       "    <tr>\n",
       "      <th>9</th>\n",
       "      <td>-4.990742</td>\n",
       "      <td>0.023512</td>\n",
       "      <td>-7.786065</td>\n",
       "      <td>0.061174</td>\n",
       "    </tr>\n",
       "    <tr>\n",
       "      <th>10</th>\n",
       "      <td>-4.973227</td>\n",
       "      <td>0.023512</td>\n",
       "      <td>-7.741897</td>\n",
       "      <td>0.061174</td>\n",
       "    </tr>\n",
       "    <tr>\n",
       "      <th>11</th>\n",
       "      <td>-4.956310</td>\n",
       "      <td>0.023512</td>\n",
       "      <td>-7.699239</td>\n",
       "      <td>0.061174</td>\n",
       "    </tr>\n",
       "    <tr>\n",
       "      <th>12</th>\n",
       "      <td>-4.939972</td>\n",
       "      <td>0.023512</td>\n",
       "      <td>-7.658038</td>\n",
       "      <td>0.061174</td>\n",
       "    </tr>\n",
       "    <tr>\n",
       "      <th>13</th>\n",
       "      <td>-4.924192</td>\n",
       "      <td>0.023512</td>\n",
       "      <td>-7.618246</td>\n",
       "      <td>0.061174</td>\n",
       "    </tr>\n",
       "    <tr>\n",
       "      <th>14</th>\n",
       "      <td>-4.908951</td>\n",
       "      <td>0.023512</td>\n",
       "      <td>-7.579814</td>\n",
       "      <td>0.061174</td>\n",
       "    </tr>\n",
       "    <tr>\n",
       "      <th>15</th>\n",
       "      <td>-4.894232</td>\n",
       "      <td>0.023512</td>\n",
       "      <td>-7.542695</td>\n",
       "      <td>0.061174</td>\n",
       "    </tr>\n",
       "    <tr>\n",
       "      <th>16</th>\n",
       "      <td>-4.880015</td>\n",
       "      <td>0.023512</td>\n",
       "      <td>-7.506845</td>\n",
       "      <td>0.061174</td>\n",
       "    </tr>\n",
       "    <tr>\n",
       "      <th>17</th>\n",
       "      <td>-4.866285</td>\n",
       "      <td>0.023512</td>\n",
       "      <td>-7.472220</td>\n",
       "      <td>0.061174</td>\n",
       "    </tr>\n",
       "    <tr>\n",
       "      <th>18</th>\n",
       "      <td>-4.853024</td>\n",
       "      <td>0.023512</td>\n",
       "      <td>-7.438779</td>\n",
       "      <td>0.061174</td>\n",
       "    </tr>\n",
       "    <tr>\n",
       "      <th>19</th>\n",
       "      <td>-4.840215</td>\n",
       "      <td>0.023512</td>\n",
       "      <td>-7.406480</td>\n",
       "      <td>0.061174</td>\n",
       "    </tr>\n",
       "    <tr>\n",
       "      <th>20</th>\n",
       "      <td>-4.827845</td>\n",
       "      <td>0.023512</td>\n",
       "      <td>-7.375286</td>\n",
       "      <td>0.061174</td>\n",
       "    </tr>\n",
       "    <tr>\n",
       "      <th>21</th>\n",
       "      <td>-4.815897</td>\n",
       "      <td>0.023512</td>\n",
       "      <td>-7.345157</td>\n",
       "      <td>0.061174</td>\n",
       "    </tr>\n",
       "    <tr>\n",
       "      <th>22</th>\n",
       "      <td>-4.804358</td>\n",
       "      <td>0.023512</td>\n",
       "      <td>-7.316059</td>\n",
       "      <td>0.061174</td>\n",
       "    </tr>\n",
       "    <tr>\n",
       "      <th>23</th>\n",
       "      <td>-4.793214</td>\n",
       "      <td>0.023512</td>\n",
       "      <td>-7.287954</td>\n",
       "      <td>0.061174</td>\n",
       "    </tr>\n",
       "    <tr>\n",
       "      <th>24</th>\n",
       "      <td>-4.782450</td>\n",
       "      <td>0.023512</td>\n",
       "      <td>-7.260811</td>\n",
       "      <td>0.061174</td>\n",
       "    </tr>\n",
       "  </tbody>\n",
       "</table>\n",
       "</div>"
      ],
      "text/plain": [
       "           0         1         2         3\n",
       "0  -5.131349 -0.023512 -8.210212 -0.061174\n",
       "1  -5.154073 -0.023512 -8.200579  0.061174\n",
       "2  -5.131986  0.023512 -8.142243  0.061174\n",
       "3  -5.109643  0.023512 -8.085902  0.061174\n",
       "4  -5.088065  0.023512 -8.031487  0.061174\n",
       "5  -5.067224  0.023512 -7.978930  0.061174\n",
       "6  -5.047094  0.023512 -7.928171  0.061174\n",
       "7  -5.027653  0.023512 -7.879146  0.061174\n",
       "8  -5.008877  0.023512 -7.831796  0.061174\n",
       "9  -4.990742  0.023512 -7.786065  0.061174\n",
       "10 -4.973227  0.023512 -7.741897  0.061174\n",
       "11 -4.956310  0.023512 -7.699239  0.061174\n",
       "12 -4.939972  0.023512 -7.658038  0.061174\n",
       "13 -4.924192  0.023512 -7.618246  0.061174\n",
       "14 -4.908951  0.023512 -7.579814  0.061174\n",
       "15 -4.894232  0.023512 -7.542695  0.061174\n",
       "16 -4.880015  0.023512 -7.506845  0.061174\n",
       "17 -4.866285  0.023512 -7.472220  0.061174\n",
       "18 -4.853024  0.023512 -7.438779  0.061174\n",
       "19 -4.840215  0.023512 -7.406480  0.061174\n",
       "20 -4.827845  0.023512 -7.375286  0.061174\n",
       "21 -4.815897  0.023512 -7.345157  0.061174\n",
       "22 -4.804358  0.023512 -7.316059  0.061174\n",
       "23 -4.793214  0.023512 -7.287954  0.061174\n",
       "24 -4.782450  0.023512 -7.260811  0.061174"
      ]
     },
     "execution_count": 27,
     "metadata": {},
     "output_type": "execute_result"
    }
   ],
   "source": [
    "pd.DataFrame(preds)"
   ]
  },
  {
   "cell_type": "code",
   "execution_count": 30,
   "metadata": {},
   "outputs": [
    {
     "data": {
      "text/plain": [
       "[<matplotlib.lines.Line2D at 0x7fdce29f62b0>]"
      ]
     },
     "execution_count": 30,
     "metadata": {},
     "output_type": "execute_result"
    },
    {
     "data": {
      "image/png": "[encoded data removed]",
      "text/plain": [
       "<Figure size 360x360 with 1 Axes>"
      ]
     },
     "metadata": {
      "needs_background": "light"
     },
     "output_type": "display_data"
    }
   ],
   "source": [
    "fig, ax = plt.subplots(figsize=(5, 5))\n",
    "ax.set(xlim=(-6, -3), ylim=(-9, -6))\n",
    "line = ax.plot([0,1],[0,0])\n",
    "\n",
    "x,xv,y,yv = preds[0]\n",
    "plt.quiver(x, y, xv, yv)\n",
    "plt.scatter(preds[:,0], preds[:,2])\n",
    "plt.plot([b1,b1],[c1,c2])"
   ]
  },
  {
   "cell_type": "code",
   "execution_count": 321,
   "metadata": {},
   "outputs": [],
   "source": [
    "# save_model(module, 'module')\n",
    "# save_model(model_2d, 'model_2d')"
   ]
  },
  {
   "cell_type": "code",
   "execution_count": 322,
   "metadata": {},
   "outputs": [
    {
     "data": {
      "text/plain": [
       "array([[-5.8856192e+00, -4.3621459e-03, -2.7435567e+00,  8.0195285e-02],\n",
       "       [-5.8897634e+00, -3.0367491e-03, -2.6634350e+00,  8.0195285e-02],\n",
       "       [-5.8890600e+00,  2.7214480e-04, -2.5833900e+00,  8.0195285e-02],\n",
       "       [-5.8887424e+00,  2.7214480e-04, -2.5034218e+00,  8.0195285e-02],\n",
       "       [-5.8884249e+00,  2.7214480e-04, -2.4235301e+00,  8.0195285e-02],\n",
       "       [-5.8881078e+00,  2.7214480e-04, -2.3437150e+00,  8.0195285e-02],\n",
       "       [-5.8877912e+00,  2.7214480e-04, -2.2639761e+00,  8.0195285e-02],\n",
       "       [-5.8874745e+00,  2.7214480e-04, -2.1843138e+00,  8.0195285e-02],\n",
       "       [-5.8871584e+00,  2.7214480e-04, -2.1047277e+00,  8.0195285e-02],\n",
       "       [-5.8868427e+00,  2.7214480e-04, -2.0252178e+00,  8.0195285e-02],\n",
       "       [-5.8865271e+00,  2.7214480e-04, -1.9457841e+00,  8.0195285e-02],\n",
       "       [-5.8862119e+00,  2.7214480e-04, -1.8664265e+00,  8.0195285e-02],\n",
       "       [-5.8858972e+00,  2.7214480e-04, -1.7871448e+00,  8.0195285e-02],\n",
       "       [-5.8855824e+00,  2.7214480e-04, -1.7079390e+00,  8.0195285e-02],\n",
       "       [-5.8852682e+00,  2.7214480e-04, -1.6288091e+00,  8.0195285e-02]],\n",
       "      dtype=float32)"
      ]
     },
     "execution_count": 322,
     "metadata": {},
     "output_type": "execute_result"
    }
   ],
   "source": [
    "preds"
   ]
  },
  {
   "cell_type": "code",
   "execution_count": null,
   "metadata": {},
   "outputs": [],
   "source": []
  },
  {
   "cell_type": "markdown",
   "metadata": {},
   "source": [
    "## Loss landscape"
   ]
  },
  {
   "cell_type": "code",
   "execution_count": 31,
   "metadata": {},
   "outputs": [],
   "source": [
    "from copy import deepcopy"
   ]
  },
  {
   "cell_type": "code",
   "execution_count": 33,
   "metadata": {},
   "outputs": [],
   "source": [
    "ogweights = model_2d.get_weights()"
   ]
  },
  {
   "cell_type": "code",
   "execution_count": 34,
   "metadata": {},
   "outputs": [
    {
     "data": {
      "text/plain": [
       "array([[-1.20498933,  0.85248733],\n",
       "       [ 1.97323133,  1.3507531 ],\n",
       "       [ 1.34699454,  1.37040191]])"
      ]
     },
     "execution_count": 34,
     "metadata": {},
     "output_type": "execute_result"
    }
   ],
   "source": [
    "np.random.randn(3, 2)"
   ]
  },
  {
   "cell_type": "code",
   "execution_count": 35,
   "metadata": {},
   "outputs": [],
   "source": [
    "X, Y = next(gen(batch_size=1000))\n",
    "X2, Y2 = next(gen(batch_size=1000))\n",
    "A = np.concatenate([X,X2], axis=-1)\n",
    "P = model_2d.predict(A)\n",
    "B = np.concatenate([Y,Y2], axis=-1)"
   ]
  },
  {
   "cell_type": "code",
   "execution_count": 36,
   "metadata": {},
   "outputs": [
    {
     "data": {
      "text/plain": [
       "(1000, 4)"
      ]
     },
     "execution_count": 36,
     "metadata": {},
     "output_type": "execute_result"
    }
   ],
   "source": [
    "B.shape"
   ]
  },
  {
   "cell_type": "code",
   "execution_count": 37,
   "metadata": {},
   "outputs": [
    {
     "data": {
      "text/plain": [
       "array([[-0.73691285, -0.08593178],\n",
       "       [ 0.85796611, -0.61400001],\n",
       "       [ 0.36957223, -0.33950763]])"
      ]
     },
     "execution_count": 37,
     "metadata": {},
     "output_type": "execute_result"
    }
   ],
   "source": [
    "np.random.normal(size=(3,2))"
   ]
  },
  {
   "cell_type": "code",
   "execution_count": 38,
   "metadata": {},
   "outputs": [],
   "source": [
    "og_weights = deepcopy(model_2d.get_weights())"
   ]
  },
  {
   "cell_type": "code",
   "execution_count": 39,
   "metadata": {},
   "outputs": [],
   "source": [
    "# delta = deepcopy(model_2d.get_weights())\n",
    "\n",
    "# theta = []\n",
    "# for weights in delta:\n",
    "#     theta += [np.random.normal(scale=0.9, size=weights.shape) * weights]\n",
    "    \n",
    "# def get_weight_combo(alpha):\n",
    "#     l = []\n",
    "#     if alpha > 1:\n",
    "        \n",
    "        \n",
    "        \n",
    "#     for i in range(len(delta)):\n",
    "#         l += [ delta[i]*alpha + theta[i]*(1-alpha) ]\n",
    "#     return l"
   ]
  },
  {
   "cell_type": "code",
   "execution_count": 40,
   "metadata": {},
   "outputs": [],
   "source": [
    "model_2d.set_weights(og_weights)"
   ]
  },
  {
   "cell_type": "code",
   "execution_count": 41,
   "metadata": {},
   "outputs": [],
   "source": [
    "delta = deepcopy(model_2d.get_weights())\n",
    "\n",
    "theta = []\n",
    "for weights in delta:\n",
    "    theta += [np.random.normal(scale=0.5, size=weights.shape) * weights]\n",
    "    \n",
    "def get_weight_combo(alpha):\n",
    "    l = []\n",
    "#     if alpha > 1:\n",
    "#         for i in range(len(delta)):\n",
    "#             l += [ delta[i]*alpha - theta[i]*(1-alpha) ]\n",
    "#         return l        \n",
    "        \n",
    "    for i in range(len(delta)):\n",
    "        l += [ delta[i]*alpha + theta[i]*(1-alpha) ]\n",
    "    return l"
   ]
  },
  {
   "cell_type": "code",
   "execution_count": 42,
   "metadata": {},
   "outputs": [],
   "source": [
    "rmse_list = []\n",
    "alphas = np.linspace(0, 2, num=101)\n",
    "for alpha in alphas:\n",
    "    weights = get_weight_combo(alpha)\n",
    "    model_2d.set_weights(weights)\n",
    "    P = model_2d.predict(A)\n",
    "    rmse_list += [mse(B, P)**0.5]"
   ]
  },
  {
   "cell_type": "code",
   "execution_count": 1,
   "metadata": {},
   "outputs": [
    {
     "ename": "NameError",
     "evalue": "name 'plt' is not defined",
     "output_type": "error",
     "traceback": [
      "\u001b[0;31m---------------------------------------------------------------------------\u001b[0m",
      "\u001b[0;31mNameError\u001b[0m                                 Traceback (most recent call last)",
      "\u001b[0;32m<ipython-input-1-f21f015f498a>\u001b[0m in \u001b[0;36m<module>\u001b[0;34m\u001b[0m\n\u001b[0;32m----> 1\u001b[0;31m \u001b[0mfig\u001b[0m\u001b[0;34m,\u001b[0m \u001b[0max\u001b[0m \u001b[0;34m=\u001b[0m \u001b[0mplt\u001b[0m\u001b[0;34m.\u001b[0m\u001b[0msubplots\u001b[0m\u001b[0;34m(\u001b[0m\u001b[0mfigsize\u001b[0m\u001b[0;34m=\u001b[0m\u001b[0;34m(\u001b[0m\u001b[0;36m5\u001b[0m\u001b[0;34m,\u001b[0m \u001b[0;36m5\u001b[0m\u001b[0;34m)\u001b[0m\u001b[0;34m)\u001b[0m\u001b[0;34m\u001b[0m\u001b[0;34m\u001b[0m\u001b[0m\n\u001b[0m\u001b[1;32m      2\u001b[0m \u001b[0max\u001b[0m\u001b[0;34m.\u001b[0m\u001b[0mset\u001b[0m\u001b[0;34m(\u001b[0m\u001b[0mxlim\u001b[0m\u001b[0;34m=\u001b[0m\u001b[0;34m(\u001b[0m\u001b[0;34m-\u001b[0m\u001b[0;36m1\u001b[0m\u001b[0;34m,\u001b[0m \u001b[0;34m-\u001b[0m\u001b[0;36m1\u001b[0m\u001b[0;34m)\u001b[0m\u001b[0;34m)\u001b[0m\u001b[0;34m\u001b[0m\u001b[0;34m\u001b[0m\u001b[0m\n\u001b[1;32m      3\u001b[0m \u001b[0mline\u001b[0m \u001b[0;34m=\u001b[0m \u001b[0max\u001b[0m\u001b[0;34m.\u001b[0m\u001b[0mplot\u001b[0m\u001b[0;34m(\u001b[0m\u001b[0;34m[\u001b[0m\u001b[0;36m0\u001b[0m\u001b[0;34m,\u001b[0m\u001b[0;36m1\u001b[0m\u001b[0;34m]\u001b[0m\u001b[0;34m,\u001b[0m\u001b[0;34m[\u001b[0m\u001b[0;36m0\u001b[0m\u001b[0;34m,\u001b[0m\u001b[0;36m0\u001b[0m\u001b[0;34m]\u001b[0m\u001b[0;34m)\u001b[0m\u001b[0;34m\u001b[0m\u001b[0;34m\u001b[0m\u001b[0m\n\u001b[1;32m      4\u001b[0m \u001b[0;34m\u001b[0m\u001b[0m\n\u001b[1;32m      5\u001b[0m \u001b[0mplt\u001b[0m\u001b[0;34m.\u001b[0m\u001b[0mplot\u001b[0m\u001b[0;34m(\u001b[0m\u001b[0malphas\u001b[0m\u001b[0;34m,\u001b[0m \u001b[0mrmse_list\u001b[0m\u001b[0;34m)\u001b[0m\u001b[0;34m\u001b[0m\u001b[0;34m\u001b[0m\u001b[0m\n",
      "\u001b[0;31mNameError\u001b[0m: name 'plt' is not defined"
     ]
    }
   ],
   "source": [
    "fig, ax = plt.subplots(figsize=(5, 5))\n",
    "ax.set(xlim=(-1, -1))\n",
    "line = ax.plot([0,1],[0,0])\n",
    "\n",
    "plt.plot(alphas, rmse_list)"
   ]
  },
  {
   "cell_type": "code",
   "execution_count": null,
   "metadata": {},
   "outputs": [],
   "source": []
  }
 ],
 "metadata": {
  "kernelspec": {
   "display_name": "Python 3",
   "language": "python",
   "name": "python3"
  },
  "language_info": {
   "codemirror_mode": {
    "name": "ipython",
    "version": 3
   },
   "file_extension": ".py",
   "mimetype": "text/x-python",
   "name": "python",
   "nbconvert_exporter": "python",
   "pygments_lexer": "ipython3",
   "version": "3.6.8"
  }
 },
 "nbformat": 4,
 "nbformat_minor": 2
}
