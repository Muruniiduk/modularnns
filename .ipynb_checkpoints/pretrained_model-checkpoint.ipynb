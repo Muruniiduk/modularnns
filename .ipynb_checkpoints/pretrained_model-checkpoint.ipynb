{
 "cells": [
  {
   "cell_type": "code",
   "execution_count": 1,
   "metadata": {},
   "outputs": [
    {
     "name": "stderr",
     "output_type": "stream",
     "text": [
      "Using TensorFlow backend.\n"
     ]
    }
   ],
   "source": [
    "import pandas as pd\n",
    "import numpy as np\n",
    "from keras.layers import Input, Dense, LSTM, RepeatVector, TimeDistributed, RNN, Lambda, Concatenate, Reshape, Add\n",
    "from keras.layers.merge import Multiply\n",
    "from keras.models import Model\n",
    "from keras.losses import mean_squared_error, binary_crossentropy\n",
    "from keras.models import Model\n",
    "from keras.models import load_model\n",
    "from keras.models import model_from_json\n",
    "import keras.backend as K\n",
    "import matplotlib.pyplot as plt\n",
    "from sklearn.metrics import mean_squared_error as mse\n",
    "def open_and_load(string):\n",
    "    with open('trained/'+string+'.json', 'r') as f:\n",
    "        model = model_from_json(f.read())\n",
    "    model.load_weights('trained/'+string+'.h5')   \n",
    "    return model"
   ]
  },
  {
   "cell_type": "code",
   "execution_count": 2,
   "metadata": {},
   "outputs": [],
   "source": [
    "def save_model(model, model_str):\n",
    "    model_json = model.to_json()\n",
    "    with open('trained/'+model_str+\".json\", \"w\") as json_file:\n",
    "        json_file.write(model_json)\n",
    "    # serialize weights to HDF5\n",
    "    model.save_weights('trained/'+model_str+\".h5\")\n",
    "    print(\"Saved model to disk\")"
   ]
  },
  {
   "cell_type": "code",
   "execution_count": 3,
   "metadata": {},
   "outputs": [],
   "source": [
    "change2 = open_and_load('change') #is pos or neg, 1 arg\n",
    "border = open_and_load('border') #which border, b1,b2,x\n",
    "border_att = open_and_load('border_att') #isFirstBorder, b1,b2,bx\n",
    "att = open_and_load('att3') #move or bounce, x,v,b\n",
    "move = open_and_load('move') # x+v, x,v,b\n",
    "bounce = open_and_load('bounce') #2b-v-x, x,v,b"
   ]
  },
  {
   "cell_type": "code",
   "execution_count": 5,
   "metadata": {},
   "outputs": [],
   "source": [
    "def gen(batch_size=128):\n",
    "    while True:\n",
    "        a = np.zeros((batch_size,4)) #x, v, b1, b2\n",
    "        a[:,1] = np.random.uniform(0,0.1,size=batch_size)\n",
    "        a[:,2] = np.random.uniform(0,-10,size=batch_size)\n",
    "        a[:,3] = np.random.uniform(0, 10,size=batch_size)\n",
    "        i = np.random.choice([0,1], size=batch_size) #isb1\n",
    "        b = a[:,2]*i + a[:,3]*(1-i)\n",
    "        a[:,1] *= np.sign(1-i-0.5) \n",
    "        a[:,0] = np.random.uniform(b, b-2*a[:,1])\n",
    "        \n",
    "        isBounce = ( np.abs(a[:,0] + a[:,1]) - np.abs(b)) > 0\n",
    "        \n",
    "        v = a[:,1] * np.sign(1-isBounce-0.5) #new speed\n",
    "        x = (a[:,0] + a[:,1]) * (1-isBounce) + (2*b-a[:,1]-a[:,0])*isBounce\n",
    "        b_newIsb1 = ((x-a[:,2])/(a[:,3]-a[:,2])) < 0.5\n",
    "        b_new = a[:,2]*b_newIsb1 + a[:,3]*(1-b_newIsb1)\n",
    "        y = np.zeros((batch_size,2))\n",
    "        y[:,0] = x\n",
    "        y[:,1] = v\n",
    "#         y[:,2] = b_new\n",
    "        \n",
    "#         y = np.zeros((batch_size,3))\n",
    "#         y[:,0] = x\n",
    "#         y[:,1] = v\n",
    "#         y[:,2] = b_new\n",
    "        \n",
    "        yield a, y     "
   ]
  },
  {
   "cell_type": "code",
   "execution_count": 25,
   "metadata": {},
   "outputs": [],
   "source": [
    "a,b = next(gen(batch_size=1))"
   ]
  },
  {
   "cell_type": "code",
   "execution_count": 26,
   "metadata": {},
   "outputs": [],
   "source": [
    "a = np.random.randn(4)\n",
    "b = np.random.randn(4)"
   ]
  },
  {
   "cell_type": "code",
   "execution_count": 27,
   "metadata": {},
   "outputs": [
    {
     "data": {
      "text/plain": [
       "array([-0.1873963 , -0.26583672,  0.14103293,  0.49912881, -1.21597556,\n",
       "        0.21142969,  0.37293987,  1.80745683])"
      ]
     },
     "execution_count": 27,
     "metadata": {},
     "output_type": "execute_result"
    }
   ],
   "source": [
    "K.np.concatenate([a.tolist(),b.tolist()])"
   ]
  },
  {
   "cell_type": "code",
   "execution_count": 28,
   "metadata": {
    "scrolled": false
   },
   "outputs": [],
   "source": [
    "i = Input(shape=(4,))\n",
    "\n",
    "x = Lambda(lambda s: s[:,0],name='x')(i)\n",
    "v = Lambda(lambda s: s[:,1],name='v')(i)\n",
    "b1 = Lambda(lambda s: s[:,2],name='b1')(i)\n",
    "b2 = Lambda(lambda s: s[:,3],name='b2')(i)\n",
    "dropv = Lambda(lambda s: K.stack([s[0],s[1],s[2]], axis=1), output_shape=(3,),name='drop_v')([b1,b2,x])\n",
    "# dropv = Concatenate(axis=1)([b1,b2])\n",
    "# dropv = Reshape((3,))(dropv)\n",
    "border.name='border'\n",
    "getb = border(dropv)\n",
    "getb = Reshape((1,))(getb)\n",
    "\n",
    "xv = Lambda(lambda s: K.stack([s[0],s[1]], axis=1), output_shape=(2,),name='xv')([x,v])\n",
    "# xv = Reshape((2,))(xv)\n",
    "xvb = Concatenate(name='xvb')([xv,getb])\n",
    "att.name='attention'\n",
    "at = att(xvb)\n",
    "# at3 = Lambda(lambda s: K.stack([s[:,0],s[:,0],s[:,0]],axis=1))(at)\n",
    "bounce.name='bounce'\n",
    "h3 = bounce(xvb)\n",
    "v2 = Lambda(lambda s: -s, output_shape=(1,),name='new_v')(v)\n",
    "h3 = Concatenate(name='bounce_concat')([h3,Reshape((1,))(v2)])\n",
    "mul1 = Multiply(name='mul_att_bounce')([h3, at])\n",
    "\n",
    "notat = Lambda(lambda s: 1-s, output_shape=(1,),name='1-att')(at)\n",
    "# notat3 = Lambda(lambda s: K.stack([1-s[:,0],1-s[:,0],1-s[:,0]],axis=1))(at)\n",
    "move.name='move'\n",
    "g3 = move(xvb)\n",
    "g3 = Concatenate(name='move_concat')([g3,Reshape((1,))(v)])\n",
    "mul2 = Multiply(name='mul_att_move')([g3, notat])\n",
    "\n",
    "out = Add(name='output')([mul1,mul2])\n",
    "\n",
    "module = Model(inputs=i, outputs=out)\n",
    "module.compile(loss=mean_squared_error,\n",
    "              optimizer='adam',\n",
    "              metrics=['accuracy'])"
   ]
  },
  {
   "cell_type": "code",
   "execution_count": 29,
   "metadata": {},
   "outputs": [
    {
     "name": "stdout",
     "output_type": "stream",
     "text": [
      "__________________________________________________________________________________________________\n",
      "Layer (type)                    Output Shape         Param #     Connected to                     \n",
      "==================================================================================================\n",
      "input_3 (InputLayer)            (None, 4)            0                                            \n",
      "__________________________________________________________________________________________________\n",
      "x (Lambda)                      (None,)              0           input_3[0][0]                    \n",
      "__________________________________________________________________________________________________\n",
      "b1 (Lambda)                     (None,)              0           input_3[0][0]                    \n",
      "__________________________________________________________________________________________________\n",
      "b2 (Lambda)                     (None,)              0           input_3[0][0]                    \n",
      "__________________________________________________________________________________________________\n",
      "drop_v (Lambda)                 (None, 3)            0           b1[0][0]                         \n",
      "                                                                 b2[0][0]                         \n",
      "                                                                 x[0][0]                          \n",
      "__________________________________________________________________________________________________\n",
      "v (Lambda)                      (None,)              0           input_3[0][0]                    \n",
      "__________________________________________________________________________________________________\n",
      "border (Model)                  (None, 1)            7           drop_v[0][0]                     \n",
      "__________________________________________________________________________________________________\n",
      "xv (Lambda)                     (None, 2)            0           x[0][0]                          \n",
      "                                                                 v[0][0]                          \n",
      "__________________________________________________________________________________________________\n",
      "reshape_6 (Reshape)             (None, 1)            0           border[1][0]                     \n",
      "__________________________________________________________________________________________________\n",
      "xvb (Concatenate)               (None, 3)            0           xv[0][0]                         \n",
      "                                                                 reshape_6[0][0]                  \n",
      "__________________________________________________________________________________________________\n",
      "new_v (Lambda)                  (None, 1)            0           v[0][0]                          \n",
      "__________________________________________________________________________________________________\n",
      "bounce (Model)                  (None, 1)            3           xvb[0][0]                        \n",
      "__________________________________________________________________________________________________\n",
      "reshape_7 (Reshape)             (None, 1)            0           new_v[0][0]                      \n",
      "__________________________________________________________________________________________________\n",
      "attention (Model)               (None, 1)            25          xvb[0][0]                        \n",
      "__________________________________________________________________________________________________\n",
      "move (Model)                    (None, 1)            3           xvb[0][0]                        \n",
      "__________________________________________________________________________________________________\n",
      "reshape_8 (Reshape)             (None, 1)            0           v[0][0]                          \n",
      "__________________________________________________________________________________________________\n",
      "bounce_concat (Concatenate)     (None, 2)            0           bounce[1][0]                     \n",
      "                                                                 reshape_7[0][0]                  \n",
      "__________________________________________________________________________________________________\n",
      "move_concat (Concatenate)       (None, 2)            0           move[1][0]                       \n",
      "                                                                 reshape_8[0][0]                  \n",
      "__________________________________________________________________________________________________\n",
      "1-att (Lambda)                  (None, 1)            0           attention[1][0]                  \n",
      "__________________________________________________________________________________________________\n",
      "mul_att_bounce (Multiply)       (None, 2)            0           bounce_concat[0][0]              \n",
      "                                                                 attention[1][0]                  \n",
      "__________________________________________________________________________________________________\n",
      "mul_att_move (Multiply)         (None, 2)            0           move_concat[0][0]                \n",
      "                                                                 1-att[0][0]                      \n",
      "__________________________________________________________________________________________________\n",
      "output (Add)                    (None, 2)            0           mul_att_bounce[0][0]             \n",
      "                                                                 mul_att_move[0][0]               \n",
      "==================================================================================================\n",
      "Total params: 38\n",
      "Trainable params: 38\n",
      "Non-trainable params: 0\n",
      "__________________________________________________________________________________________________\n"
     ]
    }
   ],
   "source": [
    "module.summary()"
   ]
  },
  {
   "cell_type": "code",
   "execution_count": 30,
   "metadata": {},
   "outputs": [],
   "source": [
    "a, y = next(gen(batch_size=1))\n",
    "P = module.predict(a)"
   ]
  },
  {
   "cell_type": "code",
   "execution_count": 31,
   "metadata": {},
   "outputs": [
    {
     "data": {
      "text/plain": [
       "1.6870754203825896e-11"
      ]
     },
     "execution_count": 31,
     "metadata": {},
     "output_type": "execute_result"
    }
   ],
   "source": [
    "mse(y, P)"
   ]
  },
  {
   "cell_type": "code",
   "execution_count": 32,
   "metadata": {},
   "outputs": [],
   "source": [
    "module.name='module'"
   ]
  },
  {
   "cell_type": "code",
   "execution_count": 33,
   "metadata": {},
   "outputs": [],
   "source": [
    "inputs2d = Input(shape=(8,))\n",
    "\n",
    "split_x = Lambda(lambda s: s[:,:4], output_shape=(4,),name='x')(inputs2d)\n",
    "split_x = Reshape((4,))(split_x) #split_x.shape gives (None, 4) otherwise\n",
    "model_x = module(split_x)\n",
    "\n",
    "split_y = Lambda(lambda s: s[:,4:], output_shape=(4,1),name='y')(inputs2d)\n",
    "split_y = Reshape((4,))(split_y)\n",
    "model_y = module(split_y)\n",
    "\n",
    "x = Concatenate()([model_x, model_y])\n",
    "\n",
    "model_2d = Model(inputs=inputs2d, outputs=x)\n",
    "model_2d.compile(loss=mean_squared_error,\n",
    "              optimizer='adam')"
   ]
  },
  {
   "cell_type": "code",
   "execution_count": 34,
   "metadata": {},
   "outputs": [],
   "source": [
    "from keras.utils import plot_model\n",
    "plot_model(module, to_file='module.png')"
   ]
  },
  {
   "cell_type": "code",
   "execution_count": 35,
   "metadata": {},
   "outputs": [
    {
     "name": "stdout",
     "output_type": "stream",
     "text": [
      "__________________________________________________________________________________________________\n",
      "Layer (type)                    Output Shape         Param #     Connected to                     \n",
      "==================================================================================================\n",
      "input_4 (InputLayer)            (None, 8)            0                                            \n",
      "__________________________________________________________________________________________________\n",
      "x (Lambda)                      (None, 4)            0           input_4[0][0]                    \n",
      "__________________________________________________________________________________________________\n",
      "y (Lambda)                      (None, 4, 1)         0           input_4[0][0]                    \n",
      "__________________________________________________________________________________________________\n",
      "reshape_9 (Reshape)             (None, 4)            0           x[0][0]                          \n",
      "__________________________________________________________________________________________________\n",
      "reshape_10 (Reshape)            (None, 4)            0           y[0][0]                          \n",
      "__________________________________________________________________________________________________\n",
      "module (Model)                  (None, 2)            38          reshape_9[0][0]                  \n",
      "                                                                 reshape_10[0][0]                 \n",
      "__________________________________________________________________________________________________\n",
      "concatenate_2 (Concatenate)     (None, 4)            0           module[1][0]                     \n",
      "                                                                 module[2][0]                     \n",
      "==================================================================================================\n",
      "Total params: 38\n",
      "Trainable params: 38\n",
      "Non-trainable params: 0\n",
      "__________________________________________________________________________________________________\n"
     ]
    }
   ],
   "source": [
    "model_2d.summary()"
   ]
  },
  {
   "cell_type": "code",
   "execution_count": 36,
   "metadata": {},
   "outputs": [],
   "source": [
    "# module.fit_generator(gen(), steps_per_epoch=12800, epochs=10)"
   ]
  },
  {
   "cell_type": "code",
   "execution_count": 37,
   "metadata": {},
   "outputs": [],
   "source": [
    "# module = open_and_load('module')\n",
    "# model_2d = open_and_load('model_2d')"
   ]
  },
  {
   "cell_type": "code",
   "execution_count": 38,
   "metadata": {},
   "outputs": [],
   "source": [
    "X, Y = next(gen(batch_size=1000))\n",
    "X2, Y2 = next(gen(batch_size=1000))\n",
    "A = np.concatenate([X,X2], axis=-1)\n",
    "P = model_2d.predict(A)\n",
    "B = np.concatenate([Y,Y2], axis=-1)"
   ]
  },
  {
   "cell_type": "code",
   "execution_count": 39,
   "metadata": {},
   "outputs": [
    {
     "data": {
      "text/plain": [
       "0.012150246922318355"
      ]
     },
     "execution_count": 39,
     "metadata": {},
     "output_type": "execute_result"
    }
   ],
   "source": [
    "mse(P,B)**0.5"
   ]
  },
  {
   "cell_type": "code",
   "execution_count": 40,
   "metadata": {},
   "outputs": [
    {
     "name": "stdout",
     "output_type": "stream",
     "text": [
      "__________________________________________________________________________________________________\n",
      "Layer (type)                    Output Shape         Param #     Connected to                     \n",
      "==================================================================================================\n",
      "input_4 (InputLayer)            (None, 8)            0                                            \n",
      "__________________________________________________________________________________________________\n",
      "x (Lambda)                      (None, 4)            0           input_4[0][0]                    \n",
      "__________________________________________________________________________________________________\n",
      "y (Lambda)                      (None, 4, 1)         0           input_4[0][0]                    \n",
      "__________________________________________________________________________________________________\n",
      "reshape_9 (Reshape)             (None, 4)            0           x[0][0]                          \n",
      "__________________________________________________________________________________________________\n",
      "reshape_10 (Reshape)            (None, 4)            0           y[0][0]                          \n",
      "__________________________________________________________________________________________________\n",
      "module (Model)                  (None, 2)            38          reshape_9[0][0]                  \n",
      "                                                                 reshape_10[0][0]                 \n",
      "__________________________________________________________________________________________________\n",
      "concatenate_2 (Concatenate)     (None, 4)            0           module[1][0]                     \n",
      "                                                                 module[2][0]                     \n",
      "==================================================================================================\n",
      "Total params: 38\n",
      "Trainable params: 38\n",
      "Non-trainable params: 0\n",
      "__________________________________________________________________________________________________\n"
     ]
    }
   ],
   "source": [
    "model_2d.summary()"
   ]
  },
  {
   "cell_type": "code",
   "execution_count": 41,
   "metadata": {},
   "outputs": [
    {
     "name": "stdout",
     "output_type": "stream",
     "text": [
      "__________________________________________________________________________________________________\n",
      "Layer (type)                    Output Shape         Param #     Connected to                     \n",
      "==================================================================================================\n",
      "input_3 (InputLayer)            (None, 4)            0                                            \n",
      "__________________________________________________________________________________________________\n",
      "x (Lambda)                      (None,)              0           input_3[0][0]                    \n",
      "__________________________________________________________________________________________________\n",
      "b1 (Lambda)                     (None,)              0           input_3[0][0]                    \n",
      "__________________________________________________________________________________________________\n",
      "b2 (Lambda)                     (None,)              0           input_3[0][0]                    \n",
      "__________________________________________________________________________________________________\n",
      "drop_v (Lambda)                 (None, 3)            0           b1[0][0]                         \n",
      "                                                                 b2[0][0]                         \n",
      "                                                                 x[0][0]                          \n",
      "__________________________________________________________________________________________________\n",
      "v (Lambda)                      (None,)              0           input_3[0][0]                    \n",
      "__________________________________________________________________________________________________\n",
      "border (Model)                  (None, 1)            7           drop_v[0][0]                     \n",
      "__________________________________________________________________________________________________\n",
      "xv (Lambda)                     (None, 2)            0           x[0][0]                          \n",
      "                                                                 v[0][0]                          \n",
      "__________________________________________________________________________________________________\n",
      "reshape_6 (Reshape)             (None, 1)            0           border[1][0]                     \n",
      "__________________________________________________________________________________________________\n",
      "xvb (Concatenate)               (None, 3)            0           xv[0][0]                         \n",
      "                                                                 reshape_6[0][0]                  \n",
      "__________________________________________________________________________________________________\n",
      "new_v (Lambda)                  (None, 1)            0           v[0][0]                          \n",
      "__________________________________________________________________________________________________\n",
      "bounce (Model)                  (None, 1)            3           xvb[0][0]                        \n",
      "__________________________________________________________________________________________________\n",
      "reshape_7 (Reshape)             (None, 1)            0           new_v[0][0]                      \n",
      "__________________________________________________________________________________________________\n",
      "attention (Model)               (None, 1)            25          xvb[0][0]                        \n",
      "__________________________________________________________________________________________________\n",
      "move (Model)                    (None, 1)            3           xvb[0][0]                        \n",
      "__________________________________________________________________________________________________\n",
      "reshape_8 (Reshape)             (None, 1)            0           v[0][0]                          \n",
      "__________________________________________________________________________________________________\n",
      "bounce_concat (Concatenate)     (None, 2)            0           bounce[1][0]                     \n",
      "                                                                 reshape_7[0][0]                  \n",
      "__________________________________________________________________________________________________\n",
      "move_concat (Concatenate)       (None, 2)            0           move[1][0]                       \n",
      "                                                                 reshape_8[0][0]                  \n",
      "__________________________________________________________________________________________________\n",
      "1-att (Lambda)                  (None, 1)            0           attention[1][0]                  \n",
      "__________________________________________________________________________________________________\n",
      "mul_att_bounce (Multiply)       (None, 2)            0           bounce_concat[0][0]              \n",
      "                                                                 attention[1][0]                  \n",
      "__________________________________________________________________________________________________\n",
      "mul_att_move (Multiply)         (None, 2)            0           move_concat[0][0]                \n",
      "                                                                 1-att[0][0]                      \n",
      "__________________________________________________________________________________________________\n",
      "output (Add)                    (None, 2)            0           mul_att_bounce[0][0]             \n",
      "                                                                 mul_att_move[0][0]               \n",
      "==================================================================================================\n",
      "Total params: 38\n",
      "Trainable params: 38\n",
      "Non-trainable params: 0\n",
      "__________________________________________________________________________________________________\n"
     ]
    }
   ],
   "source": [
    "module.summary()"
   ]
  },
  {
   "cell_type": "markdown",
   "metadata": {},
   "source": [
    "###### Plotting"
   ]
  },
  {
   "cell_type": "code",
   "execution_count": 4,
   "metadata": {},
   "outputs": [],
   "source": [
    "model_2d = open_and_load('model_2d')"
   ]
  },
  {
   "cell_type": "code",
   "execution_count": 14,
   "metadata": {},
   "outputs": [],
   "source": [
    "X, Y = next(gen(batch_size=1))\n",
    "X2, Y2 = next(gen(batch_size=1))\n",
    "# P = module.predict(a)\n",
    "\n",
    "b1, b2 = X[0,2:]\n",
    "c1, c2 = X2[0,2:]\n",
    "\n",
    "X\n",
    "\n",
    "A = np.concatenate([X,X2], axis=-1)\n",
    "\n",
    "preds = []\n",
    "# preds += [P]\n",
    "# x, xv, y, yv = P\n",
    "newA = A\n",
    "preds += [A[0,[0,1,4,5]]]\n",
    "for _ in range(25):\n",
    "    P = model_2d.predict(newA)\n",
    "    preds += [P[0]]\n",
    "    x, xv, y, yv = P[0]\n",
    "    newA = np.array([[x,xv, b1, b2, y, yv, c1, c2]])\n",
    "preds = np.array(preds)"
   ]
  },
  {
   "cell_type": "code",
   "execution_count": 15,
   "metadata": {},
   "outputs": [
    {
     "data": {
      "text/plain": [
       "(-2.6600640310541457,\n",
       " 6.3717475678710915,\n",
       " -5.635341861353212,\n",
       " 6.205772328468675)"
      ]
     },
     "execution_count": 15,
     "metadata": {},
     "output_type": "execute_result"
    }
   ],
   "source": [
    "b1,b2,c1,c2"
   ]
  },
  {
   "cell_type": "code",
   "execution_count": 16,
   "metadata": {},
   "outputs": [],
   "source": [
    "m1,n1 = preds[0,[0,2]]"
   ]
  },
  {
   "cell_type": "code",
   "execution_count": 17,
   "metadata": {},
   "outputs": [
    {
     "data": {
      "text/plain": [
       "array([-2.60457158,  0.0341748 ,  6.16039562, -0.03859294])"
      ]
     },
     "execution_count": 17,
     "metadata": {},
     "output_type": "execute_result"
    }
   ],
   "source": [
    "preds[2]"
   ]
  },
  {
   "cell_type": "code",
   "execution_count": 18,
   "metadata": {},
   "outputs": [
    {
     "data": {
      "text/html": [
       "<div>\n",
       "<style scoped>\n",
       "    .dataframe tbody tr th:only-of-type {\n",
       "        vertical-align: middle;\n",
       "    }\n",
       "\n",
       "    .dataframe tbody tr th {\n",
       "        vertical-align: top;\n",
       "    }\n",
       "\n",
       "    .dataframe thead th {\n",
       "        text-align: right;\n",
       "    }\n",
       "</style>\n",
       "<table border=\"1\" class=\"dataframe\">\n",
       "  <thead>\n",
       "    <tr style=\"text-align: right;\">\n",
       "      <th></th>\n",
       "      <th>0</th>\n",
       "      <th>1</th>\n",
       "      <th>2</th>\n",
       "      <th>3</th>\n",
       "    </tr>\n",
       "  </thead>\n",
       "  <tbody>\n",
       "    <tr>\n",
       "      <th>0</th>\n",
       "      <td>-2.647222</td>\n",
       "      <td>-0.034175</td>\n",
       "      <td>6.173927</td>\n",
       "      <td>0.038593</td>\n",
       "    </tr>\n",
       "    <tr>\n",
       "      <th>1</th>\n",
       "      <td>-2.638733</td>\n",
       "      <td>0.034175</td>\n",
       "      <td>6.199015</td>\n",
       "      <td>-0.038593</td>\n",
       "    </tr>\n",
       "    <tr>\n",
       "      <th>2</th>\n",
       "      <td>-2.604572</td>\n",
       "      <td>0.034175</td>\n",
       "      <td>6.160396</td>\n",
       "      <td>-0.038593</td>\n",
       "    </tr>\n",
       "    <tr>\n",
       "      <th>3</th>\n",
       "      <td>-2.570443</td>\n",
       "      <td>0.034175</td>\n",
       "      <td>6.121814</td>\n",
       "      <td>-0.038593</td>\n",
       "    </tr>\n",
       "    <tr>\n",
       "      <th>4</th>\n",
       "      <td>-2.536347</td>\n",
       "      <td>0.034175</td>\n",
       "      <td>6.083269</td>\n",
       "      <td>-0.038593</td>\n",
       "    </tr>\n",
       "    <tr>\n",
       "      <th>5</th>\n",
       "      <td>-2.502283</td>\n",
       "      <td>0.034175</td>\n",
       "      <td>6.044761</td>\n",
       "      <td>-0.038593</td>\n",
       "    </tr>\n",
       "    <tr>\n",
       "      <th>6</th>\n",
       "      <td>-2.468252</td>\n",
       "      <td>0.034175</td>\n",
       "      <td>6.006289</td>\n",
       "      <td>-0.038593</td>\n",
       "    </tr>\n",
       "    <tr>\n",
       "      <th>7</th>\n",
       "      <td>-2.434254</td>\n",
       "      <td>0.034175</td>\n",
       "      <td>5.967855</td>\n",
       "      <td>-0.038593</td>\n",
       "    </tr>\n",
       "    <tr>\n",
       "      <th>8</th>\n",
       "      <td>-2.400288</td>\n",
       "      <td>0.034175</td>\n",
       "      <td>5.929458</td>\n",
       "      <td>-0.038593</td>\n",
       "    </tr>\n",
       "    <tr>\n",
       "      <th>9</th>\n",
       "      <td>-2.366355</td>\n",
       "      <td>0.034175</td>\n",
       "      <td>5.891097</td>\n",
       "      <td>-0.038593</td>\n",
       "    </tr>\n",
       "    <tr>\n",
       "      <th>10</th>\n",
       "      <td>-2.332454</td>\n",
       "      <td>0.034175</td>\n",
       "      <td>5.852773</td>\n",
       "      <td>-0.038593</td>\n",
       "    </tr>\n",
       "    <tr>\n",
       "      <th>11</th>\n",
       "      <td>-2.298586</td>\n",
       "      <td>0.034175</td>\n",
       "      <td>5.814486</td>\n",
       "      <td>-0.038593</td>\n",
       "    </tr>\n",
       "    <tr>\n",
       "      <th>12</th>\n",
       "      <td>-2.264751</td>\n",
       "      <td>0.034175</td>\n",
       "      <td>5.776236</td>\n",
       "      <td>-0.038593</td>\n",
       "    </tr>\n",
       "    <tr>\n",
       "      <th>13</th>\n",
       "      <td>-2.230947</td>\n",
       "      <td>0.034175</td>\n",
       "      <td>5.738021</td>\n",
       "      <td>-0.038593</td>\n",
       "    </tr>\n",
       "    <tr>\n",
       "      <th>14</th>\n",
       "      <td>-2.197176</td>\n",
       "      <td>0.034175</td>\n",
       "      <td>5.699844</td>\n",
       "      <td>-0.038593</td>\n",
       "    </tr>\n",
       "    <tr>\n",
       "      <th>15</th>\n",
       "      <td>-2.163438</td>\n",
       "      <td>0.034175</td>\n",
       "      <td>5.661703</td>\n",
       "      <td>-0.038593</td>\n",
       "    </tr>\n",
       "    <tr>\n",
       "      <th>16</th>\n",
       "      <td>-2.129731</td>\n",
       "      <td>0.034175</td>\n",
       "      <td>5.623599</td>\n",
       "      <td>-0.038593</td>\n",
       "    </tr>\n",
       "    <tr>\n",
       "      <th>17</th>\n",
       "      <td>-2.096057</td>\n",
       "      <td>0.034175</td>\n",
       "      <td>5.585531</td>\n",
       "      <td>-0.038593</td>\n",
       "    </tr>\n",
       "    <tr>\n",
       "      <th>18</th>\n",
       "      <td>-2.062415</td>\n",
       "      <td>0.034175</td>\n",
       "      <td>5.547499</td>\n",
       "      <td>-0.038593</td>\n",
       "    </tr>\n",
       "    <tr>\n",
       "      <th>19</th>\n",
       "      <td>-2.028806</td>\n",
       "      <td>0.034175</td>\n",
       "      <td>5.509504</td>\n",
       "      <td>-0.038593</td>\n",
       "    </tr>\n",
       "    <tr>\n",
       "      <th>20</th>\n",
       "      <td>-1.995228</td>\n",
       "      <td>0.034175</td>\n",
       "      <td>5.471546</td>\n",
       "      <td>-0.038593</td>\n",
       "    </tr>\n",
       "    <tr>\n",
       "      <th>21</th>\n",
       "      <td>-1.961683</td>\n",
       "      <td>0.034175</td>\n",
       "      <td>5.433623</td>\n",
       "      <td>-0.038593</td>\n",
       "    </tr>\n",
       "    <tr>\n",
       "      <th>22</th>\n",
       "      <td>-1.928170</td>\n",
       "      <td>0.034175</td>\n",
       "      <td>5.395738</td>\n",
       "      <td>-0.038593</td>\n",
       "    </tr>\n",
       "    <tr>\n",
       "      <th>23</th>\n",
       "      <td>-1.894689</td>\n",
       "      <td>0.034175</td>\n",
       "      <td>5.357888</td>\n",
       "      <td>-0.038593</td>\n",
       "    </tr>\n",
       "    <tr>\n",
       "      <th>24</th>\n",
       "      <td>-1.861241</td>\n",
       "      <td>0.034175</td>\n",
       "      <td>5.320075</td>\n",
       "      <td>-0.038593</td>\n",
       "    </tr>\n",
       "    <tr>\n",
       "      <th>25</th>\n",
       "      <td>-1.827824</td>\n",
       "      <td>0.034175</td>\n",
       "      <td>5.282298</td>\n",
       "      <td>-0.038593</td>\n",
       "    </tr>\n",
       "  </tbody>\n",
       "</table>\n",
       "</div>"
      ],
      "text/plain": [
       "           0         1         2         3\n",
       "0  -2.647222 -0.034175  6.173927  0.038593\n",
       "1  -2.638733  0.034175  6.199015 -0.038593\n",
       "2  -2.604572  0.034175  6.160396 -0.038593\n",
       "3  -2.570443  0.034175  6.121814 -0.038593\n",
       "4  -2.536347  0.034175  6.083269 -0.038593\n",
       "5  -2.502283  0.034175  6.044761 -0.038593\n",
       "6  -2.468252  0.034175  6.006289 -0.038593\n",
       "7  -2.434254  0.034175  5.967855 -0.038593\n",
       "8  -2.400288  0.034175  5.929458 -0.038593\n",
       "9  -2.366355  0.034175  5.891097 -0.038593\n",
       "10 -2.332454  0.034175  5.852773 -0.038593\n",
       "11 -2.298586  0.034175  5.814486 -0.038593\n",
       "12 -2.264751  0.034175  5.776236 -0.038593\n",
       "13 -2.230947  0.034175  5.738021 -0.038593\n",
       "14 -2.197176  0.034175  5.699844 -0.038593\n",
       "15 -2.163438  0.034175  5.661703 -0.038593\n",
       "16 -2.129731  0.034175  5.623599 -0.038593\n",
       "17 -2.096057  0.034175  5.585531 -0.038593\n",
       "18 -2.062415  0.034175  5.547499 -0.038593\n",
       "19 -2.028806  0.034175  5.509504 -0.038593\n",
       "20 -1.995228  0.034175  5.471546 -0.038593\n",
       "21 -1.961683  0.034175  5.433623 -0.038593\n",
       "22 -1.928170  0.034175  5.395738 -0.038593\n",
       "23 -1.894689  0.034175  5.357888 -0.038593\n",
       "24 -1.861241  0.034175  5.320075 -0.038593\n",
       "25 -1.827824  0.034175  5.282298 -0.038593"
      ]
     },
     "execution_count": 18,
     "metadata": {},
     "output_type": "execute_result"
    }
   ],
   "source": [
    "pd.DataFrame(preds)"
   ]
  },
  {
   "cell_type": "code",
   "execution_count": 19,
   "metadata": {},
   "outputs": [
    {
     "data": {
      "text/plain": [
       "array([[-2.64722186, -0.0341748 ,  6.17392713,  0.03859294],\n",
       "       [-2.63873315,  0.0341748 ,  6.19901466, -0.03859294],\n",
       "       [-2.60457158,  0.0341748 ,  6.16039562, -0.03859294],\n",
       "       [-2.57044268,  0.0341748 ,  6.12181377, -0.03859294],\n",
       "       [-2.53634667,  0.0341748 ,  6.08326864, -0.03859294]])"
      ]
     },
     "execution_count": 19,
     "metadata": {},
     "output_type": "execute_result"
    }
   ],
   "source": [
    "preds[:5]"
   ]
  },
  {
   "cell_type": "code",
   "execution_count": 20,
   "metadata": {
    "scrolled": false
   },
   "outputs": [
    {
     "data": {
      "text/plain": [
       "[<matplotlib.lines.Line2D at 0x7f8db8496898>]"
      ]
     },
     "execution_count": 20,
     "metadata": {},
     "output_type": "execute_result"
    },
    {
     "data": {
      "image/png": "[encoded data removed]",
      "text/plain": [
       "<Figure size 720x720 with 1 Axes>"
      ]
     },
     "metadata": {
      "needs_background": "light"
     },
     "output_type": "display_data"
    }
   ],
   "source": [
    "fig, ax = plt.subplots(figsize=(10, 10))\n",
    "ax.set(xlim=(m1-0.2, m1+0.2), ylim=(n1-0.2,n1+0.2))\n",
    "\n",
    "x,xv,y,yv = preds[0]\n",
    "plt.quiver(x, y, xv, yv)\n",
    "plt.scatter(preds[:5,0], preds[:5,2])\n",
    "plt.plot([b1,b1],[c1,c2])\n",
    "plt.plot([b1,b2],[c1,c1])\n",
    "plt.plot([b1,b2],[c2,c2])\n",
    "plt.plot([b2,b2],[c1,c2])"
   ]
  },
  {
   "cell_type": "code",
   "execution_count": 22,
   "metadata": {},
   "outputs": [],
   "source": [
    "# fig.savefig('corner2.png')"
   ]
  },
  {
   "cell_type": "code",
   "execution_count": 88,
   "metadata": {},
   "outputs": [],
   "source": [
    "# save_model(module, 'module')\n",
    "# save_model(model_2d, 'model_2d')"
   ]
  },
  {
   "cell_type": "code",
   "execution_count": null,
   "metadata": {},
   "outputs": [],
   "source": []
  },
  {
   "cell_type": "markdown",
   "metadata": {},
   "source": [
    "## Loss landscape"
   ]
  },
  {
   "cell_type": "code",
   "execution_count": 29,
   "metadata": {},
   "outputs": [],
   "source": [
    "from copy import deepcopy"
   ]
  },
  {
   "cell_type": "code",
   "execution_count": 31,
   "metadata": {},
   "outputs": [],
   "source": [
    "# ogweights = model_2d.get_weights()"
   ]
  },
  {
   "cell_type": "code",
   "execution_count": 32,
   "metadata": {},
   "outputs": [
    {
     "data": {
      "text/plain": [
       "array([[-1.53642525,  0.67113638],\n",
       "       [-1.00822029, -2.41739265],\n",
       "       [ 0.22400109,  0.35482583]])"
      ]
     },
     "execution_count": 32,
     "metadata": {},
     "output_type": "execute_result"
    }
   ],
   "source": [
    "np.random.randn(3, 2)"
   ]
  },
  {
   "cell_type": "code",
   "execution_count": 33,
   "metadata": {},
   "outputs": [],
   "source": [
    "X, Y = next(gen(batch_size=1000))\n",
    "X2, Y2 = next(gen(batch_size=1000))\n",
    "A = np.concatenate([X,X2], axis=-1)\n",
    "P = model_2d.predict(A)\n",
    "B = np.concatenate([Y,Y2], axis=-1)"
   ]
  },
  {
   "cell_type": "code",
   "execution_count": 34,
   "metadata": {},
   "outputs": [
    {
     "data": {
      "text/plain": [
       "(1000, 4)"
      ]
     },
     "execution_count": 34,
     "metadata": {},
     "output_type": "execute_result"
    }
   ],
   "source": [
    "B.shape"
   ]
  },
  {
   "cell_type": "code",
   "execution_count": 35,
   "metadata": {},
   "outputs": [
    {
     "data": {
      "text/plain": [
       "array([[ 1.43661767, -1.0871393 ],\n",
       "       [ 1.52705367,  0.91948453],\n",
       "       [-0.72657769,  0.32978971]])"
      ]
     },
     "execution_count": 35,
     "metadata": {},
     "output_type": "execute_result"
    }
   ],
   "source": [
    "np.random.normal(size=(3,2))"
   ]
  },
  {
   "cell_type": "code",
   "execution_count": 36,
   "metadata": {},
   "outputs": [],
   "source": [
    "# og_weights = deepcopy(model_2d.get_weights())"
   ]
  },
  {
   "cell_type": "code",
   "execution_count": 37,
   "metadata": {},
   "outputs": [],
   "source": [
    "# delta = deepcopy(model_2d.get_weights())\n",
    "\n",
    "# theta = []\n",
    "# for weights in delta:\n",
    "#     theta += [np.random.normal(scale=0.9, size=weights.shape) * weights]\n",
    "    \n",
    "# def get_weight_combo(alpha):\n",
    "#     l = []\n",
    "#     if alpha > 1:\n",
    "        \n",
    "        \n",
    "        \n",
    "#     for i in range(len(delta)):\n",
    "#         l += [ delta[i]*alpha + theta[i]*(1-alpha) ]\n",
    "#     return l"
   ]
  },
  {
   "cell_type": "code",
   "execution_count": 39,
   "metadata": {},
   "outputs": [],
   "source": [
    "model_2d.set_weights(ogweights)"
   ]
  },
  {
   "cell_type": "code",
   "execution_count": 40,
   "metadata": {},
   "outputs": [],
   "source": [
    "delta = deepcopy(model_2d.get_weights())\n",
    "\n",
    "theta = []\n",
    "for weights in delta:\n",
    "    theta += [np.random.normal(scale=0.5, size=weights.shape) * weights]\n",
    "    \n",
    "def get_weight_combo(alpha):\n",
    "    l = []\n",
    "    for i in range(len(delta)):\n",
    "        l += [ delta[i]*alpha + theta[i]*(1-alpha) ]\n",
    "    return l"
   ]
  },
  {
   "cell_type": "code",
   "execution_count": 41,
   "metadata": {},
   "outputs": [],
   "source": [
    "rmse_list = []\n",
    "alphas = np.linspace(0, 2, num=101)\n",
    "for alpha in alphas:\n",
    "    weights = get_weight_combo(alpha)\n",
    "    model_2d.set_weights(weights)\n",
    "    P = model_2d.predict(A)\n",
    "    rmse_list += [mse(B, P)**0.5]"
   ]
  },
  {
   "cell_type": "code",
   "execution_count": 45,
   "metadata": {},
   "outputs": [
    {
     "data": {
      "text/plain": [
       "[<matplotlib.lines.Line2D at 0x7f8c88037630>]"
      ]
     },
     "execution_count": 45,
     "metadata": {},
     "output_type": "execute_result"
    },
    {
     "data": {
      "image/png": "[encoded data removed]",
      "text/plain": [
       "<Figure size 360x360 with 1 Axes>"
      ]
     },
     "metadata": {
      "needs_background": "light"
     },
     "output_type": "display_data"
    }
   ],
   "source": [
    "fig, ax = plt.subplots(figsize=(5, 5))\n",
    "# ax.set(xlim=(0, 2))\n",
    "# line = ax.plot([0,1],[0,0])\n",
    "\n",
    "plt.plot(alphas, rmse_list)"
   ]
  },
  {
   "cell_type": "code",
   "execution_count": 84,
   "metadata": {},
   "outputs": [],
   "source": [
    "# fig.savefig('lossmod.png')"
   ]
  },
  {
   "cell_type": "code",
   "execution_count": null,
   "metadata": {},
   "outputs": [],
   "source": []
  }
 ],
 "metadata": {
  "kernelspec": {
   "display_name": "Python 3",
   "language": "python",
   "name": "python3"
  },
  "language_info": {
   "codemirror_mode": {
    "name": "ipython",
    "version": 3
   },
   "file_extension": ".py",
   "mimetype": "text/x-python",
   "name": "python",
   "nbconvert_exporter": "python",
   "pygments_lexer": "ipython3",
   "version": "3.6.8"
  }
 },
 "nbformat": 4,
 "nbformat_minor": 2
}
