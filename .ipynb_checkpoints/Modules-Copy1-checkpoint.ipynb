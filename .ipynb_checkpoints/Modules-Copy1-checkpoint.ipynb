{
 "cells": [
  {
   "cell_type": "code",
   "execution_count": 1,
   "metadata": {},
   "outputs": [
    {
     "name": "stderr",
     "output_type": "stream",
     "text": [
      "Using TensorFlow backend.\n"
     ]
    }
   ],
   "source": [
    "import pandas as pd\n",
    "import numpy as np\n",
    "from keras.layers import Input, Dense, LSTM, RepeatVector, TimeDistributed, RNN, Lambda, Concatenate\n",
    "from keras.layers.merge import Multiply\n",
    "from keras.models import Model\n",
    "from keras.losses import mean_squared_error, binary_crossentropy\n",
    "from keras.models import Model\n",
    "import keras.backend as K\n",
    "from sklearn.metrics import mean_squared_error as mse"
   ]
  },
  {
   "cell_type": "markdown",
   "metadata": {},
   "source": [
    "# Right now make as many assumptions as possible\n",
    "\n",
    "It's better to ask it\n",
    "- derive speeds\n",
    "- separate x and y. mby use same module for both?\n",
    "- learn bounces separately\n",
    "     - is LSTM much better if there is only 1 frame after the bounce vs 0?"
   ]
  },
  {
   "cell_type": "code",
   "execution_count": 2,
   "metadata": {},
   "outputs": [],
   "source": [
    "def save_model(model, model_str):\n",
    "    model_json = model.to_json()\n",
    "    with open('trained/'+model_str+\".json\", \"w\") as json_file:\n",
    "        json_file.write(model_json)\n",
    "    # serialize weights to HDF5\n",
    "    model.save_weights('trained/'+model_str+\".h5\")\n",
    "    print(\"Saved model to disk\")"
   ]
  },
  {
   "cell_type": "code",
   "execution_count": 3,
   "metadata": {},
   "outputs": [
    {
     "name": "stdout",
     "output_type": "stream",
     "text": [
      "_________________________________________________________________\n",
      "Layer (type)                 Output Shape              Param #   \n",
      "=================================================================\n",
      "input_1 (InputLayer)         (None, 4, 1)              0         \n",
      "_________________________________________________________________\n",
      "lstm_1 (LSTM)                (None, 4)                 96        \n",
      "_________________________________________________________________\n",
      "dense_1 (Dense)              (None, 2)                 10        \n",
      "=================================================================\n",
      "Total params: 106\n",
      "Trainable params: 106\n",
      "Non-trainable params: 0\n",
      "_________________________________________________________________\n"
     ]
    }
   ],
   "source": [
    "## Straight movement, derive speed\n",
    "\n",
    "from keras.layers import Input, Dense, LSTM, RepeatVector, TimeDistributed, RNN, Lambda\n",
    "\n",
    "# This returns a tensor\n",
    "inputs = Input(shape=(4,1,))\n",
    "# inputs = Input(shape=(10,1))\n",
    "\n",
    "# a layer instance is callable on a tensor, and returns a tensor\n",
    "x = LSTM(4, return_sequences=False)(inputs)\n",
    "x = Dense(2)(x)\n",
    "\n",
    "predictions = x#Dense(2, input_shape=(4,1))(x)\n",
    "\n",
    "# This creates a model that includes\n",
    "# the Input layer and three Dense layers\n",
    "model_ws = Model(inputs=inputs, outputs=predictions)\n",
    "model_ws.compile(loss=mean_squared_error,\n",
    "              optimizer='adam',\n",
    "              metrics=['accuracy'])\n",
    "model_ws.summary()"
   ]
  },
  {
   "cell_type": "code",
   "execution_count": 4,
   "metadata": {},
   "outputs": [],
   "source": [
    "from Generators import fmove_generator, bounce_generator, bmove_generator, bounce2_move_generator"
   ]
  },
  {
   "cell_type": "code",
   "execution_count": 5,
   "metadata": {},
   "outputs": [],
   "source": [
    "def mod_gen(batch_size=128):\n",
    "    while True:\n",
    "        for a in fmove_generator(batch_size=batch_size):\n",
    "            yield a[:,:4,0].reshape(batch_size,-1,1), a[:,4,:2]"
   ]
  },
  {
   "cell_type": "code",
   "execution_count": 6,
   "metadata": {},
   "outputs": [
    {
     "data": {
      "text/plain": [
       "(array([[[-1.11935645],\n",
       "         [-1.09438133],\n",
       "         [-1.06940622],\n",
       "         [-1.0444311 ]],\n",
       " \n",
       "        [[-1.12514605],\n",
       "         [-1.07018895],\n",
       "         [-1.01523185],\n",
       "         [-0.96027475]]]), array([[-1.01945598,  0.02497512],\n",
       "        [-0.90531765,  0.0549571 ]]))"
      ]
     },
     "execution_count": 6,
     "metadata": {},
     "output_type": "execute_result"
    }
   ],
   "source": [
    "next(mod_gen(batch_size=2))"
   ]
  },
  {
   "cell_type": "code",
   "execution_count": 7,
   "metadata": {},
   "outputs": [
    {
     "name": "stdout",
     "output_type": "stream",
     "text": [
      "Epoch 1/5\n",
      "10000/10000 [==============================] - 44s 4ms/step - loss: 0.0315 - acc: 0.9721\n",
      "Epoch 2/5\n",
      "10000/10000 [==============================] - 42s 4ms/step - loss: 1.9551e-05 - acc: 0.9990\n",
      "Epoch 3/5\n",
      "10000/10000 [==============================] - 42s 4ms/step - loss: 4.5094e-06 - acc: 0.9996\n",
      "Epoch 4/5\n",
      "10000/10000 [==============================] - 42s 4ms/step - loss: 2.3265e-06 - acc: 0.9998\n",
      "Epoch 5/5\n",
      "10000/10000 [==============================] - 42s 4ms/step - loss: 1.6584e-06 - acc: 0.9998\n"
     ]
    },
    {
     "data": {
      "text/plain": [
       "<keras.callbacks.History at 0x7fc5a8794668>"
      ]
     },
     "execution_count": 7,
     "metadata": {},
     "output_type": "execute_result"
    }
   ],
   "source": [
    "model_ws.fit_generator(mod_gen(), steps_per_epoch=10000, epochs=5) #loss: 1.7196e-06 - acc: 0.9999"
   ]
  },
  {
   "cell_type": "code",
   "execution_count": 9,
   "metadata": {},
   "outputs": [
    {
     "data": {
      "text/plain": [
       "(128000, 2)"
      ]
     },
     "execution_count": 9,
     "metadata": {},
     "output_type": "execute_result"
    }
   ],
   "source": [
    "model_ws.predict_generator(mod_gen(), steps=1000).shape"
   ]
  },
  {
   "cell_type": "code",
   "execution_count": 10,
   "metadata": {},
   "outputs": [],
   "source": [
    "import matplotlib.pyplot as plt"
   ]
  },
  {
   "cell_type": "code",
   "execution_count": 11,
   "metadata": {},
   "outputs": [
    {
     "data": {
      "text/plain": [
       "[<matplotlib.lines.Line2D at 0x7fc5b717b400>]"
      ]
     },
     "execution_count": 11,
     "metadata": {},
     "output_type": "execute_result"
    },
    {
     "data": {
      "image/png": "[encoded data removed]",
      "text/plain": [
       "<Figure size 432x288 with 1 Axes>"
      ]
     },
     "metadata": {
      "needs_background": "light"
     },
     "output_type": "display_data"
    }
   ],
   "source": [
    "plt.plot(model_ws.history.history['loss'][1:])"
   ]
  },
  {
   "cell_type": "code",
   "execution_count": 12,
   "metadata": {},
   "outputs": [],
   "source": [
    "train_X, train_Y = next(mod_gen(batch_size=1024))"
   ]
  },
  {
   "cell_type": "code",
   "execution_count": 13,
   "metadata": {},
   "outputs": [
    {
     "data": {
      "text/plain": [
       "0.0008630517766002361"
      ]
     },
     "execution_count": 13,
     "metadata": {},
     "output_type": "execute_result"
    }
   ],
   "source": [
    "mse(train_Y, model_ws.predict(train_X))**0.5"
   ]
  },
  {
   "cell_type": "code",
   "execution_count": 72,
   "metadata": {},
   "outputs": [],
   "source": [
    "# save_model(model_ws, 'model_ws')"
   ]
  },
  {
   "cell_type": "markdown",
   "metadata": {},
   "source": [
    "# Last frame is after bounce. Cross train with previous.\n",
    "\n",
    " loss: 5.1515e-04 - acc: 0.9969 with 4 hidden units on lstm\n",
    " \n",
    " loss: 2.5119e-04 - acc: 0.9978 with 8 hidden units"
   ]
  },
  {
   "cell_type": "code",
   "execution_count": 14,
   "metadata": {},
   "outputs": [
    {
     "name": "stdout",
     "output_type": "stream",
     "text": [
      "_________________________________________________________________\n",
      "Layer (type)                 Output Shape              Param #   \n",
      "=================================================================\n",
      "input_2 (InputLayer)         (None, 4, 1)              0         \n",
      "_________________________________________________________________\n",
      "lstm_2 (LSTM)                (None, 8)                 320       \n",
      "_________________________________________________________________\n",
      "dense_2 (Dense)              (None, 2)                 18        \n",
      "=================================================================\n",
      "Total params: 338\n",
      "Trainable params: 338\n",
      "Non-trainable params: 0\n",
      "_________________________________________________________________\n"
     ]
    }
   ],
   "source": [
    "from keras.layers import Input, Dense, LSTM, RepeatVector, TimeDistributed, RNN, Lambda\n",
    "\n",
    "inputs = Input(shape=(4,1,))\n",
    "x = LSTM(8, return_sequences=False)(inputs)\n",
    "x = Dense(2)(x)\n",
    "predictions = x#Dense(2, input_shape=(4,1))(x)\n",
    "model_ws = Model(inputs=inputs, outputs=predictions)\n",
    "model_ws.compile(loss=mean_squared_error,\n",
    "              optimizer='adam',\n",
    "              metrics=['accuracy'])\n",
    "model_ws.summary()"
   ]
  },
  {
   "cell_type": "code",
   "execution_count": 15,
   "metadata": {},
   "outputs": [
    {
     "name": "stdout",
     "output_type": "stream",
     "text": [
      "(64, 5, 4) (64, 5, 4)\n"
     ]
    }
   ],
   "source": [
    "a = next(fmove_generator())\n",
    "b = next(bmove_generator(bounceAt=2)) \n",
    "print(a.shape, b.shape)"
   ]
  },
  {
   "cell_type": "code",
   "execution_count": 16,
   "metadata": {},
   "outputs": [
    {
     "data": {
      "text/plain": [
       "(128, 5, 4)"
      ]
     },
     "execution_count": 16,
     "metadata": {},
     "output_type": "execute_result"
    }
   ],
   "source": [
    "np.append(a, b, axis=0).shape"
   ]
  },
  {
   "cell_type": "code",
   "execution_count": 17,
   "metadata": {},
   "outputs": [],
   "source": [
    "def gen_cross(batch_size=128):\n",
    "    \"Cross train to consider a bounce\"\n",
    "    while True:\n",
    "        a = next(fmove_generator(batch_size=int(batch_size/4)))\n",
    "        b = next(bmove_generator(batch_size=int(batch_size/4),bounceAt=2)) #last training instance is after the bounce\n",
    "        b1 = next(bmove_generator(batch_size=int(batch_size/4),bounceAt=1))\n",
    "        b2 = next(bmove_generator(batch_size=int(batch_size/4),bounceAt=0))\n",
    "        c = np.append(a, b, axis=0)\n",
    "        c = np.append(c, b1, axis=0)\n",
    "        c = np.append(c, b2, axis=0)\n",
    "        yield c[:,:4,0].reshape(batch_size,-1,1), c[:,4,:2]"
   ]
  },
  {
   "cell_type": "code",
   "execution_count": 18,
   "metadata": {},
   "outputs": [
    {
     "name": "stdout",
     "output_type": "stream",
     "text": [
      "Epoch 1/100\n",
      "10000/10000 [==============================] - 42s 4ms/step - loss: 0.0051 - acc: 0.9910\n",
      "Epoch 2/100\n",
      "10000/10000 [==============================] - 42s 4ms/step - loss: 6.2785e-04 - acc: 0.9909\n",
      "Epoch 3/100\n",
      "10000/10000 [==============================] - 42s 4ms/step - loss: 5.5718e-04 - acc: 0.9955\n",
      "Epoch 4/100\n",
      "10000/10000 [==============================] - 42s 4ms/step - loss: 5.1322e-04 - acc: 0.9975\n",
      "Epoch 5/100\n",
      "10000/10000 [==============================] - 43s 4ms/step - loss: 4.2215e-04 - acc: 0.9936\n",
      "Epoch 6/100\n",
      "10000/10000 [==============================] - 43s 4ms/step - loss: 3.5348e-04 - acc: 0.9858\n",
      "Epoch 7/100\n",
      "10000/10000 [==============================] - 43s 4ms/step - loss: 3.3225e-04 - acc: 0.9864\n",
      "Epoch 8/100\n",
      "10000/10000 [==============================] - 43s 4ms/step - loss: 3.1474e-04 - acc: 0.9872\n",
      "Epoch 9/100\n",
      "10000/10000 [==============================] - 43s 4ms/step - loss: 2.9544e-04 - acc: 0.9877\n",
      "Epoch 10/100\n",
      "10000/10000 [==============================] - 43s 4ms/step - loss: 2.8095e-04 - acc: 0.9886\n",
      "Epoch 11/100\n",
      "10000/10000 [==============================] - 43s 4ms/step - loss: 2.7165e-04 - acc: 0.9887\n",
      "Epoch 12/100\n",
      "10000/10000 [==============================] - 43s 4ms/step - loss: 2.6391e-04 - acc: 0.9895\n",
      "Epoch 13/100\n",
      "10000/10000 [==============================] - 43s 4ms/step - loss: 2.5636e-04 - acc: 0.9890\n",
      "Epoch 14/100\n",
      "10000/10000 [==============================] - 43s 4ms/step - loss: 2.5160e-04 - acc: 0.9887\n",
      "Epoch 15/100\n",
      "10000/10000 [==============================] - 43s 4ms/step - loss: 2.4580e-04 - acc: 0.9885\n",
      "Epoch 16/100\n",
      "10000/10000 [==============================] - 43s 4ms/step - loss: 2.3926e-04 - acc: 0.9884\n",
      "Epoch 17/100\n",
      "10000/10000 [==============================] - 43s 4ms/step - loss: 2.3369e-04 - acc: 0.9889\n",
      "Epoch 18/100\n",
      "10000/10000 [==============================] - 43s 4ms/step - loss: 2.2885e-04 - acc: 0.9890\n",
      "Epoch 19/100\n",
      "10000/10000 [==============================] - 43s 4ms/step - loss: 2.2537e-04 - acc: 0.9895\n",
      "Epoch 20/100\n",
      "10000/10000 [==============================] - 43s 4ms/step - loss: 2.1833e-04 - acc: 0.9896\n",
      "Epoch 21/100\n",
      "10000/10000 [==============================] - 43s 4ms/step - loss: 2.1219e-04 - acc: 0.9887\n",
      "Epoch 22/100\n",
      "10000/10000 [==============================] - 43s 4ms/step - loss: 2.0303e-04 - acc: 0.9888\n",
      "Epoch 23/100\n",
      "10000/10000 [==============================] - 43s 4ms/step - loss: 2.0183e-04 - acc: 0.9893\n",
      "Epoch 24/100\n",
      "10000/10000 [==============================] - 43s 4ms/step - loss: 1.9457e-04 - acc: 0.9897\n",
      "Epoch 25/100\n",
      "10000/10000 [==============================] - 43s 4ms/step - loss: 1.8986e-04 - acc: 0.9910\n",
      "Epoch 26/100\n",
      "10000/10000 [==============================] - 43s 4ms/step - loss: 1.8571e-04 - acc: 0.9914\n",
      "Epoch 27/100\n",
      "10000/10000 [==============================] - 43s 4ms/step - loss: 1.8113e-04 - acc: 0.9926\n",
      "Epoch 28/100\n",
      "10000/10000 [==============================] - 43s 4ms/step - loss: 1.7528e-04 - acc: 0.9930\n",
      "Epoch 29/100\n",
      "10000/10000 [==============================] - 43s 4ms/step - loss: 1.7256e-04 - acc: 0.9934\n",
      "Epoch 30/100\n",
      "10000/10000 [==============================] - 43s 4ms/step - loss: 1.6702e-04 - acc: 0.9935\n",
      "Epoch 31/100\n",
      "10000/10000 [==============================] - 43s 4ms/step - loss: 1.6391e-04 - acc: 0.9937\n",
      "Epoch 32/100\n",
      "10000/10000 [==============================] - 44s 4ms/step - loss: 1.5830e-04 - acc: 0.9944\n",
      "Epoch 33/100\n",
      "10000/10000 [==============================] - 43s 4ms/step - loss: 1.5488e-04 - acc: 0.9948\n",
      "Epoch 34/100\n",
      "10000/10000 [==============================] - 43s 4ms/step - loss: 1.5499e-04 - acc: 0.9946\n",
      "Epoch 35/100\n",
      "10000/10000 [==============================] - 43s 4ms/step - loss: 1.5086e-04 - acc: 0.9942\n",
      "Epoch 36/100\n",
      "10000/10000 [==============================] - 43s 4ms/step - loss: 1.4765e-04 - acc: 0.9949\n",
      "Epoch 37/100\n",
      "10000/10000 [==============================] - 43s 4ms/step - loss: 1.4587e-04 - acc: 0.9951\n",
      "Epoch 38/100\n",
      "10000/10000 [==============================] - 43s 4ms/step - loss: 1.4206e-04 - acc: 0.9953\n",
      "Epoch 39/100\n",
      "10000/10000 [==============================] - 43s 4ms/step - loss: 1.3927e-04 - acc: 0.9950\n",
      "Epoch 40/100\n",
      "10000/10000 [==============================] - 43s 4ms/step - loss: 1.3552e-04 - acc: 0.9950\n",
      "Epoch 41/100\n",
      "10000/10000 [==============================] - 43s 4ms/step - loss: 1.3544e-04 - acc: 0.9949\n",
      "Epoch 42/100\n",
      "10000/10000 [==============================] - 44s 4ms/step - loss: 1.3334e-04 - acc: 0.9949\n",
      "Epoch 43/100\n",
      "10000/10000 [==============================] - 43s 4ms/step - loss: 1.3230e-04 - acc: 0.9947\n",
      "Epoch 44/100\n",
      "10000/10000 [==============================] - 43s 4ms/step - loss: 1.2947e-04 - acc: 0.9942\n",
      "Epoch 45/100\n",
      "10000/10000 [==============================] - 43s 4ms/step - loss: 1.2819e-04 - acc: 0.9940\n",
      "Epoch 46/100\n",
      "10000/10000 [==============================] - 43s 4ms/step - loss: 1.2737e-04 - acc: 0.9939\n",
      "Epoch 47/100\n",
      "10000/10000 [==============================] - 44s 4ms/step - loss: 1.2342e-04 - acc: 0.9931\n",
      "Epoch 48/100\n",
      "10000/10000 [==============================] - 44s 4ms/step - loss: 1.2238e-04 - acc: 0.9924\n",
      "Epoch 49/100\n",
      "10000/10000 [==============================] - 44s 4ms/step - loss: 1.2222e-04 - acc: 0.9916\n",
      "Epoch 50/100\n",
      "10000/10000 [==============================] - 44s 4ms/step - loss: 1.2060e-04 - acc: 0.9911\n",
      "Epoch 51/100\n",
      "10000/10000 [==============================] - 44s 4ms/step - loss: 1.1932e-04 - acc: 0.9906\n",
      "Epoch 52/100\n",
      "10000/10000 [==============================] - 44s 4ms/step - loss: 1.1817e-04 - acc: 0.9902\n",
      "Epoch 53/100\n",
      "10000/10000 [==============================] - 44s 4ms/step - loss: 1.1694e-04 - acc: 0.9896\n",
      "Epoch 54/100\n",
      "10000/10000 [==============================] - 43s 4ms/step - loss: 1.1712e-04 - acc: 0.9895\n",
      "Epoch 55/100\n",
      "10000/10000 [==============================] - 43s 4ms/step - loss: 1.1443e-04 - acc: 0.9895\n",
      "Epoch 56/100\n",
      "10000/10000 [==============================] - 43s 4ms/step - loss: 1.1442e-04 - acc: 0.9889\n",
      "Epoch 57/100\n",
      " 1119/10000 [==>...........................] - ETA: 39s - loss: 1.1437e-04 - acc: 0.9906"
     ]
    },
    {
     "ename": "KeyboardInterrupt",
     "evalue": "",
     "output_type": "error",
     "traceback": [
      "\u001b[0;31m---------------------------------------------------------------------------\u001b[0m",
      "\u001b[0;31mKeyboardInterrupt\u001b[0m                         Traceback (most recent call last)",
      "\u001b[0;32m<ipython-input-18-64d20ed640a5>\u001b[0m in \u001b[0;36m<module>\u001b[0;34m\u001b[0m\n\u001b[0;32m----> 1\u001b[0;31m \u001b[0mmodel_ws\u001b[0m\u001b[0;34m.\u001b[0m\u001b[0mfit_generator\u001b[0m\u001b[0;34m(\u001b[0m\u001b[0mgen_cross\u001b[0m\u001b[0;34m(\u001b[0m\u001b[0;34m)\u001b[0m\u001b[0;34m,\u001b[0m \u001b[0msteps_per_epoch\u001b[0m\u001b[0;34m=\u001b[0m\u001b[0;36m10000\u001b[0m\u001b[0;34m,\u001b[0m \u001b[0mepochs\u001b[0m\u001b[0;34m=\u001b[0m\u001b[0;36m100\u001b[0m\u001b[0;34m)\u001b[0m\u001b[0;34m\u001b[0m\u001b[0;34m\u001b[0m\u001b[0m\n\u001b[0m",
      "\u001b[0;32m~/.conda/envs/ai/lib/python3.6/site-packages/keras/legacy/interfaces.py\u001b[0m in \u001b[0;36mwrapper\u001b[0;34m(*args, **kwargs)\u001b[0m\n\u001b[1;32m     89\u001b[0m                 warnings.warn('Update your `' + object_name + '` call to the ' +\n\u001b[1;32m     90\u001b[0m                               'Keras 2 API: ' + signature, stacklevel=2)\n\u001b[0;32m---> 91\u001b[0;31m             \u001b[0;32mreturn\u001b[0m \u001b[0mfunc\u001b[0m\u001b[0;34m(\u001b[0m\u001b[0;34m*\u001b[0m\u001b[0margs\u001b[0m\u001b[0;34m,\u001b[0m \u001b[0;34m**\u001b[0m\u001b[0mkwargs\u001b[0m\u001b[0;34m)\u001b[0m\u001b[0;34m\u001b[0m\u001b[0;34m\u001b[0m\u001b[0m\n\u001b[0m\u001b[1;32m     92\u001b[0m         \u001b[0mwrapper\u001b[0m\u001b[0;34m.\u001b[0m\u001b[0m_original_function\u001b[0m \u001b[0;34m=\u001b[0m \u001b[0mfunc\u001b[0m\u001b[0;34m\u001b[0m\u001b[0;34m\u001b[0m\u001b[0m\n\u001b[1;32m     93\u001b[0m         \u001b[0;32mreturn\u001b[0m \u001b[0mwrapper\u001b[0m\u001b[0;34m\u001b[0m\u001b[0;34m\u001b[0m\u001b[0m\n",
      "\u001b[0;32m~/.conda/envs/ai/lib/python3.6/site-packages/keras/engine/training.py\u001b[0m in \u001b[0;36mfit_generator\u001b[0;34m(self, generator, steps_per_epoch, epochs, verbose, callbacks, validation_data, validation_steps, class_weight, max_queue_size, workers, use_multiprocessing, shuffle, initial_epoch)\u001b[0m\n\u001b[1;32m   1416\u001b[0m             \u001b[0muse_multiprocessing\u001b[0m\u001b[0;34m=\u001b[0m\u001b[0muse_multiprocessing\u001b[0m\u001b[0;34m,\u001b[0m\u001b[0;34m\u001b[0m\u001b[0;34m\u001b[0m\u001b[0m\n\u001b[1;32m   1417\u001b[0m             \u001b[0mshuffle\u001b[0m\u001b[0;34m=\u001b[0m\u001b[0mshuffle\u001b[0m\u001b[0;34m,\u001b[0m\u001b[0;34m\u001b[0m\u001b[0;34m\u001b[0m\u001b[0m\n\u001b[0;32m-> 1418\u001b[0;31m             initial_epoch=initial_epoch)\n\u001b[0m\u001b[1;32m   1419\u001b[0m \u001b[0;34m\u001b[0m\u001b[0m\n\u001b[1;32m   1420\u001b[0m     \u001b[0;34m@\u001b[0m\u001b[0minterfaces\u001b[0m\u001b[0;34m.\u001b[0m\u001b[0mlegacy_generator_methods_support\u001b[0m\u001b[0;34m\u001b[0m\u001b[0;34m\u001b[0m\u001b[0m\n",
      "\u001b[0;32m~/.conda/envs/ai/lib/python3.6/site-packages/keras/engine/training_generator.py\u001b[0m in \u001b[0;36mfit_generator\u001b[0;34m(model, generator, steps_per_epoch, epochs, verbose, callbacks, validation_data, validation_steps, class_weight, max_queue_size, workers, use_multiprocessing, shuffle, initial_epoch)\u001b[0m\n\u001b[1;32m    215\u001b[0m                 outs = model.train_on_batch(x, y,\n\u001b[1;32m    216\u001b[0m                                             \u001b[0msample_weight\u001b[0m\u001b[0;34m=\u001b[0m\u001b[0msample_weight\u001b[0m\u001b[0;34m,\u001b[0m\u001b[0;34m\u001b[0m\u001b[0;34m\u001b[0m\u001b[0m\n\u001b[0;32m--> 217\u001b[0;31m                                             class_weight=class_weight)\n\u001b[0m\u001b[1;32m    218\u001b[0m \u001b[0;34m\u001b[0m\u001b[0m\n\u001b[1;32m    219\u001b[0m                 \u001b[0mouts\u001b[0m \u001b[0;34m=\u001b[0m \u001b[0mto_list\u001b[0m\u001b[0;34m(\u001b[0m\u001b[0mouts\u001b[0m\u001b[0;34m)\u001b[0m\u001b[0;34m\u001b[0m\u001b[0;34m\u001b[0m\u001b[0m\n",
      "\u001b[0;32m~/.conda/envs/ai/lib/python3.6/site-packages/keras/engine/training.py\u001b[0m in \u001b[0;36mtrain_on_batch\u001b[0;34m(self, x, y, sample_weight, class_weight)\u001b[0m\n\u001b[1;32m   1215\u001b[0m             \u001b[0mins\u001b[0m \u001b[0;34m=\u001b[0m \u001b[0mx\u001b[0m \u001b[0;34m+\u001b[0m \u001b[0my\u001b[0m \u001b[0;34m+\u001b[0m \u001b[0msample_weights\u001b[0m\u001b[0;34m\u001b[0m\u001b[0;34m\u001b[0m\u001b[0m\n\u001b[1;32m   1216\u001b[0m         \u001b[0mself\u001b[0m\u001b[0;34m.\u001b[0m\u001b[0m_make_train_function\u001b[0m\u001b[0;34m(\u001b[0m\u001b[0;34m)\u001b[0m\u001b[0;34m\u001b[0m\u001b[0;34m\u001b[0m\u001b[0m\n\u001b[0;32m-> 1217\u001b[0;31m         \u001b[0moutputs\u001b[0m \u001b[0;34m=\u001b[0m \u001b[0mself\u001b[0m\u001b[0;34m.\u001b[0m\u001b[0mtrain_function\u001b[0m\u001b[0;34m(\u001b[0m\u001b[0mins\u001b[0m\u001b[0;34m)\u001b[0m\u001b[0;34m\u001b[0m\u001b[0;34m\u001b[0m\u001b[0m\n\u001b[0m\u001b[1;32m   1218\u001b[0m         \u001b[0;32mreturn\u001b[0m \u001b[0munpack_singleton\u001b[0m\u001b[0;34m(\u001b[0m\u001b[0moutputs\u001b[0m\u001b[0;34m)\u001b[0m\u001b[0;34m\u001b[0m\u001b[0;34m\u001b[0m\u001b[0m\n\u001b[1;32m   1219\u001b[0m \u001b[0;34m\u001b[0m\u001b[0m\n",
      "\u001b[0;32m~/.conda/envs/ai/lib/python3.6/site-packages/keras/backend/tensorflow_backend.py\u001b[0m in \u001b[0;36m__call__\u001b[0;34m(self, inputs)\u001b[0m\n\u001b[1;32m   2713\u001b[0m                 \u001b[0;32mreturn\u001b[0m \u001b[0mself\u001b[0m\u001b[0;34m.\u001b[0m\u001b[0m_legacy_call\u001b[0m\u001b[0;34m(\u001b[0m\u001b[0minputs\u001b[0m\u001b[0;34m)\u001b[0m\u001b[0;34m\u001b[0m\u001b[0;34m\u001b[0m\u001b[0m\n\u001b[1;32m   2714\u001b[0m \u001b[0;34m\u001b[0m\u001b[0m\n\u001b[0;32m-> 2715\u001b[0;31m             \u001b[0;32mreturn\u001b[0m \u001b[0mself\u001b[0m\u001b[0;34m.\u001b[0m\u001b[0m_call\u001b[0m\u001b[0;34m(\u001b[0m\u001b[0minputs\u001b[0m\u001b[0;34m)\u001b[0m\u001b[0;34m\u001b[0m\u001b[0;34m\u001b[0m\u001b[0m\n\u001b[0m\u001b[1;32m   2716\u001b[0m         \u001b[0;32melse\u001b[0m\u001b[0;34m:\u001b[0m\u001b[0;34m\u001b[0m\u001b[0;34m\u001b[0m\u001b[0m\n\u001b[1;32m   2717\u001b[0m             \u001b[0;32mif\u001b[0m \u001b[0mpy_any\u001b[0m\u001b[0;34m(\u001b[0m\u001b[0mis_tensor\u001b[0m\u001b[0;34m(\u001b[0m\u001b[0mx\u001b[0m\u001b[0;34m)\u001b[0m \u001b[0;32mfor\u001b[0m \u001b[0mx\u001b[0m \u001b[0;32min\u001b[0m \u001b[0minputs\u001b[0m\u001b[0;34m)\u001b[0m\u001b[0;34m:\u001b[0m\u001b[0;34m\u001b[0m\u001b[0;34m\u001b[0m\u001b[0m\n",
      "\u001b[0;32m~/.conda/envs/ai/lib/python3.6/site-packages/keras/backend/tensorflow_backend.py\u001b[0m in \u001b[0;36m_call\u001b[0;34m(self, inputs)\u001b[0m\n\u001b[1;32m   2673\u001b[0m             \u001b[0mfetched\u001b[0m \u001b[0;34m=\u001b[0m \u001b[0mself\u001b[0m\u001b[0;34m.\u001b[0m\u001b[0m_callable_fn\u001b[0m\u001b[0;34m(\u001b[0m\u001b[0;34m*\u001b[0m\u001b[0marray_vals\u001b[0m\u001b[0;34m,\u001b[0m \u001b[0mrun_metadata\u001b[0m\u001b[0;34m=\u001b[0m\u001b[0mself\u001b[0m\u001b[0;34m.\u001b[0m\u001b[0mrun_metadata\u001b[0m\u001b[0;34m)\u001b[0m\u001b[0;34m\u001b[0m\u001b[0;34m\u001b[0m\u001b[0m\n\u001b[1;32m   2674\u001b[0m         \u001b[0;32melse\u001b[0m\u001b[0;34m:\u001b[0m\u001b[0;34m\u001b[0m\u001b[0;34m\u001b[0m\u001b[0m\n\u001b[0;32m-> 2675\u001b[0;31m             \u001b[0mfetched\u001b[0m \u001b[0;34m=\u001b[0m \u001b[0mself\u001b[0m\u001b[0;34m.\u001b[0m\u001b[0m_callable_fn\u001b[0m\u001b[0;34m(\u001b[0m\u001b[0;34m*\u001b[0m\u001b[0marray_vals\u001b[0m\u001b[0;34m)\u001b[0m\u001b[0;34m\u001b[0m\u001b[0;34m\u001b[0m\u001b[0m\n\u001b[0m\u001b[1;32m   2676\u001b[0m         \u001b[0;32mreturn\u001b[0m \u001b[0mfetched\u001b[0m\u001b[0;34m[\u001b[0m\u001b[0;34m:\u001b[0m\u001b[0mlen\u001b[0m\u001b[0;34m(\u001b[0m\u001b[0mself\u001b[0m\u001b[0;34m.\u001b[0m\u001b[0moutputs\u001b[0m\u001b[0;34m)\u001b[0m\u001b[0;34m]\u001b[0m\u001b[0;34m\u001b[0m\u001b[0;34m\u001b[0m\u001b[0m\n\u001b[1;32m   2677\u001b[0m \u001b[0;34m\u001b[0m\u001b[0m\n",
      "\u001b[0;32m~/.conda/envs/ai/lib/python3.6/site-packages/tensorflow/python/client/session.py\u001b[0m in \u001b[0;36m__call__\u001b[0;34m(self, *args, **kwargs)\u001b[0m\n\u001b[1;32m   1437\u001b[0m           ret = tf_session.TF_SessionRunCallable(\n\u001b[1;32m   1438\u001b[0m               \u001b[0mself\u001b[0m\u001b[0;34m.\u001b[0m\u001b[0m_session\u001b[0m\u001b[0;34m.\u001b[0m\u001b[0m_session\u001b[0m\u001b[0;34m,\u001b[0m \u001b[0mself\u001b[0m\u001b[0;34m.\u001b[0m\u001b[0m_handle\u001b[0m\u001b[0;34m,\u001b[0m \u001b[0margs\u001b[0m\u001b[0;34m,\u001b[0m \u001b[0mstatus\u001b[0m\u001b[0;34m,\u001b[0m\u001b[0;34m\u001b[0m\u001b[0;34m\u001b[0m\u001b[0m\n\u001b[0;32m-> 1439\u001b[0;31m               run_metadata_ptr)\n\u001b[0m\u001b[1;32m   1440\u001b[0m         \u001b[0;32mif\u001b[0m \u001b[0mrun_metadata\u001b[0m\u001b[0;34m:\u001b[0m\u001b[0;34m\u001b[0m\u001b[0;34m\u001b[0m\u001b[0m\n\u001b[1;32m   1441\u001b[0m           \u001b[0mproto_data\u001b[0m \u001b[0;34m=\u001b[0m \u001b[0mtf_session\u001b[0m\u001b[0;34m.\u001b[0m\u001b[0mTF_GetBuffer\u001b[0m\u001b[0;34m(\u001b[0m\u001b[0mrun_metadata_ptr\u001b[0m\u001b[0;34m)\u001b[0m\u001b[0;34m\u001b[0m\u001b[0;34m\u001b[0m\u001b[0m\n",
      "\u001b[0;31mKeyboardInterrupt\u001b[0m: "
     ]
    }
   ],
   "source": [
    "model_ws.fit_generator(gen_cross(), steps_per_epoch=10000, epochs=100)"
   ]
  },
  {
   "cell_type": "code",
   "execution_count": 153,
   "metadata": {},
   "outputs": [],
   "source": [
    "# # # # save_model(model_ws, 'model_ws_100epochs') #took two hours"
   ]
  },
  {
   "cell_type": "code",
   "execution_count": 20,
   "metadata": {},
   "outputs": [
    {
     "data": {
      "text/plain": [
       "[<matplotlib.lines.Line2D at 0x7fc5a368a668>]"
      ]
     },
     "execution_count": 20,
     "metadata": {},
     "output_type": "execute_result"
    },
    {
     "data": {
      "image/png": "[encoded data removed]",
      "text/plain": [
       "<Figure size 432x288 with 1 Axes>"
      ]
     },
     "metadata": {
      "needs_background": "light"
     },
     "output_type": "display_data"
    }
   ],
   "source": [
    "plt.plot(model_ws.history.history['loss'][10:])"
   ]
  },
  {
   "cell_type": "code",
   "execution_count": 136,
   "metadata": {},
   "outputs": [
    {
     "data": {
      "text/plain": [
       "[<matplotlib.lines.Line2D at 0x7fc41c396e48>]"
      ]
     },
     "execution_count": 136,
     "metadata": {},
     "output_type": "execute_result"
    },
    {
     "data": {
      "image/png": "[encoded data removed]",
      "text/plain": [
       "<Figure size 432x288 with 1 Axes>"
      ]
     },
     "metadata": {
      "needs_background": "light"
     },
     "output_type": "display_data"
    }
   ],
   "source": [
    "plt.plot(model_ws.history.history['loss']) #with mistake"
   ]
  },
  {
   "cell_type": "code",
   "execution_count": 137,
   "metadata": {},
   "outputs": [],
   "source": [
    "import pandas as pd"
   ]
  },
  {
   "cell_type": "code",
   "execution_count": 27,
   "metadata": {},
   "outputs": [
    {
     "data": {
      "text/html": [
       "<div>\n",
       "<style scoped>\n",
       "    .dataframe tbody tr th:only-of-type {\n",
       "        vertical-align: middle;\n",
       "    }\n",
       "\n",
       "    .dataframe tbody tr th {\n",
       "        vertical-align: top;\n",
       "    }\n",
       "\n",
       "    .dataframe thead th {\n",
       "        text-align: right;\n",
       "    }\n",
       "</style>\n",
       "<table border=\"1\" class=\"dataframe\">\n",
       "  <thead>\n",
       "    <tr style=\"text-align: right;\">\n",
       "      <th></th>\n",
       "      <th>0</th>\n",
       "      <th>1</th>\n",
       "      <th>2</th>\n",
       "      <th>3</th>\n",
       "    </tr>\n",
       "  </thead>\n",
       "  <tbody>\n",
       "    <tr>\n",
       "      <th>0</th>\n",
       "      <td>0.044515</td>\n",
       "      <td>-0.067232</td>\n",
       "      <td>0.258614</td>\n",
       "      <td>-0.046601</td>\n",
       "    </tr>\n",
       "    <tr>\n",
       "      <th>1</th>\n",
       "      <td>0.022718</td>\n",
       "      <td>0.067232</td>\n",
       "      <td>0.212013</td>\n",
       "      <td>-0.046601</td>\n",
       "    </tr>\n",
       "    <tr>\n",
       "      <th>2</th>\n",
       "      <td>0.089950</td>\n",
       "      <td>0.067232</td>\n",
       "      <td>0.165412</td>\n",
       "      <td>-0.046601</td>\n",
       "    </tr>\n",
       "    <tr>\n",
       "      <th>3</th>\n",
       "      <td>0.157182</td>\n",
       "      <td>0.067232</td>\n",
       "      <td>0.118812</td>\n",
       "      <td>-0.046601</td>\n",
       "    </tr>\n",
       "    <tr>\n",
       "      <th>4</th>\n",
       "      <td>0.224415</td>\n",
       "      <td>0.067232</td>\n",
       "      <td>0.072211</td>\n",
       "      <td>-0.046601</td>\n",
       "    </tr>\n",
       "  </tbody>\n",
       "</table>\n",
       "</div>"
      ],
      "text/plain": [
       "          0         1         2         3\n",
       "0  0.044515 -0.067232  0.258614 -0.046601\n",
       "1  0.022718  0.067232  0.212013 -0.046601\n",
       "2  0.089950  0.067232  0.165412 -0.046601\n",
       "3  0.157182  0.067232  0.118812 -0.046601\n",
       "4  0.224415  0.067232  0.072211 -0.046601"
      ]
     },
     "execution_count": 27,
     "metadata": {},
     "output_type": "execute_result"
    }
   ],
   "source": [
    "### TODO:\n",
    "### MISTAKE on generating\n",
    "t = b2[0].reshape(1,5,4)\n",
    "pd.DataFrame(t[0])"
   ]
  },
  {
   "cell_type": "code",
   "execution_count": 28,
   "metadata": {},
   "outputs": [
    {
     "data": {
      "text/plain": [
       "array([[0.22436628, 0.06719185]], dtype=float32)"
      ]
     },
     "execution_count": 28,
     "metadata": {},
     "output_type": "execute_result"
    }
   ],
   "source": [
    "model_ws.predict(t[:,:4,0].reshape(1,4,1))"
   ]
  },
  {
   "cell_type": "code",
   "execution_count": 26,
   "metadata": {},
   "outputs": [],
   "source": [
    "batch_size=128\n",
    "a = next(fmove_generator(batch_size=int(batch_size/4)))\n",
    "b = next(bmove_generator(batch_size=int(batch_size/4),bounceAt=2)) #last training instance is after the bounce\n",
    "b1 = next(bmove_generator(batch_size=int(batch_size/4),bounceAt=1))\n",
    "b2 = next(bmove_generator(batch_size=int(batch_size/4),bounceAt=0))"
   ]
  },
  {
   "cell_type": "markdown",
   "metadata": {},
   "source": [
    "# Next frame\n",
    "\n",
    "model_ws predicts next frame with speed. Use that to predict from one frame only?"
   ]
  },
  {
   "cell_type": "markdown",
   "metadata": {},
   "source": [
    "# Bounces"
   ]
  },
  {
   "cell_type": "code",
   "execution_count": 73,
   "metadata": {},
   "outputs": [
    {
     "name": "stdout",
     "output_type": "stream",
     "text": [
      "_________________________________________________________________\n",
      "Layer (type)                 Output Shape              Param #   \n",
      "=================================================================\n",
      "input_5 (InputLayer)         (None, 2)                 0         \n",
      "_________________________________________________________________\n",
      "dense_4 (Dense)              (None, 2)                 6         \n",
      "_________________________________________________________________\n",
      "dense_5 (Dense)              (None, 4)                 12        \n",
      "_________________________________________________________________\n",
      "dense_6 (Dense)              (None, 2)                 10        \n",
      "=================================================================\n",
      "Total params: 28\n",
      "Trainable params: 28\n",
      "Non-trainable params: 0\n",
      "_________________________________________________________________\n"
     ]
    }
   ],
   "source": [
    "#for predicting multiple frames, bounce module need the ability \n",
    "#             to mirror movement wherever the bounce is\n",
    "inputs = Input(shape=(2,))\n",
    "\n",
    "x = Dense(2)(inputs)\n",
    "x = Dense(4, activation='relu')(x)\n",
    "x = Dense(2)(x)\n",
    "predictions = x\n",
    "\n",
    "\n",
    "model_b = Model(inputs=inputs, outputs=predictions)\n",
    "model_b.compile(loss=mean_squared_error,\n",
    "              optimizer='adam',\n",
    "              metrics=['accuracy'])\n",
    "model_b.summary()"
   ]
  },
  {
   "cell_type": "code",
   "execution_count": 77,
   "metadata": {},
   "outputs": [],
   "source": [
    "def mod_bounce(batch_size=128):\n",
    "    while True:\n",
    "        for a in bmove_generator(batch_size=batch_size, bounceAt=3): #4th frame is after bounce\n",
    "            yield a[:,:4,0].reshape(batch_size,-1,1), a[:,4,:2]"
   ]
  },
  {
   "cell_type": "code",
   "execution_count": 80,
   "metadata": {},
   "outputs": [],
   "source": [
    "x,y = next(mod_bounce())"
   ]
  },
  {
   "cell_type": "code",
   "execution_count": 13,
   "metadata": {},
   "outputs": [
    {
     "name": "stdout",
     "output_type": "stream",
     "text": [
      "Saved model to disk\n"
     ]
    }
   ],
   "source": [
    "save_model(model_b, 'model_b')"
   ]
  },
  {
   "cell_type": "code",
   "execution_count": 14,
   "metadata": {},
   "outputs": [
    {
     "name": "stdout",
     "output_type": "stream",
     "text": [
      "2.541683286868845e-05\n",
      "2.526100590037306e-05\n"
     ]
    }
   ],
   "source": [
    "print(mse(test_Y, model_b.predict(test_X))**0.5)\n",
    "print(mse(train_Y, model_b.predict(train_X))**0.5)"
   ]
  },
  {
   "cell_type": "code",
   "execution_count": 15,
   "metadata": {},
   "outputs": [
    {
     "data": {
      "text/plain": [
       "[<matplotlib.lines.Line2D at 0x7f9dbc554c50>]"
      ]
     },
     "execution_count": 15,
     "metadata": {},
     "output_type": "execute_result"
    },
    {
     "data": {
      "image/png": "[encoded data removed]",
      "text/plain": [
       "<Figure size 432x288 with 1 Axes>"
      ]
     },
     "metadata": {
      "needs_background": "light"
     },
     "output_type": "display_data"
    }
   ],
   "source": [
    "plt.plot(model_b.history.history['loss'])"
   ]
  },
  {
   "cell_type": "code",
   "execution_count": 16,
   "metadata": {},
   "outputs": [
    {
     "data": {
      "text/plain": [
       "array([[ 1.06517512,  0.091181  ],\n",
       "       [-0.00969421, -0.01684606],\n",
       "       [ 1.00933562,  0.09554047],\n",
       "       [-0.02180216, -0.07631796],\n",
       "       [ 1.05431459,  0.07958159]])"
      ]
     },
     "execution_count": 16,
     "metadata": {},
     "output_type": "execute_result"
    }
   ],
   "source": [
    "train_X[:5]"
   ]
  },
  {
   "cell_type": "code",
   "execution_count": 17,
   "metadata": {},
   "outputs": [
    {
     "data": {
      "text/plain": [
       "array([[ 0.93479025, -0.09119433],\n",
       "       [ 0.00966617,  0.01684713],\n",
       "       [ 0.99061376, -0.09555367],\n",
       "       [ 0.02176878,  0.07632011],\n",
       "       [ 0.94564986, -0.07959476]], dtype=float32)"
      ]
     },
     "execution_count": 17,
     "metadata": {},
     "output_type": "execute_result"
    }
   ],
   "source": [
    "model_b.predict(train_X[:5])"
   ]
  },
  {
   "cell_type": "code",
   "execution_count": 18,
   "metadata": {},
   "outputs": [
    {
     "data": {
      "text/plain": [
       "array([[ 0.93482488, -0.091181  ],\n",
       "       [ 0.00969421,  0.01684606]])"
      ]
     },
     "execution_count": 18,
     "metadata": {},
     "output_type": "execute_result"
    }
   ],
   "source": [
    "train_Y[[0,1]]"
   ]
  },
  {
   "cell_type": "code",
   "execution_count": 19,
   "metadata": {},
   "outputs": [
    {
     "name": "stdout",
     "output_type": "stream",
     "text": [
      "Saved model to disk\n"
     ]
    }
   ],
   "source": [
    "save_model(model_b, 'model_b')"
   ]
  },
  {
   "cell_type": "markdown",
   "metadata": {},
   "source": [
    "### Attention"
   ]
  },
  {
   "cell_type": "code",
   "execution_count": 20,
   "metadata": {},
   "outputs": [
    {
     "name": "stdout",
     "output_type": "stream",
     "text": [
      "_________________________________________________________________\n",
      "Layer (type)                 Output Shape              Param #   \n",
      "=================================================================\n",
      "input_3 (InputLayer)         (None, 1)                 0         \n",
      "_________________________________________________________________\n",
      "dense_5 (Dense)              (None, 8)                 16        \n",
      "_________________________________________________________________\n",
      "dense_6 (Dense)              (None, 20)                180       \n",
      "_________________________________________________________________\n",
      "dense_7 (Dense)              (None, 2)                 42        \n",
      "=================================================================\n",
      "Total params: 238\n",
      "Trainable params: 238\n",
      "Non-trainable params: 0\n",
      "_________________________________________________________________\n"
     ]
    }
   ],
   "source": [
    "inputs = Input(shape=(1,))\n",
    "x = Dense(8)(inputs)\n",
    "x = Dense(20, activation='relu')(x)\n",
    "x = Dense(2, activation='softmax')(x)\n",
    "predictions = x\n",
    "\n",
    "model_att = Model(inputs=inputs, outputs=predictions)\n",
    "model_att.compile(loss=binary_crossentropy,\n",
    "              optimizer='adamax',\n",
    "              metrics=['accuracy'])\n",
    "model_att.summary()"
   ]
  },
  {
   "cell_type": "code",
   "execution_count": 21,
   "metadata": {},
   "outputs": [
    {
     "data": {
      "text/plain": [
       "<keras.callbacks.History at 0x7f9de011ad68>"
      ]
     },
     "execution_count": 21,
     "metadata": {},
     "output_type": "execute_result"
    }
   ],
   "source": [
    "df = pd.read_csv('data/bounces_att.csv')\n",
    "a = df.to_numpy()\n",
    "train_X = a[:,0].reshape(20000,1)\n",
    "train_Y = (a[:,2] == True)\n",
    "\n",
    "l = train_X.shape[0]\n",
    "i = np.arange(l)\n",
    "t = np.zeros((l, 2))\n",
    "t[:,0] = 1-train_Y\n",
    "t[:,1] = train_Y\n",
    "train_Y = t\n",
    "\n",
    "model_att.fit(train_X, train_Y, epochs=100, verbose=False)"
   ]
  },
  {
   "cell_type": "code",
   "execution_count": 22,
   "metadata": {},
   "outputs": [
    {
     "name": "stdout",
     "output_type": "stream",
     "text": [
      "Saved model to disk\n"
     ]
    }
   ],
   "source": [
    "save_model(model_att, 'model_att')"
   ]
  },
  {
   "cell_type": "code",
   "execution_count": 23,
   "metadata": {},
   "outputs": [
    {
     "data": {
      "text/plain": [
       "[<matplotlib.lines.Line2D at 0x7f9d9c7f2dd8>]"
      ]
     },
     "execution_count": 23,
     "metadata": {},
     "output_type": "execute_result"
    },
    {
     "data": {
      "image/png": "[encoded data removed]",
      "text/plain": [
       "<Figure size 432x288 with 1 Axes>"
      ]
     },
     "metadata": {
      "needs_background": "light"
     },
     "output_type": "display_data"
    }
   ],
   "source": [
    "plt.plot(model_att.history.history['acc'])"
   ]
  },
  {
   "cell_type": "code",
   "execution_count": 24,
   "metadata": {},
   "outputs": [
    {
     "name": "stdout",
     "output_type": "stream",
     "text": [
      "_________________________________________________________________\n",
      "Layer (type)                 Output Shape              Param #   \n",
      "=================================================================\n",
      "input_4 (InputLayer)         (None, 1)                 0         \n",
      "_________________________________________________________________\n",
      "model_3 (Model)              (None, 2)                 238       \n",
      "_________________________________________________________________\n",
      "lambda_1 (Lambda)            (None, 2)                 0         \n",
      "=================================================================\n",
      "Total params: 238\n",
      "Trainable params: 238\n",
      "Non-trainable params: 0\n",
      "_________________________________________________________________\n"
     ]
    }
   ],
   "source": [
    "inputs = Input(shape=(1,))\n",
    "\n",
    "x = model_att(inputs)\n",
    "x = Lambda(lambda s: K.round(s))(x)\n",
    "predictions = x\n",
    "model_lambda = Model(inputs=inputs, outputs=predictions)\n",
    "model_lambda.compile(loss=binary_crossentropy,\n",
    "              optimizer='adam',\n",
    "              metrics=['acc'])\n",
    "model_lambda.summary()"
   ]
  },
  {
   "cell_type": "code",
   "execution_count": 25,
   "metadata": {},
   "outputs": [
    {
     "name": "stdout",
     "output_type": "stream",
     "text": [
      "Saved model to disk\n"
     ]
    }
   ],
   "source": [
    "save_model(model_lambda, 'model_lambda')"
   ]
  },
  {
   "cell_type": "markdown",
   "metadata": {},
   "source": [
    "## Bounce series"
   ]
  },
  {
   "cell_type": "code",
   "execution_count": 26,
   "metadata": {},
   "outputs": [],
   "source": [
    "df = pd.read_csv('data/bounces_x_1.csv')\n",
    "a = df.to_numpy()\n",
    "a = a.reshape((1000,5,4))\n",
    "\n",
    "X = a[:,:4,0].reshape(1000,4,1) #np.delete(a, [1,3], axis=2)[:,:10,:]\n",
    "Y = a[:,4,:2] #.reshape(10000,5,2)\n",
    "\n",
    "train_X = X[:800]\n",
    "train_Y = Y[:800]\n",
    "\n",
    "test_X = X[800:]\n",
    "test_Y = Y[800:]"
   ]
  },
  {
   "cell_type": "code",
   "execution_count": 27,
   "metadata": {},
   "outputs": [
    {
     "name": "stdout",
     "output_type": "stream",
     "text": [
      "__________________________________________________________________________________________________\n",
      "Layer (type)                    Output Shape         Param #     Connected to                     \n",
      "==================================================================================================\n",
      "input_rec (InputLayer)          (None, 4, 1)         0                                            \n",
      "__________________________________________________________________________________________________\n",
      "model_1 (Model)                 (None, 2)            106         input_rec[0][0]                  \n",
      "__________________________________________________________________________________________________\n",
      "lambda_2 (Lambda)               (None, 1)            0           model_1[1][0]                    \n",
      "__________________________________________________________________________________________________\n",
      "model_4 (Model)                 (None, 2)            238         lambda_2[0][0]                   \n",
      "__________________________________________________________________________________________________\n",
      "model_2 (Model)                 (None, 2)            28          model_1[1][0]                    \n",
      "__________________________________________________________________________________________________\n",
      "lambda_3 (Lambda)               (None, 2)            0           model_4[1][0]                    \n",
      "                                                                 model_2[1][0]                    \n",
      "                                                                 model_1[1][0]                    \n",
      "==================================================================================================\n",
      "Total params: 372\n",
      "Trainable params: 372\n",
      "Non-trainable params: 0\n",
      "__________________________________________________________________________________________________\n"
     ]
    }
   ],
   "source": [
    "isBounce = K.tf.convert_to_tensor([0,1],dtype=np.float32) #if attention outputs this, then bounce module is needed\n",
    "\n",
    "inputs_rec = Input(shape=(4,1), name='input_rec')\n",
    "rec = model_ws(inputs_rec)\n",
    "rec_x = Lambda(lambda s: K.reshape(s[:,0], (-1,1)))(rec)\n",
    "bnc = model_b(rec)\n",
    "att = model_lambda(rec_x)\n",
    "att2 = Lambda(lambda s: K.switch(K.equal(s[0], isBounce), s[1], s[2]))([att, bnc, rec]) #~hard attention\n",
    "\n",
    "x = att2\n",
    "\n",
    "model_m = Model(inputs=inputs_rec, outputs=x)\n",
    "model_m.compile(loss=mean_squared_error,\n",
    "              optimizer='adam',\n",
    "              metrics=['accuracy'])\n",
    "model_m.summary()"
   ]
  },
  {
   "cell_type": "code",
   "execution_count": 28,
   "metadata": {},
   "outputs": [
    {
     "name": "stdout",
     "output_type": "stream",
     "text": [
      "Saved model to disk\n"
     ]
    }
   ],
   "source": [
    "save_model(model_m, 'model_m')"
   ]
  },
  {
   "cell_type": "code",
   "execution_count": 29,
   "metadata": {},
   "outputs": [],
   "source": [
    "df2 = pd.read_csv('data/sim_data_borders.csv')\n",
    "# x, x_vel, y, y_vel\n",
    "a2 = df2.to_numpy()\n",
    "a2 = a2.reshape((4000,5,4)) #samples x timesteps x features\n",
    "X2 = a2[:,:4,0].reshape(4000,4,1) #np.delete(a, [1,3], axis=2)[:,:10,:]\n",
    "Y2 = a2[:,4,:2] #.reshape(10000,5,2)\n",
    "\n",
    "train_X2 = X2[:8000]\n",
    "train_Y2 = Y2[:8000]"
   ]
  },
  {
   "cell_type": "code",
   "execution_count": 30,
   "metadata": {},
   "outputs": [
    {
     "data": {
      "text/plain": [
       "0.0010043797778884257"
      ]
     },
     "execution_count": 30,
     "metadata": {},
     "output_type": "execute_result"
    }
   ],
   "source": [
    "mixdf = pd.concat([df, df2[:5000]])\n",
    "mix = mixdf.to_numpy()\n",
    "mix = mix.reshape(2000,5,4)\n",
    "np.random.shuffle(mix)\n",
    "mix_train_x = mix[:1800,:4,0].reshape(1800,4,1)\n",
    "mix_train_y = mix[:1800,4,:2]\n",
    "mix_test_x = mix[1800:,:4,0].reshape(200,4,1)\n",
    "mix_test_y = mix[1800:,4,:2]\n",
    "mse(mix_test_y, model_m.predict(mix_test_x)) # My model"
   ]
  },
  {
   "cell_type": "code",
   "execution_count": null,
   "metadata": {},
   "outputs": [],
   "source": []
  }
 ],
 "metadata": {
  "kernelspec": {
   "display_name": "Python 3",
   "language": "python",
   "name": "python3"
  },
  "language_info": {
   "codemirror_mode": {
    "name": "ipython",
    "version": 3
   },
   "file_extension": ".py",
   "mimetype": "text/x-python",
   "name": "python",
   "nbconvert_exporter": "python",
   "pygments_lexer": "ipython3",
   "version": "3.6.8"
  }
 },
 "nbformat": 4,
 "nbformat_minor": 2
}
