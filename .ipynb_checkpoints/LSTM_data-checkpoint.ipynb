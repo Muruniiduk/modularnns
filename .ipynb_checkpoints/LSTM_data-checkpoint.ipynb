{
 "cells": [
  {
   "cell_type": "code",
   "execution_count": 1,
   "metadata": {},
   "outputs": [],
   "source": [
    "import pandas as pd\n",
    "import numpy as np"
   ]
  },
  {
   "cell_type": "markdown",
   "metadata": {},
   "source": [
    "# Creating dataset"
   ]
  },
  {
   "cell_type": "code",
   "execution_count": 22,
   "metadata": {},
   "outputs": [],
   "source": [
    "df = pd.DataFrame(columns=[\"x\",\"x_vel\",\"y\",\"y_vel\"]) #,\"x0\",\"x1\",\"y0\",\"y1\"])"
   ]
  },
  {
   "cell_type": "code",
   "execution_count": 23,
   "metadata": {},
   "outputs": [],
   "source": [
    "# df.append({\"test1\": 1, \"Test2\" : 2}, ignore_index=True)"
   ]
  },
  {
   "cell_type": "code",
   "execution_count": 24,
   "metadata": {},
   "outputs": [],
   "source": [
    "dt = 0.01\n",
    "\n",
    "def add(row, df):\n",
    "    d = dict()\n",
    "    cols = list(df.columns)\n",
    "    for i in np.arange(len(cols)):\n",
    "        d[cols[i]] = row[i]\n",
    "    return df.append(d, ignore_index=True)\n",
    "\n",
    "def add_rnd(df):\n",
    "    x_vel = np.random.rand()\n",
    "    y_vel = np.random.rand()\n",
    "    x = np.random.rand()\n",
    "    y = np.random.rand()\n",
    "    return add([x,x_vel,y,y_vel],df) #,0,1,0,1], df)\n",
    "\n",
    "def add_next(df):\n",
    "    x,x_vel,y,y_vel = list(df.iloc[-1])\n",
    "    return add([x+x_vel*dt,x_vel,y+y_vel*dt,y_vel], df)"
   ]
  },
  {
   "cell_type": "code",
   "execution_count": 25,
   "metadata": {},
   "outputs": [],
   "source": [
    "df = pd.DataFrame(columns=[\"x\",\"x_vel\",\"y\",\"y_vel\"]) #,\"x0\",\"x1\",\"y0\",\"y1\"])\n",
    "for i in range(5000):\n",
    "    if i % 20 == 0: df = add_rnd(df)\n",
    "    else: df = add_next(df)"
   ]
  },
  {
   "cell_type": "code",
   "execution_count": 27,
   "metadata": {},
   "outputs": [
    {
     "data": {
      "text/plain": [
       "(5000, 4)"
      ]
     },
     "execution_count": 27,
     "metadata": {},
     "output_type": "execute_result"
    }
   ],
   "source": [
    "df.shape"
   ]
  },
  {
   "cell_type": "code",
   "execution_count": 28,
   "metadata": {},
   "outputs": [],
   "source": [
    "df.to_csv('sim_data.csv', index=False)"
   ]
  },
  {
   "cell_type": "code",
   "execution_count": null,
   "metadata": {},
   "outputs": [],
   "source": []
  }
 ],
 "metadata": {
  "kernelspec": {
   "display_name": "Python 3",
   "language": "python",
   "name": "python3"
  },
  "language_info": {
   "codemirror_mode": {
    "name": "ipython",
    "version": 3
   },
   "file_extension": ".py",
   "mimetype": "text/x-python",
   "name": "python",
   "nbconvert_exporter": "python",
   "pygments_lexer": "ipython3",
   "version": "3.6.8"
  }
 },
 "nbformat": 4,
 "nbformat_minor": 2
}
