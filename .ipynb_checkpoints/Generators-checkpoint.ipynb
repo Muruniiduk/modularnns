{
 "cells": [
  {
   "cell_type": "markdown",
   "metadata": {},
   "source": [
    "# Data with generators"
   ]
  },
  {
   "cell_type": "code",
   "execution_count": 1,
   "metadata": {},
   "outputs": [],
   "source": [
    "import pandas as pd\n",
    "import numpy as np"
   ]
  },
  {
   "cell_type": "markdown",
   "metadata": {},
   "source": [
    "## Forward movement"
   ]
  },
  {
   "cell_type": "code",
   "execution_count": 2,
   "metadata": {},
   "outputs": [],
   "source": [
    "def fmove_generator(batch_size = 64, frames = 5):\n",
    "    \"\"\"\n",
    "    Forward movement generator. Yields x, x_vel, y, y_vel with given number of frames.\n",
    "    This generator creates data with standard normal distribution.\n",
    "    \"\"\"\n",
    "    a = np.zeros((batch_size, frames, 4))\n",
    "    a[:,0,0] = np.random.randn(batch_size) #x\n",
    "    a[:,:,1] = np.random.randn(batch_size).reshape(-1,1)*0.1 #x_vel\n",
    "    a[:,0,2] = np.random.randn(batch_size) #y\n",
    "    a[:,:,3] = np.random.randn(batch_size).reshape(-1,1)*0.1 #y_vel\n",
    "    \n",
    "    for f in range(1,frames):\n",
    "        a[:,f,[0,2]] = np.add(a[:,f-1,[0,2]], a[:,f,[1,3]] )\n",
    "    \n",
    "    yield a"
   ]
  },
  {
   "cell_type": "code",
   "execution_count": 3,
   "metadata": {},
   "outputs": [],
   "source": [
    "# for i in fmove_generator():\n",
    "#     print(i[0])\n",
    "#     break"
   ]
  },
  {
   "cell_type": "markdown",
   "metadata": {},
   "source": [
    "## Bounce"
   ]
  },
  {
   "cell_type": "code",
   "execution_count": 4,
   "metadata": {},
   "outputs": [],
   "source": [
    "def bounce_generator(batch_size = 64):\n",
    "    \"\"\"\n",
    "    Bounce generator. Bounce will happen either at x or y for whole batch.\n",
    "    Yields mirrored x, x_vel, y, y_vel\n",
    "    \"\"\"\n",
    "    a = np.zeros((batch_size, 2, 4))\n",
    "    \n",
    "    #randomly select whether bounce will be at x or y\n",
    "    k = np.random.choice([0,2])\n",
    "    l = 2-k\n",
    "    \n",
    "    #no bounce\n",
    "    i = np.arange(batch_size)\n",
    "    a[:,0,l] = np.random.uniform(size=batch_size)#.reshape(-1,1)\n",
    "    a[:,0,l+1] = np.random.uniform(size=batch_size)*0.1#.reshape(-1,1)*0.1 #x_vel\n",
    "    a[:,1,[l,l+1]] = a[:,0,[l,l+1]] #hard to broadcast on prev line\n",
    "    \n",
    "    #bounce\n",
    "    border = np.random.choice([0,1], size=batch_size)\n",
    "    vel = np.sign(border-0.5) * np.random.uniform(0, 0.1, size=batch_size)\n",
    "\n",
    "    coord = border + np.random.uniform(size=batch_size) * vel\n",
    "\n",
    "    a[:,0,k] = coord #.reshape(-1,1)\n",
    "    a[:,1,k] = 2*border - coord\n",
    "    a[:,0,k+1] = vel\n",
    "    a[:,1,k+1] = -vel\n",
    "    \n",
    "    yield a   "
   ]
  },
  {
   "cell_type": "code",
   "execution_count": 5,
   "metadata": {},
   "outputs": [],
   "source": [
    "# for i in bounce_generator():\n",
    "#     print(i.shape)\n",
    "#     print(i)\n",
    "#     break"
   ]
  },
  {
   "cell_type": "markdown",
   "metadata": {},
   "source": [
    "## Attention"
   ]
  },
  {
   "cell_type": "code",
   "execution_count": 6,
   "metadata": {},
   "outputs": [],
   "source": [
    "def attention_generator(batch_size = 64):\n",
    "    \"\"\"\n",
    "    Attention data generator. Yields x, x_vel, is_bounce (bool).\n",
    "    \"\"\"\n",
    "    a = np.zeros((batch_size, 3))\n",
    "    a[:,0] = np.random.choice([0,1], size=batch_size)  \\\n",
    "        + np.random.choice([-1,1], size=batch_size) \\\n",
    "        * np.random.uniform(0, 0.1, size=batch_size)\n",
    "    a[:,1] = np.random.uniform(size=batch_size)\n",
    "    a[:,2] = ((a[:,0] > 1) + (a[:,0] < 0)) > 0 #clumsy 'or' statement\n",
    "    yield a"
   ]
  },
  {
   "cell_type": "code",
   "execution_count": 7,
   "metadata": {},
   "outputs": [],
   "source": [
    "# for i in attention_generator():\n",
    "#     print(i.shape)\n",
    "#     print(i[0])\n",
    "#     break"
   ]
  },
  {
   "cell_type": "markdown",
   "metadata": {},
   "source": [
    "## Movement with bounce"
   ]
  },
  {
   "cell_type": "code",
   "execution_count": 8,
   "metadata": {},
   "outputs": [],
   "source": [
    "def bmove_generator(batch_size = 64, frames = 5, bounceAt = None):\n",
    "    \"\"\"\n",
    "    Movement with bounces generator. Yields x, x_vel, y, y_vel with given number of frames.\n",
    "    bounceAt=None will create the bounce at some random frame. Otherwise the bounce happens\n",
    "    after the n-th frame (bounceAt = 3 means that the 4th frame is after the bounce)\n",
    "    \"\"\"\n",
    "    while True:\n",
    "        a = np.zeros((batch_size, frames, 4))\n",
    "        #y\n",
    "        y_vel = np.random.uniform(-0.05, 0.05, size=batch_size)\n",
    "        a[:,:,2] = np.arange(frames)* y_vel.reshape(-1,1) + np.random.uniform(0.25,0.75) #no bounces here\n",
    "        k = int(np.random.rand()*(frames-2)) if bounceAt == None else bounceAt\n",
    "        a[:,:,3] = y_vel.reshape(-1,1)\n",
    "\n",
    "        #x\n",
    "        border = np.random.choice([0,1])\n",
    "        x_vel = -np.random.uniform(0, 0.1, size=batch_size)\n",
    "\n",
    "        if border == 1: x_vel = -x_vel\n",
    "        delta = np.random.uniform(0, np.abs(x_vel) )\n",
    "        delta2 = np.abs(x_vel - delta)\n",
    "        if border == 1: \n",
    "            delta = 1-delta\n",
    "            delta2 = 1-delta2\n",
    "        a[:,:k+1,1] = x_vel.reshape(-1,1)\n",
    "        a[:,k+1:,1] = -x_vel.reshape(-1,1)\n",
    "\n",
    "        for i in range(k+1):\n",
    "            a[:,k-i,0] = delta - i * x_vel\n",
    "        for i in range(frames-k-1):\n",
    "            a[:,k+i+1,0] = delta2 - i * x_vel\n",
    "\n",
    "        yield a"
   ]
  },
  {
   "cell_type": "code",
   "execution_count": 10,
   "metadata": {},
   "outputs": [
    {
     "data": {
      "text/plain": [
       "array([[[ 0.11670225, -0.0732733 ,  0.26924446,  0.01353202],\n",
       "        [ 0.04342894, -0.0732733 ,  0.28277647,  0.01353202],\n",
       "        [ 0.11670225,  0.0732733 ,  0.29630849,  0.01353202],\n",
       "        [ 0.18997555,  0.0732733 ,  0.30984051,  0.01353202],\n",
       "        [ 0.26324886,  0.0732733 ,  0.32337252,  0.01353202]],\n",
       "\n",
       "       [[ 0.10935508, -0.06393343,  0.26924446, -0.02763453],\n",
       "        [ 0.04542165, -0.06393343,  0.24160992, -0.02763453],\n",
       "        [ 0.10935508,  0.06393343,  0.21397539, -0.02763453],\n",
       "        [ 0.1732885 ,  0.06393343,  0.18634086, -0.02763453],\n",
       "        [ 0.23722193,  0.06393343,  0.15870633, -0.02763453]]])"
      ]
     },
     "execution_count": 10,
     "metadata": {},
     "output_type": "execute_result"
    }
   ],
   "source": [
    "next(bmove_generator(batch_size=2))\n",
    "#near 0 is false"
   ]
  },
  {
   "cell_type": "code",
   "execution_count": 9,
   "metadata": {},
   "outputs": [],
   "source": [
    "# k = 0 \n",
    "# for a in bmove_generator(frames = 5):\n",
    "#     print(a[0])\n",
    "#     k+=1\n",
    "#     if k==1:\n",
    "#         break"
   ]
  },
  {
   "cell_type": "markdown",
   "metadata": {},
   "source": [
    "## Bounce movement with 2 ball collision\n",
    "Assume same mass for balls and 1 isn't moving."
   ]
  },
  {
   "cell_type": "code",
   "execution_count": 97,
   "metadata": {},
   "outputs": [],
   "source": [
    "def R(gamma):\n",
    "    \"\"\"\n",
    "    Returns rotation matrix to rotate a vector by gamma radians\n",
    "    in counter-clockwise direction.\n",
    "    \"\"\"\n",
    "    return np.array([\n",
    "        [np.cos(gamma), -np.sin(gamma)],\n",
    "        [np.sin(gamma), np.cos(gamma)]\n",
    "    ])"
   ]
  },
  {
   "cell_type": "code",
   "execution_count": 277,
   "metadata": {},
   "outputs": [],
   "source": [
    "def bounce2_move_generator(batch_size = 64, frames = 5, bounceAt = None):\n",
    "    \"\"\"\n",
    "    Movement with 2 ball bounce generator. Yields s_x, s_velx, s_y, s_vely, \n",
    "    p_x, p_velx, p_y, p_vely with given number of frames.\n",
    "    bounceAt=None will create the bounce at some random frame. Otherwise the bounce happens\n",
    "    after the n-th frame (bounceAt = 3 means that the 4th frame is after the bounce)\n",
    "    \"\"\"\n",
    "    while True:\n",
    "        a = np.zeros((batch_size, frames, 8))\n",
    "        \n",
    "        #moment of collision\n",
    "        x,y = np.random.uniform(0.1,0.9, size=(2, batch_size)) #first ball coords\n",
    "        x_dist = np.random.uniform(-0.1, 0.1, size=batch_size) #2radius is max dist\n",
    "        y_dist = np.random.choice([-1,1], size=batch_size) * np.sqrt(0.1**2 - x_dist**2)\n",
    "        x2, y2 = x+x_dist, y+y_dist  #second ball coords\n",
    "        #rotate the normal vector by random amount\n",
    "        #but still assure that bounce will happen\n",
    "        theta = np.random.uniform(-np.pi/2, np.pi/2, size=batch_size)\n",
    "        n = np.array([x_dist,y_dist]).T #normal vectors\n",
    "        v = np.zeros((batch_size, 2))\n",
    "        reverse_v = np.zeros((batch_size, 2)) #same but 180-degree turn for back-tracking\n",
    "        for i in range(batch_size): \n",
    "            v[i] = np.matmul(R(theta[i]), n[i])\n",
    "            reverse_v[i] = np.matmul(R(np.pi), v[i])\n",
    "        speeds = np.random.randn(batch_size).reshape(-1,1)\n",
    "        v *= speeds * 0.1 #velocities are also random\n",
    "        reverse_v *= speeds * 0.1 \n",
    "\n",
    "        #before the bounce\n",
    "        deltax = np.random.uniform(0, v[:,0]) #before the bounce ball hasnt touched the other yet\n",
    "        deltay = np.random.uniform(0, v[:,1])\n",
    "        #point s\n",
    "        a[:,:bounceAt+1,1] = v[:,0].reshape(-1,1)\n",
    "        a[:,:bounceAt+1,3] = v[:,1].reshape(-1,1)\n",
    "        #point p\n",
    "        a[:,:bounceAt+1,4] = x2.reshape(-1,1)\n",
    "        a[:,:bounceAt+1,6] = y2.reshape(-1,1)\n",
    "        for t in np.arange(bounceAt, -1, -1):\n",
    "            #point s\n",
    "            a[:,t,0] = x - deltax - reverse_v[:,0] * t\n",
    "            a[:,t,2] = y - deltay - reverse_v[:,1] * t\n",
    "\n",
    "        #moment after the collision\n",
    "        tan = y_dist/x_dist\n",
    "        alpha = np.arctan(n[:,1]/n[:,0])\n",
    "        beta = np.arctan(v[:,1]/v[:,0])\n",
    "        #         print(\"ETA \", beta.shape)\n",
    "        gamma = alpha - beta\n",
    "        #         u = np.cos(gamma) * np.matmul(R(gamma),v) #this is vector of ball p\n",
    "        #         p = np.sin(gamma) * np.matmul(R(gamma-np.pi/2),v) #this is the vector of ball s\n",
    "        u, p = np.zeros((batch_size, 2)), np.zeros((batch_size, 2))\n",
    "        #         print(v.shape, ' on v shape')\n",
    "        for i in range(batch_size):\n",
    "        #             tmp = np.cos(gamma[i]) * np.matmul(R(gamma[i]), v[i])\n",
    "            u[i] = np.cos(gamma[i]) * np.matmul(R(gamma[i]), v[i])\n",
    "            p[i] = np.sin(gamma[i]) * np.matmul(R(gamma[i]-np.pi/2), v[i])\n",
    "\n",
    "        #after the bounce\n",
    "        deltax2p = 1 - (deltax/v[:,0])\n",
    "        deltay2p = 1 - (deltay/v[:,1])\n",
    "        #how much each coordinate of both balls have moved\n",
    "        deltaxs = deltax2p * u[:,0]\n",
    "        deltays = deltax2p * u[:,1]\n",
    "        deltaxp = deltax2p * p[:,0]\n",
    "        deltayp = deltax2p * p[:,1]\n",
    "        #point s\n",
    "        a[:,bounceAt+1:,1] = p[:,0].reshape(-1,1)\n",
    "        a[:,bounceAt+1:,3] = p[:,1].reshape(-1,1)\n",
    "        #point p\n",
    "        a[:,bounceAt+1:,5] = u[:,0].reshape(-1,1)\n",
    "        a[:,bounceAt+1:,7] = u[:,1].reshape(-1,1)\n",
    "        for t in np.arange(bounceAt+1, frames):\n",
    "            #point s\n",
    "            a[:,t,0] = x + deltaxs + u[:,0] * t\n",
    "            a[:,t,2] = y + deltays + u[:,1] * t\n",
    "            #point p\n",
    "            a[:,t,4] = x2 + deltaxp + p[:,0] * t\n",
    "            a[:,t,6] = y2 + deltayp + p[:,1] * t\n",
    "        yield a"
   ]
  },
  {
   "cell_type": "code",
   "execution_count": 297,
   "metadata": {},
   "outputs": [],
   "source": [
    "for a in bounce2_move_generator(batch_size=1, bounceAt=3):\n",
    "    a=a\n",
    "    break"
   ]
  },
  {
   "cell_type": "code",
   "execution_count": 304,
   "metadata": {},
   "outputs": [
    {
     "data": {
      "text/plain": [
       "<matplotlib.quiver.Quiver at 0x7f444b8f2e48>"
      ]
     },
     "execution_count": 304,
     "metadata": {},
     "output_type": "execute_result"
    },
    {
     "data": {
      "image/png": "[encoded data removed]",
      "text/plain": [
       "<Figure size 720x360 with 2 Axes>"
      ]
     },
     "metadata": {
      "needs_background": "light"
     },
     "output_type": "display_data"
    }
   ],
   "source": [
    "x, x_vel, y, y_vel, x2, x2_vel, y2, y2_vel = a[0,3]\n",
    "fig = plt.figure(figsize=(10,5))\n",
    "plt.subplot(1,2,1)\n",
    "plt.xlim([0,1])\n",
    "plt.ylim([0,1])\n",
    "plt.scatter([x,x2],[y,y2], s=650)\n",
    "plt.quiver(x, y, x_vel, y_vel)\n",
    "#this (x_vel**2 + y_vel**2)\n",
    "\n",
    "x, x_vel, y, y_vel, x2, x2_vel, y2, y2_vel = a[0,4]\n",
    "#equals (x_vel+x2_vel)**2 + (y_vel+y2_vel)**2\n",
    "plt.subplot(1,2,2)\n",
    "plt.xlim([0,1])\n",
    "plt.ylim([0,1])\n",
    "plt.scatter([x,x2],[y,y2], s=650)\n",
    "plt.quiver(x,y,x_vel,y_vel)\n",
    "plt.quiver(x2,y2,x2_vel,y2_vel)"
   ]
  },
  {
   "cell_type": "code",
   "execution_count": 303,
   "metadata": {},
   "outputs": [
    {
     "data": {
      "text/plain": [
       "(0, 1)"
      ]
     },
     "execution_count": 303,
     "metadata": {},
     "output_type": "execute_result"
    },
    {
     "data": {
      "image/png": "[encoded data removed]",
      "text/plain": [
       "<Figure size 576x576 with 1 Axes>"
      ]
     },
     "metadata": {
      "needs_background": "light"
     },
     "output_type": "display_data"
    }
   ],
   "source": [
    "fig = plt.figure(figsize=(8,8))\n",
    "plt.scatter(a[0,:2,0], a[0,:2,2], s=50)\n",
    "plt.scatter(a[0,:,4], a[0,:,6], s=50)\n",
    "plt.xlim([0,1])\n",
    "plt.ylim([0,1])\n"
   ]
  },
  {
   "cell_type": "code",
   "execution_count": 281,
   "metadata": {},
   "outputs": [],
   "source": [
    "# import pandas as pd\n",
    "# df = pd.DataFrame(a[0])\n",
    "# df.round(decimals=4)\n",
    "# x, x_vel, y, y_vel, x2, x2_vel, y2, y2_vel = a[0,3]\n",
    "# fig = plt.figure(figsize=(10,5))\n",
    "# plt.subplot(1,2,1)\n",
    "# plt.xlim([0,1])\n",
    "# plt.ylim([0,1])\n",
    "# plt.scatter([x,x2],[y,y2], s=650)\n",
    "# plt.quiver(x, y, x_vel, y_vel)\n",
    "# #this (x_vel**2 + y_vel**2)\n",
    "\n",
    "# x, x_vel, y, y_vel, x2, x2_vel, y2, y2_vel = a[0,4]\n",
    "# #equals (x_vel+x2_vel)**2 + (y_vel+y2_vel)**2\n",
    "# plt.subplot(1,2,2)\n",
    "# plt.xlim([0,1])\n",
    "# plt.ylim([0,1])\n",
    "# plt.scatter([x,x2],[y,y2], s=650)\n",
    "# plt.quiver(x,y,x_vel,y_vel)\n",
    "# plt.quiver(x2,y2,x2_vel,y2_vel)\n",
    "\n",
    "# for a in bounce2_move_generator(batch_size=1, bounceAt=3):\n",
    "#     print(a)\n",
    "#     break"
   ]
  },
  {
   "cell_type": "code",
   "execution_count": null,
   "metadata": {},
   "outputs": [],
   "source": []
  }
 ],
 "metadata": {
  "kernelspec": {
   "display_name": "Python 3",
   "language": "python",
   "name": "python3"
  },
  "language_info": {
   "codemirror_mode": {
    "name": "ipython",
    "version": 3
   },
   "file_extension": ".py",
   "mimetype": "text/x-python",
   "name": "python",
   "nbconvert_exporter": "python",
   "pygments_lexer": "ipython3",
   "version": "3.6.8"
  }
 },
 "nbformat": 4,
 "nbformat_minor": 2
}
