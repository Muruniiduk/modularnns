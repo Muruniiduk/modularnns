{
 "cells": [
  {
   "cell_type": "code",
   "execution_count": 1,
   "metadata": {},
   "outputs": [
    {
     "name": "stderr",
     "output_type": "stream",
     "text": [
      "Using TensorFlow backend.\n"
     ]
    }
   ],
   "source": [
    "import pandas as pd\n",
    "import numpy as np\n",
    "from keras.layers import Input, Dense, LSTM, RepeatVector, TimeDistributed, RNN, Lambda, Concatenate\n",
    "from keras.layers.merge import Multiply\n",
    "from keras.models import Model\n",
    "from keras.losses import mean_squared_error, binary_crossentropy\n",
    "from keras.models import Model\n",
    "import keras.backend as K\n",
    "from sklearn.metrics import mean_squared_error as mse"
   ]
  },
  {
   "cell_type": "markdown",
   "metadata": {},
   "source": [
    "# Right now make as many assumptions as possible\n",
    "\n",
    "It's better to ask it\n",
    "- derive speeds\n",
    "- separate x and y. mby use same module for both?\n",
    "- learn bounces separately\n",
    "     - is LSTM much better if there is only 1 frame after the bounce vs 0?"
   ]
  },
  {
   "cell_type": "code",
   "execution_count": 2,
   "metadata": {},
   "outputs": [],
   "source": [
    "def save_model(model, model_str):\n",
    "    model_json = model.to_json()\n",
    "    with open('trained/'+model_str+\".json\", \"w\") as json_file:\n",
    "        json_file.write(model_json)\n",
    "    # serialize weights to HDF5\n",
    "    model.save_weights('trained/'+model_str+\".h5\")\n",
    "    print(\"Saved model to disk\")"
   ]
  },
  {
   "cell_type": "code",
   "execution_count": 3,
   "metadata": {},
   "outputs": [
    {
     "name": "stdout",
     "output_type": "stream",
     "text": [
      "_________________________________________________________________\n",
      "Layer (type)                 Output Shape              Param #   \n",
      "=================================================================\n",
      "input_1 (InputLayer)         (None, 4, 1)              0         \n",
      "_________________________________________________________________\n",
      "lstm_1 (LSTM)                (None, 4)                 96        \n",
      "_________________________________________________________________\n",
      "dense_1 (Dense)              (None, 2)                 10        \n",
      "=================================================================\n",
      "Total params: 106\n",
      "Trainable params: 106\n",
      "Non-trainable params: 0\n",
      "_________________________________________________________________\n"
     ]
    }
   ],
   "source": [
    "## Straight movement, derive speed\n",
    "\n",
    "from keras.layers import Input, Dense, LSTM, RepeatVector, TimeDistributed, RNN, Lambda\n",
    "\n",
    "# This returns a tensor\n",
    "inputs = Input(shape=(4,1,))\n",
    "# inputs = Input(shape=(10,1))\n",
    "\n",
    "# a layer instance is callable on a tensor, and returns a tensor\n",
    "x = LSTM(4, return_sequences=False)(inputs)\n",
    "x = Dense(2)(x)\n",
    "\n",
    "predictions = x#Dense(2, input_shape=(4,1))(x)\n",
    "\n",
    "# This creates a model that includes\n",
    "# the Input layer and three Dense layers\n",
    "model_ws = Model(inputs=inputs, outputs=predictions)\n",
    "model_ws.compile(loss=mean_squared_error,\n",
    "              optimizer='adam',\n",
    "              metrics=['accuracy'])\n",
    "model_ws.summary()"
   ]
  },
  {
   "cell_type": "code",
   "execution_count": 4,
   "metadata": {},
   "outputs": [
    {
     "data": {
      "text/plain": [
       "<keras.callbacks.History at 0x7f9e98dc1208>"
      ]
     },
     "execution_count": 4,
     "metadata": {},
     "output_type": "execute_result"
    }
   ],
   "source": [
    "df = pd.read_csv('data/sim_data2.csv')\n",
    "# x, x_vel, y, y_vel\n",
    "a = df.to_numpy()\n",
    "a = a.reshape((20000,5,4)) #samples x timesteps x features\n",
    "X = a[:,:4,0].reshape(20000,4,1) #np.delete(a, [1,3], axis=2)[:,:10,:]\n",
    "Y = a[:,4,:2] #.reshape(10000,5,2)\n",
    "\n",
    "train_X = X[:8000]\n",
    "train_Y = Y[:8000]\n",
    "\n",
    "# test_X = X[8000:]\n",
    "# test_Y = Y[8000:]\n",
    "model_ws.fit(train_X, train_Y, epochs=200, verbose=False) #200 seems reasonable"
   ]
  },
  {
   "cell_type": "code",
   "execution_count": 5,
   "metadata": {},
   "outputs": [],
   "source": [
    "import matplotlib.pyplot as plt"
   ]
  },
  {
   "cell_type": "code",
   "execution_count": 6,
   "metadata": {},
   "outputs": [
    {
     "data": {
      "text/plain": [
       "[<matplotlib.lines.Line2D at 0x7f9de0263908>]"
      ]
     },
     "execution_count": 6,
     "metadata": {},
     "output_type": "execute_result"
    },
    {
     "data": {
      "image/png": "[encoded data removed]",
      "text/plain": [
       "<Figure size 432x288 with 1 Axes>"
      ]
     },
     "metadata": {
      "needs_background": "light"
     },
     "output_type": "display_data"
    }
   ],
   "source": [
    "plt.plot(model_ws.history.history['loss'][40:])"
   ]
  },
  {
   "cell_type": "code",
   "execution_count": 7,
   "metadata": {},
   "outputs": [
    {
     "data": {
      "text/plain": [
       "0.0006177959449743006"
      ]
     },
     "execution_count": 7,
     "metadata": {},
     "output_type": "execute_result"
    }
   ],
   "source": [
    "test_X = X[8000:]\n",
    "test_Y = Y[8000:]\n",
    "mse(test_Y, model_ws.predict(test_X))**0.5"
   ]
  },
  {
   "cell_type": "code",
   "execution_count": 8,
   "metadata": {},
   "outputs": [
    {
     "data": {
      "text/plain": [
       "0.0006205532432875568"
      ]
     },
     "execution_count": 8,
     "metadata": {},
     "output_type": "execute_result"
    }
   ],
   "source": [
    "mse(train_Y, model_ws.predict(train_X))**0.5"
   ]
  },
  {
   "cell_type": "code",
   "execution_count": 9,
   "metadata": {},
   "outputs": [
    {
     "data": {
      "text/plain": [
       "array([[0.5632485 , 0.02079242]], dtype=float32)"
      ]
     },
     "execution_count": 9,
     "metadata": {},
     "output_type": "execute_result"
    }
   ],
   "source": [
    "model_ws.predict(train_X[[100]])"
   ]
  },
  {
   "cell_type": "code",
   "execution_count": 10,
   "metadata": {},
   "outputs": [
    {
     "name": "stdout",
     "output_type": "stream",
     "text": [
      "Saved model to disk\n"
     ]
    }
   ],
   "source": [
    "save_model(model_ws, 'model_ws')"
   ]
  },
  {
   "cell_type": "markdown",
   "metadata": {},
   "source": [
    "# Bounces"
   ]
  },
  {
   "cell_type": "code",
   "execution_count": 11,
   "metadata": {},
   "outputs": [
    {
     "name": "stdout",
     "output_type": "stream",
     "text": [
      "_________________________________________________________________\n",
      "Layer (type)                 Output Shape              Param #   \n",
      "=================================================================\n",
      "input_2 (InputLayer)         (None, 2)                 0         \n",
      "_________________________________________________________________\n",
      "dense_2 (Dense)              (None, 2)                 6         \n",
      "_________________________________________________________________\n",
      "dense_3 (Dense)              (None, 4)                 12        \n",
      "_________________________________________________________________\n",
      "dense_4 (Dense)              (None, 2)                 10        \n",
      "=================================================================\n",
      "Total params: 28\n",
      "Trainable params: 28\n",
      "Non-trainable params: 0\n",
      "_________________________________________________________________\n"
     ]
    }
   ],
   "source": [
    "inputs = Input(shape=(2,))\n",
    "\n",
    "x = Dense(2)(inputs)\n",
    "x = Dense(4, activation='relu')(x)\n",
    "x = Dense(2)(x)\n",
    "predictions = x#Dense(4, input_shape=(4,1))(x)\n",
    "\n",
    "# This creates a model that includes\n",
    "# the Input layer and three Dense layers\n",
    "model_b = Model(inputs=inputs, outputs=predictions)\n",
    "model_b.compile(loss=mean_squared_error,\n",
    "              optimizer='adam',\n",
    "              metrics=['accuracy'])\n",
    "model_b.summary()"
   ]
  },
  {
   "cell_type": "code",
   "execution_count": 12,
   "metadata": {},
   "outputs": [
    {
     "data": {
      "text/plain": [
       "<keras.callbacks.History at 0x7f9e98dacb00>"
      ]
     },
     "execution_count": 12,
     "metadata": {},
     "output_type": "execute_result"
    }
   ],
   "source": [
    "df = pd.read_csv('data/bounces_mirror.csv')\n",
    "a = df.to_numpy()\n",
    "a = a.reshape((20000,2,4)) #samples x timesteps x features\n",
    "a = a[:,:,:2]\n",
    "train_X = a[:18000,0,:]\n",
    "test_X = a[18000:,0,:]\n",
    "train_Y = a[:18000,1,:]\n",
    "test_Y = a[18000:,1,:]\n",
    "model_b.fit(train_X, train_Y, epochs=600, verbose=False) #e = 150 is enough"
   ]
  },
  {
   "cell_type": "code",
   "execution_count": 13,
   "metadata": {},
   "outputs": [
    {
     "name": "stdout",
     "output_type": "stream",
     "text": [
      "Saved model to disk\n"
     ]
    }
   ],
   "source": [
    "save_model(model_b, 'model_b')"
   ]
  },
  {
   "cell_type": "code",
   "execution_count": 14,
   "metadata": {},
   "outputs": [
    {
     "name": "stdout",
     "output_type": "stream",
     "text": [
      "2.541683286868845e-05\n",
      "2.526100590037306e-05\n"
     ]
    }
   ],
   "source": [
    "print(mse(test_Y, model_b.predict(test_X))**0.5)\n",
    "print(mse(train_Y, model_b.predict(train_X))**0.5)"
   ]
  },
  {
   "cell_type": "code",
   "execution_count": 15,
   "metadata": {},
   "outputs": [
    {
     "data": {
      "text/plain": [
       "[<matplotlib.lines.Line2D at 0x7f9dbc554c50>]"
      ]
     },
     "execution_count": 15,
     "metadata": {},
     "output_type": "execute_result"
    },
    {
     "data": {
      "image/png": "[encoded data removed]",
      "text/plain": [
       "<Figure size 432x288 with 1 Axes>"
      ]
     },
     "metadata": {
      "needs_background": "light"
     },
     "output_type": "display_data"
    }
   ],
   "source": [
    "plt.plot(model_b.history.history['loss'])"
   ]
  },
  {
   "cell_type": "code",
   "execution_count": 16,
   "metadata": {},
   "outputs": [
    {
     "data": {
      "text/plain": [
       "array([[ 1.06517512,  0.091181  ],\n",
       "       [-0.00969421, -0.01684606],\n",
       "       [ 1.00933562,  0.09554047],\n",
       "       [-0.02180216, -0.07631796],\n",
       "       [ 1.05431459,  0.07958159]])"
      ]
     },
     "execution_count": 16,
     "metadata": {},
     "output_type": "execute_result"
    }
   ],
   "source": [
    "train_X[:5]"
   ]
  },
  {
   "cell_type": "code",
   "execution_count": 17,
   "metadata": {},
   "outputs": [
    {
     "data": {
      "text/plain": [
       "array([[ 0.93479025, -0.09119433],\n",
       "       [ 0.00966617,  0.01684713],\n",
       "       [ 0.99061376, -0.09555367],\n",
       "       [ 0.02176878,  0.07632011],\n",
       "       [ 0.94564986, -0.07959476]], dtype=float32)"
      ]
     },
     "execution_count": 17,
     "metadata": {},
     "output_type": "execute_result"
    }
   ],
   "source": [
    "model_b.predict(train_X[:5])"
   ]
  },
  {
   "cell_type": "code",
   "execution_count": 18,
   "metadata": {},
   "outputs": [
    {
     "data": {
      "text/plain": [
       "array([[ 0.93482488, -0.091181  ],\n",
       "       [ 0.00969421,  0.01684606]])"
      ]
     },
     "execution_count": 18,
     "metadata": {},
     "output_type": "execute_result"
    }
   ],
   "source": [
    "train_Y[[0,1]]"
   ]
  },
  {
   "cell_type": "code",
   "execution_count": 19,
   "metadata": {},
   "outputs": [
    {
     "name": "stdout",
     "output_type": "stream",
     "text": [
      "Saved model to disk\n"
     ]
    }
   ],
   "source": [
    "save_model(model_b, 'model_b')"
   ]
  },
  {
   "cell_type": "markdown",
   "metadata": {},
   "source": [
    "### Attention"
   ]
  },
  {
   "cell_type": "code",
   "execution_count": 20,
   "metadata": {},
   "outputs": [
    {
     "name": "stdout",
     "output_type": "stream",
     "text": [
      "_________________________________________________________________\n",
      "Layer (type)                 Output Shape              Param #   \n",
      "=================================================================\n",
      "input_3 (InputLayer)         (None, 1)                 0         \n",
      "_________________________________________________________________\n",
      "dense_5 (Dense)              (None, 8)                 16        \n",
      "_________________________________________________________________\n",
      "dense_6 (Dense)              (None, 20)                180       \n",
      "_________________________________________________________________\n",
      "dense_7 (Dense)              (None, 2)                 42        \n",
      "=================================================================\n",
      "Total params: 238\n",
      "Trainable params: 238\n",
      "Non-trainable params: 0\n",
      "_________________________________________________________________\n"
     ]
    }
   ],
   "source": [
    "inputs = Input(shape=(1,))\n",
    "x = Dense(8)(inputs)\n",
    "x = Dense(20, activation='relu')(x)\n",
    "x = Dense(2, activation='softmax')(x)\n",
    "predictions = x\n",
    "\n",
    "model_att = Model(inputs=inputs, outputs=predictions)\n",
    "model_att.compile(loss=binary_crossentropy,\n",
    "              optimizer='adamax',\n",
    "              metrics=['accuracy'])\n",
    "model_att.summary()"
   ]
  },
  {
   "cell_type": "code",
   "execution_count": 21,
   "metadata": {},
   "outputs": [
    {
     "data": {
      "text/plain": [
       "<keras.callbacks.History at 0x7f9de011ad68>"
      ]
     },
     "execution_count": 21,
     "metadata": {},
     "output_type": "execute_result"
    }
   ],
   "source": [
    "df = pd.read_csv('data/bounces_att.csv')\n",
    "a = df.to_numpy()\n",
    "train_X = a[:,0].reshape(20000,1)\n",
    "train_Y = (a[:,2] == True)\n",
    "\n",
    "l = train_X.shape[0]\n",
    "i = np.arange(l)\n",
    "t = np.zeros((l, 2))\n",
    "t[:,0] = 1-train_Y\n",
    "t[:,1] = train_Y\n",
    "train_Y = t\n",
    "\n",
    "model_att.fit(train_X, train_Y, epochs=100, verbose=False)"
   ]
  },
  {
   "cell_type": "code",
   "execution_count": 22,
   "metadata": {},
   "outputs": [
    {
     "name": "stdout",
     "output_type": "stream",
     "text": [
      "Saved model to disk\n"
     ]
    }
   ],
   "source": [
    "save_model(model_att, 'model_att')"
   ]
  },
  {
   "cell_type": "code",
   "execution_count": 23,
   "metadata": {},
   "outputs": [
    {
     "data": {
      "text/plain": [
       "[<matplotlib.lines.Line2D at 0x7f9d9c7f2dd8>]"
      ]
     },
     "execution_count": 23,
     "metadata": {},
     "output_type": "execute_result"
    },
    {
     "data": {
      "image/png": "[encoded data removed]",
      "text/plain": [
       "<Figure size 432x288 with 1 Axes>"
      ]
     },
     "metadata": {
      "needs_background": "light"
     },
     "output_type": "display_data"
    }
   ],
   "source": [
    "plt.plot(model_att.history.history['acc'])"
   ]
  },
  {
   "cell_type": "code",
   "execution_count": 24,
   "metadata": {},
   "outputs": [
    {
     "name": "stdout",
     "output_type": "stream",
     "text": [
      "_________________________________________________________________\n",
      "Layer (type)                 Output Shape              Param #   \n",
      "=================================================================\n",
      "input_4 (InputLayer)         (None, 1)                 0         \n",
      "_________________________________________________________________\n",
      "model_3 (Model)              (None, 2)                 238       \n",
      "_________________________________________________________________\n",
      "lambda_1 (Lambda)            (None, 2)                 0         \n",
      "=================================================================\n",
      "Total params: 238\n",
      "Trainable params: 238\n",
      "Non-trainable params: 0\n",
      "_________________________________________________________________\n"
     ]
    }
   ],
   "source": [
    "inputs = Input(shape=(1,))\n",
    "\n",
    "x = model_att(inputs)\n",
    "x = Lambda(lambda s: K.round(s))(x)\n",
    "predictions = x\n",
    "model_lambda = Model(inputs=inputs, outputs=predictions)\n",
    "model_lambda.compile(loss=binary_crossentropy,\n",
    "              optimizer='adam',\n",
    "              metrics=['acc'])\n",
    "model_lambda.summary()"
   ]
  },
  {
   "cell_type": "code",
   "execution_count": 25,
   "metadata": {},
   "outputs": [
    {
     "name": "stdout",
     "output_type": "stream",
     "text": [
      "Saved model to disk\n"
     ]
    }
   ],
   "source": [
    "save_model(model_lambda, 'model_lambda')"
   ]
  },
  {
   "cell_type": "markdown",
   "metadata": {},
   "source": [
    "## Bounce series"
   ]
  },
  {
   "cell_type": "code",
   "execution_count": 26,
   "metadata": {},
   "outputs": [],
   "source": [
    "df = pd.read_csv('data/bounces_x_1.csv')\n",
    "a = df.to_numpy()\n",
    "a = a.reshape((1000,5,4))\n",
    "\n",
    "X = a[:,:4,0].reshape(1000,4,1) #np.delete(a, [1,3], axis=2)[:,:10,:]\n",
    "Y = a[:,4,:2] #.reshape(10000,5,2)\n",
    "\n",
    "train_X = X[:800]\n",
    "train_Y = Y[:800]\n",
    "\n",
    "test_X = X[800:]\n",
    "test_Y = Y[800:]"
   ]
  },
  {
   "cell_type": "code",
   "execution_count": 27,
   "metadata": {},
   "outputs": [
    {
     "name": "stdout",
     "output_type": "stream",
     "text": [
      "__________________________________________________________________________________________________\n",
      "Layer (type)                    Output Shape         Param #     Connected to                     \n",
      "==================================================================================================\n",
      "input_rec (InputLayer)          (None, 4, 1)         0                                            \n",
      "__________________________________________________________________________________________________\n",
      "model_1 (Model)                 (None, 2)            106         input_rec[0][0]                  \n",
      "__________________________________________________________________________________________________\n",
      "lambda_2 (Lambda)               (None, 1)            0           model_1[1][0]                    \n",
      "__________________________________________________________________________________________________\n",
      "model_4 (Model)                 (None, 2)            238         lambda_2[0][0]                   \n",
      "__________________________________________________________________________________________________\n",
      "model_2 (Model)                 (None, 2)            28          model_1[1][0]                    \n",
      "__________________________________________________________________________________________________\n",
      "lambda_3 (Lambda)               (None, 2)            0           model_4[1][0]                    \n",
      "                                                                 model_2[1][0]                    \n",
      "                                                                 model_1[1][0]                    \n",
      "==================================================================================================\n",
      "Total params: 372\n",
      "Trainable params: 372\n",
      "Non-trainable params: 0\n",
      "__________________________________________________________________________________________________\n"
     ]
    }
   ],
   "source": [
    "isBounce = K.tf.convert_to_tensor([0,1],dtype=np.float32) #if attention outputs this, then bounce module is needed\n",
    "\n",
    "inputs_rec = Input(shape=(4,1), name='input_rec')\n",
    "rec = model_ws(inputs_rec)\n",
    "rec_x = Lambda(lambda s: K.reshape(s[:,0], (-1,1)))(rec)\n",
    "bnc = model_b(rec)\n",
    "att = model_lambda(rec_x)\n",
    "att2 = Lambda(lambda s: K.switch(K.equal(s[0], isBounce), s[1], s[2]))([att, bnc, rec]) #~hard attention\n",
    "\n",
    "x = att2\n",
    "\n",
    "model_m = Model(inputs=inputs_rec, outputs=x)\n",
    "model_m.compile(loss=mean_squared_error,\n",
    "              optimizer='adam',\n",
    "              metrics=['accuracy'])\n",
    "model_m.summary()"
   ]
  },
  {
   "cell_type": "code",
   "execution_count": 28,
   "metadata": {},
   "outputs": [
    {
     "name": "stdout",
     "output_type": "stream",
     "text": [
      "Saved model to disk\n"
     ]
    }
   ],
   "source": [
    "save_model(model_m, 'model_m')"
   ]
  },
  {
   "cell_type": "code",
   "execution_count": 29,
   "metadata": {},
   "outputs": [],
   "source": [
    "df2 = pd.read_csv('data/sim_data_borders.csv')\n",
    "# x, x_vel, y, y_vel\n",
    "a2 = df2.to_numpy()\n",
    "a2 = a2.reshape((4000,5,4)) #samples x timesteps x features\n",
    "X2 = a2[:,:4,0].reshape(4000,4,1) #np.delete(a, [1,3], axis=2)[:,:10,:]\n",
    "Y2 = a2[:,4,:2] #.reshape(10000,5,2)\n",
    "\n",
    "train_X2 = X2[:8000]\n",
    "train_Y2 = Y2[:8000]"
   ]
  },
  {
   "cell_type": "code",
   "execution_count": 30,
   "metadata": {},
   "outputs": [
    {
     "data": {
      "text/plain": [
       "0.0010043797778884257"
      ]
     },
     "execution_count": 30,
     "metadata": {},
     "output_type": "execute_result"
    }
   ],
   "source": [
    "mixdf = pd.concat([df, df2[:5000]])\n",
    "mix = mixdf.to_numpy()\n",
    "mix = mix.reshape(2000,5,4)\n",
    "np.random.shuffle(mix)\n",
    "mix_train_x = mix[:1800,:4,0].reshape(1800,4,1)\n",
    "mix_train_y = mix[:1800,4,:2]\n",
    "mix_test_x = mix[1800:,:4,0].reshape(200,4,1)\n",
    "mix_test_y = mix[1800:,4,:2]\n",
    "mse(mix_test_y, model_m.predict(mix_test_x)) # My model"
   ]
  },
  {
   "cell_type": "code",
   "execution_count": null,
   "metadata": {},
   "outputs": [],
   "source": []
  }
 ],
 "metadata": {
  "kernelspec": {
   "display_name": "Python 3",
   "language": "python",
   "name": "python3"
  },
  "language_info": {
   "codemirror_mode": {
    "name": "ipython",
    "version": 3
   },
   "file_extension": ".py",
   "mimetype": "text/x-python",
   "name": "python",
   "nbconvert_exporter": "python",
   "pygments_lexer": "ipython3",
   "version": "3.6.8"
  }
 },
 "nbformat": 4,
 "nbformat_minor": 2
}
