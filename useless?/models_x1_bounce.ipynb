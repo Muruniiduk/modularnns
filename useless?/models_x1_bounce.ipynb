{
 "cells": [
  {
   "cell_type": "code",
   "execution_count": 1,
   "metadata": {},
   "outputs": [
    {
     "name": "stderr",
     "output_type": "stream",
     "text": [
      "Using TensorFlow backend.\n"
     ]
    }
   ],
   "source": [
    "import pandas as pd\n",
    "import numpy as np\n",
    "from keras.layers import Input, Dense, LSTM, RepeatVector, TimeDistributed, RNN, Lambda, Concatenate\n",
    "from keras.layers.merge import Multiply\n",
    "from keras.models import Model\n",
    "from keras.losses import mean_squared_error\n",
    "from keras.models import Model\n",
    "import keras.backend as K\n",
    "# from keras.losses import mean_squared_error\n",
    "def rmse(actual, preds):\n",
    "    return np.sqrt(np.mean((actual - preds)**2))"
   ]
  },
  {
   "cell_type": "markdown",
   "metadata": {},
   "source": [
    "# Right now make as many assumptions as possible\n",
    "\n",
    "It's better to ask it\n",
    "- derive speeds\n",
    "- separate x and y. mby use same module for both?\n",
    "- learn bounces separately\n",
    "     - is LSTM much better if there is only 1 frame after the bounce vs 0?"
   ]
  },
  {
   "cell_type": "code",
   "execution_count": 128,
   "metadata": {},
   "outputs": [
    {
     "name": "stdout",
     "output_type": "stream",
     "text": [
      "_________________________________________________________________\n",
      "Layer (type)                 Output Shape              Param #   \n",
      "=================================================================\n",
      "input_8 (InputLayer)         (None, 4, 1)              0         \n",
      "_________________________________________________________________\n",
      "lstm_4 (LSTM)                (None, 4)                 96        \n",
      "_________________________________________________________________\n",
      "dense_3 (Dense)              (None, 2)                 10        \n",
      "=================================================================\n",
      "Total params: 106\n",
      "Trainable params: 106\n",
      "Non-trainable params: 0\n",
      "_________________________________________________________________\n"
     ]
    }
   ],
   "source": [
    "## Straight movement, derive speed\n",
    "\n",
    "from keras.layers import Input, Dense, LSTM, RepeatVector, TimeDistributed, RNN, Lambda\n",
    "\n",
    "# This returns a tensor\n",
    "inputs = Input(shape=(4,1,))\n",
    "# inputs = Input(shape=(10,1))\n",
    "\n",
    "# a layer instance is callable on a tensor, and returns a tensor\n",
    "x = LSTM(4, return_sequences=False)(inputs)\n",
    "x = Dense(2)(x)\n",
    "\n",
    "predictions = x#Dense(2, input_shape=(4,1))(x)\n",
    "\n",
    "# This creates a model that includes\n",
    "# the Input layer and three Dense layers\n",
    "model_ws = Model(inputs=inputs, outputs=predictions)\n",
    "model_ws.compile(loss=mean_squared_error,\n",
    "              optimizer='adam',\n",
    "              metrics=['accuracy'])\n",
    "model_ws.summary()"
   ]
  },
  {
   "cell_type": "code",
   "execution_count": 129,
   "metadata": {},
   "outputs": [
    {
     "data": {
      "text/plain": [
       "<keras.callbacks.History at 0x7f23b252cf98>"
      ]
     },
     "execution_count": 129,
     "metadata": {},
     "output_type": "execute_result"
    }
   ],
   "source": [
    "df = pd.read_csv('sim_data2.csv')\n",
    "# x, x_vel, y, y_vel\n",
    "a = df.to_numpy()\n",
    "a = a.reshape((20000,5,4)) #samples x timesteps x features\n",
    "X = a[:,:4,0].reshape(20000,4,1) #np.delete(a, [1,3], axis=2)[:,:10,:]\n",
    "Y = a[:,4,:2] #.reshape(10000,5,2)\n",
    "\n",
    "train_X = X[:8000]\n",
    "train_Y = Y[:8000]\n",
    "\n",
    "# test_X = X[8000:]\n",
    "# test_Y = Y[8000:]\n",
    "model_ws.fit(train_X, train_Y, epochs=50, verbose=False)"
   ]
  },
  {
   "cell_type": "code",
   "execution_count": 132,
   "metadata": {},
   "outputs": [
    {
     "data": {
      "text/plain": [
       "[<matplotlib.lines.Line2D at 0x7f23b1b6da58>]"
      ]
     },
     "execution_count": 132,
     "metadata": {},
     "output_type": "execute_result"
    },
    {
     "data": {
      "image/png": "[encoded data removed]",
      "text/plain": [
       "<Figure size 432x288 with 1 Axes>"
      ]
     },
     "metadata": {
      "needs_background": "light"
     },
     "output_type": "display_data"
    }
   ],
   "source": [
    "plt.plot(model_ws.history.history['loss'][20:])"
   ]
  },
  {
   "cell_type": "code",
   "execution_count": null,
   "metadata": {},
   "outputs": [],
   "source": [
    "save_"
   ]
  },
  {
   "cell_type": "code",
   "execution_count": 133,
   "metadata": {},
   "outputs": [
    {
     "data": {
      "text/plain": [
       "0.0015452199107973228"
      ]
     },
     "execution_count": 133,
     "metadata": {},
     "output_type": "execute_result"
    }
   ],
   "source": [
    "test_X = X[8000:]\n",
    "test_Y = Y[8000:]\n",
    "rmse(test_Y, model_ws.predict(test_X))"
   ]
  },
  {
   "cell_type": "code",
   "execution_count": 134,
   "metadata": {},
   "outputs": [
    {
     "data": {
      "text/plain": [
       "0.0015610769274912613"
      ]
     },
     "execution_count": 134,
     "metadata": {},
     "output_type": "execute_result"
    }
   ],
   "source": [
    "rmse(train_Y, model_ws.predict(train_X))"
   ]
  },
  {
   "cell_type": "code",
   "execution_count": 137,
   "metadata": {},
   "outputs": [
    {
     "data": {
      "text/plain": [
       "array([[0.56464034, 0.021955  ]], dtype=float32)"
      ]
     },
     "execution_count": 137,
     "metadata": {},
     "output_type": "execute_result"
    }
   ],
   "source": [
    "model_ws.predict(train_X[[100]])"
   ]
  },
  {
   "cell_type": "code",
   "execution_count": 138,
   "metadata": {},
   "outputs": [
    {
     "data": {
      "text/plain": [
       "array([[0.48099345, 0.02076668],\n",
       "       [0.50176013, 0.02076668],\n",
       "       [0.52252681, 0.02076668],\n",
       "       [0.54329348, 0.02076668],\n",
       "       [0.56406016, 0.02076668]])"
      ]
     },
     "execution_count": 138,
     "metadata": {},
     "output_type": "execute_result"
    }
   ],
   "source": [
    "a[100,:5,:2]"
   ]
  },
  {
   "cell_type": "code",
   "execution_count": 9,
   "metadata": {},
   "outputs": [],
   "source": [
    "# model_json = model_ws.to_json()\n",
    "# with open(\"sim_e500_8000x5.json\", \"w\") as json_file:\n",
    "#     json_file.write(model_json)\n",
    "# # serialize weights to HDF5\n",
    "# model_ws.save_weights(\"model_sim_e500_8000x5.h5\")\n",
    "# print(\"Saved model to disk\")"
   ]
  },
  {
   "cell_type": "markdown",
   "metadata": {},
   "source": [
    "# Bounces"
   ]
  },
  {
   "cell_type": "code",
   "execution_count": 16,
   "metadata": {},
   "outputs": [
    {
     "name": "stdout",
     "output_type": "stream",
     "text": [
      "_________________________________________________________________\n",
      "Layer (type)                 Output Shape              Param #   \n",
      "=================================================================\n",
      "input_4 (InputLayer)         (None, 2)                 0         \n",
      "_________________________________________________________________\n",
      "dense_1 (Dense)              (None, 2)                 6         \n",
      "=================================================================\n",
      "Total params: 6\n",
      "Trainable params: 6\n",
      "Non-trainable params: 0\n",
      "_________________________________________________________________\n"
     ]
    }
   ],
   "source": [
    "inputs = Input(shape=(2,))\n",
    "\n",
    "x = Dense(2)(inputs)\n",
    "\n",
    "predictions = x#Dense(4, input_shape=(4,1))(x)\n",
    "\n",
    "# This creates a model that includes\n",
    "# the Input layer and three Dense layers\n",
    "model_b = Model(inputs=inputs, outputs=predictions)\n",
    "model_b.compile(loss=mean_squared_error,\n",
    "              optimizer='adam',\n",
    "              metrics=['accuracy'])\n",
    "model_b.summary()"
   ]
  },
  {
   "cell_type": "code",
   "execution_count": 17,
   "metadata": {},
   "outputs": [
    {
     "data": {
      "text/plain": [
       "<keras.callbacks.History at 0x7f242ce045c0>"
      ]
     },
     "execution_count": 17,
     "metadata": {},
     "output_type": "execute_result"
    }
   ],
   "source": [
    "df = pd.read_csv('bounces_mirror.csv')\n",
    "a = df.to_numpy()\n",
    "a = a.reshape((2000,2,4)) #samples x timesteps x features\n",
    "a = a[:,:,:2]\n",
    "train_X = a[:1000,0,:]\n",
    "test_X = a[1000:,0,:]\n",
    "train_Y = a[:1000,1,:]\n",
    "test_Y = a[1000:,1,:]\n",
    "model_b.fit(train_X, train_Y, epochs=1500, verbose=False)"
   ]
  },
  {
   "cell_type": "code",
   "execution_count": 18,
   "metadata": {},
   "outputs": [
    {
     "name": "stdout",
     "output_type": "stream",
     "text": [
      "0.0011277298251766233\n",
      "0.0011069609699923433\n"
     ]
    }
   ],
   "source": [
    "print(rmse(test_Y, model_b.predict(test_X)))\n",
    "print(rmse(train_Y, model_b.predict(train_X)))"
   ]
  },
  {
   "cell_type": "code",
   "execution_count": 19,
   "metadata": {},
   "outputs": [
    {
     "data": {
      "image/png": "[encoded data removed]",
      "text/plain": [
       "<Figure size 432x288 with 1 Axes>"
      ]
     },
     "metadata": {
      "needs_background": "light"
     },
     "output_type": "display_data"
    }
   ],
   "source": [
    "import matplotlib.pyplot as plt\n",
    "plt.plot(model_b.history.history['loss'][50:])\n",
    "plt.show()"
   ]
  },
  {
   "cell_type": "code",
   "execution_count": 20,
   "metadata": {},
   "outputs": [
    {
     "data": {
      "text/plain": [
       "array([[ 0.9725745 , -0.07040136]], dtype=float32)"
      ]
     },
     "execution_count": 20,
     "metadata": {},
     "output_type": "execute_result"
    }
   ],
   "source": [
    "model_b.predict(train_X[[0]])"
   ]
  },
  {
   "cell_type": "code",
   "execution_count": 21,
   "metadata": {},
   "outputs": [
    {
     "name": "stdout",
     "output_type": "stream",
     "text": [
      "Saved model to disk\n"
     ]
    }
   ],
   "source": [
    "model_json = model_b.to_json()\n",
    "with open(\"sim_e1500_b.json\", \"w\") as json_file:\n",
    "    json_file.write(model_json)\n",
    "# serialize weights to HDF5\n",
    "model_b.save_weights(\"model_e1500_b.h5\")\n",
    "print(\"Saved model to disk\")"
   ]
  },
  {
   "cell_type": "markdown",
   "metadata": {},
   "source": [
    "### Attention"
   ]
  },
  {
   "cell_type": "code",
   "execution_count": 23,
   "metadata": {},
   "outputs": [
    {
     "name": "stdout",
     "output_type": "stream",
     "text": [
      "_________________________________________________________________\n",
      "Layer (type)                 Output Shape              Param #   \n",
      "=================================================================\n",
      "input_5 (InputLayer)         (None, 2)                 0         \n",
      "_________________________________________________________________\n",
      "dense_2 (Dense)              (None, 1)                 3         \n",
      "=================================================================\n",
      "Total params: 3\n",
      "Trainable params: 3\n",
      "Non-trainable params: 0\n",
      "_________________________________________________________________\n"
     ]
    }
   ],
   "source": [
    "inputs = Input(shape=(2,))\n",
    "x = Dense(1)(inputs)\n",
    "predictions = x\n",
    "\n",
    "model_att = Model(inputs=inputs, outputs=predictions)\n",
    "model_att.compile(loss=mean_squared_error,\n",
    "              optimizer='adam',\n",
    "              metrics=['accuracy'])\n",
    "model_att.summary()"
   ]
  },
  {
   "cell_type": "code",
   "execution_count": 25,
   "metadata": {},
   "outputs": [
    {
     "data": {
      "text/html": [
       "<div>\n",
       "<style scoped>\n",
       "    .dataframe tbody tr th:only-of-type {\n",
       "        vertical-align: middle;\n",
       "    }\n",
       "\n",
       "    .dataframe tbody tr th {\n",
       "        vertical-align: top;\n",
       "    }\n",
       "\n",
       "    .dataframe thead th {\n",
       "        text-align: right;\n",
       "    }\n",
       "</style>\n",
       "<table border=\"1\" class=\"dataframe\">\n",
       "  <thead>\n",
       "    <tr style=\"text-align: right;\">\n",
       "      <th></th>\n",
       "      <th>x</th>\n",
       "      <th>y</th>\n",
       "      <th>is_bounce</th>\n",
       "    </tr>\n",
       "  </thead>\n",
       "  <tbody>\n",
       "    <tr>\n",
       "      <th>0</th>\n",
       "      <td>1.046797</td>\n",
       "      <td>0.468502</td>\n",
       "      <td>True</td>\n",
       "    </tr>\n",
       "    <tr>\n",
       "      <th>1</th>\n",
       "      <td>0.985927</td>\n",
       "      <td>0.322979</td>\n",
       "      <td>False</td>\n",
       "    </tr>\n",
       "    <tr>\n",
       "      <th>2</th>\n",
       "      <td>1.089176</td>\n",
       "      <td>0.434555</td>\n",
       "      <td>True</td>\n",
       "    </tr>\n",
       "    <tr>\n",
       "      <th>3</th>\n",
       "      <td>1.021509</td>\n",
       "      <td>0.965619</td>\n",
       "      <td>True</td>\n",
       "    </tr>\n",
       "    <tr>\n",
       "      <th>4</th>\n",
       "      <td>0.993019</td>\n",
       "      <td>0.172505</td>\n",
       "      <td>False</td>\n",
       "    </tr>\n",
       "  </tbody>\n",
       "</table>\n",
       "</div>"
      ],
      "text/plain": [
       "          x         y  is_bounce\n",
       "0  1.046797  0.468502       True\n",
       "1  0.985927  0.322979      False\n",
       "2  1.089176  0.434555       True\n",
       "3  1.021509  0.965619       True\n",
       "4  0.993019  0.172505      False"
      ]
     },
     "execution_count": 25,
     "metadata": {},
     "output_type": "execute_result"
    }
   ],
   "source": [
    "df.head()"
   ]
  },
  {
   "cell_type": "code",
   "execution_count": 80,
   "metadata": {},
   "outputs": [
    {
     "data": {
      "text/plain": [
       "<keras.callbacks.History at 0x7f23c00485c0>"
      ]
     },
     "execution_count": 80,
     "metadata": {},
     "output_type": "execute_result"
    }
   ],
   "source": [
    "df = pd.read_csv('bounces_att.csv')\n",
    "a = df.to_numpy()\n",
    "train_X = a[:1500,:2]\n",
    "test_X = a[1500:,:2]\n",
    "train_Y = (a[:1500,2] == True)\n",
    "test_Y = (a[1500:,2] == True)\n",
    "model_att.fit(train_X, train_Y, epochs=1500, verbose=False)"
   ]
  },
  {
   "cell_type": "code",
   "execution_count": 81,
   "metadata": {},
   "outputs": [
    {
     "name": "stdout",
     "output_type": "stream",
     "text": [
      "_________________________________________________________________\n",
      "Layer (type)                 Output Shape              Param #   \n",
      "=================================================================\n",
      "input_7 (InputLayer)         (None, 2)                 0         \n",
      "_________________________________________________________________\n",
      "model_5 (Model)              (None, 1)                 3         \n",
      "_________________________________________________________________\n",
      "lambda_11 (Lambda)           (None, 1)                 0         \n",
      "=================================================================\n",
      "Total params: 3\n",
      "Trainable params: 3\n",
      "Non-trainable params: 0\n",
      "_________________________________________________________________\n"
     ]
    }
   ],
   "source": [
    "inputs = Input(shape=(2,))\n",
    "\n",
    "x = model_att(inputs)\n",
    "x = Lambda(lambda s: K.round(s))(x)\n",
    "predictions = x\n",
    "model_lambda = Model(inputs=inputs, outputs=predictions)\n",
    "model_lambda.compile(loss=mean_squared_error,\n",
    "              optimizer='adam',\n",
    "              metrics=['acc'])\n",
    "model_lambda.summary()"
   ]
  },
  {
   "cell_type": "code",
   "execution_count": 82,
   "metadata": {},
   "outputs": [
    {
     "name": "stdout",
     "output_type": "stream",
     "text": [
      "0.9866666666666667\n",
      "0.994\n"
     ]
    }
   ],
   "source": [
    "print(np.mean(model_lambda.predict(train_X).reshape(train_X.shape[0]) == train_Y))\n",
    "print(np.mean(model_lambda.predict(test_X).reshape(test_X.shape[0]) == test_Y))"
   ]
  },
  {
   "cell_type": "code",
   "execution_count": 20,
   "metadata": {},
   "outputs": [
    {
     "name": "stdout",
     "output_type": "stream",
     "text": [
      "Saved model to disk\n"
     ]
    }
   ],
   "source": [
    "model_json = model_lambda.to_json()\n",
    "with open(\"sim_e1500_att.json\", \"w\") as json_file:\n",
    "    json_file.write(model_json)\n",
    "# serialize weights to HDF5\n",
    "model_lambda.save_weights(\"model_e1500_att.h5\")\n",
    "print(\"Saved model to disk\")"
   ]
  },
  {
   "cell_type": "code",
   "execution_count": 21,
   "metadata": {},
   "outputs": [
    {
     "data": {
      "text/plain": [
       "[<matplotlib.lines.Line2D at 0x7f72d07decc0>]"
      ]
     },
     "execution_count": 21,
     "metadata": {},
     "output_type": "execute_result"
    },
    {
     "data": {
      "image/png": "[encoded data removed]",
      "text/plain": [
       "<Figure size 432x288 with 1 Axes>"
      ]
     },
     "metadata": {
      "needs_background": "light"
     },
     "output_type": "display_data"
    }
   ],
   "source": [
    "plt.plot(model_att.history.history['acc'])"
   ]
  },
  {
   "cell_type": "markdown",
   "metadata": {},
   "source": [
    "## Bounce series"
   ]
  },
  {
   "cell_type": "code",
   "execution_count": 139,
   "metadata": {},
   "outputs": [],
   "source": [
    "df = pd.read_csv('bounces_x_1.csv')\n",
    "a = df.to_numpy()\n",
    "a = a.reshape((1000,5,4))\n",
    "\n",
    "X = a[:,:4,0].reshape(1000,4,1) #np.delete(a, [1,3], axis=2)[:,:10,:]\n",
    "Y = a[:,4,:2] #.reshape(10000,5,2)\n",
    "\n",
    "train_X = X[:800]\n",
    "train_Y = Y[:800]\n",
    "\n",
    "test_X = X[800:]\n",
    "test_Y = Y[800:]"
   ]
  },
  {
   "cell_type": "code",
   "execution_count": null,
   "metadata": {},
   "outputs": [],
   "source": [
    "K.concatenate(x)"
   ]
  },
  {
   "cell_type": "code",
   "execution_count": 280,
   "metadata": {
    "scrolled": false
   },
   "outputs": [
    {
     "name": "stdout",
     "output_type": "stream",
     "text": [
      "__________________________________________________________________________________________________\n",
      "Layer (type)                    Output Shape         Param #     Connected to                     \n",
      "==================================================================================================\n",
      "input_rec (InputLayer)          (None, 4, 1)         0                                            \n",
      "__________________________________________________________________________________________________\n",
      "model_19 (Model)                (None, 2)            106         input_rec[0][0]                  \n",
      "__________________________________________________________________________________________________\n",
      "model_5 (Model)                 (None, 1)            3           model_19[5][0]                   \n",
      "__________________________________________________________________________________________________\n",
      "model_4 (Model)                 (None, 2)            6           model_19[5][0]                   \n",
      "__________________________________________________________________________________________________\n",
      "lambda_19 (Lambda)              (None, 2)            0           model_5[16][0]                   \n",
      "                                                                 model_4[19][0]                   \n",
      "                                                                 model_19[5][0]                   \n",
      "==================================================================================================\n",
      "Total params: 115\n",
      "Trainable params: 115\n",
      "Non-trainable params: 0\n",
      "__________________________________________________________________________________________________\n"
     ]
    }
   ],
   "source": [
    "inputs_rec = Input(shape=(4,1), name='input_rec')\n",
    "rec = model_ws(inputs_rec)\n",
    "bnc = model_b(rec)\n",
    "att = model_att(rec)\n",
    "att2 = Lambda(lambda s: K.switch(K.greater_equal(s[0], 0.5), s[1], s[2]))([att, bnc, rec]) #~hard attention\n",
    "\n",
    "x = att2\n",
    "\n",
    "model_m = Model(inputs=inputs_rec, outputs=x)\n",
    "model_m.compile(loss=mean_squared_error,\n",
    "              optimizer='adam',\n",
    "              metrics=['accuracy'])\n",
    "model_m.summary()"
   ]
  },
  {
   "cell_type": "code",
   "execution_count": 281,
   "metadata": {},
   "outputs": [
    {
     "data": {
      "text/plain": [
       "array([[[0.90050525, 0.03311408],\n",
       "        [0.93361933, 0.03311408],\n",
       "        [0.96673341, 0.03311408],\n",
       "        [0.99984749, 0.03311408]],\n",
       "\n",
       "       [[0.96741627, 0.01082775],\n",
       "        [0.97824402, 0.01082775],\n",
       "        [0.98907176, 0.01082775],\n",
       "        [0.99989951, 0.01082775]]])"
      ]
     },
     "execution_count": 281,
     "metadata": {},
     "output_type": "execute_result"
    }
   ],
   "source": [
    "a[:2,:4,:2]"
   ]
  },
  {
   "cell_type": "code",
   "execution_count": 282,
   "metadata": {},
   "outputs": [
    {
     "data": {
      "text/plain": [
       "array([[ 0.9671812 , -0.03348778],\n",
       "       [ 0.98777086, -0.01078438]], dtype=float32)"
      ]
     },
     "execution_count": 282,
     "metadata": {},
     "output_type": "execute_result"
    }
   ],
   "source": [
    "model_m.predict(X[:2])"
   ]
  },
  {
   "cell_type": "code",
   "execution_count": 283,
   "metadata": {},
   "outputs": [],
   "source": [
    "df2 = pd.read_csv('sim_data_borders.csv')\n",
    "# x, x_vel, y, y_vel\n",
    "a2 = df2.to_numpy()\n",
    "a2 = a2.reshape((4000,5,4)) #samples x timesteps x features\n",
    "X2 = a2[:,:4,0].reshape(4000,4,1) #np.delete(a, [1,3], axis=2)[:,:10,:]\n",
    "Y2 = a2[:,4,:2] #.reshape(10000,5,2)\n",
    "\n",
    "train_X2 = X2[:8000]\n",
    "train_Y2 = Y2[:8000]"
   ]
  },
  {
   "cell_type": "code",
   "execution_count": 284,
   "metadata": {},
   "outputs": [
    {
     "data": {
      "text/plain": [
       "array([[[ 0.71763805, -0.02578439],\n",
       "        [ 0.69185366, -0.02578439],\n",
       "        [ 0.66606926, -0.02578439],\n",
       "        [ 0.64028487, -0.02578439]],\n",
       "\n",
       "       [[ 0.58871608, -0.02578439],\n",
       "        [ 0.56293168, -0.02578439],\n",
       "        [ 0.53714729, -0.02578439],\n",
       "        [ 0.5113629 , -0.02578439]],\n",
       "\n",
       "       [[ 0.45979411, -0.02578439],\n",
       "        [ 0.43400971, -0.02578439],\n",
       "        [ 0.40822532, -0.02578439],\n",
       "        [ 0.38244092, -0.02578439]],\n",
       "\n",
       "       [[ 0.33087214, -0.02578439],\n",
       "        [ 0.30508774, -0.02578439],\n",
       "        [ 0.27930335, -0.02578439],\n",
       "        [ 0.25351895, -0.02578439]],\n",
       "\n",
       "       [[ 0.16579863,  0.06713727],\n",
       "        [ 0.2329359 ,  0.06713727],\n",
       "        [ 0.30007317,  0.06713727],\n",
       "        [ 0.36721044,  0.06713727]]])"
      ]
     },
     "execution_count": 284,
     "metadata": {},
     "output_type": "execute_result"
    }
   ],
   "source": [
    "a2[:5,:4,:2]"
   ]
  },
  {
   "cell_type": "code",
   "execution_count": 285,
   "metadata": {},
   "outputs": [
    {
     "data": {
      "text/plain": [
       "array([[ 0.6146241 , -0.02395917],\n",
       "       [ 0.48554268, -0.0239506 ]], dtype=float32)"
      ]
     },
     "execution_count": 285,
     "metadata": {},
     "output_type": "execute_result"
    }
   ],
   "source": [
    "model_m.predict(X2[:2])"
   ]
  },
  {
   "cell_type": "markdown",
   "metadata": {},
   "source": [
    "## Training data, where series leading to bounce and straight movement are 1-1"
   ]
  },
  {
   "cell_type": "code",
   "execution_count": 237,
   "metadata": {},
   "outputs": [
    {
     "data": {
      "text/plain": [
       "(5000, 4)"
      ]
     },
     "execution_count": 237,
     "metadata": {},
     "output_type": "execute_result"
    }
   ],
   "source": [
    "df.shape"
   ]
  },
  {
   "cell_type": "code",
   "execution_count": 238,
   "metadata": {},
   "outputs": [
    {
     "data": {
      "text/plain": [
       "(20000, 4)"
      ]
     },
     "execution_count": 238,
     "metadata": {},
     "output_type": "execute_result"
    }
   ],
   "source": [
    "df2.shape"
   ]
  },
  {
   "cell_type": "code",
   "execution_count": 239,
   "metadata": {},
   "outputs": [],
   "source": [
    "mixdf = pd.concat([df, df2[:5000]])\n",
    "mix = mixdf.to_numpy()\n",
    "mix = mix.reshape(2000,5,4)\n",
    "np.random.shuffle(mix)\n",
    "mix_train_x = mix[:1800,:4,0].reshape(1800,4,1)\n",
    "mix_train_y = mix[:1800,4,:2]\n",
    "mix_test_x = mix[1800:,:4,0].reshape(200,4,1)\n",
    "mix_test_y = mix[1800:,4,:2]\n",
    "rmse(mix_test_y, model_m.predict(mix_test_x)) # My model"
   ]
  },
  {
   "cell_type": "code",
   "execution_count": 287,
   "metadata": {},
   "outputs": [
    {
     "name": "stdout",
     "output_type": "stream",
     "text": [
      "_________________________________________________________________\n",
      "Layer (type)                 Output Shape              Param #   \n",
      "=================================================================\n",
      "input_17 (InputLayer)        (None, 4, 1)              0         \n",
      "_________________________________________________________________\n",
      "lstm_9 (LSTM)                (None, 4)                 96        \n",
      "_________________________________________________________________\n",
      "dense_13 (Dense)             (None, 4)                 20        \n",
      "_________________________________________________________________\n",
      "dense_14 (Dense)             (None, 4)                 20        \n",
      "_________________________________________________________________\n",
      "dense_15 (Dense)             (None, 2)                 10        \n",
      "=================================================================\n",
      "Total params: 146\n",
      "Trainable params: 146\n",
      "Non-trainable params: 0\n",
      "_________________________________________________________________\n"
     ]
    }
   ],
   "source": [
    "# n2n model\n",
    "inputs = Input(shape=(4,1))\n",
    "x = LSTM(4, return_sequences=False)(inputs)\n",
    "x = Dense(4)(x)\n",
    "x = Dense(4)(x)\n",
    "x = Dense(2)(x)\n",
    "model_n2n = Model(inputs=inputs, outputs=x)\n",
    "model_n2n.compile(loss=mean_squared_error,\n",
    "              optimizer='adam',\n",
    "              metrics=['accuracy'])\n",
    "model_n2n.summary()"
   ]
  },
  {
   "cell_type": "code",
   "execution_count": 288,
   "metadata": {
    "scrolled": true
   },
   "outputs": [
    {
     "name": "stdout",
     "output_type": "stream",
     "text": [
      "Epoch 1/100\n",
      "1800/1800 [==============================] - 1s 658us/step - loss: 0.2844 - acc: 0.8222\n",
      "Epoch 2/100\n",
      "1800/1800 [==============================] - 0s 148us/step - loss: 0.1095 - acc: 0.9883\n",
      "Epoch 3/100\n",
      "1800/1800 [==============================] - 0s 147us/step - loss: 0.0482 - acc: 0.9883\n",
      "Epoch 4/100\n",
      "1800/1800 [==============================] - 0s 148us/step - loss: 0.0324 - acc: 0.9883\n",
      "Epoch 5/100\n",
      "1800/1800 [==============================] - 0s 149us/step - loss: 0.0179 - acc: 0.9883\n",
      "Epoch 6/100\n",
      "1800/1800 [==============================] - 0s 147us/step - loss: 0.0078 - acc: 0.9883\n",
      "Epoch 7/100\n",
      "1800/1800 [==============================] - 0s 148us/step - loss: 0.0063 - acc: 0.9811\n",
      "Epoch 8/100\n",
      "1800/1800 [==============================] - 0s 154us/step - loss: 0.0061 - acc: 0.9822\n",
      "Epoch 9/100\n",
      "1800/1800 [==============================] - 0s 159us/step - loss: 0.0060 - acc: 0.9839\n",
      "Epoch 10/100\n",
      "1800/1800 [==============================] - 0s 150us/step - loss: 0.0058 - acc: 0.9828\n",
      "Epoch 11/100\n",
      "1800/1800 [==============================] - 0s 150us/step - loss: 0.0057 - acc: 0.9833\n",
      "Epoch 12/100\n",
      "1800/1800 [==============================] - 0s 150us/step - loss: 0.0055 - acc: 0.9850\n",
      "Epoch 13/100\n",
      "1800/1800 [==============================] - 0s 150us/step - loss: 0.0054 - acc: 0.9850\n",
      "Epoch 14/100\n",
      "1800/1800 [==============================] - 0s 150us/step - loss: 0.0053 - acc: 0.9867\n",
      "Epoch 15/100\n",
      "1800/1800 [==============================] - 0s 148us/step - loss: 0.0051 - acc: 0.9872\n",
      "Epoch 16/100\n",
      "1800/1800 [==============================] - 0s 151us/step - loss: 0.0050 - acc: 0.9872\n",
      "Epoch 17/100\n",
      "1800/1800 [==============================] - 0s 150us/step - loss: 0.0048 - acc: 0.9861\n",
      "Epoch 18/100\n",
      "1800/1800 [==============================] - 0s 150us/step - loss: 0.0046 - acc: 0.9872\n",
      "Epoch 19/100\n",
      "1800/1800 [==============================] - 0s 153us/step - loss: 0.0045 - acc: 0.9872\n",
      "Epoch 20/100\n",
      "1800/1800 [==============================] - 0s 157us/step - loss: 0.0043 - acc: 0.9872\n",
      "Epoch 21/100\n",
      "1800/1800 [==============================] - 0s 155us/step - loss: 0.0042 - acc: 0.9872\n",
      "Epoch 22/100\n",
      "1800/1800 [==============================] - 0s 152us/step - loss: 0.0040 - acc: 0.9872\n",
      "Epoch 23/100\n",
      "1800/1800 [==============================] - 0s 151us/step - loss: 0.0038 - acc: 0.9878\n",
      "Epoch 24/100\n",
      "1800/1800 [==============================] - 0s 153us/step - loss: 0.0037 - acc: 0.9872\n",
      "Epoch 25/100\n",
      "1800/1800 [==============================] - 0s 152us/step - loss: 0.0035 - acc: 0.9872\n",
      "Epoch 26/100\n",
      "1800/1800 [==============================] - 0s 151us/step - loss: 0.0034 - acc: 0.9872\n",
      "Epoch 27/100\n",
      "1800/1800 [==============================] - 0s 152us/step - loss: 0.0032 - acc: 0.9883\n",
      "Epoch 28/100\n",
      "1800/1800 [==============================] - 0s 152us/step - loss: 0.0030 - acc: 0.9883\n",
      "Epoch 29/100\n",
      "1800/1800 [==============================] - 0s 153us/step - loss: 0.0028 - acc: 0.9883\n",
      "Epoch 30/100\n",
      "1800/1800 [==============================] - 0s 152us/step - loss: 0.0027 - acc: 0.9883\n",
      "Epoch 31/100\n",
      "1800/1800 [==============================] - 0s 151us/step - loss: 0.0025 - acc: 0.9883\n",
      "Epoch 32/100\n",
      "1800/1800 [==============================] - 0s 154us/step - loss: 0.0023 - acc: 0.9883\n",
      "Epoch 33/100\n",
      "1800/1800 [==============================] - 0s 151us/step - loss: 0.0022 - acc: 0.9883\n",
      "Epoch 34/100\n",
      "1800/1800 [==============================] - 0s 154us/step - loss: 0.0021 - acc: 0.9883\n",
      "Epoch 35/100\n",
      "1800/1800 [==============================] - 0s 163us/step - loss: 0.0019 - acc: 0.9883\n",
      "Epoch 36/100\n",
      "1800/1800 [==============================] - 0s 153us/step - loss: 0.0018 - acc: 0.9883\n",
      "Epoch 37/100\n",
      "1800/1800 [==============================] - 0s 152us/step - loss: 0.0018 - acc: 0.9883\n",
      "Epoch 38/100\n",
      "1800/1800 [==============================] - 0s 151us/step - loss: 0.0017 - acc: 0.9883\n",
      "Epoch 39/100\n",
      "1800/1800 [==============================] - 0s 152us/step - loss: 0.0016 - acc: 0.9889\n",
      "Epoch 40/100\n",
      "1800/1800 [==============================] - 0s 152us/step - loss: 0.0016 - acc: 0.9883\n",
      "Epoch 41/100\n",
      "1800/1800 [==============================] - 0s 154us/step - loss: 0.0016 - acc: 0.9889\n",
      "Epoch 42/100\n",
      "1800/1800 [==============================] - 0s 161us/step - loss: 0.0015 - acc: 0.9894\n",
      "Epoch 43/100\n",
      "1800/1800 [==============================] - 0s 159us/step - loss: 0.0015 - acc: 0.9878\n",
      "Epoch 44/100\n",
      "1800/1800 [==============================] - 0s 155us/step - loss: 0.0015 - acc: 0.9894\n",
      "Epoch 45/100\n",
      "1800/1800 [==============================] - 0s 153us/step - loss: 0.0015 - acc: 0.9889\n",
      "Epoch 46/100\n",
      "1800/1800 [==============================] - 0s 156us/step - loss: 0.0015 - acc: 0.9889\n",
      "Epoch 47/100\n",
      "1800/1800 [==============================] - 0s 155us/step - loss: 0.0015 - acc: 0.9883\n",
      "Epoch 48/100\n",
      "1800/1800 [==============================] - 0s 152us/step - loss: 0.0014 - acc: 0.9894\n",
      "Epoch 49/100\n",
      "1800/1800 [==============================] - 0s 154us/step - loss: 0.0014 - acc: 0.9883\n",
      "Epoch 50/100\n",
      "1800/1800 [==============================] - 0s 157us/step - loss: 0.0014 - acc: 0.9889\n",
      "Epoch 51/100\n",
      "1800/1800 [==============================] - 0s 171us/step - loss: 0.0014 - acc: 0.9889\n",
      "Epoch 52/100\n",
      "1800/1800 [==============================] - 0s 157us/step - loss: 0.0014 - acc: 0.9889\n",
      "Epoch 53/100\n",
      "1800/1800 [==============================] - 0s 155us/step - loss: 0.0014 - acc: 0.9878\n",
      "Epoch 54/100\n",
      "1800/1800 [==============================] - 0s 151us/step - loss: 0.0014 - acc: 0.9889\n",
      "Epoch 55/100\n",
      "1800/1800 [==============================] - 0s 164us/step - loss: 0.0014 - acc: 0.9889\n",
      "Epoch 56/100\n",
      "1800/1800 [==============================] - 0s 161us/step - loss: 0.0014 - acc: 0.9889\n",
      "Epoch 57/100\n",
      "1800/1800 [==============================] - 0s 166us/step - loss: 0.0014 - acc: 0.9883\n",
      "Epoch 58/100\n",
      "1800/1800 [==============================] - 0s 151us/step - loss: 0.0013 - acc: 0.9900\n",
      "Epoch 59/100\n",
      "1800/1800 [==============================] - 0s 153us/step - loss: 0.0013 - acc: 0.9889\n",
      "Epoch 60/100\n",
      "1800/1800 [==============================] - 0s 152us/step - loss: 0.0013 - acc: 0.9894\n",
      "Epoch 61/100\n",
      "1800/1800 [==============================] - 0s 152us/step - loss: 0.0013 - acc: 0.9889\n",
      "Epoch 62/100\n",
      "1800/1800 [==============================] - 0s 151us/step - loss: 0.0013 - acc: 0.9883\n",
      "Epoch 63/100\n",
      "1800/1800 [==============================] - 0s 151us/step - loss: 0.0013 - acc: 0.9889\n",
      "Epoch 64/100\n",
      "1800/1800 [==============================] - 0s 152us/step - loss: 0.0013 - acc: 0.9894\n",
      "Epoch 65/100\n",
      "1800/1800 [==============================] - 0s 150us/step - loss: 0.0013 - acc: 0.9894\n",
      "Epoch 66/100\n",
      "1800/1800 [==============================] - 0s 149us/step - loss: 0.0013 - acc: 0.9889\n",
      "Epoch 67/100\n",
      "1800/1800 [==============================] - 0s 151us/step - loss: 0.0013 - acc: 0.9889\n",
      "Epoch 68/100\n",
      "1800/1800 [==============================] - 0s 151us/step - loss: 0.0013 - acc: 0.9883\n",
      "Epoch 69/100\n",
      "1800/1800 [==============================] - 0s 150us/step - loss: 0.0013 - acc: 0.9900\n",
      "Epoch 70/100\n",
      "1800/1800 [==============================] - 0s 149us/step - loss: 0.0012 - acc: 0.9894\n",
      "Epoch 71/100\n",
      "1800/1800 [==============================] - 0s 150us/step - loss: 0.0012 - acc: 0.9900\n",
      "Epoch 72/100\n",
      "1800/1800 [==============================] - 0s 149us/step - loss: 0.0012 - acc: 0.9900\n",
      "Epoch 73/100\n",
      "1800/1800 [==============================] - 0s 148us/step - loss: 0.0012 - acc: 0.9894\n",
      "Epoch 74/100\n",
      "1800/1800 [==============================] - 0s 150us/step - loss: 0.0012 - acc: 0.9906\n",
      "Epoch 75/100\n",
      "1800/1800 [==============================] - 0s 149us/step - loss: 0.0013 - acc: 0.9883\n",
      "Epoch 76/100\n",
      "1800/1800 [==============================] - 0s 149us/step - loss: 0.0012 - acc: 0.9894\n",
      "Epoch 77/100\n",
      "1800/1800 [==============================] - 0s 148us/step - loss: 0.0012 - acc: 0.9878\n",
      "Epoch 78/100\n",
      "1800/1800 [==============================] - 0s 150us/step - loss: 0.0012 - acc: 0.9889\n",
      "Epoch 79/100\n",
      "1800/1800 [==============================] - 0s 154us/step - loss: 0.0012 - acc: 0.9889\n",
      "Epoch 80/100\n",
      "1800/1800 [==============================] - 0s 148us/step - loss: 0.0012 - acc: 0.9889\n",
      "Epoch 81/100\n",
      "1800/1800 [==============================] - 0s 149us/step - loss: 0.0012 - acc: 0.9889\n",
      "Epoch 82/100\n",
      "1800/1800 [==============================] - 0s 146us/step - loss: 0.0012 - acc: 0.9894\n",
      "Epoch 83/100\n",
      "1800/1800 [==============================] - 0s 144us/step - loss: 0.0012 - acc: 0.9883\n",
      "Epoch 84/100\n",
      "1800/1800 [==============================] - 0s 144us/step - loss: 0.0012 - acc: 0.9889\n",
      "Epoch 85/100\n",
      "1800/1800 [==============================] - 0s 145us/step - loss: 0.0012 - acc: 0.9894\n",
      "Epoch 86/100\n",
      "1800/1800 [==============================] - 0s 142us/step - loss: 0.0012 - acc: 0.9878\n",
      "Epoch 87/100\n",
      "1800/1800 [==============================] - 0s 143us/step - loss: 0.0012 - acc: 0.9883\n",
      "Epoch 88/100\n",
      "1800/1800 [==============================] - 0s 144us/step - loss: 0.0012 - acc: 0.9911\n",
      "Epoch 89/100\n",
      "1800/1800 [==============================] - 0s 144us/step - loss: 0.0012 - acc: 0.9889\n",
      "Epoch 90/100\n",
      "1800/1800 [==============================] - 0s 145us/step - loss: 0.0012 - acc: 0.9883\n",
      "Epoch 91/100\n",
      "1800/1800 [==============================] - 0s 144us/step - loss: 0.0012 - acc: 0.9883\n",
      "Epoch 92/100\n",
      "1800/1800 [==============================] - 0s 147us/step - loss: 0.0012 - acc: 0.9889\n",
      "Epoch 93/100\n",
      "1800/1800 [==============================] - 0s 145us/step - loss: 0.0012 - acc: 0.9883\n",
      "Epoch 94/100\n",
      "1800/1800 [==============================] - 0s 143us/step - loss: 0.0012 - acc: 0.9889\n",
      "Epoch 95/100\n",
      "1800/1800 [==============================] - 0s 145us/step - loss: 0.0012 - acc: 0.9883\n",
      "Epoch 96/100\n",
      "1800/1800 [==============================] - 0s 143us/step - loss: 0.0012 - acc: 0.9883\n",
      "Epoch 97/100\n",
      "1800/1800 [==============================] - 0s 145us/step - loss: 0.0012 - acc: 0.9872\n",
      "Epoch 98/100\n",
      "1800/1800 [==============================] - 0s 145us/step - loss: 0.0012 - acc: 0.9889\n",
      "Epoch 99/100\n",
      "1800/1800 [==============================] - 0s 143us/step - loss: 0.0012 - acc: 0.9883\n",
      "Epoch 100/100\n",
      "1800/1800 [==============================] - 0s 145us/step - loss: 0.0012 - acc: 0.9878\n"
     ]
    },
    {
     "data": {
      "text/plain": [
       "<keras.callbacks.History at 0x7f23a8376c88>"
      ]
     },
     "execution_count": 288,
     "metadata": {},
     "output_type": "execute_result"
    }
   ],
   "source": [
    "model_n2n.fit(mix_train_x, mix_train_y, epochs=100)"
   ]
  },
  {
   "cell_type": "code",
   "execution_count": 289,
   "metadata": {},
   "outputs": [
    {
     "data": {
      "text/plain": [
       "0.03488781341520831"
      ]
     },
     "execution_count": 289,
     "metadata": {},
     "output_type": "execute_result"
    }
   ],
   "source": [
    "rmse(mix_test_y, model_n2n.predict(mix_test_x))"
   ]
  },
  {
   "cell_type": "code",
   "execution_count": 295,
   "metadata": {},
   "outputs": [],
   "source": [
    "b = mix_test_x[:3]"
   ]
  },
  {
   "cell_type": "code",
   "execution_count": 301,
   "metadata": {},
   "outputs": [
    {
     "data": {
      "text/plain": [
       "array([[[7.47851902e-01],\n",
       "        [8.31834078e-01],\n",
       "        [9.15816255e-01],\n",
       "        [9.99798432e-01]],\n",
       "\n",
       "       [[9.08947685e-01],\n",
       "        [9.39292739e-01],\n",
       "        [9.69637794e-01],\n",
       "        [9.99982848e-01]],\n",
       "\n",
       "       [[1.21226836e-01],\n",
       "        [6.06293150e-02],\n",
       "        [3.17937938e-05],\n",
       "        [6.05657274e-02]]])"
      ]
     },
     "execution_count": 301,
     "metadata": {},
     "output_type": "execute_result"
    }
   ],
   "source": [
    "b"
   ]
  },
  {
   "cell_type": "code",
   "execution_count": 299,
   "metadata": {},
   "outputs": [
    {
     "data": {
      "text/plain": [
       "array([[ 0.9212596 , -0.08373384],\n",
       "       [ 0.96960855, -0.03068657],\n",
       "       [ 0.0408061 ,  0.01272298]], dtype=float32)"
      ]
     },
     "execution_count": 299,
     "metadata": {},
     "output_type": "execute_result"
    }
   ],
   "source": [
    "model_m.predict(b)"
   ]
  },
  {
   "cell_type": "code",
   "execution_count": 300,
   "metadata": {},
   "outputs": [
    {
     "data": {
      "text/plain": [
       "array([[ 1.0237702 , -0.02749126],\n",
       "       [ 0.99790883, -0.04591396],\n",
       "       [ 0.07502958,  0.0361006 ]], dtype=float32)"
      ]
     },
     "execution_count": 300,
     "metadata": {},
     "output_type": "execute_result"
    }
   ],
   "source": [
    "model_n2n.predict(b)"
   ]
  },
  {
   "cell_type": "code",
   "execution_count": 303,
   "metadata": {},
   "outputs": [
    {
     "data": {
      "text/plain": [
       "array([-0.06059752])"
      ]
     },
     "execution_count": 303,
     "metadata": {},
     "output_type": "execute_result"
    }
   ],
   "source": [
    "b[2,1] - b[2 ,0]"
   ]
  },
  {
   "cell_type": "code",
   "execution_count": null,
   "metadata": {},
   "outputs": [],
   "source": []
  }
 ],
 "metadata": {
  "kernelspec": {
   "display_name": "Python 3",
   "language": "python",
   "name": "python3"
  },
  "language_info": {
   "codemirror_mode": {
    "name": "ipython",
    "version": 3
   },
   "file_extension": ".py",
   "mimetype": "text/x-python",
   "name": "python",
   "nbconvert_exporter": "python",
   "pygments_lexer": "ipython3",
   "version": "3.6.8"
  }
 },
 "nbformat": 4,
 "nbformat_minor": 2
}
