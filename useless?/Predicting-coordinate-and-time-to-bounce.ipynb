{
 "cells": [
  {
   "cell_type": "code",
   "execution_count": 1,
   "metadata": {},
   "outputs": [
    {
     "name": "stderr",
     "output_type": "stream",
     "text": [
      "Using TensorFlow backend.\n"
     ]
    }
   ],
   "source": [
    "import pandas as pd\n",
    "import numpy as np\n",
    "from keras.layers import Input, Dense, LSTM, RepeatVector, TimeDistributed, RNN, Lambda, Concatenate, Reshape, Dropout\n",
    "from keras.layers.merge import Add\n",
    "from keras.layers.merge import Multiply\n",
    "from keras.models import Model\n",
    "from keras.losses import mean_squared_error, binary_crossentropy\n",
    "from keras.models import Model\n",
    "from keras.models import load_model\n",
    "from keras.models import model_from_json\n",
    "import keras.backend as K\n",
    "import matplotlib.pyplot as plt\n",
    "from sklearn.metrics import mean_squared_error as mse\n",
    "from Generators import pv_wb_generator"
   ]
  },
  {
   "cell_type": "code",
   "execution_count": 2,
   "metadata": {},
   "outputs": [],
   "source": [
    "def save_model(model, model_str):\n",
    "    model_json = model.to_json()\n",
    "    with open('trained/'+model_str+\".json\", \"w\") as json_file:\n",
    "        json_file.write(model_json)\n",
    "    # serialize weights to HDF5\n",
    "    model.save_weights('trained/'+model_str+\".h5\")\n",
    "    print(\"Saved model to disk\")"
   ]
  },
  {
   "cell_type": "code",
   "execution_count": 3,
   "metadata": {},
   "outputs": [],
   "source": [
    "def gen(batch_size=128):\n",
    "    while True:\n",
    "        a = np.zeros((batch_size,3)) #x, dx, v\n",
    "        b = np.zeros((batch_size,3 )) #x, dx, v2\n",
    "        if np.random.rand() > 0.25:\n",
    "            a[:,2] = np.random.uniform(-0.1, 0.1, size=batch_size) #v\n",
    "            a[:,0] = np.random.uniform(0.2, 0.8, size=batch_size) #x\n",
    "            a[:,1] = 0\n",
    "            \n",
    "            b[:,2] = a[:,2]\n",
    "            b[:,0] = a[:,0]+a[:,2]\n",
    "            b[:,1] = 0\n",
    "            yield a, b\n",
    "        if np.random.rand() > 0.5:\n",
    "            #border at 1\n",
    "            a[:,2] = np.random.uniform(0, 0.1, size=batch_size) #v\n",
    "            a[:,0] = np.random.uniform(1-a[:,2]*2, 1, size=batch_size) #x\n",
    "            a[:,1] = np.maximum(a[:,2] - (1-a[:,0]), 0) #dx\n",
    "            \n",
    "            indecesb = np.argwhere(a[:,1] > 0) \n",
    "            indecess = np.argwhere(a[:,1] == 0)\n",
    "            b[:,2] = a[:,2]\n",
    "            b[indecesb,2] *= -1 #-v\n",
    "            b[indecess,0] = a[indecess,0] + a[indecess,2]\n",
    "            b[indecesb,0] = 1-a[indecesb,1]\n",
    "            b[:,1] = np.maximum(b[:,2] - (1-b[:,0]), 0)\n",
    "            yield a, b\n",
    "        else:\n",
    "            #border at 0\n",
    "            a[:,2] = np.random.uniform(0, -0.1, size=batch_size) #v\n",
    "            a[:,0] = np.random.uniform(-a[:,2]*2, 0, size=batch_size) #x\n",
    "            a[:,1] = np.maximum(-a[:,2] - a[:,0], 0) #dx\n",
    "            \n",
    "            indecesb = np.argwhere(a[:,1] > 0) \n",
    "            indecess = np.argwhere(a[:,1] == 0)\n",
    "            b[:,2] = a[:,2]\n",
    "            b[indecesb,2] *= -1 #-v\n",
    "            b[indecess,0] = a[indecess,0] + a[indecess,2]\n",
    "            b[indecesb,0] = a[indecesb,1]\n",
    "            b[:,1] = np.maximum(-b[:,2] - b[:,0], 0)\n",
    "            yield a, b"
   ]
  },
  {
   "cell_type": "code",
   "execution_count": 4,
   "metadata": {},
   "outputs": [],
   "source": [
    "def gen(batch_size=128):\n",
    "    while True:\n",
    "        a = np.zeros((batch_size,3)) #x, dx, v\n",
    "        b = np.zeros((batch_size,3 )) #x, dx, v2\n",
    "        i = np.random.choice([0,0,1,2], size=batch_size)\n",
    "#         i = np.random.choice([2], size=batch_size)\n",
    "\n",
    "        i1 = np.argwhere(i==0)\n",
    "        i1 = i1.reshape(-1,1)[:,0]\n",
    "#         print('i1: ', i1)\n",
    "        a[i1,2] = np.random.uniform(-0.1, 0.1, size=i1.shape[0]) #v\n",
    "        a[i1,0] = np.random.uniform(0.2, 0.8, size=i1.shape[0]) #x\n",
    "        a[i1,1] = 0\n",
    "\n",
    "        b[i1,2] = a[i1,2]\n",
    "        b[i1,0] = a[i1,0]+a[i1,2]\n",
    "        b[i1,1] = 0\n",
    "\n",
    "        #border at 1\n",
    "        i2 = np.argwhere(i==1)\n",
    "        i2 = i2.reshape(-1,1)[:,0]\n",
    "#         print('i2: ', i2)\n",
    "        a[i2,2] = np.random.uniform(0, 0.1, size=i2.shape[0]) #v\n",
    "        a[i2,0] = np.random.uniform(1-a[i2,2]*2, 1, size=i2.shape[0]) #x\n",
    "        a[i2,1] = np.maximum(a[i2,2] - (1-a[i2,0]), 0) #dx\n",
    "\n",
    "        indecesb = np.argwhere(a[i2,1] > 0) \n",
    "        indecess = np.argwhere(a[i2,1] == 0)\n",
    "        b[i2,2] = a[i2,2]\n",
    "        b[i2[indecesb],2] *= -1 #-v\n",
    "        b[i2[indecess],0] = a[i2[indecess],0] + a[i2[indecess],2]\n",
    "        b[i2[indecesb],0] = 1-a[i2[indecesb],1]\n",
    "        b[i2,1] = np.maximum(b[i2,2] - (1-b[i2,0]), 0)\n",
    "\n",
    "        #border at 0\n",
    "        i3 = np.argwhere(i==2)\n",
    "        i3 = i3.reshape(-1,1)[:,0]\n",
    "#         print('i3: ', i3)\n",
    "        a[i3,2] = np.random.uniform(0, -0.1, size=i3.shape[0]) #v\n",
    "        a[i3,0] = np.random.uniform(-a[i3,2]*2, 0, size=i3.shape[0]) #x\n",
    "        a[i3,1] = np.maximum(-a[i3,2] - a[i3,0], 0) #dx\n",
    "\n",
    "        indecesb = np.argwhere(a[i3,1] > 0) \n",
    "        indecess = np.argwhere(a[i3,1] == 0)\n",
    "        b[i3,2] = a[i3,2]\n",
    "        b[i3[indecesb],2] *= -1 #-v\n",
    "        b[i3[indecess],0] = a[i3[indecess],0] + a[i3[indecess],2]\n",
    "        b[i3[indecesb],0] = a[i3[indecesb],1]\n",
    "        b[i3,1] = np.maximum(-b[i3,2] - b[i3,0], 0)\n",
    "        yield a, b"
   ]
  },
  {
   "cell_type": "code",
   "execution_count": 5,
   "metadata": {},
   "outputs": [],
   "source": [
    "a,b = next(gen(batch_size=5))"
   ]
  },
  {
   "cell_type": "code",
   "execution_count": 6,
   "metadata": {},
   "outputs": [
    {
     "data": {
      "text/plain": [
       "(array([[ 0.990098  ,  0.        ,  0.00868419],\n",
       "        [ 0.60491118,  0.        ,  0.08044642],\n",
       "        [ 0.01470408,  0.01403718, -0.02874126],\n",
       "        [ 0.41049072,  0.        , -0.03102929],\n",
       "        [ 0.85672816,  0.        ,  0.09671656]]),\n",
       " array([[ 0.99878218,  0.00746637,  0.00868419],\n",
       "        [ 0.6853576 ,  0.        ,  0.08044642],\n",
       "        [ 0.01403718,  0.        ,  0.02874126],\n",
       "        [ 0.37946143,  0.        , -0.03102929],\n",
       "        [ 0.95344472,  0.05016127,  0.09671656]]))"
      ]
     },
     "execution_count": 6,
     "metadata": {},
     "output_type": "execute_result"
    }
   ],
   "source": [
    "a,b"
   ]
  },
  {
   "cell_type": "code",
   "execution_count": 7,
   "metadata": {},
   "outputs": [],
   "source": [
    "from keras.regularizers import l2"
   ]
  },
  {
   "cell_type": "code",
   "execution_count": 8,
   "metadata": {},
   "outputs": [
    {
     "name": "stdout",
     "output_type": "stream",
     "text": [
      "__________________________________________________________________________________________________\n",
      "Layer (type)                    Output Shape         Param #     Connected to                     \n",
      "==================================================================================================\n",
      "input_1 (InputLayer)            (None, 3)            0                                            \n",
      "__________________________________________________________________________________________________\n",
      "lambda_2 (Lambda)               (None, 2)            0           input_1[0][0]                    \n",
      "__________________________________________________________________________________________________\n",
      "lambda_1 (Lambda)               (None, 2)            0           input_1[0][0]                    \n",
      "__________________________________________________________________________________________________\n",
      "dense_2 (Dense)                 (None, 4)            12          lambda_2[0][0]                   \n",
      "__________________________________________________________________________________________________\n",
      "dense_1 (Dense)                 (None, 4)            12          lambda_1[0][0]                   \n",
      "__________________________________________________________________________________________________\n",
      "dense_3 (Dense)                 (None, 8)            40          dense_2[0][0]                    \n",
      "__________________________________________________________________________________________________\n",
      "concatenate_1 (Concatenate)     (None, 12)           0           dense_1[0][0]                    \n",
      "                                                                 dense_3[0][0]                    \n",
      "__________________________________________________________________________________________________\n",
      "dense_4 (Dense)                 (None, 8)            104         concatenate_1[0][0]              \n",
      "__________________________________________________________________________________________________\n",
      "dense_5 (Dense)                 (None, 3)            27          dense_4[0][0]                    \n",
      "==================================================================================================\n",
      "Total params: 195\n",
      "Trainable params: 195\n",
      "Non-trainable params: 0\n",
      "__________________________________________________________________________________________________\n"
     ]
    }
   ],
   "source": [
    "inputs = Input(shape=(3,))\n",
    "\n",
    "split_dv = Lambda(lambda s: s[:,1:], output_shape=(2,))(inputs)\n",
    "h1 = Dense(4, activation='relu', kernel_regularizer=l2(0.01))(split_dv)\n",
    "# h1 = Dense(8, activation='relu')(h1)\n",
    "\n",
    "split_xd = Lambda(lambda s: s[:,:2], output_shape=(2,))(inputs)\n",
    "h2 = Dense(4, activation='relu', kernel_regularizer=l2(0.01))(split_xd)\n",
    "h2 = Dense(8, activation='relu', kernel_regularizer=l2(0.01))(h2)\n",
    "\n",
    "h = Concatenate()([h1,h2])\n",
    "h = Dense(8, activation='relu', kernel_regularizer=l2(0.01))(h)\n",
    "# h = Dense(64, activation='relu')(h)\n",
    "h = Dense(3, )(h)\n",
    "\n",
    "preds = h\n",
    "module = Model(inputs=inputs, outputs=preds)\n",
    "module.compile(loss=mean_squared_error,\n",
    "              optimizer='adam')\n",
    "module.summary()"
   ]
  },
  {
   "cell_type": "code",
   "execution_count": 9,
   "metadata": {},
   "outputs": [],
   "source": [
    "# inputs = Input(shape=(3,))\n",
    "\n",
    "# split_dv = Lambda(lambda s: s[:,:3], output_shape=(3,))(inputs)\n",
    "\n",
    "\n",
    "# split_xd = Lambda(lambda s: s[:,:3], output_shape=(3,))(inputs)\n",
    "\n",
    "# # h = Dense(32)(inputs)\n",
    "# h = Dense(8, activation='relu')(inputs)\n",
    "# h = Dense(128, activation='relu')(h)\n",
    "# h = Dense(3)(h)\n",
    "\n",
    "# preds = h\n",
    "\n",
    "# module = Model(inputs=inputs, outputs=preds)\n",
    "# module.compile(loss=mean_squared_error,\n",
    "#               optimizer='adam')\n",
    "# module.summary()"
   ]
  },
  {
   "cell_type": "code",
   "execution_count": 10,
   "metadata": {},
   "outputs": [
    {
     "name": "stdout",
     "output_type": "stream",
     "text": [
      "Epoch 1/1\n",
      " 57754/128000 [============>.................] - ETA: 2:02 - loss: 0.0073"
     ]
    }
   ],
   "source": [
    "try:\n",
    "    module.fit_generator(gen(batch_size=1280), steps_per_epoch=128000)\n",
    "except KeyboardInterrupt:\n",
    "    pass"
   ]
  },
  {
   "cell_type": "markdown",
   "metadata": {},
   "source": [
    "50098/128000 [==========>...................] - ETA: 2:25 - loss: 0.0125"
   ]
  },
  {
   "cell_type": "code",
   "execution_count": 10,
   "metadata": {},
   "outputs": [
    {
     "data": {
      "text/plain": [
       "0.005302176242641814"
      ]
     },
     "execution_count": 10,
     "metadata": {},
     "output_type": "execute_result"
    }
   ],
   "source": [
    "X, Y = next(gen(batch_size=1280))\n",
    "P = module.predict(X)\n",
    "mse(P, Y)**0.5"
   ]
  },
  {
   "cell_type": "code",
   "execution_count": 145,
   "metadata": {},
   "outputs": [
    {
     "data": {
      "text/plain": [
       "0.0009170507644204933"
      ]
     },
     "execution_count": 145,
     "metadata": {},
     "output_type": "execute_result"
    }
   ],
   "source": [
    "X, Y = next(gen(batch_size=1280))\n",
    "P = module.predict(X)\n",
    "mse(P, Y)**0.5"
   ]
  },
  {
   "cell_type": "code",
   "execution_count": 11,
   "metadata": {},
   "outputs": [
    {
     "name": "stdout",
     "output_type": "stream",
     "text": [
      "Saved model to disk\n"
     ]
    }
   ],
   "source": [
    "save_model(module, 'module')"
   ]
  },
  {
   "cell_type": "code",
   "execution_count": 60,
   "metadata": {},
   "outputs": [
    {
     "data": {
      "text/plain": [
       "array([[ 3.95293876e-01,  0.00000000e+00, -2.31737371e-02],\n",
       "       [ 5.69822649e-02,  0.00000000e+00, -3.38937842e-02],\n",
       "       [ 7.12937147e-01,  0.00000000e+00, -2.80543810e-03],\n",
       "       [ 2.50752071e-01,  0.00000000e+00, -8.35852589e-02],\n",
       "       [ 5.54419064e-01,  0.00000000e+00,  6.02066112e-02],\n",
       "       [ 6.68203812e-02,  0.00000000e+00, -4.88965262e-02],\n",
       "       [ 1.27540723e-02,  4.58387632e-03, -1.73379486e-02],\n",
       "       [ 9.49308778e-01,  0.00000000e+00,  2.66804224e-02],\n",
       "       [ 9.65875666e-01,  5.12371971e-04,  3.46367058e-02],\n",
       "       [ 2.41085456e-01,  0.00000000e+00, -6.52882094e-02]])"
      ]
     },
     "execution_count": 60,
     "metadata": {},
     "output_type": "execute_result"
    }
   ],
   "source": [
    "X[:10]"
   ]
  },
  {
   "cell_type": "code",
   "execution_count": 61,
   "metadata": {},
   "outputs": [
    {
     "data": {
      "text/plain": [
       "array([[ 3.7211600e-01,  3.4725666e-04, -2.2776678e-02],\n",
       "       [ 2.3001421e-02,  1.0808498e-02, -3.4335718e-02],\n",
       "       [ 7.1012193e-01, -1.2615323e-04, -2.6649833e-03],\n",
       "       [ 1.6710773e-01,  1.0934472e-04, -8.3116539e-02],\n",
       "       [ 6.1471426e-01,  6.0459971e-04,  6.0697332e-02],\n",
       "       [ 1.7910000e-02,  3.0890554e-02, -4.9299031e-02],\n",
       "       [ 4.7469325e-03, -4.7236681e-05,  1.7666474e-02],\n",
       "       [ 9.7613239e-01,  3.5030544e-03,  2.7071312e-02],\n",
       "       [ 9.9962044e-01,  1.2782216e-04, -3.4717202e-02],\n",
       "       [ 1.7573161e-01,  1.6060472e-04, -6.4848855e-02]], dtype=float32)"
      ]
     },
     "execution_count": 61,
     "metadata": {},
     "output_type": "execute_result"
    }
   ],
   "source": [
    "P[:10]"
   ]
  },
  {
   "cell_type": "code",
   "execution_count": 62,
   "metadata": {},
   "outputs": [
    {
     "data": {
      "text/plain": [
       "array([[ 0.37212014,  0.        , -0.02317374],\n",
       "       [ 0.02308848,  0.0108053 , -0.03389378],\n",
       "       [ 0.71013171,  0.        , -0.00280544],\n",
       "       [ 0.16716681,  0.        , -0.08358526],\n",
       "       [ 0.61462567,  0.        ,  0.06020661],\n",
       "       [ 0.01792386,  0.03097267, -0.04889653],\n",
       "       [ 0.00458388,  0.        ,  0.01733795],\n",
       "       [ 0.9759892 ,  0.00266962,  0.02668042],\n",
       "       [ 0.99948763,  0.        , -0.03463671],\n",
       "       [ 0.17579725,  0.        , -0.06528821]])"
      ]
     },
     "execution_count": 62,
     "metadata": {},
     "output_type": "execute_result"
    }
   ],
   "source": [
    "Y[:10]"
   ]
  },
  {
   "cell_type": "code",
   "execution_count": 64,
   "metadata": {},
   "outputs": [
    {
     "name": "stdout",
     "output_type": "stream",
     "text": [
      "Saved model to disk\n"
     ]
    }
   ],
   "source": [
    "save_model(module, 'module_939params_200k')"
   ]
  },
  {
   "cell_type": "code",
   "execution_count": null,
   "metadata": {},
   "outputs": [],
   "source": []
  }
 ],
 "metadata": {
  "kernelspec": {
   "display_name": "Python 3",
   "language": "python",
   "name": "python3"
  },
  "language_info": {
   "codemirror_mode": {
    "name": "ipython",
    "version": 3
   },
   "file_extension": ".py",
   "mimetype": "text/x-python",
   "name": "python",
   "nbconvert_exporter": "python",
   "pygments_lexer": "ipython3",
   "version": "3.6.8"
  }
 },
 "nbformat": 4,
 "nbformat_minor": 2
}
