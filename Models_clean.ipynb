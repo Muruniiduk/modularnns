{
 "cells": [
  {
   "cell_type": "code",
   "execution_count": 1,
   "metadata": {},
   "outputs": [
    {
     "name": "stderr",
     "output_type": "stream",
     "text": [
      "Using TensorFlow backend.\n"
     ]
    }
   ],
   "source": [
    "import pandas as pd\n",
    "import numpy as np\n",
    "from keras.layers import Input, Dense, LSTM, RepeatVector, TimeDistributed, RNN, Lambda, Concatenate\n",
    "from keras.layers.merge import Multiply\n",
    "from keras.models import Model\n",
    "from keras.losses import mean_squared_error, binary_crossentropy\n",
    "from keras.models import Model\n",
    "import keras.backend as K\n",
    "# from keras.losses import mean_squared_error"
   ]
  },
  {
   "cell_type": "markdown",
   "metadata": {},
   "source": [
    "# Right now make as many assumptions as possible\n",
    "\n",
    "It's better to ask it\n",
    "- derive speeds\n",
    "- separate x and y. mby use same module for both?\n",
    "- learn bounces separately\n",
    "     - is LSTM much better if there is only 1 frame after the bounce vs 0?"
   ]
  },
  {
   "cell_type": "code",
   "execution_count": 98,
   "metadata": {},
   "outputs": [],
   "source": [
    "def save_model(model, model_str):\n",
    "    model_json = model.to_json()\n",
    "    with open('trained/'+model_str+\".json\", \"w\") as json_file:\n",
    "        json_file.write(model_json)\n",
    "    # serialize weights to HDF5\n",
    "    model.save_weights('trained/'+model_str+\".h5\")\n",
    "    print(\"Saved model to disk\")"
   ]
  },
  {
   "cell_type": "code",
   "execution_count": 2,
   "metadata": {},
   "outputs": [
    {
     "name": "stdout",
     "output_type": "stream",
     "text": [
      "_________________________________________________________________\n",
      "Layer (type)                 Output Shape              Param #   \n",
      "=================================================================\n",
      "input_1 (InputLayer)         (None, 4, 1)              0         \n",
      "_________________________________________________________________\n",
      "lstm_1 (LSTM)                (None, 4)                 96        \n",
      "_________________________________________________________________\n",
      "dense_1 (Dense)              (None, 2)                 10        \n",
      "=================================================================\n",
      "Total params: 106\n",
      "Trainable params: 106\n",
      "Non-trainable params: 0\n",
      "_________________________________________________________________\n"
     ]
    }
   ],
   "source": [
    "## Straight movement, derive speed\n",
    "\n",
    "from keras.layers import Input, Dense, LSTM, RepeatVector, TimeDistributed, RNN, Lambda\n",
    "\n",
    "# This returns a tensor\n",
    "inputs = Input(shape=(4,1,))\n",
    "# inputs = Input(shape=(10,1))\n",
    "\n",
    "# a layer instance is callable on a tensor, and returns a tensor\n",
    "x = LSTM(4, return_sequences=False)(inputs)\n",
    "x = Dense(2)(x)\n",
    "\n",
    "predictions = x#Dense(2, input_shape=(4,1))(x)\n",
    "\n",
    "# This creates a model that includes\n",
    "# the Input layer and three Dense layers\n",
    "model_ws = Model(inputs=inputs, outputs=predictions)\n",
    "model_ws.compile(loss=mean_squared_error,\n",
    "              optimizer='adam',\n",
    "              metrics=['accuracy'])\n",
    "model_ws.summary()"
   ]
  },
  {
   "cell_type": "code",
   "execution_count": 3,
   "metadata": {},
   "outputs": [
    {
     "data": {
      "text/plain": [
       "<keras.callbacks.History at 0x7f64b7b79128>"
      ]
     },
     "execution_count": 3,
     "metadata": {},
     "output_type": "execute_result"
    }
   ],
   "source": [
    "df = pd.read_csv('sim_data2.csv')\n",
    "# x, x_vel, y, y_vel\n",
    "a = df.to_numpy()\n",
    "a = a.reshape((20000,5,4)) #samples x timesteps x features\n",
    "X = a[:,:4,0].reshape(20000,4,1) #np.delete(a, [1,3], axis=2)[:,:10,:]\n",
    "Y = a[:,4,:2] #.reshape(10000,5,2)\n",
    "\n",
    "train_X = X[:8000]\n",
    "train_Y = Y[:8000]\n",
    "\n",
    "# test_X = X[8000:]\n",
    "# test_Y = Y[8000:]\n",
    "model_ws.fit(train_X, train_Y, epochs=200, verbose=False) #200 seems reasonable"
   ]
  },
  {
   "cell_type": "code",
   "execution_count": 4,
   "metadata": {},
   "outputs": [],
   "source": [
    "import matplotlib.pyplot as plt"
   ]
  },
  {
   "cell_type": "code",
   "execution_count": 5,
   "metadata": {},
   "outputs": [
    {
     "data": {
      "text/plain": [
       "[<matplotlib.lines.Line2D at 0x7f64207dbda0>]"
      ]
     },
     "execution_count": 5,
     "metadata": {},
     "output_type": "execute_result"
    },
    {
     "data": {
      "image/png": "[encoded data removed]",
      "text/plain": [
       "<Figure size 432x288 with 1 Axes>"
      ]
     },
     "metadata": {
      "needs_background": "light"
     },
     "output_type": "display_data"
    }
   ],
   "source": [
    "plt.plot(model_ws.history.history['loss'][40:])"
   ]
  },
  {
   "cell_type": "code",
   "execution_count": 6,
   "metadata": {},
   "outputs": [
    {
     "data": {
      "text/plain": [
       "0.000573794208119709"
      ]
     },
     "execution_count": 6,
     "metadata": {},
     "output_type": "execute_result"
    }
   ],
   "source": [
    "test_X = X[8000:]\n",
    "test_Y = Y[8000:]\n",
    "rmse(test_Y, model_ws.predict(test_X))"
   ]
  },
  {
   "cell_type": "code",
   "execution_count": 7,
   "metadata": {},
   "outputs": [
    {
     "data": {
      "text/plain": [
       "0.0005788387534677802"
      ]
     },
     "execution_count": 7,
     "metadata": {},
     "output_type": "execute_result"
    }
   ],
   "source": [
    "rmse(train_Y, model_ws.predict(train_X))"
   ]
  },
  {
   "cell_type": "code",
   "execution_count": 8,
   "metadata": {},
   "outputs": [
    {
     "data": {
      "text/plain": [
       "array([[0.5643273 , 0.02134169]], dtype=float32)"
      ]
     },
     "execution_count": 8,
     "metadata": {},
     "output_type": "execute_result"
    }
   ],
   "source": [
    "model_ws.predict(train_X[[100]])"
   ]
  },
  {
   "cell_type": "code",
   "execution_count": 101,
   "metadata": {},
   "outputs": [
    {
     "name": "stdout",
     "output_type": "stream",
     "text": [
      "Saved model to disk\n"
     ]
    }
   ],
   "source": [
    "save_model(model_ws, 'model_ws')"
   ]
  },
  {
   "cell_type": "markdown",
   "metadata": {},
   "source": [
    "# Bounces"
   ]
  },
  {
   "cell_type": "code",
   "execution_count": 10,
   "metadata": {},
   "outputs": [
    {
     "name": "stdout",
     "output_type": "stream",
     "text": [
      "_________________________________________________________________\n",
      "Layer (type)                 Output Shape              Param #   \n",
      "=================================================================\n",
      "input_2 (InputLayer)         (None, 2)                 0         \n",
      "_________________________________________________________________\n",
      "dense_2 (Dense)              (None, 2)                 6         \n",
      "_________________________________________________________________\n",
      "dense_3 (Dense)              (None, 2)                 6         \n",
      "_________________________________________________________________\n",
      "dense_4 (Dense)              (None, 2)                 6         \n",
      "=================================================================\n",
      "Total params: 18\n",
      "Trainable params: 18\n",
      "Non-trainable params: 0\n",
      "_________________________________________________________________\n"
     ]
    }
   ],
   "source": [
    "inputs = Input(shape=(2,))\n",
    "\n",
    "x = Dense(2)(inputs)\n",
    "x = Dense(2)(x)\n",
    "x = Dense(2)(x)\n",
    "predictions = x#Dense(4, input_shape=(4,1))(x)\n",
    "\n",
    "# This creates a model that includes\n",
    "# the Input layer and three Dense layers\n",
    "model_b = Model(inputs=inputs, outputs=predictions)\n",
    "model_b.compile(loss=binary_crossentropy,\n",
    "              optimizer='adam',\n",
    "              metrics=['accuracy'])\n",
    "model_b.summary()"
   ]
  },
  {
   "cell_type": "code",
   "execution_count": 18,
   "metadata": {},
   "outputs": [
    {
     "data": {
      "text/plain": [
       "<keras.callbacks.History at 0x7f642064c630>"
      ]
     },
     "execution_count": 18,
     "metadata": {},
     "output_type": "execute_result"
    }
   ],
   "source": [
    "df = pd.read_csv('bounces_mirror.csv')\n",
    "a = df.to_numpy()\n",
    "a = a.reshape((20000,2,4)) #samples x timesteps x features\n",
    "a = a[:,:,:2]\n",
    "train_X = a[:1800,0,:]\n",
    "test_X = a[1800:,0,:]\n",
    "train_Y = a[:1800,1,:]\n",
    "test_Y = a[1800:,1,:]\n",
    "model_b.fit(train_X, train_Y, epochs=600, verbose=False) #e = 150 is enough"
   ]
  },
  {
   "cell_type": "code",
   "execution_count": 95,
   "metadata": {},
   "outputs": [
    {
     "name": "stdout",
     "output_type": "stream",
     "text": [
      "Saved model to disk\n"
     ]
    }
   ],
   "source": [
    "save_model(model_b, 'model_b')"
   ]
  },
  {
   "cell_type": "code",
   "execution_count": 19,
   "metadata": {},
   "outputs": [
    {
     "name": "stdout",
     "output_type": "stream",
     "text": [
      "0.9952715597681688\n",
      "0.9825344576644824\n"
     ]
    }
   ],
   "source": [
    "print(rmse(test_Y, model_b.predict(test_X)))\n",
    "print(rmse(train_Y, model_b.predict(train_X)))"
   ]
  },
  {
   "cell_type": "code",
   "execution_count": 20,
   "metadata": {},
   "outputs": [
    {
     "data": {
      "image/png": "[encoded data removed]",
      "text/plain": [
       "<Figure size 432x288 with 1 Axes>"
      ]
     },
     "metadata": {
      "needs_background": "light"
     },
     "output_type": "display_data"
    }
   ],
   "source": [
    "import matplotlib.pyplot as plt\n",
    "plt.plot(model_b.history.history['loss'][0:])\n",
    "plt.show()"
   ]
  },
  {
   "cell_type": "code",
   "execution_count": 21,
   "metadata": {},
   "outputs": [
    {
     "data": {
      "text/plain": [
       "array([[ 1.06517512,  0.091181  ],\n",
       "       [-0.00969421, -0.01684606]])"
      ]
     },
     "execution_count": 21,
     "metadata": {},
     "output_type": "execute_result"
    }
   ],
   "source": [
    "train_X[[0,1]]"
   ]
  },
  {
   "cell_type": "code",
   "execution_count": 22,
   "metadata": {},
   "outputs": [
    {
     "data": {
      "text/plain": [
       "array([[-1.0485501 , -0.0956835 ],\n",
       "       [ 0.00963123,  0.01687105]], dtype=float32)"
      ]
     },
     "execution_count": 22,
     "metadata": {},
     "output_type": "execute_result"
    }
   ],
   "source": [
    "model_b.predict(train_X[[0,1]])"
   ]
  },
  {
   "cell_type": "code",
   "execution_count": 23,
   "metadata": {},
   "outputs": [
    {
     "data": {
      "text/plain": [
       "array([[ 0.93482488, -0.091181  ],\n",
       "       [ 0.00969421,  0.01684606]])"
      ]
     },
     "execution_count": 23,
     "metadata": {},
     "output_type": "execute_result"
    }
   ],
   "source": [
    "train_Y[[0,1]]"
   ]
  },
  {
   "cell_type": "code",
   "execution_count": null,
   "metadata": {},
   "outputs": [],
   "source": [
    "model_json = model_b.to_json()\n",
    "with open(\"sim_e1500_b.json\", \"w\") as json_file:\n",
    "    json_file.write(model_json)\n",
    "# serialize weights to HDF5\n",
    "model_b.save_weights(\"model_e1500_b.h5\")\n",
    "print(\"Saved model to disk\")"
   ]
  },
  {
   "cell_type": "markdown",
   "metadata": {},
   "source": [
    "### Attention"
   ]
  },
  {
   "cell_type": "code",
   "execution_count": 24,
   "metadata": {},
   "outputs": [
    {
     "name": "stdout",
     "output_type": "stream",
     "text": [
      "_________________________________________________________________\n",
      "Layer (type)                 Output Shape              Param #   \n",
      "=================================================================\n",
      "input_3 (InputLayer)         (None, 1)                 0         \n",
      "_________________________________________________________________\n",
      "dense_5 (Dense)              (None, 8)                 16        \n",
      "_________________________________________________________________\n",
      "dense_6 (Dense)              (None, 20)                180       \n",
      "_________________________________________________________________\n",
      "dense_7 (Dense)              (None, 2)                 42        \n",
      "=================================================================\n",
      "Total params: 238\n",
      "Trainable params: 238\n",
      "Non-trainable params: 0\n",
      "_________________________________________________________________\n"
     ]
    }
   ],
   "source": [
    "inputs = Input(shape=(1,))\n",
    "x = Dense(8)(inputs)\n",
    "x = Dense(20, activation='relu')(x)\n",
    "x = Dense(2, activation='softmax')(x)\n",
    "predictions = x\n",
    "\n",
    "model_att = Model(inputs=inputs, outputs=predictions)\n",
    "model_att.compile(loss=binary_crossentropy,\n",
    "              optimizer='adamax',\n",
    "              metrics=['accuracy'])\n",
    "model_att.summary()"
   ]
  },
  {
   "cell_type": "code",
   "execution_count": 28,
   "metadata": {},
   "outputs": [
    {
     "data": {
      "text/plain": [
       "<keras.callbacks.History at 0x7f6404642fd0>"
      ]
     },
     "execution_count": 28,
     "metadata": {},
     "output_type": "execute_result"
    }
   ],
   "source": [
    "df = pd.read_csv('bounces_att.csv')\n",
    "a = df.to_numpy()\n",
    "train_X = a[:,0].reshape(20000,1)\n",
    "train_Y = (a[:,2] == True)\n",
    "\n",
    "l = train_X.shape[0]\n",
    "i = np.arange(l)\n",
    "t = np.zeros((l, 2))\n",
    "t[:,0] = 1-train_Y\n",
    "t[:,1] = train_Y\n",
    "train_Y = t\n",
    "\n",
    "model_att.fit(train_X, train_Y, epochs=100, verbose=False)"
   ]
  },
  {
   "cell_type": "code",
   "execution_count": 96,
   "metadata": {},
   "outputs": [
    {
     "name": "stdout",
     "output_type": "stream",
     "text": [
      "Saved model to disk\n"
     ]
    }
   ],
   "source": [
    "save_model(model_att, 'model_att')"
   ]
  },
  {
   "cell_type": "code",
   "execution_count": 29,
   "metadata": {},
   "outputs": [
    {
     "data": {
      "text/plain": [
       "[<matplotlib.lines.Line2D at 0x7f640454b400>]"
      ]
     },
     "execution_count": 29,
     "metadata": {},
     "output_type": "execute_result"
    },
    {
     "data": {
      "image/png": "[encoded data removed]",
      "text/plain": [
       "<Figure size 432x288 with 1 Axes>"
      ]
     },
     "metadata": {
      "needs_background": "light"
     },
     "output_type": "display_data"
    }
   ],
   "source": [
    "plt.plot(model_att.history.history['acc'])"
   ]
  },
  {
   "cell_type": "code",
   "execution_count": 30,
   "metadata": {},
   "outputs": [
    {
     "name": "stdout",
     "output_type": "stream",
     "text": [
      "_________________________________________________________________\n",
      "Layer (type)                 Output Shape              Param #   \n",
      "=================================================================\n",
      "input_4 (InputLayer)         (None, 1)                 0         \n",
      "_________________________________________________________________\n",
      "model_3 (Model)              (None, 2)                 238       \n",
      "_________________________________________________________________\n",
      "lambda_1 (Lambda)            (None, 2)                 0         \n",
      "=================================================================\n",
      "Total params: 238\n",
      "Trainable params: 238\n",
      "Non-trainable params: 0\n",
      "_________________________________________________________________\n"
     ]
    }
   ],
   "source": [
    "inputs = Input(shape=(1,))\n",
    "\n",
    "x = model_att(inputs)\n",
    "x = Lambda(lambda s: K.round(s))(x)\n",
    "predictions = x\n",
    "model_lambda = Model(inputs=inputs, outputs=predictions)\n",
    "model_lambda.compile(loss=binary_crossentropy,\n",
    "              optimizer='adam',\n",
    "              metrics=['acc'])\n",
    "model_lambda.summary()"
   ]
  },
  {
   "cell_type": "code",
   "execution_count": 97,
   "metadata": {},
   "outputs": [
    {
     "name": "stdout",
     "output_type": "stream",
     "text": [
      "Saved model to disk\n"
     ]
    }
   ],
   "source": [
    "save_model(model_lambda, 'model_lambda')"
   ]
  },
  {
   "cell_type": "markdown",
   "metadata": {},
   "source": [
    "## Bounce series"
   ]
  },
  {
   "cell_type": "code",
   "execution_count": 33,
   "metadata": {},
   "outputs": [],
   "source": [
    "df = pd.read_csv('bounces_x_1.csv')\n",
    "a = df.to_numpy()\n",
    "a = a.reshape((1000,5,4))\n",
    "\n",
    "X = a[:,:4,0].reshape(1000,4,1) #np.delete(a, [1,3], axis=2)[:,:10,:]\n",
    "Y = a[:,4,:2] #.reshape(10000,5,2)\n",
    "\n",
    "train_X = X[:800]\n",
    "train_Y = Y[:800]\n",
    "\n",
    "test_X = X[800:]\n",
    "test_Y = Y[800:]"
   ]
  },
  {
   "cell_type": "code",
   "execution_count": 62,
   "metadata": {
    "scrolled": false
   },
   "outputs": [
    {
     "name": "stdout",
     "output_type": "stream",
     "text": [
      "__________________________________________________________________________________________________\n",
      "Layer (type)                    Output Shape         Param #     Connected to                     \n",
      "==================================================================================================\n",
      "input_rec (InputLayer)          (None, 4, 1)         0                                            \n",
      "__________________________________________________________________________________________________\n",
      "model_1 (Model)                 (None, 2)            106         input_rec[0][0]                  \n",
      "__________________________________________________________________________________________________\n",
      "lambda_24 (Lambda)              (None, 1)            0           model_1[24][0]                   \n",
      "__________________________________________________________________________________________________\n",
      "model_3 (Model)                 (None, 2)            238         lambda_24[0][0]                  \n",
      "__________________________________________________________________________________________________\n",
      "model_2 (Model)                 (None, 2)            18          model_1[24][0]                   \n",
      "__________________________________________________________________________________________________\n",
      "lambda_25 (Lambda)              (None, 2)            0           model_3[6][0]                    \n",
      "                                                                 model_2[9][0]                    \n",
      "                                                                 model_1[24][0]                   \n",
      "==================================================================================================\n",
      "Total params: 362\n",
      "Trainable params: 362\n",
      "Non-trainable params: 0\n",
      "__________________________________________________________________________________________________\n"
     ]
    }
   ],
   "source": [
    "isBounce = K.tf.convert_to_tensor([0,1],dtype=np.float32) #if attention outputs this, then bounce module is needed\n",
    "\n",
    "inputs_rec = Input(shape=(4,1), name='input_rec')\n",
    "rec = model_ws(inputs_rec)\n",
    "rec_x = Lambda(lambda s: K.reshape(s[:,0], (-1,1)))(rec)\n",
    "bnc = model_b(rec)\n",
    "att = model_att(rec_x)\n",
    "att2 = Lambda(lambda s: K.switch(K.equal(s[0], isBounce), s[1], s[2]))([att, bnc, rec]) #~hard attention\n",
    "\n",
    "x = att2\n",
    "\n",
    "model_m = Model(inputs=inputs_rec, outputs=x)\n",
    "model_m.compile(loss=mean_squared_error,\n",
    "              optimizer='adam',\n",
    "              metrics=['accuracy'])\n",
    "model_m.summary()"
   ]
  },
  {
   "cell_type": "code",
   "execution_count": 99,
   "metadata": {},
   "outputs": [
    {
     "name": "stdout",
     "output_type": "stream",
     "text": [
      "Saved model to disk\n"
     ]
    }
   ],
   "source": [
    "save_model(model_m, 'model_m')"
   ]
  },
  {
   "cell_type": "code",
   "execution_count": 64,
   "metadata": {},
   "outputs": [],
   "source": [
    "df2 = pd.read_csv('sim_data_borders.csv')\n",
    "# x, x_vel, y, y_vel\n",
    "a2 = df2.to_numpy()\n",
    "a2 = a2.reshape((4000,5,4)) #samples x timesteps x features\n",
    "X2 = a2[:,:4,0].reshape(4000,4,1) #np.delete(a, [1,3], axis=2)[:,:10,:]\n",
    "Y2 = a2[:,4,:2] #.reshape(10000,5,2)\n",
    "\n",
    "train_X2 = X2[:8000]\n",
    "train_Y2 = Y2[:8000]"
   ]
  },
  {
   "cell_type": "code",
   "execution_count": 66,
   "metadata": {},
   "outputs": [
    {
     "data": {
      "text/plain": [
       "array([[ 0.6150022 , -0.0253206 ],\n",
       "       [ 0.4859036 , -0.02526301],\n",
       "       [ 0.35669184, -0.02541319],\n",
       "       [ 0.22752744, -0.02571928],\n",
       "       [ 0.43480444,  0.06677724]], dtype=float32)"
      ]
     },
     "execution_count": 66,
     "metadata": {},
     "output_type": "execute_result"
    }
   ],
   "source": [
    "model_m.predict(train_X2[:5])"
   ]
  },
  {
   "cell_type": "code",
   "execution_count": 67,
   "metadata": {},
   "outputs": [
    {
     "data": {
      "text/plain": [
       "array([[ 0.61450047, -0.02578439],\n",
       "       [ 0.4855785 , -0.02578439],\n",
       "       [ 0.35665653, -0.02578439],\n",
       "       [ 0.22773456, -0.02578439],\n",
       "       [ 0.4343477 ,  0.06713727]])"
      ]
     },
     "execution_count": 67,
     "metadata": {},
     "output_type": "execute_result"
    }
   ],
   "source": [
    "train_Y2[:5]"
   ]
  },
  {
   "cell_type": "code",
   "execution_count": 74,
   "metadata": {},
   "outputs": [
    {
     "data": {
      "text/plain": [
       "0.02372510040926766"
      ]
     },
     "execution_count": 74,
     "metadata": {},
     "output_type": "execute_result"
    }
   ],
   "source": [
    "rmse(model_m.predict(train_X2), train_Y2)"
   ]
  },
  {
   "cell_type": "code",
   "execution_count": 77,
   "metadata": {},
   "outputs": [
    {
     "data": {
      "text/plain": [
       "(20000, 4)"
      ]
     },
     "execution_count": 77,
     "metadata": {},
     "output_type": "execute_result"
    }
   ],
   "source": [
    "df2.shape"
   ]
  },
  {
   "cell_type": "code",
   "execution_count": 73,
   "metadata": {},
   "outputs": [
    {
     "data": {
      "text/plain": [
       "0.03305186186485594"
      ]
     },
     "execution_count": 73,
     "metadata": {},
     "output_type": "execute_result"
    }
   ],
   "source": [
    "mixdf = pd.concat([df, df2[:5000]])\n",
    "mix = mixdf.to_numpy()\n",
    "mix = mix.reshape(2000,5,4)\n",
    "np.random.shuffle(mix)\n",
    "mix_train_x = mix[:1800,:4,0].reshape(1800,4,1)\n",
    "mix_train_y = mix[:1800,4,:2]\n",
    "mix_test_x = mix[1800:,:4,0].reshape(200,4,1)\n",
    "mix_test_y = mix[1800:,4,:2]\n",
    "rmse(mix_test_y, model_m.predict(mix_test_x)) # My model"
   ]
  },
  {
   "cell_type": "code",
   "execution_count": 75,
   "metadata": {},
   "outputs": [],
   "source": [
    "from sklearn.metrics import mean_squared_error"
   ]
  },
  {
   "cell_type": "code",
   "execution_count": 76,
   "metadata": {},
   "outputs": [
    {
     "data": {
      "text/plain": [
       "0.0005628803894298323"
      ]
     },
     "execution_count": 76,
     "metadata": {},
     "output_type": "execute_result"
    }
   ],
   "source": [
    "mean_squared_error(model_m.predict(train_X2), train_Y2)"
   ]
  },
  {
   "cell_type": "markdown",
   "metadata": {},
   "source": [
    "## Modules without attention"
   ]
  },
  {
   "cell_type": "code",
   "execution_count": 70,
   "metadata": {},
   "outputs": [
    {
     "name": "stdout",
     "output_type": "stream",
     "text": [
      "_________________________________________________________________\n",
      "Layer (type)                 Output Shape              Param #   \n",
      "=================================================================\n",
      "input_6 (InputLayer)         (None, 4, 1)              0         \n",
      "_________________________________________________________________\n",
      "lstm_3 (LSTM)                (None, 4)                 96        \n",
      "_________________________________________________________________\n",
      "dense_11 (Dense)             (None, 4)                 20        \n",
      "_________________________________________________________________\n",
      "dense_12 (Dense)             (None, 8)                 40        \n",
      "_________________________________________________________________\n",
      "dense_13 (Dense)             (None, 20)                180       \n",
      "_________________________________________________________________\n",
      "dense_14 (Dense)             (None, 2)                 42        \n",
      "_________________________________________________________________\n",
      "dense_15 (Dense)             (None, 2)                 6         \n",
      "=================================================================\n",
      "Total params: 384\n",
      "Trainable params: 384\n",
      "Non-trainable params: 0\n",
      "_________________________________________________________________\n"
     ]
    }
   ],
   "source": [
    "# n2n model\n",
    "inputs = Input(shape=(4,1))\n",
    "x = LSTM(4, return_sequences=False)(inputs)\n",
    "x = Dense(4)(x)\n",
    "x = Dense(8)(x)\n",
    "x = Dense(20)(x)\n",
    "x = Dense(2)(x)\n",
    "x = Dense(2)(x)\n",
    "model_n2n = Model(inputs=inputs, outputs=x)\n",
    "model_n2n.compile(loss=mean_squared_error,\n",
    "              optimizer='adam',\n",
    "              metrics=['accuracy'])\n",
    "model_n2n.summary()"
   ]
  },
  {
   "cell_type": "code",
   "execution_count": 78,
   "metadata": {},
   "outputs": [
    {
     "name": "stdout",
     "output_type": "stream",
     "text": [
      "Epoch 1/100\n",
      "1800/1800 [==============================] - 1s 592us/step - loss: 0.1224 - acc: 0.9439\n",
      "Epoch 2/100\n",
      "1800/1800 [==============================] - 0s 175us/step - loss: 0.0100 - acc: 0.9894\n",
      "Epoch 3/100\n",
      "1800/1800 [==============================] - 0s 168us/step - loss: 0.0072 - acc: 0.9894\n",
      "Epoch 4/100\n",
      "1800/1800 [==============================] - 0s 172us/step - loss: 0.0061 - acc: 0.9894\n",
      "Epoch 5/100\n",
      "1800/1800 [==============================] - 0s 160us/step - loss: 0.0054 - acc: 0.9894\n",
      "Epoch 6/100\n",
      "1800/1800 [==============================] - 0s 162us/step - loss: 0.0049 - acc: 0.9894\n",
      "Epoch 7/100\n",
      "1800/1800 [==============================] - 0s 164us/step - loss: 0.0046 - acc: 0.9894\n",
      "Epoch 8/100\n",
      "1800/1800 [==============================] - 0s 161us/step - loss: 0.0045 - acc: 0.9894\n",
      "Epoch 9/100\n",
      "1800/1800 [==============================] - 0s 167us/step - loss: 0.0044 - acc: 0.9894\n",
      "Epoch 10/100\n",
      "1800/1800 [==============================] - 0s 166us/step - loss: 0.0043 - acc: 0.9894\n",
      "Epoch 11/100\n",
      "1800/1800 [==============================] - 0s 163us/step - loss: 0.0042 - acc: 0.9894\n",
      "Epoch 12/100\n",
      "1800/1800 [==============================] - 0s 168us/step - loss: 0.0042 - acc: 0.9894\n",
      "Epoch 13/100\n",
      "1800/1800 [==============================] - 0s 162us/step - loss: 0.0041 - acc: 0.9894\n",
      "Epoch 14/100\n",
      "1800/1800 [==============================] - 0s 159us/step - loss: 0.0040 - acc: 0.9894\n",
      "Epoch 15/100\n",
      "1800/1800 [==============================] - 0s 157us/step - loss: 0.0039 - acc: 0.9894\n",
      "Epoch 16/100\n",
      "1800/1800 [==============================] - 0s 158us/step - loss: 0.0038 - acc: 0.9894\n",
      "Epoch 17/100\n",
      "1800/1800 [==============================] - 0s 159us/step - loss: 0.0037 - acc: 0.9894\n",
      "Epoch 18/100\n",
      "1800/1800 [==============================] - 0s 157us/step - loss: 0.0037 - acc: 0.9894\n",
      "Epoch 19/100\n",
      "1800/1800 [==============================] - 0s 159us/step - loss: 0.0036 - acc: 0.9894\n",
      "Epoch 20/100\n",
      "1800/1800 [==============================] - 0s 165us/step - loss: 0.0035 - acc: 0.9894\n",
      "Epoch 21/100\n",
      "1800/1800 [==============================] - 0s 171us/step - loss: 0.0034 - acc: 0.9894\n",
      "Epoch 22/100\n",
      "1800/1800 [==============================] - 0s 178us/step - loss: 0.0033 - acc: 0.9894\n",
      "Epoch 23/100\n",
      "1800/1800 [==============================] - 0s 170us/step - loss: 0.0032 - acc: 0.9894\n",
      "Epoch 24/100\n",
      "1800/1800 [==============================] - 0s 169us/step - loss: 0.0031 - acc: 0.9894\n",
      "Epoch 25/100\n",
      "1800/1800 [==============================] - 0s 179us/step - loss: 0.0030 - acc: 0.9894\n",
      "Epoch 26/100\n",
      "1800/1800 [==============================] - 0s 171us/step - loss: 0.0028 - acc: 0.9894\n",
      "Epoch 27/100\n",
      "1800/1800 [==============================] - 0s 170us/step - loss: 0.0027 - acc: 0.9894\n",
      "Epoch 28/100\n",
      "1800/1800 [==============================] - 0s 169us/step - loss: 0.0026 - acc: 0.9894\n",
      "Epoch 29/100\n",
      "1800/1800 [==============================] - 0s 178us/step - loss: 0.0025 - acc: 0.9894\n",
      "Epoch 30/100\n",
      "1800/1800 [==============================] - 0s 181us/step - loss: 0.0023 - acc: 0.9894\n",
      "Epoch 31/100\n",
      "1800/1800 [==============================] - 0s 176us/step - loss: 0.0022 - acc: 0.9894\n",
      "Epoch 32/100\n",
      "1800/1800 [==============================] - 0s 172us/step - loss: 0.0021 - acc: 0.9894\n",
      "Epoch 33/100\n",
      "1800/1800 [==============================] - 0s 170us/step - loss: 0.0020 - acc: 0.9894\n",
      "Epoch 34/100\n",
      "1800/1800 [==============================] - 0s 167us/step - loss: 0.0019 - acc: 0.9894\n",
      "Epoch 35/100\n",
      "1800/1800 [==============================] - 0s 167us/step - loss: 0.0018 - acc: 0.9894\n",
      "Epoch 36/100\n",
      "1800/1800 [==============================] - 0s 169us/step - loss: 0.0017 - acc: 0.9894\n",
      "Epoch 37/100\n",
      "1800/1800 [==============================] - 0s 169us/step - loss: 0.0017 - acc: 0.9894\n",
      "Epoch 38/100\n",
      "1800/1800 [==============================] - 0s 173us/step - loss: 0.0016 - acc: 0.9894\n",
      "Epoch 39/100\n",
      "1800/1800 [==============================] - 0s 172us/step - loss: 0.0016 - acc: 0.9894\n",
      "Epoch 40/100\n",
      "1800/1800 [==============================] - 0s 165us/step - loss: 0.0015 - acc: 0.9889\n",
      "Epoch 41/100\n",
      "1800/1800 [==============================] - 0s 167us/step - loss: 0.0015 - acc: 0.9894\n",
      "Epoch 42/100\n",
      "1800/1800 [==============================] - 0s 169us/step - loss: 0.0015 - acc: 0.9889\n",
      "Epoch 43/100\n",
      "1800/1800 [==============================] - 0s 173us/step - loss: 0.0015 - acc: 0.9889\n",
      "Epoch 44/100\n",
      "1800/1800 [==============================] - 0s 165us/step - loss: 0.0015 - acc: 0.9883\n",
      "Epoch 45/100\n",
      "1800/1800 [==============================] - 0s 165us/step - loss: 0.0015 - acc: 0.9889\n",
      "Epoch 46/100\n",
      "1800/1800 [==============================] - 0s 165us/step - loss: 0.0015 - acc: 0.9883\n",
      "Epoch 47/100\n",
      "1800/1800 [==============================] - 0s 176us/step - loss: 0.0014 - acc: 0.9878\n",
      "Epoch 48/100\n",
      "1800/1800 [==============================] - 0s 178us/step - loss: 0.0014 - acc: 0.9889\n",
      "Epoch 49/100\n",
      "1800/1800 [==============================] - 0s 170us/step - loss: 0.0015 - acc: 0.9883\n",
      "Epoch 50/100\n",
      "1800/1800 [==============================] - 0s 164us/step - loss: 0.0015 - acc: 0.9872\n",
      "Epoch 51/100\n",
      "1800/1800 [==============================] - 0s 165us/step - loss: 0.0014 - acc: 0.9861\n",
      "Epoch 52/100\n",
      "1800/1800 [==============================] - 0s 163us/step - loss: 0.0014 - acc: 0.9861\n",
      "Epoch 53/100\n",
      "1800/1800 [==============================] - 0s 166us/step - loss: 0.0014 - acc: 0.9861\n",
      "Epoch 54/100\n",
      "1800/1800 [==============================] - 0s 163us/step - loss: 0.0014 - acc: 0.9867\n",
      "Epoch 55/100\n",
      "1800/1800 [==============================] - 0s 164us/step - loss: 0.0014 - acc: 0.9872\n",
      "Epoch 56/100\n",
      "1800/1800 [==============================] - 0s 164us/step - loss: 0.0014 - acc: 0.9861\n",
      "Epoch 57/100\n",
      "1800/1800 [==============================] - 0s 163us/step - loss: 0.0014 - acc: 0.9872\n",
      "Epoch 58/100\n",
      "1800/1800 [==============================] - 0s 165us/step - loss: 0.0014 - acc: 0.9861\n",
      "Epoch 59/100\n",
      "1800/1800 [==============================] - 0s 164us/step - loss: 0.0014 - acc: 0.9861\n",
      "Epoch 60/100\n",
      "1800/1800 [==============================] - 0s 163us/step - loss: 0.0014 - acc: 0.9861\n",
      "Epoch 61/100\n",
      "1800/1800 [==============================] - 0s 165us/step - loss: 0.0014 - acc: 0.9856\n",
      "Epoch 62/100\n",
      "1800/1800 [==============================] - 0s 164us/step - loss: 0.0014 - acc: 0.9844\n",
      "Epoch 63/100\n",
      "1800/1800 [==============================] - 0s 163us/step - loss: 0.0014 - acc: 0.9878\n",
      "Epoch 64/100\n",
      "1800/1800 [==============================] - 0s 164us/step - loss: 0.0015 - acc: 0.9856\n",
      "Epoch 65/100\n",
      "1800/1800 [==============================] - 0s 164us/step - loss: 0.0014 - acc: 0.9850\n",
      "Epoch 66/100\n",
      "1800/1800 [==============================] - 0s 163us/step - loss: 0.0014 - acc: 0.9833\n",
      "Epoch 67/100\n",
      "1800/1800 [==============================] - 0s 164us/step - loss: 0.0014 - acc: 0.9856\n",
      "Epoch 68/100\n",
      "1800/1800 [==============================] - 0s 163us/step - loss: 0.0014 - acc: 0.9856\n",
      "Epoch 69/100\n",
      "1800/1800 [==============================] - 0s 164us/step - loss: 0.0014 - acc: 0.9850\n",
      "Epoch 70/100\n",
      "1800/1800 [==============================] - 0s 164us/step - loss: 0.0014 - acc: 0.9850\n",
      "Epoch 71/100\n",
      "1800/1800 [==============================] - 0s 164us/step - loss: 0.0014 - acc: 0.9861\n",
      "Epoch 72/100\n",
      "1800/1800 [==============================] - 0s 164us/step - loss: 0.0013 - acc: 0.9872\n",
      "Epoch 73/100\n",
      "1800/1800 [==============================] - 0s 164us/step - loss: 0.0014 - acc: 0.9839\n",
      "Epoch 74/100\n",
      "1800/1800 [==============================] - 0s 162us/step - loss: 0.0013 - acc: 0.9844\n",
      "Epoch 75/100\n",
      "1800/1800 [==============================] - 0s 165us/step - loss: 0.0014 - acc: 0.9850\n",
      "Epoch 76/100\n",
      "1800/1800 [==============================] - 0s 163us/step - loss: 0.0014 - acc: 0.9867\n",
      "Epoch 77/100\n",
      "1800/1800 [==============================] - 0s 165us/step - loss: 0.0014 - acc: 0.9844\n",
      "Epoch 78/100\n",
      "1800/1800 [==============================] - 0s 164us/step - loss: 0.0014 - acc: 0.9844\n",
      "Epoch 79/100\n",
      "1800/1800 [==============================] - 0s 166us/step - loss: 0.0014 - acc: 0.9850\n",
      "Epoch 80/100\n",
      "1800/1800 [==============================] - 0s 164us/step - loss: 0.0014 - acc: 0.9844\n",
      "Epoch 81/100\n",
      "1800/1800 [==============================] - 0s 163us/step - loss: 0.0013 - acc: 0.9839\n",
      "Epoch 82/100\n"
     ]
    },
    {
     "name": "stdout",
     "output_type": "stream",
     "text": [
      "1800/1800 [==============================] - 0s 161us/step - loss: 0.0014 - acc: 0.9850\n",
      "Epoch 83/100\n",
      "1800/1800 [==============================] - 0s 160us/step - loss: 0.0014 - acc: 0.9844\n",
      "Epoch 84/100\n",
      "1800/1800 [==============================] - 0s 158us/step - loss: 0.0013 - acc: 0.9839\n",
      "Epoch 85/100\n",
      "1800/1800 [==============================] - 0s 160us/step - loss: 0.0013 - acc: 0.9850\n",
      "Epoch 86/100\n",
      "1800/1800 [==============================] - 0s 158us/step - loss: 0.0013 - acc: 0.9839\n",
      "Epoch 87/100\n",
      "1800/1800 [==============================] - 0s 161us/step - loss: 0.0013 - acc: 0.9839\n",
      "Epoch 88/100\n",
      "1800/1800 [==============================] - 0s 159us/step - loss: 0.0013 - acc: 0.9844\n",
      "Epoch 89/100\n",
      "1800/1800 [==============================] - 0s 159us/step - loss: 0.0014 - acc: 0.9867\n",
      "Epoch 90/100\n",
      "1800/1800 [==============================] - 0s 160us/step - loss: 0.0013 - acc: 0.9839\n",
      "Epoch 91/100\n",
      "1800/1800 [==============================] - 0s 159us/step - loss: 0.0013 - acc: 0.9844\n",
      "Epoch 92/100\n",
      "1800/1800 [==============================] - 0s 165us/step - loss: 0.0013 - acc: 0.9850\n",
      "Epoch 93/100\n",
      "1800/1800 [==============================] - 0s 159us/step - loss: 0.0013 - acc: 0.9839\n",
      "Epoch 94/100\n",
      "1800/1800 [==============================] - 0s 160us/step - loss: 0.0013 - acc: 0.9850\n",
      "Epoch 95/100\n",
      "1800/1800 [==============================] - 0s 158us/step - loss: 0.0013 - acc: 0.9856\n",
      "Epoch 96/100\n",
      "1800/1800 [==============================] - 0s 159us/step - loss: 0.0013 - acc: 0.9828\n",
      "Epoch 97/100\n",
      "1800/1800 [==============================] - 0s 161us/step - loss: 0.0013 - acc: 0.9867\n",
      "Epoch 98/100\n",
      "1800/1800 [==============================] - 0s 161us/step - loss: 0.0013 - acc: 0.9844\n",
      "Epoch 99/100\n",
      "1800/1800 [==============================] - 0s 160us/step - loss: 0.0013 - acc: 0.9839\n",
      "Epoch 100/100\n",
      "1800/1800 [==============================] - 0s 158us/step - loss: 0.0013 - acc: 0.9861\n"
     ]
    },
    {
     "data": {
      "text/plain": [
       "<keras.callbacks.History at 0x7f61e203de80>"
      ]
     },
     "execution_count": 78,
     "metadata": {},
     "output_type": "execute_result"
    }
   ],
   "source": [
    "model_n2n.fit(mix_train_x, mix_train_y, epochs=100)"
   ]
  },
  {
   "cell_type": "code",
   "execution_count": 100,
   "metadata": {},
   "outputs": [
    {
     "name": "stdout",
     "output_type": "stream",
     "text": [
      "Saved model to disk\n"
     ]
    }
   ],
   "source": [
    "save_model(model_n2n, 'model_n2n')"
   ]
  },
  {
   "cell_type": "code",
   "execution_count": 80,
   "metadata": {},
   "outputs": [
    {
     "data": {
      "text/plain": [
       "0.0013999252131424566"
      ]
     },
     "execution_count": 80,
     "metadata": {},
     "output_type": "execute_result"
    }
   ],
   "source": [
    "mean_squared_error(mix_test_y, model_n2n.predict(mix_test_x))"
   ]
  },
  {
   "cell_type": "code",
   "execution_count": 87,
   "metadata": {},
   "outputs": [
    {
     "data": {
      "text/plain": [
       "[<matplotlib.lines.Line2D at 0x7f61e0f75518>]"
      ]
     },
     "execution_count": 87,
     "metadata": {},
     "output_type": "execute_result"
    },
    {
     "data": {
      "image/png": "[encoded data removed]",
      "text/plain": [
       "<Figure size 432x288 with 1 Axes>"
      ]
     },
     "metadata": {
      "needs_background": "light"
     },
     "output_type": "display_data"
    }
   ],
   "source": [
    "plt.plot(model_n2n.history.history['loss'])"
   ]
  }
 ],
 "metadata": {
  "kernelspec": {
   "display_name": "Python 3",
   "language": "python",
   "name": "python3"
  },
  "language_info": {
   "codemirror_mode": {
    "name": "ipython",
    "version": 3
   },
   "file_extension": ".py",
   "mimetype": "text/x-python",
   "name": "python",
   "nbconvert_exporter": "python",
   "pygments_lexer": "ipython3",
   "version": "3.6.8"
  }
 },
 "nbformat": 4,
 "nbformat_minor": 2
}
